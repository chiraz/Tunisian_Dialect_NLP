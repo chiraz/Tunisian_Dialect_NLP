{
 "cells": [
  {
   "cell_type": "markdown",
   "metadata": {},
   "source": [
    "## Plan\n",
    "\n",
    "1. read words and their corresponding language labels from data file.\n",
    "2. preprocess and clean words.\n",
    "\n",
    "See `Part2_readme.md` for information about this data."
   ]
  },
  {
   "cell_type": "code",
   "execution_count": 3,
   "metadata": {},
   "outputs": [],
   "source": [
    "import pandas as pd\n",
    "import numpy as np\n",
    "import matplotlib.pyplot as plt"
   ]
  },
  {
   "cell_type": "code",
   "execution_count": 4,
   "metadata": {},
   "outputs": [],
   "source": [
    "# set the font size of plots\n",
    "plt.rcParams['font.size'] = 14\n",
    "\n",
    "np.set_printoptions(precision=3)"
   ]
  },
  {
   "cell_type": "code",
   "execution_count": 5,
   "metadata": {},
   "outputs": [],
   "source": [
    "from nltk import FreqDist\n",
    "import re"
   ]
  },
  {
   "cell_type": "code",
   "execution_count": 6,
   "metadata": {},
   "outputs": [],
   "source": [
    "# Add higher directory to python modules path.\n",
    "\n",
    "import sys\n",
    "sys.path.append(\"..\")"
   ]
  },
  {
   "cell_type": "code",
   "execution_count": 7,
   "metadata": {},
   "outputs": [],
   "source": [
    "from utilities import arabic_nlp_utils\n",
    "#import importlib\n",
    "#importlib.reload(arabic_nlp_utils)"
   ]
  },
  {
   "cell_type": "code",
   "execution_count": 8,
   "metadata": {},
   "outputs": [
    {
     "name": "stdout",
     "output_type": "stream",
     "text": [
      "This is just a aaaaaaahhhhhhh simple. js .... jshd)jhsd__js--dh \n",
      "\n",
      " asjh\n",
      " test !!\n",
      "This just a aahh simple js jshd jhsd js dh asjh test\n"
     ]
    }
   ],
   "source": [
    "from utilities import generic_nlp_utils"
   ]
  },
  {
   "cell_type": "markdown",
   "metadata": {},
   "source": [
    "## Load data from file"
   ]
  },
  {
   "cell_type": "code",
   "execution_count": 9,
   "metadata": {},
   "outputs": [
    {
     "name": "stdout",
     "output_type": "stream",
     "text": [
      "(3341, 3)\n"
     ]
    },
    {
     "data": {
      "text/html": [
       "<div>\n",
       "<style scoped>\n",
       "    .dataframe tbody tr th:only-of-type {\n",
       "        vertical-align: middle;\n",
       "    }\n",
       "\n",
       "    .dataframe tbody tr th {\n",
       "        vertical-align: top;\n",
       "    }\n",
       "\n",
       "    .dataframe thead th {\n",
       "        text-align: right;\n",
       "    }\n",
       "</style>\n",
       "<table border=\"1\" class=\"dataframe\">\n",
       "  <thead>\n",
       "    <tr style=\"text-align: right;\">\n",
       "      <th></th>\n",
       "      <th>word</th>\n",
       "      <th>doc_freq</th>\n",
       "      <th>lang_label</th>\n",
       "    </tr>\n",
       "  </thead>\n",
       "  <tbody>\n",
       "    <tr>\n",
       "      <th>0</th>\n",
       "      <td>و</td>\n",
       "      <td>6338</td>\n",
       "      <td>NaN</td>\n",
       "    </tr>\n",
       "    <tr>\n",
       "      <th>1</th>\n",
       "      <td>في</td>\n",
       "      <td>3985</td>\n",
       "      <td>NaN</td>\n",
       "    </tr>\n",
       "    <tr>\n",
       "      <th>2</th>\n",
       "      <td>من</td>\n",
       "      <td>2621</td>\n",
       "      <td>NaN</td>\n",
       "    </tr>\n",
       "    <tr>\n",
       "      <th>3</th>\n",
       "      <td>يا</td>\n",
       "      <td>2213</td>\n",
       "      <td>NaN</td>\n",
       "    </tr>\n",
       "    <tr>\n",
       "      <th>4</th>\n",
       "      <td>الله</td>\n",
       "      <td>1696</td>\n",
       "      <td>NaN</td>\n",
       "    </tr>\n",
       "  </tbody>\n",
       "</table>\n",
       "</div>"
      ],
      "text/plain": [
       "   word  doc_freq lang_label\n",
       "0     و      6338        NaN\n",
       "1    في      3985        NaN\n",
       "2    من      2621        NaN\n",
       "3    يا      2213        NaN\n",
       "4  الله      1696        NaN"
      ]
     },
     "execution_count": 9,
     "metadata": {},
     "output_type": "execute_result"
    }
   ],
   "source": [
    "social_media_words_df = pd.read_csv('../../raw_data/social_media_words.csv', header=None)\n",
    "social_media_words_df.columns = ['word','doc_freq','lang_label']\n",
    "print(social_media_words_df.shape)\n",
    "social_media_words_df.head()"
   ]
  },
  {
   "cell_type": "code",
   "execution_count": 213,
   "metadata": {},
   "outputs": [],
   "source": [
    "# Verify that the raw words are all distinct\n",
    "# are there duplicate words?\n",
    "assert(social_media_words_df.word.nunique()==social_media_words_df.shape[0])"
   ]
  },
  {
   "cell_type": "code",
   "execution_count": 214,
   "metadata": {},
   "outputs": [
    {
     "data": {
      "text/html": [
       "<div>\n",
       "<style scoped>\n",
       "    .dataframe tbody tr th:only-of-type {\n",
       "        vertical-align: middle;\n",
       "    }\n",
       "\n",
       "    .dataframe tbody tr th {\n",
       "        vertical-align: top;\n",
       "    }\n",
       "\n",
       "    .dataframe thead th {\n",
       "        text-align: right;\n",
       "    }\n",
       "</style>\n",
       "<table border=\"1\" class=\"dataframe\">\n",
       "  <thead>\n",
       "    <tr style=\"text-align: right;\">\n",
       "      <th></th>\n",
       "      <th>word</th>\n",
       "      <th>doc_freq</th>\n",
       "      <th>lang_label</th>\n",
       "    </tr>\n",
       "  </thead>\n",
       "  <tbody>\n",
       "    <tr>\n",
       "      <th>0</th>\n",
       "      <td>و</td>\n",
       "      <td>6338</td>\n",
       "      <td>MSA</td>\n",
       "    </tr>\n",
       "    <tr>\n",
       "      <th>1</th>\n",
       "      <td>في</td>\n",
       "      <td>3985</td>\n",
       "      <td>MSA</td>\n",
       "    </tr>\n",
       "    <tr>\n",
       "      <th>2</th>\n",
       "      <td>من</td>\n",
       "      <td>2621</td>\n",
       "      <td>MSA</td>\n",
       "    </tr>\n",
       "    <tr>\n",
       "      <th>3</th>\n",
       "      <td>يا</td>\n",
       "      <td>2213</td>\n",
       "      <td>MSA</td>\n",
       "    </tr>\n",
       "    <tr>\n",
       "      <th>4</th>\n",
       "      <td>الله</td>\n",
       "      <td>1696</td>\n",
       "      <td>MSA</td>\n",
       "    </tr>\n",
       "  </tbody>\n",
       "</table>\n",
       "</div>"
      ],
      "text/plain": [
       "   word  doc_freq lang_label\n",
       "0     و      6338        MSA\n",
       "1    في      3985        MSA\n",
       "2    من      2621        MSA\n",
       "3    يا      2213        MSA\n",
       "4  الله      1696        MSA"
      ]
     },
     "execution_count": 214,
     "metadata": {},
     "output_type": "execute_result"
    }
   ],
   "source": [
    "social_media_words_df.loc[social_media_words_df.lang_label.isnull(),'lang_label'] = 'MSA'\n",
    "social_media_words_df.head()"
   ]
  },
  {
   "cell_type": "code",
   "execution_count": 215,
   "metadata": {
    "scrolled": true
   },
   "outputs": [
    {
     "data": {
      "text/plain": [
       "MSA       2123\n",
       "TN         799\n",
       "NE         172\n",
       "MSA,TN     100\n",
       "NOISE       90\n",
       "NE,MSA      37\n",
       "BORROW       8\n",
       "NE,TN        6\n",
       "ALG          6\n",
       "Name: lang_label, dtype: int64"
      ]
     },
     "execution_count": 215,
     "metadata": {},
     "output_type": "execute_result"
    }
   ],
   "source": [
    "social_media_words_df.lang_label.value_counts()"
   ]
  },
  {
   "cell_type": "code",
   "execution_count": 216,
   "metadata": {},
   "outputs": [
    {
     "data": {
      "text/plain": [
       "word          object\n",
       "doc_freq       int64\n",
       "lang_label    object\n",
       "dtype: object"
      ]
     },
     "execution_count": 216,
     "metadata": {},
     "output_type": "execute_result"
    }
   ],
   "source": [
    "social_media_words_df.dtypes"
   ]
  },
  {
   "cell_type": "code",
   "execution_count": 217,
   "metadata": {},
   "outputs": [
    {
     "data": {
      "text/plain": [
       "(3065, 3)"
      ]
     },
     "execution_count": 217,
     "metadata": {},
     "output_type": "execute_result"
    }
   ],
   "source": [
    "social_media_words_df = social_media_words_df.loc[(social_media_words_df.lang_label.str.contains('MSA')) | social_media_words_df.lang_label.str.contains('TN') ]\n",
    "social_media_words_df.shape"
   ]
  },
  {
   "cell_type": "code",
   "execution_count": 218,
   "metadata": {},
   "outputs": [
    {
     "data": {
      "text/plain": [
       "MSA       2123\n",
       "TN         799\n",
       "MSA,TN     100\n",
       "NE,MSA      37\n",
       "NE,TN        6\n",
       "Name: lang_label, dtype: int64"
      ]
     },
     "execution_count": 218,
     "metadata": {},
     "output_type": "execute_result"
    }
   ],
   "source": [
    "social_media_words_df.lang_label.value_counts()"
   ]
  },
  {
   "cell_type": "markdown",
   "metadata": {},
   "source": [
    "****"
   ]
  },
  {
   "cell_type": "markdown",
   "metadata": {},
   "source": [
    "## Explore Corpus Character Set"
   ]
  },
  {
   "cell_type": "code",
   "execution_count": 219,
   "metadata": {},
   "outputs": [
    {
     "name": "stdout",
     "output_type": "stream",
     "text": [
      "<class 'str'> 13805\n"
     ]
    }
   ],
   "source": [
    "corpus_as_char_list = \"\".join(social_media_words_df.word.tolist())\n",
    "print(type(corpus_as_char_list),len(corpus_as_char_list))"
   ]
  },
  {
   "cell_type": "code",
   "execution_count": 220,
   "metadata": {},
   "outputs": [],
   "source": [
    "fdist1 = FreqDist([c for c in corpus_as_char_list])"
   ]
  },
  {
   "cell_type": "code",
   "execution_count": 221,
   "metadata": {},
   "outputs": [
    {
     "name": "stdout",
     "output_type": "stream",
     "text": [
      "number of characters:13805\n",
      "number of unique characters:80\n"
     ]
    }
   ],
   "source": [
    "print(\"number of characters:\" + str(fdist1.N()))\n",
    "print(\"number of unique characters:\" + str(fdist1.B()))"
   ]
  },
  {
   "cell_type": "code",
   "execution_count": 222,
   "metadata": {},
   "outputs": [
    {
     "name": "stdout",
     "output_type": "stream",
     "text": [
      "List of distinct characters:\n",
      "['ء', 'آ', 'أ', 'ؤ', 'إ', 'ئ', 'ا', 'ب', 'ة', 'ت', 'ث', 'ج', 'ح', 'خ', 'د', 'ذ', 'ر', 'ز', 'س', 'ش', 'ص', 'ض', 'ط', 'ظ', 'ع', 'غ', 'ف', 'ق', 'ك', 'ل', 'م', 'ن', 'ه', 'و', 'ى', 'ي', 'ی', 'ﷲ', 'ﺍ', 'ﺎ', 'ﺑ', 'ﺒ', 'ﺓ', 'ﺔ', 'ﺖ', 'ﺠ', 'ﺡ', 'ﺣ', 'ﺤ', 'ﺬ', 'ﺭ', 'ﺮ', 'ﺶ', 'ﺻ', 'ﻋ', 'ﻒ', 'ﻓ', 'ﻙ', 'ﻚ', 'ﻛ', 'ﻝ', 'ﻞ', 'ﻟ', 'ﻠ', 'ﻣ', 'ﻤ', 'ﻥ', 'ﻦ', 'ﻧ', 'ﻨ', 'ﻪ', 'ﻫ', 'ﻬ', 'ﻭ', 'ﻰ', 'ﻲ', 'ﻳ', 'ﻴ', 'ﻻ', 'ﻼ']\n"
     ]
    }
   ],
   "source": [
    "print('List of distinct characters:')\n",
    "print(sorted(list(fdist1.keys())))"
   ]
  },
  {
   "cell_type": "code",
   "execution_count": 223,
   "metadata": {},
   "outputs": [
    {
     "name": "stdout",
     "output_type": "stream",
     "text": [
      "The most common characters:\n"
     ]
    },
    {
     "data": {
      "text/plain": [
       "[('ا', 2055), ('ل', 1360), ('ي', 1097), ('م', 938), ('و', 727)]"
      ]
     },
     "execution_count": 223,
     "metadata": {},
     "output_type": "execute_result"
    }
   ],
   "source": [
    "print('The most common characters:')\n",
    "fdist1.most_common(5)"
   ]
  },
  {
   "cell_type": "code",
   "execution_count": 224,
   "metadata": {},
   "outputs": [
    {
     "data": {
      "image/png": "[encoded data removed]",
      "text/plain": [
       "<matplotlib.figure.Figure at 0x17bcb39a3c8>"
      ]
     },
     "metadata": {},
     "output_type": "display_data"
    }
   ],
   "source": [
    "fdist1.plot(20, cumulative=False)"
   ]
  },
  {
   "cell_type": "code",
   "execution_count": 225,
   "metadata": {},
   "outputs": [
    {
     "data": {
      "image/png": "[encoded data removed]",
      "text/plain": [
       "<matplotlib.figure.Figure at 0x17bcc490d30>"
      ]
     },
     "metadata": {},
     "output_type": "display_data"
    }
   ],
   "source": [
    "fdist1.plot(20,cumulative=True)"
   ]
  },
  {
   "cell_type": "code",
   "execution_count": 226,
   "metadata": {},
   "outputs": [
    {
     "data": {
      "text/html": [
       "<div>\n",
       "<style scoped>\n",
       "    .dataframe tbody tr th:only-of-type {\n",
       "        vertical-align: middle;\n",
       "    }\n",
       "\n",
       "    .dataframe tbody tr th {\n",
       "        vertical-align: top;\n",
       "    }\n",
       "\n",
       "    .dataframe thead th {\n",
       "        text-align: right;\n",
       "    }\n",
       "</style>\n",
       "<table border=\"1\" class=\"dataframe\">\n",
       "  <thead>\n",
       "    <tr style=\"text-align: right;\">\n",
       "      <th></th>\n",
       "      <th>frequency</th>\n",
       "      <th>unicode_dec</th>\n",
       "      <th>unicode_hex</th>\n",
       "    </tr>\n",
       "    <tr>\n",
       "      <th>character</th>\n",
       "      <th></th>\n",
       "      <th></th>\n",
       "      <th></th>\n",
       "    </tr>\n",
       "  </thead>\n",
       "  <tbody>\n",
       "    <tr>\n",
       "      <th>و</th>\n",
       "      <td>727</td>\n",
       "      <td>1608</td>\n",
       "      <td>0x648</td>\n",
       "    </tr>\n",
       "    <tr>\n",
       "      <th>ف</th>\n",
       "      <td>344</td>\n",
       "      <td>1601</td>\n",
       "      <td>0x641</td>\n",
       "    </tr>\n",
       "    <tr>\n",
       "      <th>ي</th>\n",
       "      <td>1097</td>\n",
       "      <td>1610</td>\n",
       "      <td>0x64a</td>\n",
       "    </tr>\n",
       "    <tr>\n",
       "      <th>م</th>\n",
       "      <td>938</td>\n",
       "      <td>1605</td>\n",
       "      <td>0x645</td>\n",
       "    </tr>\n",
       "    <tr>\n",
       "      <th>ن</th>\n",
       "      <td>665</td>\n",
       "      <td>1606</td>\n",
       "      <td>0x646</td>\n",
       "    </tr>\n",
       "  </tbody>\n",
       "</table>\n",
       "</div>"
      ],
      "text/plain": [
       "           frequency  unicode_dec unicode_hex\n",
       "character                                    \n",
       "و                727         1608       0x648\n",
       "ف                344         1601       0x641\n",
       "ي               1097         1610       0x64a\n",
       "م                938         1605       0x645\n",
       "ن                665         1606       0x646"
      ]
     },
     "execution_count": 226,
     "metadata": {},
     "output_type": "execute_result"
    }
   ],
   "source": [
    "corpus_chars_df = pd.DataFrame(fdist1.items())\n",
    "corpus_chars_df.columns = ['character','frequency']\n",
    "\n",
    "# Unicode number of each distinct character:\n",
    "corpus_chars_df['unicode_dec']= corpus_chars_df.character.map(ord)\n",
    "corpus_chars_df['unicode_hex']= corpus_chars_df.character.map(lambda x: hex(ord(x)))\n",
    "\n",
    "corpus_chars_df = corpus_chars_df.set_index('character')\n",
    "\n",
    "corpus_chars_df.head()"
   ]
  },
  {
   "cell_type": "code",
   "execution_count": 227,
   "metadata": {},
   "outputs": [
    {
     "name": "stdout",
     "output_type": "stream",
     "text": [
      "80 37\n"
     ]
    }
   ],
   "source": [
    "idx = corpus_chars_df.unicode_hex.str.startswith('0x6')\n",
    "print(corpus_chars_df.shape[0],idx.sum())"
   ]
  },
  {
   "cell_type": "code",
   "execution_count": 228,
   "metadata": {},
   "outputs": [
    {
     "data": {
      "text/html": [
       "<div>\n",
       "<style scoped>\n",
       "    .dataframe tbody tr th:only-of-type {\n",
       "        vertical-align: middle;\n",
       "    }\n",
       "\n",
       "    .dataframe tbody tr th {\n",
       "        vertical-align: top;\n",
       "    }\n",
       "\n",
       "    .dataframe thead th {\n",
       "        text-align: right;\n",
       "    }\n",
       "</style>\n",
       "<table border=\"1\" class=\"dataframe\">\n",
       "  <thead>\n",
       "    <tr style=\"text-align: right;\">\n",
       "      <th></th>\n",
       "      <th>frequency</th>\n",
       "      <th>unicode_dec</th>\n",
       "      <th>unicode_hex</th>\n",
       "    </tr>\n",
       "    <tr>\n",
       "      <th>character</th>\n",
       "      <th></th>\n",
       "      <th></th>\n",
       "      <th></th>\n",
       "    </tr>\n",
       "  </thead>\n",
       "  <tbody>\n",
       "    <tr>\n",
       "      <th>ء</th>\n",
       "      <td>37</td>\n",
       "      <td>1569</td>\n",
       "      <td>0x621</td>\n",
       "    </tr>\n",
       "    <tr>\n",
       "      <th>آ</th>\n",
       "      <td>6</td>\n",
       "      <td>1570</td>\n",
       "      <td>0x622</td>\n",
       "    </tr>\n",
       "    <tr>\n",
       "      <th>أ</th>\n",
       "      <td>110</td>\n",
       "      <td>1571</td>\n",
       "      <td>0x623</td>\n",
       "    </tr>\n",
       "    <tr>\n",
       "      <th>ؤ</th>\n",
       "      <td>5</td>\n",
       "      <td>1572</td>\n",
       "      <td>0x624</td>\n",
       "    </tr>\n",
       "    <tr>\n",
       "      <th>إ</th>\n",
       "      <td>25</td>\n",
       "      <td>1573</td>\n",
       "      <td>0x625</td>\n",
       "    </tr>\n",
       "    <tr>\n",
       "      <th>ئ</th>\n",
       "      <td>16</td>\n",
       "      <td>1574</td>\n",
       "      <td>0x626</td>\n",
       "    </tr>\n",
       "    <tr>\n",
       "      <th>ا</th>\n",
       "      <td>2055</td>\n",
       "      <td>1575</td>\n",
       "      <td>0x627</td>\n",
       "    </tr>\n",
       "    <tr>\n",
       "      <th>ب</th>\n",
       "      <td>580</td>\n",
       "      <td>1576</td>\n",
       "      <td>0x628</td>\n",
       "    </tr>\n",
       "    <tr>\n",
       "      <th>ة</th>\n",
       "      <td>436</td>\n",
       "      <td>1577</td>\n",
       "      <td>0x629</td>\n",
       "    </tr>\n",
       "    <tr>\n",
       "      <th>ت</th>\n",
       "      <td>513</td>\n",
       "      <td>1578</td>\n",
       "      <td>0x62a</td>\n",
       "    </tr>\n",
       "    <tr>\n",
       "      <th>ث</th>\n",
       "      <td>65</td>\n",
       "      <td>1579</td>\n",
       "      <td>0x62b</td>\n",
       "    </tr>\n",
       "    <tr>\n",
       "      <th>ج</th>\n",
       "      <td>243</td>\n",
       "      <td>1580</td>\n",
       "      <td>0x62c</td>\n",
       "    </tr>\n",
       "    <tr>\n",
       "      <th>ح</th>\n",
       "      <td>406</td>\n",
       "      <td>1581</td>\n",
       "      <td>0x62d</td>\n",
       "    </tr>\n",
       "    <tr>\n",
       "      <th>خ</th>\n",
       "      <td>166</td>\n",
       "      <td>1582</td>\n",
       "      <td>0x62e</td>\n",
       "    </tr>\n",
       "    <tr>\n",
       "      <th>د</th>\n",
       "      <td>364</td>\n",
       "      <td>1583</td>\n",
       "      <td>0x62f</td>\n",
       "    </tr>\n",
       "    <tr>\n",
       "      <th>ذ</th>\n",
       "      <td>59</td>\n",
       "      <td>1584</td>\n",
       "      <td>0x630</td>\n",
       "    </tr>\n",
       "    <tr>\n",
       "      <th>ر</th>\n",
       "      <td>660</td>\n",
       "      <td>1585</td>\n",
       "      <td>0x631</td>\n",
       "    </tr>\n",
       "    <tr>\n",
       "      <th>ز</th>\n",
       "      <td>115</td>\n",
       "      <td>1586</td>\n",
       "      <td>0x632</td>\n",
       "    </tr>\n",
       "    <tr>\n",
       "      <th>س</th>\n",
       "      <td>339</td>\n",
       "      <td>1587</td>\n",
       "      <td>0x633</td>\n",
       "    </tr>\n",
       "    <tr>\n",
       "      <th>ش</th>\n",
       "      <td>251</td>\n",
       "      <td>1588</td>\n",
       "      <td>0x634</td>\n",
       "    </tr>\n",
       "    <tr>\n",
       "      <th>ص</th>\n",
       "      <td>128</td>\n",
       "      <td>1589</td>\n",
       "      <td>0x635</td>\n",
       "    </tr>\n",
       "    <tr>\n",
       "      <th>ض</th>\n",
       "      <td>79</td>\n",
       "      <td>1590</td>\n",
       "      <td>0x636</td>\n",
       "    </tr>\n",
       "    <tr>\n",
       "      <th>ط</th>\n",
       "      <td>146</td>\n",
       "      <td>1591</td>\n",
       "      <td>0x637</td>\n",
       "    </tr>\n",
       "    <tr>\n",
       "      <th>ظ</th>\n",
       "      <td>23</td>\n",
       "      <td>1592</td>\n",
       "      <td>0x638</td>\n",
       "    </tr>\n",
       "    <tr>\n",
       "      <th>ع</th>\n",
       "      <td>456</td>\n",
       "      <td>1593</td>\n",
       "      <td>0x639</td>\n",
       "    </tr>\n",
       "    <tr>\n",
       "      <th>غ</th>\n",
       "      <td>46</td>\n",
       "      <td>1594</td>\n",
       "      <td>0x63a</td>\n",
       "    </tr>\n",
       "    <tr>\n",
       "      <th>ف</th>\n",
       "      <td>344</td>\n",
       "      <td>1601</td>\n",
       "      <td>0x641</td>\n",
       "    </tr>\n",
       "    <tr>\n",
       "      <th>ق</th>\n",
       "      <td>319</td>\n",
       "      <td>1602</td>\n",
       "      <td>0x642</td>\n",
       "    </tr>\n",
       "    <tr>\n",
       "      <th>ك</th>\n",
       "      <td>442</td>\n",
       "      <td>1603</td>\n",
       "      <td>0x643</td>\n",
       "    </tr>\n",
       "    <tr>\n",
       "      <th>ل</th>\n",
       "      <td>1360</td>\n",
       "      <td>1604</td>\n",
       "      <td>0x644</td>\n",
       "    </tr>\n",
       "    <tr>\n",
       "      <th>م</th>\n",
       "      <td>938</td>\n",
       "      <td>1605</td>\n",
       "      <td>0x645</td>\n",
       "    </tr>\n",
       "    <tr>\n",
       "      <th>ن</th>\n",
       "      <td>665</td>\n",
       "      <td>1606</td>\n",
       "      <td>0x646</td>\n",
       "    </tr>\n",
       "    <tr>\n",
       "      <th>ه</th>\n",
       "      <td>441</td>\n",
       "      <td>1607</td>\n",
       "      <td>0x647</td>\n",
       "    </tr>\n",
       "    <tr>\n",
       "      <th>و</th>\n",
       "      <td>727</td>\n",
       "      <td>1608</td>\n",
       "      <td>0x648</td>\n",
       "    </tr>\n",
       "    <tr>\n",
       "      <th>ى</th>\n",
       "      <td>48</td>\n",
       "      <td>1609</td>\n",
       "      <td>0x649</td>\n",
       "    </tr>\n",
       "    <tr>\n",
       "      <th>ي</th>\n",
       "      <td>1097</td>\n",
       "      <td>1610</td>\n",
       "      <td>0x64a</td>\n",
       "    </tr>\n",
       "    <tr>\n",
       "      <th>ی</th>\n",
       "      <td>1</td>\n",
       "      <td>1740</td>\n",
       "      <td>0x6cc</td>\n",
       "    </tr>\n",
       "  </tbody>\n",
       "</table>\n",
       "</div>"
      ],
      "text/plain": [
       "           frequency  unicode_dec unicode_hex\n",
       "character                                    \n",
       "ء                 37         1569       0x621\n",
       "آ                  6         1570       0x622\n",
       "أ                110         1571       0x623\n",
       "ؤ                  5         1572       0x624\n",
       "إ                 25         1573       0x625\n",
       "ئ                 16         1574       0x626\n",
       "ا               2055         1575       0x627\n",
       "ب                580         1576       0x628\n",
       "ة                436         1577       0x629\n",
       "ت                513         1578       0x62a\n",
       "ث                 65         1579       0x62b\n",
       "ج                243         1580       0x62c\n",
       "ح                406         1581       0x62d\n",
       "خ                166         1582       0x62e\n",
       "د                364         1583       0x62f\n",
       "ذ                 59         1584       0x630\n",
       "ر                660         1585       0x631\n",
       "ز                115         1586       0x632\n",
       "س                339         1587       0x633\n",
       "ش                251         1588       0x634\n",
       "ص                128         1589       0x635\n",
       "ض                 79         1590       0x636\n",
       "ط                146         1591       0x637\n",
       "ظ                 23         1592       0x638\n",
       "ع                456         1593       0x639\n",
       "غ                 46         1594       0x63a\n",
       "ف                344         1601       0x641\n",
       "ق                319         1602       0x642\n",
       "ك                442         1603       0x643\n",
       "ل               1360         1604       0x644\n",
       "م                938         1605       0x645\n",
       "ن                665         1606       0x646\n",
       "ه                441         1607       0x647\n",
       "و                727         1608       0x648\n",
       "ى                 48         1609       0x649\n",
       "ي               1097         1610       0x64a\n",
       "ی                  1         1740       0x6cc"
      ]
     },
     "execution_count": 228,
     "metadata": {},
     "output_type": "execute_result"
    }
   ],
   "source": [
    "# Characters from the Standard Arabic Character set\n",
    "\n",
    "corpus_chars_df[idx].sort_values(by='unicode_dec', ascending=True)"
   ]
  },
  {
   "cell_type": "code",
   "execution_count": 229,
   "metadata": {},
   "outputs": [
    {
     "data": {
      "text/html": [
       "<div>\n",
       "<style scoped>\n",
       "    .dataframe tbody tr th:only-of-type {\n",
       "        vertical-align: middle;\n",
       "    }\n",
       "\n",
       "    .dataframe tbody tr th {\n",
       "        vertical-align: top;\n",
       "    }\n",
       "\n",
       "    .dataframe thead th {\n",
       "        text-align: right;\n",
       "    }\n",
       "</style>\n",
       "<table border=\"1\" class=\"dataframe\">\n",
       "  <thead>\n",
       "    <tr style=\"text-align: right;\">\n",
       "      <th></th>\n",
       "      <th>frequency</th>\n",
       "      <th>unicode_dec</th>\n",
       "      <th>unicode_hex</th>\n",
       "    </tr>\n",
       "    <tr>\n",
       "      <th>character</th>\n",
       "      <th></th>\n",
       "      <th></th>\n",
       "      <th></th>\n",
       "    </tr>\n",
       "  </thead>\n",
       "  <tbody>\n",
       "    <tr>\n",
       "      <th>ﷲ</th>\n",
       "      <td>2</td>\n",
       "      <td>65010</td>\n",
       "      <td>0xfdf2</td>\n",
       "    </tr>\n",
       "    <tr>\n",
       "      <th>ﺍ</th>\n",
       "      <td>5</td>\n",
       "      <td>65165</td>\n",
       "      <td>0xfe8d</td>\n",
       "    </tr>\n",
       "    <tr>\n",
       "      <th>ﺎ</th>\n",
       "      <td>6</td>\n",
       "      <td>65166</td>\n",
       "      <td>0xfe8e</td>\n",
       "    </tr>\n",
       "    <tr>\n",
       "      <th>ﺑ</th>\n",
       "      <td>1</td>\n",
       "      <td>65169</td>\n",
       "      <td>0xfe91</td>\n",
       "    </tr>\n",
       "    <tr>\n",
       "      <th>ﺒ</th>\n",
       "      <td>2</td>\n",
       "      <td>65170</td>\n",
       "      <td>0xfe92</td>\n",
       "    </tr>\n",
       "    <tr>\n",
       "      <th>ﺓ</th>\n",
       "      <td>1</td>\n",
       "      <td>65171</td>\n",
       "      <td>0xfe93</td>\n",
       "    </tr>\n",
       "    <tr>\n",
       "      <th>ﺔ</th>\n",
       "      <td>1</td>\n",
       "      <td>65172</td>\n",
       "      <td>0xfe94</td>\n",
       "    </tr>\n",
       "    <tr>\n",
       "      <th>ﺖ</th>\n",
       "      <td>2</td>\n",
       "      <td>65174</td>\n",
       "      <td>0xfe96</td>\n",
       "    </tr>\n",
       "    <tr>\n",
       "      <th>ﺠ</th>\n",
       "      <td>1</td>\n",
       "      <td>65184</td>\n",
       "      <td>0xfea0</td>\n",
       "    </tr>\n",
       "    <tr>\n",
       "      <th>ﺡ</th>\n",
       "      <td>1</td>\n",
       "      <td>65185</td>\n",
       "      <td>0xfea1</td>\n",
       "    </tr>\n",
       "    <tr>\n",
       "      <th>ﺣ</th>\n",
       "      <td>2</td>\n",
       "      <td>65187</td>\n",
       "      <td>0xfea3</td>\n",
       "    </tr>\n",
       "    <tr>\n",
       "      <th>ﺤ</th>\n",
       "      <td>2</td>\n",
       "      <td>65188</td>\n",
       "      <td>0xfea4</td>\n",
       "    </tr>\n",
       "    <tr>\n",
       "      <th>ﺬ</th>\n",
       "      <td>1</td>\n",
       "      <td>65196</td>\n",
       "      <td>0xfeac</td>\n",
       "    </tr>\n",
       "    <tr>\n",
       "      <th>ﺭ</th>\n",
       "      <td>3</td>\n",
       "      <td>65197</td>\n",
       "      <td>0xfead</td>\n",
       "    </tr>\n",
       "    <tr>\n",
       "      <th>ﺮ</th>\n",
       "      <td>1</td>\n",
       "      <td>65198</td>\n",
       "      <td>0xfeae</td>\n",
       "    </tr>\n",
       "    <tr>\n",
       "      <th>ﺶ</th>\n",
       "      <td>1</td>\n",
       "      <td>65206</td>\n",
       "      <td>0xfeb6</td>\n",
       "    </tr>\n",
       "    <tr>\n",
       "      <th>ﺻ</th>\n",
       "      <td>1</td>\n",
       "      <td>65211</td>\n",
       "      <td>0xfebb</td>\n",
       "    </tr>\n",
       "    <tr>\n",
       "      <th>ﻋ</th>\n",
       "      <td>4</td>\n",
       "      <td>65227</td>\n",
       "      <td>0xfecb</td>\n",
       "    </tr>\n",
       "    <tr>\n",
       "      <th>ﻒ</th>\n",
       "      <td>1</td>\n",
       "      <td>65234</td>\n",
       "      <td>0xfed2</td>\n",
       "    </tr>\n",
       "    <tr>\n",
       "      <th>ﻓ</th>\n",
       "      <td>3</td>\n",
       "      <td>65235</td>\n",
       "      <td>0xfed3</td>\n",
       "    </tr>\n",
       "    <tr>\n",
       "      <th>ﻙ</th>\n",
       "      <td>1</td>\n",
       "      <td>65241</td>\n",
       "      <td>0xfed9</td>\n",
       "    </tr>\n",
       "    <tr>\n",
       "      <th>ﻚ</th>\n",
       "      <td>4</td>\n",
       "      <td>65242</td>\n",
       "      <td>0xfeda</td>\n",
       "    </tr>\n",
       "    <tr>\n",
       "      <th>ﻛ</th>\n",
       "      <td>5</td>\n",
       "      <td>65243</td>\n",
       "      <td>0xfedb</td>\n",
       "    </tr>\n",
       "    <tr>\n",
       "      <th>ﻝ</th>\n",
       "      <td>1</td>\n",
       "      <td>65245</td>\n",
       "      <td>0xfedd</td>\n",
       "    </tr>\n",
       "    <tr>\n",
       "      <th>ﻞ</th>\n",
       "      <td>1</td>\n",
       "      <td>65246</td>\n",
       "      <td>0xfede</td>\n",
       "    </tr>\n",
       "    <tr>\n",
       "      <th>ﻟ</th>\n",
       "      <td>3</td>\n",
       "      <td>65247</td>\n",
       "      <td>0xfedf</td>\n",
       "    </tr>\n",
       "    <tr>\n",
       "      <th>ﻠ</th>\n",
       "      <td>4</td>\n",
       "      <td>65248</td>\n",
       "      <td>0xfee0</td>\n",
       "    </tr>\n",
       "    <tr>\n",
       "      <th>ﻣ</th>\n",
       "      <td>4</td>\n",
       "      <td>65251</td>\n",
       "      <td>0xfee3</td>\n",
       "    </tr>\n",
       "    <tr>\n",
       "      <th>ﻤ</th>\n",
       "      <td>1</td>\n",
       "      <td>65252</td>\n",
       "      <td>0xfee4</td>\n",
       "    </tr>\n",
       "    <tr>\n",
       "      <th>ﻥ</th>\n",
       "      <td>1</td>\n",
       "      <td>65253</td>\n",
       "      <td>0xfee5</td>\n",
       "    </tr>\n",
       "    <tr>\n",
       "      <th>ﻦ</th>\n",
       "      <td>1</td>\n",
       "      <td>65254</td>\n",
       "      <td>0xfee6</td>\n",
       "    </tr>\n",
       "    <tr>\n",
       "      <th>ﻧ</th>\n",
       "      <td>2</td>\n",
       "      <td>65255</td>\n",
       "      <td>0xfee7</td>\n",
       "    </tr>\n",
       "    <tr>\n",
       "      <th>ﻨ</th>\n",
       "      <td>1</td>\n",
       "      <td>65256</td>\n",
       "      <td>0xfee8</td>\n",
       "    </tr>\n",
       "    <tr>\n",
       "      <th>ﻪ</th>\n",
       "      <td>2</td>\n",
       "      <td>65258</td>\n",
       "      <td>0xfeea</td>\n",
       "    </tr>\n",
       "    <tr>\n",
       "      <th>ﻫ</th>\n",
       "      <td>3</td>\n",
       "      <td>65259</td>\n",
       "      <td>0xfeeb</td>\n",
       "    </tr>\n",
       "    <tr>\n",
       "      <th>ﻬ</th>\n",
       "      <td>2</td>\n",
       "      <td>65260</td>\n",
       "      <td>0xfeec</td>\n",
       "    </tr>\n",
       "    <tr>\n",
       "      <th>ﻭ</th>\n",
       "      <td>3</td>\n",
       "      <td>65261</td>\n",
       "      <td>0xfeed</td>\n",
       "    </tr>\n",
       "    <tr>\n",
       "      <th>ﻰ</th>\n",
       "      <td>2</td>\n",
       "      <td>65264</td>\n",
       "      <td>0xfef0</td>\n",
       "    </tr>\n",
       "    <tr>\n",
       "      <th>ﻲ</th>\n",
       "      <td>5</td>\n",
       "      <td>65266</td>\n",
       "      <td>0xfef2</td>\n",
       "    </tr>\n",
       "    <tr>\n",
       "      <th>ﻳ</th>\n",
       "      <td>1</td>\n",
       "      <td>65267</td>\n",
       "      <td>0xfef3</td>\n",
       "    </tr>\n",
       "    <tr>\n",
       "      <th>ﻴ</th>\n",
       "      <td>4</td>\n",
       "      <td>65268</td>\n",
       "      <td>0xfef4</td>\n",
       "    </tr>\n",
       "    <tr>\n",
       "      <th>ﻻ</th>\n",
       "      <td>1</td>\n",
       "      <td>65275</td>\n",
       "      <td>0xfefb</td>\n",
       "    </tr>\n",
       "    <tr>\n",
       "      <th>ﻼ</th>\n",
       "      <td>1</td>\n",
       "      <td>65276</td>\n",
       "      <td>0xfefc</td>\n",
       "    </tr>\n",
       "  </tbody>\n",
       "</table>\n",
       "</div>"
      ],
      "text/plain": [
       "           frequency  unicode_dec unicode_hex\n",
       "character                                    \n",
       "ﷲ                  2        65010      0xfdf2\n",
       "ﺍ                  5        65165      0xfe8d\n",
       "ﺎ                  6        65166      0xfe8e\n",
       "ﺑ                  1        65169      0xfe91\n",
       "ﺒ                  2        65170      0xfe92\n",
       "ﺓ                  1        65171      0xfe93\n",
       "ﺔ                  1        65172      0xfe94\n",
       "ﺖ                  2        65174      0xfe96\n",
       "ﺠ                  1        65184      0xfea0\n",
       "ﺡ                  1        65185      0xfea1\n",
       "ﺣ                  2        65187      0xfea3\n",
       "ﺤ                  2        65188      0xfea4\n",
       "ﺬ                  1        65196      0xfeac\n",
       "ﺭ                  3        65197      0xfead\n",
       "ﺮ                  1        65198      0xfeae\n",
       "ﺶ                  1        65206      0xfeb6\n",
       "ﺻ                  1        65211      0xfebb\n",
       "ﻋ                  4        65227      0xfecb\n",
       "ﻒ                  1        65234      0xfed2\n",
       "ﻓ                  3        65235      0xfed3\n",
       "ﻙ                  1        65241      0xfed9\n",
       "ﻚ                  4        65242      0xfeda\n",
       "ﻛ                  5        65243      0xfedb\n",
       "ﻝ                  1        65245      0xfedd\n",
       "ﻞ                  1        65246      0xfede\n",
       "ﻟ                  3        65247      0xfedf\n",
       "ﻠ                  4        65248      0xfee0\n",
       "ﻣ                  4        65251      0xfee3\n",
       "ﻤ                  1        65252      0xfee4\n",
       "ﻥ                  1        65253      0xfee5\n",
       "ﻦ                  1        65254      0xfee6\n",
       "ﻧ                  2        65255      0xfee7\n",
       "ﻨ                  1        65256      0xfee8\n",
       "ﻪ                  2        65258      0xfeea\n",
       "ﻫ                  3        65259      0xfeeb\n",
       "ﻬ                  2        65260      0xfeec\n",
       "ﻭ                  3        65261      0xfeed\n",
       "ﻰ                  2        65264      0xfef0\n",
       "ﻲ                  5        65266      0xfef2\n",
       "ﻳ                  1        65267      0xfef3\n",
       "ﻴ                  4        65268      0xfef4\n",
       "ﻻ                  1        65275      0xfefb\n",
       "ﻼ                  1        65276      0xfefc"
      ]
     },
     "execution_count": 229,
     "metadata": {},
     "output_type": "execute_result"
    }
   ],
   "source": [
    "# Characters from the Extended Arabic Character set\n",
    "\n",
    "corpus_chars_df[~idx].sort_values(by='unicode_dec', ascending=True)"
   ]
  },
  {
   "cell_type": "code",
   "execution_count": 230,
   "metadata": {},
   "outputs": [
    {
     "name": "stdout",
     "output_type": "stream",
     "text": [
      "40\n",
      "ی,ﷲ,ﺑ,ﺒ,ﺓ,ﺔ,ﺖ,ﺠ,ﺡ,ﺣ,ﺤ,ﺬ,ﺭ,ﺮ,ﺶ,ﺻ,ﻋ,ﻒ,ﻓ,ﻙ,ﻚ,ﻝ,ﻞ,ﻟ,ﻠ,ﻣ,ﻤ,ﻥ,ﻦ,ﻧ,ﻨ,ﻪ,ﻫ,ﻬ,ﻭ,ﻰ,ﻳ,ﻴ,ﻻ,ﻼ\n"
     ]
    }
   ],
   "source": [
    "# Rare characters\n",
    "\n",
    "u = corpus_chars_df[corpus_chars_df.frequency<5]\n",
    "print(u.shape[0])\n",
    "#print(sorted(u.index.tolist()))\n",
    "print(','.join(sorted(u.index.tolist())))"
   ]
  },
  {
   "cell_type": "code",
   "execution_count": 231,
   "metadata": {},
   "outputs": [],
   "source": [
    "#for x in sorted(u.index.tolist()):\n",
    "#    print(x)"
   ]
  },
  {
   "cell_type": "code",
   "execution_count": 232,
   "metadata": {},
   "outputs": [
    {
     "data": {
      "text/html": [
       "<div>\n",
       "<style scoped>\n",
       "    .dataframe tbody tr th:only-of-type {\n",
       "        vertical-align: middle;\n",
       "    }\n",
       "\n",
       "    .dataframe tbody tr th {\n",
       "        vertical-align: top;\n",
       "    }\n",
       "\n",
       "    .dataframe thead th {\n",
       "        text-align: right;\n",
       "    }\n",
       "</style>\n",
       "<table border=\"1\" class=\"dataframe\">\n",
       "  <thead>\n",
       "    <tr style=\"text-align: right;\">\n",
       "      <th></th>\n",
       "      <th>frequency</th>\n",
       "      <th>unicode_dec</th>\n",
       "      <th>unicode_hex</th>\n",
       "    </tr>\n",
       "    <tr>\n",
       "      <th>character</th>\n",
       "      <th></th>\n",
       "      <th></th>\n",
       "      <th></th>\n",
       "    </tr>\n",
       "  </thead>\n",
       "  <tbody>\n",
       "    <tr>\n",
       "      <th>ی</th>\n",
       "      <td>1</td>\n",
       "      <td>1740</td>\n",
       "      <td>0x6cc</td>\n",
       "    </tr>\n",
       "    <tr>\n",
       "      <th>ﷲ</th>\n",
       "      <td>2</td>\n",
       "      <td>65010</td>\n",
       "      <td>0xfdf2</td>\n",
       "    </tr>\n",
       "    <tr>\n",
       "      <th>ﺑ</th>\n",
       "      <td>1</td>\n",
       "      <td>65169</td>\n",
       "      <td>0xfe91</td>\n",
       "    </tr>\n",
       "    <tr>\n",
       "      <th>ﺒ</th>\n",
       "      <td>2</td>\n",
       "      <td>65170</td>\n",
       "      <td>0xfe92</td>\n",
       "    </tr>\n",
       "    <tr>\n",
       "      <th>ﺓ</th>\n",
       "      <td>1</td>\n",
       "      <td>65171</td>\n",
       "      <td>0xfe93</td>\n",
       "    </tr>\n",
       "  </tbody>\n",
       "</table>\n",
       "</div>"
      ],
      "text/plain": [
       "           frequency  unicode_dec unicode_hex\n",
       "character                                    \n",
       "ی                  1         1740       0x6cc\n",
       "ﷲ                  2        65010      0xfdf2\n",
       "ﺑ                  1        65169      0xfe91\n",
       "ﺒ                  2        65170      0xfe92\n",
       "ﺓ                  1        65171      0xfe93"
      ]
     },
     "execution_count": 232,
     "metadata": {},
     "output_type": "execute_result"
    }
   ],
   "source": [
    "# Rare characters sorted by unicode value\n",
    "\n",
    "u.sort_values(by='unicode_dec', ascending=True).head()"
   ]
  },
  {
   "cell_type": "code",
   "execution_count": 233,
   "metadata": {},
   "outputs": [
    {
     "data": {
      "text/html": [
       "<div>\n",
       "<style scoped>\n",
       "    .dataframe tbody tr th:only-of-type {\n",
       "        vertical-align: middle;\n",
       "    }\n",
       "\n",
       "    .dataframe tbody tr th {\n",
       "        vertical-align: top;\n",
       "    }\n",
       "\n",
       "    .dataframe thead th {\n",
       "        text-align: right;\n",
       "    }\n",
       "</style>\n",
       "<table border=\"1\" class=\"dataframe\">\n",
       "  <thead>\n",
       "    <tr style=\"text-align: right;\">\n",
       "      <th></th>\n",
       "      <th>frequency</th>\n",
       "      <th>unicode_dec</th>\n",
       "      <th>unicode_hex</th>\n",
       "    </tr>\n",
       "    <tr>\n",
       "      <th>character</th>\n",
       "      <th></th>\n",
       "      <th></th>\n",
       "      <th></th>\n",
       "    </tr>\n",
       "  </thead>\n",
       "  <tbody>\n",
       "    <tr>\n",
       "      <th>ﻼ</th>\n",
       "      <td>1</td>\n",
       "      <td>65276</td>\n",
       "      <td>0xfefc</td>\n",
       "    </tr>\n",
       "    <tr>\n",
       "      <th>ﻻ</th>\n",
       "      <td>1</td>\n",
       "      <td>65275</td>\n",
       "      <td>0xfefb</td>\n",
       "    </tr>\n",
       "    <tr>\n",
       "      <th>ﻴ</th>\n",
       "      <td>4</td>\n",
       "      <td>65268</td>\n",
       "      <td>0xfef4</td>\n",
       "    </tr>\n",
       "    <tr>\n",
       "      <th>ﻳ</th>\n",
       "      <td>1</td>\n",
       "      <td>65267</td>\n",
       "      <td>0xfef3</td>\n",
       "    </tr>\n",
       "    <tr>\n",
       "      <th>ﻰ</th>\n",
       "      <td>2</td>\n",
       "      <td>65264</td>\n",
       "      <td>0xfef0</td>\n",
       "    </tr>\n",
       "  </tbody>\n",
       "</table>\n",
       "</div>"
      ],
      "text/plain": [
       "           frequency  unicode_dec unicode_hex\n",
       "character                                    \n",
       "ﻼ                  1        65276      0xfefc\n",
       "ﻻ                  1        65275      0xfefb\n",
       "ﻴ                  4        65268      0xfef4\n",
       "ﻳ                  1        65267      0xfef3\n",
       "ﻰ                  2        65264      0xfef0"
      ]
     },
     "execution_count": 233,
     "metadata": {},
     "output_type": "execute_result"
    }
   ],
   "source": [
    "u.sort_values(by='unicode_dec', ascending=False).head()"
   ]
  },
  {
   "cell_type": "markdown",
   "metadata": {},
   "source": [
    "#### Select unwanted characters\n",
    "For this corpus, unwanted characters are characters not in the **standard** Arabic character set."
   ]
  },
  {
   "cell_type": "code",
   "execution_count": 234,
   "metadata": {},
   "outputs": [
    {
     "data": {
      "text/plain": [
       "(37, 40, 36)"
      ]
     },
     "execution_count": 234,
     "metadata": {},
     "output_type": "execute_result"
    }
   ],
   "source": [
    "idx1 = corpus_chars_df.unicode_hex.str.startswith('0x6')\n",
    "idx2 = (corpus_chars_df.frequency>=5)\n",
    "idx1.sum(), idx2.sum(), (idx1&idx2).sum()"
   ]
  },
  {
   "cell_type": "code",
   "execution_count": 235,
   "metadata": {},
   "outputs": [
    {
     "name": "stdout",
     "output_type": "stream",
     "text": [
      "44\n"
     ]
    }
   ],
   "source": [
    "unwanted_characters = sorted(corpus_chars_df.loc[~(idx1&idx2)].index.tolist())\n",
    "print(len(unwanted_characters))"
   ]
  },
  {
   "cell_type": "markdown",
   "metadata": {},
   "source": [
    "*Observations & conclusions*\n",
    "\n",
    "- 88 distinct characters in this corpus, with 38 Arabic letters from the standard Arabic character set, and 50 Arabic letters from the extended Arabic character set.\n",
    "- The top 20 characters cover more than 92% of all character occurrences in the corpus.\n",
    "- 45 rare characters -- that occur less than 5 times:\n",
    "        ڨ,ی,ﷲ,ﺋ,ﺑ,ﺒ,ﺓ,ﺔ,ﺖ,ﺗ,ﺠ,ﺡ,ﺣ,ﺤ,ﺬ,ﺭ,ﺮ,ﺰ,ﺲ,ﺶ,ﺷ,ﺸ,ﺻ,ﻒ,ﻓ,ﻙ,ﻚ,ﻝ,ﻞ,ﻟ,ﻠ,ﻤ,ﻥ,ﻦ,ﻧ,ﻨ,ﻪ,ﻫ,ﻬ,ﻭ,ﻮ,ﻰ,ﻳ,ﻻ,ﻼ\n",
    "        \n",
    "      Except for the first 2 characters, the above characters are all from the **extended** Arabic character set.\n",
    "      \n",
    "*Remark*:\n",
    "- The Unicode characters of the **standard** Arabic character set are in the range **\\u0600 - \\u06FF**.\n",
    "- In the corpus cleanup below, we will just remove words that contain characters from the **extended** Arabic character set, but a more rigorous approach is to normalize them by converting them to the standard Arabic character set (future work)."
   ]
  },
  {
   "cell_type": "markdown",
   "metadata": {},
   "source": [
    "****"
   ]
  },
  {
   "cell_type": "markdown",
   "metadata": {},
   "source": [
    "## Corpus Cleanup\n",
    "- remove words that contain non-Arabic letters\n",
    "- Arabic letter normalization (remove tatweel and diacritics + conflate hamzas and alifs)\n",
    "- remove duplicated words (conflated words due to normalization)\n",
    "- remove elongated words (informal/social media non-standard spelling)\n",
    "- remove one-letter words\n",
    "- remove very long words"
   ]
  },
  {
   "cell_type": "markdown",
   "metadata": {},
   "source": [
    "### Remove Words that Contain Unwanted Characters"
   ]
  },
  {
   "cell_type": "code",
   "execution_count": 236,
   "metadata": {},
   "outputs": [
    {
     "data": {
      "text/html": [
       "<div>\n",
       "<style scoped>\n",
       "    .dataframe tbody tr th:only-of-type {\n",
       "        vertical-align: middle;\n",
       "    }\n",
       "\n",
       "    .dataframe tbody tr th {\n",
       "        vertical-align: top;\n",
       "    }\n",
       "\n",
       "    .dataframe thead th {\n",
       "        text-align: right;\n",
       "    }\n",
       "</style>\n",
       "<table border=\"1\" class=\"dataframe\">\n",
       "  <thead>\n",
       "    <tr style=\"text-align: right;\">\n",
       "      <th></th>\n",
       "      <th>word</th>\n",
       "      <th>doc_freq</th>\n",
       "      <th>lang_label</th>\n",
       "    </tr>\n",
       "  </thead>\n",
       "  <tbody>\n",
       "    <tr>\n",
       "      <th>0</th>\n",
       "      <td>و</td>\n",
       "      <td>6338</td>\n",
       "      <td>MSA</td>\n",
       "    </tr>\n",
       "    <tr>\n",
       "      <th>1</th>\n",
       "      <td>في</td>\n",
       "      <td>3985</td>\n",
       "      <td>MSA</td>\n",
       "    </tr>\n",
       "    <tr>\n",
       "      <th>2</th>\n",
       "      <td>من</td>\n",
       "      <td>2621</td>\n",
       "      <td>MSA</td>\n",
       "    </tr>\n",
       "    <tr>\n",
       "      <th>3</th>\n",
       "      <td>يا</td>\n",
       "      <td>2213</td>\n",
       "      <td>MSA</td>\n",
       "    </tr>\n",
       "    <tr>\n",
       "      <th>4</th>\n",
       "      <td>الله</td>\n",
       "      <td>1696</td>\n",
       "      <td>MSA</td>\n",
       "    </tr>\n",
       "  </tbody>\n",
       "</table>\n",
       "</div>"
      ],
      "text/plain": [
       "   word  doc_freq lang_label\n",
       "0     و      6338        MSA\n",
       "1    في      3985        MSA\n",
       "2    من      2621        MSA\n",
       "3    يا      2213        MSA\n",
       "4  الله      1696        MSA"
      ]
     },
     "execution_count": 236,
     "metadata": {},
     "output_type": "execute_result"
    }
   ],
   "source": [
    "social_media_words_df.head()"
   ]
  },
  {
   "cell_type": "code",
   "execution_count": 237,
   "metadata": {},
   "outputs": [
    {
     "data": {
      "text/plain": [
       "'[یﷲﺍﺎﺑﺒﺓﺔﺖﺠﺡﺣﺤﺬﺭﺮﺶﺻﻋﻒﻓﻙﻚﻛﻝﻞﻟﻠﻣﻤﻥﻦﻧﻨﻪﻫﻬﻭﻰﻲﻳﻴﻻﻼ]'"
      ]
     },
     "execution_count": 237,
     "metadata": {},
     "output_type": "execute_result"
    }
   ],
   "source": [
    "unwanted_characters_regexp = '[' + ''.join(unwanted_characters) + ']'\n",
    "unwanted_characters_regexp"
   ]
  },
  {
   "cell_type": "code",
   "execution_count": 238,
   "metadata": {},
   "outputs": [
    {
     "data": {
      "text/plain": [
       "32"
      ]
     },
     "execution_count": 238,
     "metadata": {},
     "output_type": "execute_result"
    }
   ],
   "source": [
    "idx = social_media_words_df.word.map(lambda x: re.search(unwanted_characters_regexp,x)!=None)\n",
    "idx.sum()"
   ]
  },
  {
   "cell_type": "code",
   "execution_count": 239,
   "metadata": {},
   "outputs": [],
   "source": [
    "# Just for checking\n",
    "#idx2 = social_media_words_df.word.map(lambda x: re.search(arabic_nlp_utils.NON_ARABIC_CHARS_REGEX,x)!=None)\n",
    "#idx2.sum()"
   ]
  },
  {
   "cell_type": "code",
   "execution_count": 240,
   "metadata": {},
   "outputs": [
    {
     "name": "stdout",
     "output_type": "stream",
     "text": [
      "['ﻓﻲ', 'ﻻ', 'ﻳﺎ', 'ﻣﻦ', 'ﺭﺑﻲ', 'ﷲ', 'ﻣﺤﻼﻙ', 'ﻋﻠﻰ', 'ﻣﺎ', 'ﻋﻠﻴﻚ', 'ﻫﻬﻬﻪ', 'ﺍﻧﺖ', 'ﻛﺎﻥ', 'ﻟﻲ', 'ﺍﻟﻠﻲ', 'ﻛﻲ', 'ﻫﺬﺍ', 'ﺭﻭﻋﺔ', 'ﻧﺤﺒﻚ', 'ﺭﻭﺣﻚ', 'ﺍﻟﺠﻤﺎﻝ', 'ﻓﻴﻪ', 'ﻛﻴﻒ', 'ﻣﺶ', 'علی', 'ﻓﻴﻚ', 'ﻛﻞ', 'ﻛﻨﺖ', 'ﻋﺎﻫﺮﺓ', 'ﺻﺒﺎﺡ', 'ﺍﺣﻠﻰ', 'ﻭﷲ']\n"
     ]
    }
   ],
   "source": [
    "# Words that contain non-Arabic letters  (that will be removed)\n",
    "\n",
    "print(social_media_words_df.loc[idx].word.tolist())"
   ]
  },
  {
   "cell_type": "code",
   "execution_count": 241,
   "metadata": {},
   "outputs": [
    {
     "data": {
      "text/html": [
       "<div>\n",
       "<style scoped>\n",
       "    .dataframe tbody tr th:only-of-type {\n",
       "        vertical-align: middle;\n",
       "    }\n",
       "\n",
       "    .dataframe tbody tr th {\n",
       "        vertical-align: top;\n",
       "    }\n",
       "\n",
       "    .dataframe thead th {\n",
       "        text-align: right;\n",
       "    }\n",
       "</style>\n",
       "<table border=\"1\" class=\"dataframe\">\n",
       "  <thead>\n",
       "    <tr style=\"text-align: right;\">\n",
       "      <th></th>\n",
       "      <th>word</th>\n",
       "      <th>doc_freq</th>\n",
       "      <th>lang_label</th>\n",
       "    </tr>\n",
       "  </thead>\n",
       "  <tbody>\n",
       "    <tr>\n",
       "      <th>317</th>\n",
       "      <td>ﻓﻲ</td>\n",
       "      <td>63</td>\n",
       "      <td>MSA</td>\n",
       "    </tr>\n",
       "    <tr>\n",
       "      <th>360</th>\n",
       "      <td>ﻻ</td>\n",
       "      <td>55</td>\n",
       "      <td>MSA</td>\n",
       "    </tr>\n",
       "    <tr>\n",
       "      <th>482</th>\n",
       "      <td>ﻳﺎ</td>\n",
       "      <td>41</td>\n",
       "      <td>MSA</td>\n",
       "    </tr>\n",
       "    <tr>\n",
       "      <th>556</th>\n",
       "      <td>ﻣﻦ</td>\n",
       "      <td>36</td>\n",
       "      <td>MSA</td>\n",
       "    </tr>\n",
       "    <tr>\n",
       "      <th>772</th>\n",
       "      <td>ﺭﺑﻲ</td>\n",
       "      <td>26</td>\n",
       "      <td>MSA</td>\n",
       "    </tr>\n",
       "  </tbody>\n",
       "</table>\n",
       "</div>"
      ],
      "text/plain": [
       "    word  doc_freq lang_label\n",
       "317   ﻓﻲ        63        MSA\n",
       "360    ﻻ        55        MSA\n",
       "482   ﻳﺎ        41        MSA\n",
       "556   ﻣﻦ        36        MSA\n",
       "772  ﺭﺑﻲ        26        MSA"
      ]
     },
     "execution_count": 241,
     "metadata": {},
     "output_type": "execute_result"
    }
   ],
   "source": [
    "social_media_words_df[idx].head()"
   ]
  },
  {
   "cell_type": "code",
   "execution_count": 242,
   "metadata": {},
   "outputs": [
    {
     "data": {
      "text/plain": [
       "((3065, 3), (3033, 3))"
      ]
     },
     "execution_count": 242,
     "metadata": {},
     "output_type": "execute_result"
    }
   ],
   "source": [
    "social_media_words_df_clean = social_media_words_df[~idx].copy()\n",
    "social_media_words_df.shape,social_media_words_df_clean.shape"
   ]
  },
  {
   "cell_type": "markdown",
   "metadata": {},
   "source": [
    "### Normalize Arabic letters\n",
    "\n",
    "1. remove tatweel and diacritics\n",
    "2. orthographic letters noramlization (letters written in different ways, such as alif and hamza)\n",
    "\n",
    "See documentation of function `arabic_nlp_utils.normalize_arabic_text` for more details."
   ]
  },
  {
   "cell_type": "code",
   "execution_count": 243,
   "metadata": {},
   "outputs": [
    {
     "data": {
      "text/plain": [
       "0"
      ]
     },
     "execution_count": 243,
     "metadata": {},
     "output_type": "execute_result"
    }
   ],
   "source": [
    "## remove tatweel and diacritics\n",
    "social_media_words_df_clean['word_norm'] = social_media_words_df_clean.word.map(lambda w: arabic_nlp_utils.normalize_arabic_text_1(w))\n",
    "\n",
    "# number of normalized words\n",
    "(social_media_words_df_clean.word.map(len) != social_media_words_df_clean.word_norm.map(len)).sum()"
   ]
  },
  {
   "cell_type": "markdown",
   "metadata": {},
   "source": [
    "*Remark*: there are no diactritics and no tatweel characters in this corpus!"
   ]
  },
  {
   "cell_type": "code",
   "execution_count": 244,
   "metadata": {},
   "outputs": [
    {
     "data": {
      "text/plain": [
       "140"
      ]
     },
     "execution_count": 244,
     "metadata": {},
     "output_type": "execute_result"
    }
   ],
   "source": [
    "## orthographic letter normalization (letters written in different ways, such as alif and hamza)\n",
    "\n",
    "social_media_words_df_clean['word_norm'] = social_media_words_df_clean.word_norm.map(\n",
    "    lambda w: arabic_nlp_utils.normalize_arabic_text_2(w, norm_alif=True, norm_hamza=False, norm_yah=False, norm_tah=False))\n",
    "\n",
    "# number of normalized words\n",
    "(social_media_words_df_clean.word != social_media_words_df_clean.word_norm).sum()"
   ]
  },
  {
   "cell_type": "code",
   "execution_count": 254,
   "metadata": {},
   "outputs": [
    {
     "name": "stdout",
     "output_type": "stream",
     "text": [
      "140\n"
     ]
    },
    {
     "data": {
      "text/html": [
       "<div>\n",
       "<style scoped>\n",
       "    .dataframe tbody tr th:only-of-type {\n",
       "        vertical-align: middle;\n",
       "    }\n",
       "\n",
       "    .dataframe tbody tr th {\n",
       "        vertical-align: top;\n",
       "    }\n",
       "\n",
       "    .dataframe thead th {\n",
       "        text-align: right;\n",
       "    }\n",
       "</style>\n",
       "<table border=\"1\" class=\"dataframe\">\n",
       "  <thead>\n",
       "    <tr style=\"text-align: right;\">\n",
       "      <th></th>\n",
       "      <th>word</th>\n",
       "      <th>doc_freq</th>\n",
       "      <th>lang_label</th>\n",
       "      <th>word_norm</th>\n",
       "    </tr>\n",
       "  </thead>\n",
       "  <tbody>\n",
       "    <tr>\n",
       "      <th>91</th>\n",
       "      <td>أن</td>\n",
       "      <td>150</td>\n",
       "      <td>MSA</td>\n",
       "      <td>ان</td>\n",
       "    </tr>\n",
       "    <tr>\n",
       "      <th>103</th>\n",
       "      <td>إلي</td>\n",
       "      <td>140</td>\n",
       "      <td>MSA,TN</td>\n",
       "      <td>الي</td>\n",
       "    </tr>\n",
       "    <tr>\n",
       "      <th>130</th>\n",
       "      <td>إلى</td>\n",
       "      <td>112</td>\n",
       "      <td>MSA,TN</td>\n",
       "      <td>الى</td>\n",
       "    </tr>\n",
       "    <tr>\n",
       "      <th>143</th>\n",
       "      <td>أحسن</td>\n",
       "      <td>105</td>\n",
       "      <td>MSA</td>\n",
       "      <td>احسن</td>\n",
       "    </tr>\n",
       "    <tr>\n",
       "      <th>168</th>\n",
       "      <td>أنا</td>\n",
       "      <td>97</td>\n",
       "      <td>MSA</td>\n",
       "      <td>انا</td>\n",
       "    </tr>\n",
       "    <tr>\n",
       "      <th>190</th>\n",
       "      <td>أما</td>\n",
       "      <td>90</td>\n",
       "      <td>MSA</td>\n",
       "      <td>اما</td>\n",
       "    </tr>\n",
       "    <tr>\n",
       "      <th>218</th>\n",
       "      <td>أكثر</td>\n",
       "      <td>82</td>\n",
       "      <td>MSA</td>\n",
       "      <td>اكثر</td>\n",
       "    </tr>\n",
       "    <tr>\n",
       "      <th>232</th>\n",
       "      <td>أنت</td>\n",
       "      <td>77</td>\n",
       "      <td>MSA</td>\n",
       "      <td>انت</td>\n",
       "    </tr>\n",
       "    <tr>\n",
       "      <th>252</th>\n",
       "      <td>المرأة</td>\n",
       "      <td>72</td>\n",
       "      <td>MSA</td>\n",
       "      <td>المراة</td>\n",
       "    </tr>\n",
       "    <tr>\n",
       "      <th>269</th>\n",
       "      <td>إنسان</td>\n",
       "      <td>70</td>\n",
       "      <td>MSA</td>\n",
       "      <td>انسان</td>\n",
       "    </tr>\n",
       "  </tbody>\n",
       "</table>\n",
       "</div>"
      ],
      "text/plain": [
       "       word  doc_freq lang_label word_norm\n",
       "91       أن       150        MSA        ان\n",
       "103     إلي       140     MSA,TN       الي\n",
       "130     إلى       112     MSA,TN       الى\n",
       "143    أحسن       105        MSA      احسن\n",
       "168     أنا        97        MSA       انا\n",
       "190     أما        90        MSA       اما\n",
       "218    أكثر        82        MSA      اكثر\n",
       "232     أنت        77        MSA       انت\n",
       "252  المرأة        72        MSA    المراة\n",
       "269   إنسان        70        MSA     انسان"
      ]
     },
     "execution_count": 254,
     "metadata": {},
     "output_type": "execute_result"
    }
   ],
   "source": [
    "# number of words that were normalized\n",
    "\n",
    "idx = social_media_words_df_clean.word != social_media_words_df_clean.word_norm\n",
    "print(idx.sum())\n",
    "\n",
    "# some of of the words that were normalized\n",
    "social_media_words_df_clean[idx].head(10)"
   ]
  },
  {
   "cell_type": "code",
   "execution_count": 246,
   "metadata": {},
   "outputs": [
    {
     "data": {
      "text/plain": [
       "(3033, 3033, 2917)"
      ]
     },
     "execution_count": 246,
     "metadata": {},
     "output_type": "execute_result"
    }
   ],
   "source": [
    "# number of distinct words BEFORE and AFTER normalization\n",
    "\n",
    "social_media_words_df_clean.shape[0],social_media_words_df_clean.word.nunique(),social_media_words_df_clean.word_norm.nunique()"
   ]
  },
  {
   "cell_type": "markdown",
   "metadata": {},
   "source": [
    "#### Merge conflated words after normalization\n",
    "- word CONFLATION = when 2 or more words normalized to the same word\n",
    "- normally the conflated words should have the same language label\n",
    "- existence of multiple language labels for a single conflated word indicates manual labelling errors in the original data file\n",
    "- TO DO: fix language label errors in the social media words list"
   ]
  },
  {
   "cell_type": "code",
   "execution_count": 255,
   "metadata": {},
   "outputs": [
    {
     "data": {
      "text/plain": [
       "الا        3\n",
       "امراة      3\n",
       "انت        3\n",
       "ان         3\n",
       "انتي       3\n",
       "          ..\n",
       "احلى       2\n",
       "اجل        2\n",
       "انك        2\n",
       "الانسان    2\n",
       "ايها       2\n",
       "Name: word_norm, Length: 108, dtype: int64"
      ]
     },
     "execution_count": 255,
     "metadata": {},
     "output_type": "execute_result"
    }
   ],
   "source": [
    "# first check whether there are any conflated words\n",
    "\n",
    "u = social_media_words_df_clean.word_norm.value_counts()\n",
    "\n",
    "# number of conflated words\n",
    "(u>1).sum()\n",
    "\n",
    "# some of the conflated words\n",
    "u[u>1]"
   ]
  },
  {
   "cell_type": "code",
   "execution_count": 256,
   "metadata": {},
   "outputs": [
    {
     "data": {
      "text/html": [
       "<div>\n",
       "<style scoped>\n",
       "    .dataframe tbody tr th:only-of-type {\n",
       "        vertical-align: middle;\n",
       "    }\n",
       "\n",
       "    .dataframe tbody tr th {\n",
       "        vertical-align: top;\n",
       "    }\n",
       "\n",
       "    .dataframe thead th {\n",
       "        text-align: right;\n",
       "    }\n",
       "</style>\n",
       "<table border=\"1\" class=\"dataframe\">\n",
       "  <thead>\n",
       "    <tr style=\"text-align: right;\">\n",
       "      <th></th>\n",
       "      <th>word</th>\n",
       "      <th>doc_freq</th>\n",
       "      <th>lang_label</th>\n",
       "      <th>word_norm</th>\n",
       "    </tr>\n",
       "  </thead>\n",
       "  <tbody>\n",
       "    <tr>\n",
       "      <th>0</th>\n",
       "      <td>و</td>\n",
       "      <td>6338</td>\n",
       "      <td>MSA</td>\n",
       "      <td>و</td>\n",
       "    </tr>\n",
       "    <tr>\n",
       "      <th>1</th>\n",
       "      <td>في</td>\n",
       "      <td>3985</td>\n",
       "      <td>MSA</td>\n",
       "      <td>في</td>\n",
       "    </tr>\n",
       "    <tr>\n",
       "      <th>2</th>\n",
       "      <td>من</td>\n",
       "      <td>2621</td>\n",
       "      <td>MSA</td>\n",
       "      <td>من</td>\n",
       "    </tr>\n",
       "    <tr>\n",
       "      <th>3</th>\n",
       "      <td>يا</td>\n",
       "      <td>2213</td>\n",
       "      <td>MSA</td>\n",
       "      <td>يا</td>\n",
       "    </tr>\n",
       "    <tr>\n",
       "      <th>4</th>\n",
       "      <td>الله</td>\n",
       "      <td>1696</td>\n",
       "      <td>MSA</td>\n",
       "      <td>الله</td>\n",
       "    </tr>\n",
       "  </tbody>\n",
       "</table>\n",
       "</div>"
      ],
      "text/plain": [
       "   word  doc_freq lang_label word_norm\n",
       "0     و      6338        MSA         و\n",
       "1    في      3985        MSA        في\n",
       "2    من      2621        MSA        من\n",
       "3    يا      2213        MSA        يا\n",
       "4  الله      1696        MSA      الله"
      ]
     },
     "execution_count": 256,
     "metadata": {},
     "output_type": "execute_result"
    }
   ],
   "source": [
    "social_media_words_df_clean.head()"
   ]
  },
  {
   "cell_type": "code",
   "execution_count": 338,
   "metadata": {},
   "outputs": [
    {
     "data": {
      "text/plain": [
       "((3033, 4), (2917, 3))"
      ]
     },
     "execution_count": 338,
     "metadata": {},
     "output_type": "execute_result"
    }
   ],
   "source": [
    "social_media_words_df_clean_2 = social_media_words_df_clean.groupby(by='word_norm').agg({'word': lambda x: ','.join(x), 'doc_freq': 'sum', 'lang_label': lambda x: ','.join(x)})\n",
    "social_media_words_df_clean.shape,social_media_words_df_clean_2.shape"
   ]
  },
  {
   "cell_type": "code",
   "execution_count": 345,
   "metadata": {},
   "outputs": [],
   "source": [
    "social_media_words_df_clean_2['conflation_count'] = social_media_words_df_clean.groupby(by='word_norm')['word'].count()"
   ]
  },
  {
   "cell_type": "code",
   "execution_count": 346,
   "metadata": {},
   "outputs": [
    {
     "data": {
      "text/html": [
       "<div>\n",
       "<style scoped>\n",
       "    .dataframe tbody tr th:only-of-type {\n",
       "        vertical-align: middle;\n",
       "    }\n",
       "\n",
       "    .dataframe tbody tr th {\n",
       "        vertical-align: top;\n",
       "    }\n",
       "\n",
       "    .dataframe thead th {\n",
       "        text-align: right;\n",
       "    }\n",
       "</style>\n",
       "<table border=\"1\" class=\"dataframe\">\n",
       "  <thead>\n",
       "    <tr style=\"text-align: right;\">\n",
       "      <th></th>\n",
       "      <th>word</th>\n",
       "      <th>doc_freq</th>\n",
       "      <th>lang_label</th>\n",
       "      <th>conflation_count</th>\n",
       "    </tr>\n",
       "    <tr>\n",
       "      <th>word_norm</th>\n",
       "      <th></th>\n",
       "      <th></th>\n",
       "      <th></th>\n",
       "      <th></th>\n",
       "    </tr>\n",
       "  </thead>\n",
       "  <tbody>\n",
       "    <tr>\n",
       "      <th>اخر</th>\n",
       "      <td>اخر,آخر,أخر</td>\n",
       "      <td>65</td>\n",
       "      <td>MSA,MSA,MSA</td>\n",
       "      <td>3</td>\n",
       "    </tr>\n",
       "    <tr>\n",
       "      <th>ان</th>\n",
       "      <td>ان,أن,إن</td>\n",
       "      <td>606</td>\n",
       "      <td>MSA,MSA,MSA</td>\n",
       "      <td>3</td>\n",
       "    </tr>\n",
       "    <tr>\n",
       "      <th>انها</th>\n",
       "      <td>انها,إنها,أنها</td>\n",
       "      <td>46</td>\n",
       "      <td>MSA,MSA,MSA</td>\n",
       "      <td>3</td>\n",
       "    </tr>\n",
       "    <tr>\n",
       "      <th>الا</th>\n",
       "      <td>الا,إلا,ألا</td>\n",
       "      <td>222</td>\n",
       "      <td>MSA,MSA,MSA</td>\n",
       "      <td>3</td>\n",
       "    </tr>\n",
       "    <tr>\n",
       "      <th>انتي</th>\n",
       "      <td>انتي,إنتي,أنتي</td>\n",
       "      <td>102</td>\n",
       "      <td>TN,TN,TN</td>\n",
       "      <td>3</td>\n",
       "    </tr>\n",
       "    <tr>\n",
       "      <th>انت</th>\n",
       "      <td>انت,أنت,إنت</td>\n",
       "      <td>624</td>\n",
       "      <td>MSA,MSA,TN</td>\n",
       "      <td>3</td>\n",
       "    </tr>\n",
       "    <tr>\n",
       "      <th>اش</th>\n",
       "      <td>اش,آش,أش</td>\n",
       "      <td>134</td>\n",
       "      <td>TN,TN,TN</td>\n",
       "      <td>3</td>\n",
       "    </tr>\n",
       "    <tr>\n",
       "      <th>امراة</th>\n",
       "      <td>امرأة,امراة,إمرأة</td>\n",
       "      <td>67</td>\n",
       "      <td>MSA,MSA,MSA</td>\n",
       "      <td>3</td>\n",
       "    </tr>\n",
       "    <tr>\n",
       "      <th>امك</th>\n",
       "      <td>امك,أمك</td>\n",
       "      <td>49</td>\n",
       "      <td>MSA,MSA</td>\n",
       "      <td>2</td>\n",
       "    </tr>\n",
       "    <tr>\n",
       "      <th>اقل</th>\n",
       "      <td>اقل,أقل</td>\n",
       "      <td>27</td>\n",
       "      <td>MSA,MSA</td>\n",
       "      <td>2</td>\n",
       "    </tr>\n",
       "  </tbody>\n",
       "</table>\n",
       "</div>"
      ],
      "text/plain": [
       "                        word  doc_freq   lang_label  conflation_count\n",
       "word_norm                                                            \n",
       "اخر              اخر,آخر,أخر        65  MSA,MSA,MSA                 3\n",
       "ان                  ان,أن,إن       606  MSA,MSA,MSA                 3\n",
       "انها          انها,إنها,أنها        46  MSA,MSA,MSA                 3\n",
       "الا              الا,إلا,ألا       222  MSA,MSA,MSA                 3\n",
       "انتي          انتي,إنتي,أنتي       102     TN,TN,TN                 3\n",
       "انت              انت,أنت,إنت       624   MSA,MSA,TN                 3\n",
       "اش                  اش,آش,أش       134     TN,TN,TN                 3\n",
       "امراة      امرأة,امراة,إمرأة        67  MSA,MSA,MSA                 3\n",
       "امك                  امك,أمك        49      MSA,MSA                 2\n",
       "اقل                  اقل,أقل        27      MSA,MSA                 2"
      ]
     },
     "execution_count": 346,
     "metadata": {},
     "output_type": "execute_result"
    }
   ],
   "source": [
    "social_media_words_df_clean_2.sort_values(by='conflation_count',ascending=False).head(10)"
   ]
  },
  {
   "cell_type": "code",
   "execution_count": 349,
   "metadata": {},
   "outputs": [],
   "source": [
    "social_media_words_df_clean_2['lang_label'] = social_media_words_df_clean_2.lang_label.map(lambda x: 'MSA' if x.find(\"MSA\")!=-1 else \"TN\")"
   ]
  },
  {
   "cell_type": "code",
   "execution_count": 350,
   "metadata": {},
   "outputs": [
    {
     "data": {
      "text/html": [
       "<div>\n",
       "<style scoped>\n",
       "    .dataframe tbody tr th:only-of-type {\n",
       "        vertical-align: middle;\n",
       "    }\n",
       "\n",
       "    .dataframe tbody tr th {\n",
       "        vertical-align: top;\n",
       "    }\n",
       "\n",
       "    .dataframe thead th {\n",
       "        text-align: right;\n",
       "    }\n",
       "</style>\n",
       "<table border=\"1\" class=\"dataframe\">\n",
       "  <thead>\n",
       "    <tr style=\"text-align: right;\">\n",
       "      <th></th>\n",
       "      <th>word</th>\n",
       "      <th>doc_freq</th>\n",
       "      <th>lang_label</th>\n",
       "      <th>conflation_count</th>\n",
       "    </tr>\n",
       "    <tr>\n",
       "      <th>word_norm</th>\n",
       "      <th></th>\n",
       "      <th></th>\n",
       "      <th></th>\n",
       "      <th></th>\n",
       "    </tr>\n",
       "  </thead>\n",
       "  <tbody>\n",
       "    <tr>\n",
       "      <th>اخر</th>\n",
       "      <td>اخر,آخر,أخر</td>\n",
       "      <td>65</td>\n",
       "      <td>MSA</td>\n",
       "      <td>3</td>\n",
       "    </tr>\n",
       "    <tr>\n",
       "      <th>ان</th>\n",
       "      <td>ان,أن,إن</td>\n",
       "      <td>606</td>\n",
       "      <td>MSA</td>\n",
       "      <td>3</td>\n",
       "    </tr>\n",
       "    <tr>\n",
       "      <th>انها</th>\n",
       "      <td>انها,إنها,أنها</td>\n",
       "      <td>46</td>\n",
       "      <td>MSA</td>\n",
       "      <td>3</td>\n",
       "    </tr>\n",
       "    <tr>\n",
       "      <th>الا</th>\n",
       "      <td>الا,إلا,ألا</td>\n",
       "      <td>222</td>\n",
       "      <td>MSA</td>\n",
       "      <td>3</td>\n",
       "    </tr>\n",
       "    <tr>\n",
       "      <th>انتي</th>\n",
       "      <td>انتي,إنتي,أنتي</td>\n",
       "      <td>102</td>\n",
       "      <td>TN</td>\n",
       "      <td>3</td>\n",
       "    </tr>\n",
       "    <tr>\n",
       "      <th>انت</th>\n",
       "      <td>انت,أنت,إنت</td>\n",
       "      <td>624</td>\n",
       "      <td>MSA</td>\n",
       "      <td>3</td>\n",
       "    </tr>\n",
       "    <tr>\n",
       "      <th>اش</th>\n",
       "      <td>اش,آش,أش</td>\n",
       "      <td>134</td>\n",
       "      <td>TN</td>\n",
       "      <td>3</td>\n",
       "    </tr>\n",
       "    <tr>\n",
       "      <th>امراة</th>\n",
       "      <td>امرأة,امراة,إمرأة</td>\n",
       "      <td>67</td>\n",
       "      <td>MSA</td>\n",
       "      <td>3</td>\n",
       "    </tr>\n",
       "    <tr>\n",
       "      <th>امك</th>\n",
       "      <td>امك,أمك</td>\n",
       "      <td>49</td>\n",
       "      <td>MSA</td>\n",
       "      <td>2</td>\n",
       "    </tr>\n",
       "    <tr>\n",
       "      <th>اقل</th>\n",
       "      <td>اقل,أقل</td>\n",
       "      <td>27</td>\n",
       "      <td>MSA</td>\n",
       "      <td>2</td>\n",
       "    </tr>\n",
       "  </tbody>\n",
       "</table>\n",
       "</div>"
      ],
      "text/plain": [
       "                        word  doc_freq lang_label  conflation_count\n",
       "word_norm                                                          \n",
       "اخر              اخر,آخر,أخر        65        MSA                 3\n",
       "ان                  ان,أن,إن       606        MSA                 3\n",
       "انها          انها,إنها,أنها        46        MSA                 3\n",
       "الا              الا,إلا,ألا       222        MSA                 3\n",
       "انتي          انتي,إنتي,أنتي       102         TN                 3\n",
       "انت              انت,أنت,إنت       624        MSA                 3\n",
       "اش                  اش,آش,أش       134         TN                 3\n",
       "امراة      امرأة,امراة,إمرأة        67        MSA                 3\n",
       "امك                  امك,أمك        49        MSA                 2\n",
       "اقل                  اقل,أقل        27        MSA                 2"
      ]
     },
     "execution_count": 350,
     "metadata": {},
     "output_type": "execute_result"
    }
   ],
   "source": [
    "social_media_words_df_clean_2.sort_values(by='conflation_count',ascending=False).head(10)"
   ]
  },
  {
   "cell_type": "code",
   "execution_count": 351,
   "metadata": {},
   "outputs": [
    {
     "data": {
      "text/plain": [
       "MSA    2130\n",
       "TN      787\n",
       "Name: lang_label, dtype: int64"
      ]
     },
     "execution_count": 351,
     "metadata": {},
     "output_type": "execute_result"
    }
   ],
   "source": [
    "social_media_words_df_clean_2.lang_label.value_counts()"
   ]
  },
  {
   "cell_type": "code",
   "execution_count": 352,
   "metadata": {},
   "outputs": [
    {
     "data": {
      "text/html": [
       "<div>\n",
       "<style scoped>\n",
       "    .dataframe tbody tr th:only-of-type {\n",
       "        vertical-align: middle;\n",
       "    }\n",
       "\n",
       "    .dataframe tbody tr th {\n",
       "        vertical-align: top;\n",
       "    }\n",
       "\n",
       "    .dataframe thead th {\n",
       "        text-align: right;\n",
       "    }\n",
       "</style>\n",
       "<table border=\"1\" class=\"dataframe\">\n",
       "  <thead>\n",
       "    <tr style=\"text-align: right;\">\n",
       "      <th></th>\n",
       "      <th>word_norm</th>\n",
       "      <th>word</th>\n",
       "      <th>doc_freq</th>\n",
       "      <th>lang_label</th>\n",
       "      <th>conflation_count</th>\n",
       "    </tr>\n",
       "  </thead>\n",
       "  <tbody>\n",
       "    <tr>\n",
       "      <th>0</th>\n",
       "      <td>اب</td>\n",
       "      <td>اب</td>\n",
       "      <td>23</td>\n",
       "      <td>MSA</td>\n",
       "      <td>1</td>\n",
       "    </tr>\n",
       "    <tr>\n",
       "      <th>1</th>\n",
       "      <td>ابداع</td>\n",
       "      <td>ابداع</td>\n",
       "      <td>9</td>\n",
       "      <td>MSA</td>\n",
       "      <td>1</td>\n",
       "    </tr>\n",
       "    <tr>\n",
       "      <th>2</th>\n",
       "      <td>ابن</td>\n",
       "      <td>ابن</td>\n",
       "      <td>28</td>\n",
       "      <td>MSA</td>\n",
       "      <td>1</td>\n",
       "    </tr>\n",
       "    <tr>\n",
       "      <th>3</th>\n",
       "      <td>ابوها</td>\n",
       "      <td>ابوها</td>\n",
       "      <td>6</td>\n",
       "      <td>MSA</td>\n",
       "      <td>1</td>\n",
       "    </tr>\n",
       "    <tr>\n",
       "      <th>4</th>\n",
       "      <td>اتصالات</td>\n",
       "      <td>اتصالات</td>\n",
       "      <td>7</td>\n",
       "      <td>MSA</td>\n",
       "      <td>1</td>\n",
       "    </tr>\n",
       "  </tbody>\n",
       "</table>\n",
       "</div>"
      ],
      "text/plain": [
       "  word_norm     word  doc_freq lang_label  conflation_count\n",
       "0        اب       اب        23        MSA                 1\n",
       "1     ابداع    ابداع         9        MSA                 1\n",
       "2       ابن      ابن        28        MSA                 1\n",
       "3     ابوها    ابوها         6        MSA                 1\n",
       "4   اتصالات  اتصالات         7        MSA                 1"
      ]
     },
     "execution_count": 352,
     "metadata": {},
     "output_type": "execute_result"
    }
   ],
   "source": [
    "social_media_words_df_clean_2 = social_media_words_df_clean_2.reset_index()\n",
    "social_media_words_df_clean_2.head()"
   ]
  },
  {
   "cell_type": "code",
   "execution_count": 353,
   "metadata": {},
   "outputs": [
    {
     "data": {
      "text/plain": [
       "(2917, 5)"
      ]
     },
     "execution_count": 353,
     "metadata": {},
     "output_type": "execute_result"
    }
   ],
   "source": [
    "social_media_words_df_clean_2.shape"
   ]
  },
  {
   "cell_type": "markdown",
   "metadata": {},
   "source": [
    "### Remove elongated words\n",
    "Words that contain at least 3 adjacent repeated characters. This is informal spelling typically used in online social media text. We will just remove because it is difficult to correct/normalize."
   ]
  },
  {
   "cell_type": "code",
   "execution_count": 354,
   "metadata": {},
   "outputs": [
    {
     "name": "stdout",
     "output_type": "stream",
     "text": [
      "0\n",
      "[]\n"
     ]
    }
   ],
   "source": [
    "# Find words that contain at least 3 adjacent repeated characters\n",
    "\n",
    "idx = social_media_words_df_clean_2.word_norm.map(lambda w: len(generic_nlp_utils.three_plus_letters_RE.findall(w))>0)\n",
    "print(idx.sum())\n",
    "print(social_media_words_df_clean_2.word_norm[idx].tolist())"
   ]
  },
  {
   "cell_type": "markdown",
   "metadata": {},
   "source": [
    "### Remove one-letter words"
   ]
  },
  {
   "cell_type": "code",
   "execution_count": 355,
   "metadata": {},
   "outputs": [
    {
     "data": {
      "text/plain": [
       "count    2917.000000\n",
       "mean        4.531368\n",
       "std         1.310815\n",
       "min         1.000000\n",
       "25%         4.000000\n",
       "50%         4.000000\n",
       "75%         5.000000\n",
       "max        10.000000\n",
       "Name: word_norm_len, dtype: float64"
      ]
     },
     "execution_count": 355,
     "metadata": {},
     "output_type": "execute_result"
    }
   ],
   "source": [
    "social_media_words_df_clean_2['word_norm_len'] = social_media_words_df_clean_2.word_norm.map(len)\n",
    "social_media_words_df_clean_2['word_norm_len'].describe()"
   ]
  },
  {
   "cell_type": "code",
   "execution_count": 356,
   "metadata": {},
   "outputs": [
    {
     "data": {
      "text/plain": [
       "<matplotlib.axes._subplots.AxesSubplot at 0x17bcc846dd8>"
      ]
     },
     "execution_count": 356,
     "metadata": {},
     "output_type": "execute_result"
    },
    {
     "data": {
      "image/png": "[encoded data removed]",
      "text/plain": [
       "<matplotlib.figure.Figure at 0x17bcc846ac8>"
      ]
     },
     "metadata": {},
     "output_type": "display_data"
    }
   ],
   "source": [
    "social_media_words_df_clean_2['word_norm_len'].plot.box()"
   ]
  },
  {
   "cell_type": "code",
   "execution_count": 357,
   "metadata": {},
   "outputs": [
    {
     "data": {
      "text/plain": [
       "1"
      ]
     },
     "execution_count": 357,
     "metadata": {},
     "output_type": "execute_result"
    }
   ],
   "source": [
    "(social_media_words_df_clean_2.word_norm.map(len)==1).sum()"
   ]
  },
  {
   "cell_type": "code",
   "execution_count": 358,
   "metadata": {},
   "outputs": [
    {
     "data": {
      "text/html": [
       "<div>\n",
       "<style scoped>\n",
       "    .dataframe tbody tr th:only-of-type {\n",
       "        vertical-align: middle;\n",
       "    }\n",
       "\n",
       "    .dataframe tbody tr th {\n",
       "        vertical-align: top;\n",
       "    }\n",
       "\n",
       "    .dataframe thead th {\n",
       "        text-align: right;\n",
       "    }\n",
       "</style>\n",
       "<table border=\"1\" class=\"dataframe\">\n",
       "  <thead>\n",
       "    <tr style=\"text-align: right;\">\n",
       "      <th></th>\n",
       "      <th>word_norm</th>\n",
       "      <th>word</th>\n",
       "      <th>doc_freq</th>\n",
       "      <th>lang_label</th>\n",
       "      <th>conflation_count</th>\n",
       "      <th>word_norm_len</th>\n",
       "    </tr>\n",
       "  </thead>\n",
       "  <tbody>\n",
       "    <tr>\n",
       "      <th>2546</th>\n",
       "      <td>و</td>\n",
       "      <td>و</td>\n",
       "      <td>6338</td>\n",
       "      <td>MSA</td>\n",
       "      <td>1</td>\n",
       "      <td>1</td>\n",
       "    </tr>\n",
       "  </tbody>\n",
       "</table>\n",
       "</div>"
      ],
      "text/plain": [
       "     word_norm word  doc_freq lang_label  conflation_count  word_norm_len\n",
       "2546         و    و      6338        MSA                 1              1"
      ]
     },
     "execution_count": 358,
     "metadata": {},
     "output_type": "execute_result"
    }
   ],
   "source": [
    "social_media_words_df_clean_2[social_media_words_df_clean_2.word_norm.map(len)==1]"
   ]
  },
  {
   "cell_type": "code",
   "execution_count": 359,
   "metadata": {},
   "outputs": [
    {
     "data": {
      "text/plain": [
       "((2917, 6), (2916, 6))"
      ]
     },
     "execution_count": 359,
     "metadata": {},
     "output_type": "execute_result"
    }
   ],
   "source": [
    "social_media_words_df_clean_3 = social_media_words_df_clean_2[social_media_words_df_clean_2.word_norm_len>1]\n",
    "social_media_words_df_clean_2.shape,social_media_words_df_clean_3.shape"
   ]
  },
  {
   "cell_type": "code",
   "execution_count": 360,
   "metadata": {},
   "outputs": [
    {
     "data": {
      "text/html": [
       "<div>\n",
       "<style scoped>\n",
       "    .dataframe tbody tr th:only-of-type {\n",
       "        vertical-align: middle;\n",
       "    }\n",
       "\n",
       "    .dataframe tbody tr th {\n",
       "        vertical-align: top;\n",
       "    }\n",
       "\n",
       "    .dataframe thead th {\n",
       "        text-align: right;\n",
       "    }\n",
       "</style>\n",
       "<table border=\"1\" class=\"dataframe\">\n",
       "  <thead>\n",
       "    <tr style=\"text-align: right;\">\n",
       "      <th></th>\n",
       "      <th>word_norm</th>\n",
       "      <th>word</th>\n",
       "      <th>doc_freq</th>\n",
       "      <th>lang_label</th>\n",
       "      <th>conflation_count</th>\n",
       "      <th>word_norm_len</th>\n",
       "    </tr>\n",
       "  </thead>\n",
       "  <tbody>\n",
       "    <tr>\n",
       "      <th>0</th>\n",
       "      <td>اب</td>\n",
       "      <td>اب</td>\n",
       "      <td>23</td>\n",
       "      <td>MSA</td>\n",
       "      <td>1</td>\n",
       "      <td>2</td>\n",
       "    </tr>\n",
       "    <tr>\n",
       "      <th>1</th>\n",
       "      <td>ابداع</td>\n",
       "      <td>ابداع</td>\n",
       "      <td>9</td>\n",
       "      <td>MSA</td>\n",
       "      <td>1</td>\n",
       "      <td>5</td>\n",
       "    </tr>\n",
       "    <tr>\n",
       "      <th>2</th>\n",
       "      <td>ابن</td>\n",
       "      <td>ابن</td>\n",
       "      <td>28</td>\n",
       "      <td>MSA</td>\n",
       "      <td>1</td>\n",
       "      <td>3</td>\n",
       "    </tr>\n",
       "    <tr>\n",
       "      <th>3</th>\n",
       "      <td>ابوها</td>\n",
       "      <td>ابوها</td>\n",
       "      <td>6</td>\n",
       "      <td>MSA</td>\n",
       "      <td>1</td>\n",
       "      <td>5</td>\n",
       "    </tr>\n",
       "    <tr>\n",
       "      <th>4</th>\n",
       "      <td>اتصالات</td>\n",
       "      <td>اتصالات</td>\n",
       "      <td>7</td>\n",
       "      <td>MSA</td>\n",
       "      <td>1</td>\n",
       "      <td>7</td>\n",
       "    </tr>\n",
       "  </tbody>\n",
       "</table>\n",
       "</div>"
      ],
      "text/plain": [
       "  word_norm     word  doc_freq lang_label  conflation_count  word_norm_len\n",
       "0        اب       اب        23        MSA                 1              2\n",
       "1     ابداع    ابداع         9        MSA                 1              5\n",
       "2       ابن      ابن        28        MSA                 1              3\n",
       "3     ابوها    ابوها         6        MSA                 1              5\n",
       "4   اتصالات  اتصالات         7        MSA                 1              7"
      ]
     },
     "execution_count": 360,
     "metadata": {},
     "output_type": "execute_result"
    }
   ],
   "source": [
    "social_media_words_df_clean_3.head()"
   ]
  },
  {
   "cell_type": "code",
   "execution_count": 362,
   "metadata": {},
   "outputs": [
    {
     "data": {
      "text/plain": [
       "MSA    2129\n",
       "TN      787\n",
       "Name: lang_label, dtype: int64"
      ]
     },
     "execution_count": 362,
     "metadata": {},
     "output_type": "execute_result"
    }
   ],
   "source": [
    "social_media_words_df_clean_3.lang_label.value_counts()"
   ]
  },
  {
   "cell_type": "code",
   "execution_count": 368,
   "metadata": {},
   "outputs": [],
   "source": [
    "#?social_media_words_df_clean_3.to_csv"
   ]
  },
  {
   "cell_type": "code",
   "execution_count": 370,
   "metadata": {},
   "outputs": [],
   "source": [
    "assert(social_media_words_df_clean_3.word_norm.nunique() == social_media_words_df_clean_3.shape[0])"
   ]
  },
  {
   "cell_type": "code",
   "execution_count": 369,
   "metadata": {},
   "outputs": [],
   "source": [
    "filename = '../../generated_data/TUN_Social_Media_words.csv'\n",
    "assert(social_media_words_df_clean_3.word_norm.nunique() == social_media_words_df_clean_3.shape[0])\n",
    "social_media_words_df_clean_3[['word_norm','lang_label']].to_csv(filename, encoding='utf8', header=False, index=False)"
   ]
  },
  {
   "cell_type": "code",
   "execution_count": null,
   "metadata": {},
   "outputs": [],
   "source": []
  }
 ],
 "metadata": {
  "kernelspec": {
   "display_name": "Python 3",
   "language": "python",
   "name": "python3"
  },
  "language_info": {
   "codemirror_mode": {
    "name": "ipython",
    "version": 3
   },
   "file_extension": ".py",
   "mimetype": "text/x-python",
   "name": "python",
   "nbconvert_exporter": "python",
   "pygments_lexer": "ipython3",
   "version": "3.6.4"
  }
 },
 "nbformat": 4,
 "nbformat_minor": 2
}
