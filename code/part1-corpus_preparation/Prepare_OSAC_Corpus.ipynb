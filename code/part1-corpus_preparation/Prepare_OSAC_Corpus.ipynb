{
 "cells": [
  {
   "cell_type": "markdown",
   "metadata": {},
   "source": [
    "## Plan\n",
    "\n",
    "1. read words from data file.\n",
    "2. preprocess and clean words.\n",
    "\n",
    "See `Part2_readme.md` for information about this data."
   ]
  },
  {
   "cell_type": "code",
   "execution_count": 3,
   "metadata": {},
   "outputs": [],
   "source": [
    "import pandas as pd\n",
    "import numpy as np\n",
    "import matplotlib.pyplot as plt\n",
    "import seaborn as sns"
   ]
  },
  {
   "cell_type": "code",
   "execution_count": 4,
   "metadata": {},
   "outputs": [],
   "source": [
    "# set the font size of plots\n",
    "plt.rcParams['font.size'] = 14\n",
    "\n",
    "np.set_printoptions(precision=3)"
   ]
  },
  {
   "cell_type": "code",
   "execution_count": 5,
   "metadata": {},
   "outputs": [],
   "source": [
    "from nltk import FreqDist\n",
    "import re"
   ]
  },
  {
   "cell_type": "code",
   "execution_count": 6,
   "metadata": {},
   "outputs": [],
   "source": [
    "# Add higher directory to python modules path.\n",
    "\n",
    "import sys\n",
    "sys.path.append(\"..\")"
   ]
  },
  {
   "cell_type": "code",
   "execution_count": 7,
   "metadata": {},
   "outputs": [],
   "source": [
    "from utilities import arabic_nlp_utils, generic_nlp_utils"
   ]
  },
  {
   "cell_type": "markdown",
   "metadata": {},
   "source": [
    "## Load Data"
   ]
  },
  {
   "cell_type": "code",
   "execution_count": 8,
   "metadata": {},
   "outputs": [
    {
     "data": {
      "text/plain": [
       "(432061, 2)"
      ]
     },
     "execution_count": 8,
     "metadata": {},
     "output_type": "execute_result"
    }
   ],
   "source": [
    "words_corpus_df = pd.read_csv('../../raw_data/OSAc-wordlist-frequency.csv')\n",
    "words_corpus_df.shape"
   ]
  },
  {
   "cell_type": "code",
   "execution_count": 340,
   "metadata": {},
   "outputs": [
    {
     "data": {
      "text/plain": [
       "Index(['الكلمة', 'التكرار'], dtype='object')"
      ]
     },
     "execution_count": 340,
     "metadata": {},
     "output_type": "execute_result"
    }
   ],
   "source": [
    "words_corpus_df.columns"
   ]
  },
  {
   "cell_type": "code",
   "execution_count": 341,
   "metadata": {},
   "outputs": [],
   "source": [
    "words_corpus_df.columns = ['word','frequency']"
   ]
  },
  {
   "cell_type": "code",
   "execution_count": 342,
   "metadata": {},
   "outputs": [
    {
     "data": {
      "text/html": [
       "<div>\n",
       "<style scoped>\n",
       "    .dataframe tbody tr th:only-of-type {\n",
       "        vertical-align: middle;\n",
       "    }\n",
       "\n",
       "    .dataframe tbody tr th {\n",
       "        vertical-align: top;\n",
       "    }\n",
       "\n",
       "    .dataframe thead th {\n",
       "        text-align: right;\n",
       "    }\n",
       "</style>\n",
       "<table border=\"1\" class=\"dataframe\">\n",
       "  <thead>\n",
       "    <tr style=\"text-align: right;\">\n",
       "      <th></th>\n",
       "      <th>word</th>\n",
       "      <th>frequency</th>\n",
       "    </tr>\n",
       "  </thead>\n",
       "  <tbody>\n",
       "    <tr>\n",
       "      <th>0</th>\n",
       "      <td>في</td>\n",
       "      <td>455629</td>\n",
       "    </tr>\n",
       "    <tr>\n",
       "      <th>1</th>\n",
       "      <td>من</td>\n",
       "      <td>413515</td>\n",
       "    </tr>\n",
       "    <tr>\n",
       "      <th>2</th>\n",
       "      <td>على</td>\n",
       "      <td>212554</td>\n",
       "    </tr>\n",
       "    <tr>\n",
       "      <th>3</th>\n",
       "      <td>أن</td>\n",
       "      <td>166261</td>\n",
       "    </tr>\n",
       "    <tr>\n",
       "      <th>4</th>\n",
       "      <td>إلى</td>\n",
       "      <td>121932</td>\n",
       "    </tr>\n",
       "  </tbody>\n",
       "</table>\n",
       "</div>"
      ],
      "text/plain": [
       "  word  frequency\n",
       "0   في     455629\n",
       "1   من     413515\n",
       "2  على     212554\n",
       "3   أن     166261\n",
       "4  إلى     121932"
      ]
     },
     "execution_count": 342,
     "metadata": {},
     "output_type": "execute_result"
    }
   ],
   "source": [
    "words_corpus_df.head()"
   ]
  },
  {
   "cell_type": "code",
   "execution_count": 343,
   "metadata": {},
   "outputs": [
    {
     "data": {
      "text/html": [
       "<div>\n",
       "<style scoped>\n",
       "    .dataframe tbody tr th:only-of-type {\n",
       "        vertical-align: middle;\n",
       "    }\n",
       "\n",
       "    .dataframe tbody tr th {\n",
       "        vertical-align: top;\n",
       "    }\n",
       "\n",
       "    .dataframe thead th {\n",
       "        text-align: right;\n",
       "    }\n",
       "</style>\n",
       "<table border=\"1\" class=\"dataframe\">\n",
       "  <thead>\n",
       "    <tr style=\"text-align: right;\">\n",
       "      <th></th>\n",
       "      <th>word</th>\n",
       "      <th>frequency</th>\n",
       "    </tr>\n",
       "  </thead>\n",
       "  <tbody>\n",
       "    <tr>\n",
       "      <th>432056</th>\n",
       "      <td>?جعل</td>\n",
       "      <td>1</td>\n",
       "    </tr>\n",
       "    <tr>\n",
       "      <th>432057</th>\n",
       "      <td>?ختاروا</td>\n",
       "      <td>1</td>\n",
       "    </tr>\n",
       "    <tr>\n",
       "      <th>432058</th>\n",
       "      <td>?سعون</td>\n",
       "      <td>1</td>\n",
       "    </tr>\n",
       "    <tr>\n",
       "      <th>432059</th>\n",
       "      <td>?عتقدون</td>\n",
       "      <td>1</td>\n",
       "    </tr>\n",
       "    <tr>\n",
       "      <th>432060</th>\n",
       "      <td>?کون</td>\n",
       "      <td>1</td>\n",
       "    </tr>\n",
       "  </tbody>\n",
       "</table>\n",
       "</div>"
      ],
      "text/plain": [
       "           word  frequency\n",
       "432056     ?جعل          1\n",
       "432057  ?ختاروا          1\n",
       "432058    ?سعون          1\n",
       "432059  ?عتقدون          1\n",
       "432060     ?کون          1"
      ]
     },
     "execution_count": 343,
     "metadata": {},
     "output_type": "execute_result"
    }
   ],
   "source": [
    "words_corpus_df.tail()"
   ]
  },
  {
   "cell_type": "code",
   "execution_count": 431,
   "metadata": {},
   "outputs": [
    {
     "data": {
      "text/html": [
       "<div>\n",
       "<style scoped>\n",
       "    .dataframe tbody tr th:only-of-type {\n",
       "        vertical-align: middle;\n",
       "    }\n",
       "\n",
       "    .dataframe tbody tr th {\n",
       "        vertical-align: top;\n",
       "    }\n",
       "\n",
       "    .dataframe thead th {\n",
       "        text-align: right;\n",
       "    }\n",
       "</style>\n",
       "<table border=\"1\" class=\"dataframe\">\n",
       "  <thead>\n",
       "    <tr style=\"text-align: right;\">\n",
       "      <th></th>\n",
       "      <th>word</th>\n",
       "      <th>frequency</th>\n",
       "    </tr>\n",
       "  </thead>\n",
       "  <tbody>\n",
       "    <tr>\n",
       "      <th>2695</th>\n",
       "      <td>وه</td>\n",
       "      <td>862</td>\n",
       "    </tr>\n",
       "    <tr>\n",
       "      <th>5034</th>\n",
       "      <td>بابا</td>\n",
       "      <td>420</td>\n",
       "    </tr>\n",
       "    <tr>\n",
       "      <th>5816</th>\n",
       "      <td>ياسر</td>\n",
       "      <td>350</td>\n",
       "    </tr>\n",
       "    <tr>\n",
       "      <th>13070</th>\n",
       "      <td>وش</td>\n",
       "      <td>133</td>\n",
       "    </tr>\n",
       "    <tr>\n",
       "      <th>20228</th>\n",
       "      <td>ايه</td>\n",
       "      <td>77</td>\n",
       "    </tr>\n",
       "    <tr>\n",
       "      <th>40209</th>\n",
       "      <td>وياسر</td>\n",
       "      <td>31</td>\n",
       "    </tr>\n",
       "  </tbody>\n",
       "</table>\n",
       "</div>"
      ],
      "text/plain": [
       "        word  frequency\n",
       "2695      وه        862\n",
       "5034    بابا        420\n",
       "5816    ياسر        350\n",
       "13070     وش        133\n",
       "20228    ايه         77\n",
       "40209  وياسر         31"
      ]
     },
     "execution_count": 431,
     "metadata": {},
     "output_type": "execute_result"
    }
   ],
   "source": [
    "L = ['ياريت','يزي','يطيح','باش','بالقوي','بابا','ايه','وش','انتي','وهوما','يجي','وه','يكونو','انو','ايا','ياسي','ياسر','وياسر','ولات']\n",
    "L = ['الحبس','ياريت','يزي','يطيح','باش','بالقوي','بابا','ايه','وش'\n",
    "     ,'انتي','وهوما','يجي','وه','يكونو','انو','ايا','ياسي','ياسر','وياسر','ولات','الحجامة', 'الخمج','الجاية', 'اكا']\n",
    "idx = words_corpus_df.word.isin(L)\n",
    "words_corpus_df[idx]"
   ]
  },
  {
   "cell_type": "markdown",
   "metadata": {},
   "source": [
    "### Quick adhoc corpus cleanup\n",
    "- remove infrequent words (occur in less than 30 words of the corpus)\n",
    "- Remove words that start with 'ء'\n",
    "- remove duplicate words (if any)"
   ]
  },
  {
   "cell_type": "code",
   "execution_count": 344,
   "metadata": {},
   "outputs": [
    {
     "data": {
      "text/plain": [
       "(41200, 2)"
      ]
     },
     "execution_count": 344,
     "metadata": {},
     "output_type": "execute_result"
    }
   ],
   "source": [
    "words_corpus_df = words_corpus_df[words_corpus_df.frequency>=30]\n",
    "words_corpus_df.shape"
   ]
  },
  {
   "cell_type": "code",
   "execution_count": 345,
   "metadata": {},
   "outputs": [
    {
     "name": "stdout",
     "output_type": "stream",
     "text": [
      "0\n",
      "[]\n"
     ]
    },
    {
     "data": {
      "text/plain": [
       "(41200, 2)"
      ]
     },
     "execution_count": 345,
     "metadata": {},
     "output_type": "execute_result"
    }
   ],
   "source": [
    "## Remove words that start with 'ء'\n",
    "\n",
    "idx = words_corpus_df.word.str.startswith('ء')\n",
    "print(idx.sum())\n",
    "print(words_corpus_df.loc[idx,'word'].tolist())\n",
    "words_corpus_df = words_corpus_df[~idx]\n",
    "words_corpus_df.shape"
   ]
  },
  {
   "cell_type": "code",
   "execution_count": 346,
   "metadata": {},
   "outputs": [],
   "source": [
    "# Remove duplicate words\n",
    "\n",
    "if words_corpus_df.word.nunique()!=words_corpus_df.shape[0]:\n",
    "    words_corpus_df = words_corpus_df.groupby('word').agg(sum).reset_index()"
   ]
  },
  {
   "cell_type": "code",
   "execution_count": 347,
   "metadata": {},
   "outputs": [
    {
     "data": {
      "text/plain": [
       "(41200, 2)"
      ]
     },
     "execution_count": 347,
     "metadata": {},
     "output_type": "execute_result"
    }
   ],
   "source": [
    "words_corpus_df.shape"
   ]
  },
  {
   "cell_type": "markdown",
   "metadata": {},
   "source": [
    "****"
   ]
  },
  {
   "cell_type": "markdown",
   "metadata": {},
   "source": [
    "## Explore Corpus Character Set\n",
    "\n",
    "- This analysis can be performed either using `nltk.FreqDist` or ..."
   ]
  },
  {
   "cell_type": "code",
   "execution_count": 348,
   "metadata": {},
   "outputs": [
    {
     "name": "stdout",
     "output_type": "stream",
     "text": [
      "<class 'str'> 231204\n"
     ]
    }
   ],
   "source": [
    "corpus_as_char_list = \"\".join(words_corpus_df.word.tolist())\n",
    "print(type(corpus_as_char_list),len(corpus_as_char_list))"
   ]
  },
  {
   "cell_type": "code",
   "execution_count": 349,
   "metadata": {},
   "outputs": [],
   "source": [
    "fdist1 = FreqDist([c for c in corpus_as_char_list])"
   ]
  },
  {
   "cell_type": "code",
   "execution_count": 350,
   "metadata": {},
   "outputs": [
    {
     "name": "stdout",
     "output_type": "stream",
     "text": [
      "number of characters:231204\n",
      "number of unique characters:40\n"
     ]
    }
   ],
   "source": [
    "print(\"number of characters:\" + str(fdist1.N()))\n",
    "print(\"number of unique characters:\" + str(fdist1.B()))"
   ]
  },
  {
   "cell_type": "code",
   "execution_count": 351,
   "metadata": {},
   "outputs": [
    {
     "name": "stdout",
     "output_type": "stream",
     "text": [
      "List of distinct characters:\n",
      "['?', 'C', 'N', 'ء', 'آ', 'أ', 'ؤ', 'إ', 'ئ', 'ا', 'ب', 'ة', 'ت', 'ث', 'ج', 'ح', 'خ', 'د', 'ذ', 'ر', 'ز', 'س', 'ش', 'ص', 'ض', 'ط', 'ظ', 'ع', 'غ', 'ـ', 'ف', 'ق', 'ك', 'ل', 'م', 'ن', 'ه', 'و', 'ى', 'ي']\n"
     ]
    }
   ],
   "source": [
    "print('List of distinct characters:')\n",
    "print(sorted(list(fdist1.keys())))"
   ]
  },
  {
   "cell_type": "code",
   "execution_count": 352,
   "metadata": {},
   "outputs": [
    {
     "name": "stdout",
     "output_type": "stream",
     "text": [
      "The most common characters:\n"
     ]
    },
    {
     "data": {
      "text/plain": [
       "[('ا', 35819), ('ل', 24836), ('ي', 15534), ('و', 14355), ('ت', 13169)]"
      ]
     },
     "execution_count": 352,
     "metadata": {},
     "output_type": "execute_result"
    }
   ],
   "source": [
    "print('The most common characters:')\n",
    "fdist1.most_common(5)"
   ]
  },
  {
   "cell_type": "code",
   "execution_count": 353,
   "metadata": {},
   "outputs": [],
   "source": [
    "# ?fdist1.plot"
   ]
  },
  {
   "cell_type": "code",
   "execution_count": 354,
   "metadata": {},
   "outputs": [
    {
     "data": {
      "image/png": "[encoded data removed]",
      "text/plain": [
       "<matplotlib.figure.Figure at 0x1bf68cbceb8>"
      ]
     },
     "metadata": {},
     "output_type": "display_data"
    }
   ],
   "source": [
    "fdist1.plot(20, cumulative=False)"
   ]
  },
  {
   "cell_type": "code",
   "execution_count": 355,
   "metadata": {},
   "outputs": [
    {
     "data": {
      "image/png": "[encoded data removed]",
      "text/plain": [
       "<matplotlib.figure.Figure at 0x1bf4cc3c828>"
      ]
     },
     "metadata": {},
     "output_type": "display_data"
    }
   ],
   "source": [
    "fdist1.plot(20,cumulative=True)"
   ]
  },
  {
   "cell_type": "code",
   "execution_count": 356,
   "metadata": {},
   "outputs": [
    {
     "data": {
      "text/html": [
       "<div>\n",
       "<style scoped>\n",
       "    .dataframe tbody tr th:only-of-type {\n",
       "        vertical-align: middle;\n",
       "    }\n",
       "\n",
       "    .dataframe tbody tr th {\n",
       "        vertical-align: top;\n",
       "    }\n",
       "\n",
       "    .dataframe thead th {\n",
       "        text-align: right;\n",
       "    }\n",
       "</style>\n",
       "<table border=\"1\" class=\"dataframe\">\n",
       "  <thead>\n",
       "    <tr style=\"text-align: right;\">\n",
       "      <th></th>\n",
       "      <th>frequency</th>\n",
       "      <th>unicode_dec</th>\n",
       "      <th>unicode_hex</th>\n",
       "    </tr>\n",
       "    <tr>\n",
       "      <th>character</th>\n",
       "      <th></th>\n",
       "      <th></th>\n",
       "      <th></th>\n",
       "    </tr>\n",
       "  </thead>\n",
       "  <tbody>\n",
       "    <tr>\n",
       "      <th>ف</th>\n",
       "      <td>5351</td>\n",
       "      <td>1601</td>\n",
       "      <td>0x641</td>\n",
       "    </tr>\n",
       "    <tr>\n",
       "      <th>ي</th>\n",
       "      <td>15534</td>\n",
       "      <td>1610</td>\n",
       "      <td>0x64a</td>\n",
       "    </tr>\n",
       "    <tr>\n",
       "      <th>م</th>\n",
       "      <td>12932</td>\n",
       "      <td>1605</td>\n",
       "      <td>0x645</td>\n",
       "    </tr>\n",
       "    <tr>\n",
       "      <th>ن</th>\n",
       "      <td>9631</td>\n",
       "      <td>1606</td>\n",
       "      <td>0x646</td>\n",
       "    </tr>\n",
       "    <tr>\n",
       "      <th>ع</th>\n",
       "      <td>6893</td>\n",
       "      <td>1593</td>\n",
       "      <td>0x639</td>\n",
       "    </tr>\n",
       "  </tbody>\n",
       "</table>\n",
       "</div>"
      ],
      "text/plain": [
       "           frequency  unicode_dec unicode_hex\n",
       "character                                    \n",
       "ف               5351         1601       0x641\n",
       "ي              15534         1610       0x64a\n",
       "م              12932         1605       0x645\n",
       "ن               9631         1606       0x646\n",
       "ع               6893         1593       0x639"
      ]
     },
     "execution_count": 356,
     "metadata": {},
     "output_type": "execute_result"
    }
   ],
   "source": [
    "corpus_chars_df = pd.DataFrame(fdist1.items())\n",
    "corpus_chars_df.columns = ['character','frequency']\n",
    "\n",
    "# Unicode number of each distinct character:\n",
    "corpus_chars_df['unicode_dec']= corpus_chars_df.character.map(ord)\n",
    "corpus_chars_df['unicode_hex']= corpus_chars_df.character.map(lambda x: hex(ord(x)))\n",
    "\n",
    "corpus_chars_df = corpus_chars_df.set_index('character')\n",
    "\n",
    "corpus_chars_df.head()"
   ]
  },
  {
   "cell_type": "code",
   "execution_count": 357,
   "metadata": {},
   "outputs": [
    {
     "name": "stdout",
     "output_type": "stream",
     "text": [
      "3\n",
      "?,C,N\n"
     ]
    }
   ],
   "source": [
    "# Rare characters\n",
    "\n",
    "u = corpus_chars_df[corpus_chars_df.frequency<10]\n",
    "print(u.shape[0])\n",
    "#print(sorted(u.index.tolist()))\n",
    "print(','.join(sorted(u.index.tolist())))"
   ]
  },
  {
   "cell_type": "code",
   "execution_count": 358,
   "metadata": {},
   "outputs": [
    {
     "data": {
      "text/html": [
       "<div>\n",
       "<style scoped>\n",
       "    .dataframe tbody tr th:only-of-type {\n",
       "        vertical-align: middle;\n",
       "    }\n",
       "\n",
       "    .dataframe tbody tr th {\n",
       "        vertical-align: top;\n",
       "    }\n",
       "\n",
       "    .dataframe thead th {\n",
       "        text-align: right;\n",
       "    }\n",
       "</style>\n",
       "<table border=\"1\" class=\"dataframe\">\n",
       "  <thead>\n",
       "    <tr style=\"text-align: right;\">\n",
       "      <th></th>\n",
       "      <th>frequency</th>\n",
       "      <th>unicode_dec</th>\n",
       "      <th>unicode_hex</th>\n",
       "    </tr>\n",
       "    <tr>\n",
       "      <th>character</th>\n",
       "      <th></th>\n",
       "      <th></th>\n",
       "      <th></th>\n",
       "    </tr>\n",
       "  </thead>\n",
       "  <tbody>\n",
       "    <tr>\n",
       "      <th>N</th>\n",
       "      <td>2</td>\n",
       "      <td>78</td>\n",
       "      <td>0x4e</td>\n",
       "    </tr>\n",
       "    <tr>\n",
       "      <th>C</th>\n",
       "      <td>1</td>\n",
       "      <td>67</td>\n",
       "      <td>0x43</td>\n",
       "    </tr>\n",
       "    <tr>\n",
       "      <th>?</th>\n",
       "      <td>4</td>\n",
       "      <td>63</td>\n",
       "      <td>0x3f</td>\n",
       "    </tr>\n",
       "  </tbody>\n",
       "</table>\n",
       "</div>"
      ],
      "text/plain": [
       "           frequency  unicode_dec unicode_hex\n",
       "character                                    \n",
       "N                  2           78        0x4e\n",
       "C                  1           67        0x43\n",
       "?                  4           63        0x3f"
      ]
     },
     "execution_count": 358,
     "metadata": {},
     "output_type": "execute_result"
    }
   ],
   "source": [
    "# Rare characters sorted by unicode value\n",
    "\n",
    "u.sort_values(by='unicode_dec', ascending=False).head(10)"
   ]
  },
  {
   "cell_type": "markdown",
   "metadata": {},
   "source": [
    "*Observations & conclusions*\n",
    "\n",
    "- 83 distinct characters, with 40 characters being rare characters (occur less than 10 times)\n",
    "- The top 20 characters cover more than 95% of all character occurrences in the corpus\n",
    "- Type of characters:\n",
    "\n",
    "      40 English alphabet letters (A-Z)\n",
    "      \n",
    "      'A', 'B', 'C', 'D', 'F', 'H', 'I', 'L', 'M', 'N', 'O', 'P', 'Q', 'S', 'T', 'U', 'V', 'X', 'Y', 'a', 'b', 'c', 'd', 'e', 'g', 'h', 'i', 'l', 'm', 'n', 'o', 'p', 'q', 'r', 's', 't', 'u', 'y', 'z'\n",
    "\n",
    "      42 Arabic letters:\n",
    "\n",
    "      'ء', 'آ', 'أ', 'ؤ', 'إ', 'ئ', 'ا', 'ب', 'ة', 'ت', 'ث', 'ج', 'ح', 'خ', 'د', 'ذ', 'ر', 'ز', 'س', 'ش', 'ص', 'ض', 'ط', 'ظ', 'ع', 'غ', 'ـ', 'ف', 'ق', 'ك', 'ل', 'م', 'ن', 'ه', 'و', 'ى', 'ي', 'پ', 'چ', 'ک', 'گ', 'ھ', 'ہ'\n",
    "\n",
    "\n",
    "      1 Non-letter character: ?\n",
    "\n",
    "\n",
    "- 46 characters that should be removed because non-Arabic letters or occur rarely (less than 10 times):\n",
    "\n",
    "       'پ', 'چ', 'ک', 'گ', 'ھ', 'ہ'\n",
    "       '?'\n",
    "       all English letters\n",
    "\n",
    "- Characters that require special normalization/preprocessing (such as special encoded characters):\n",
    "\n",
    "      'ـ'\n",
    "      'ء', 'آ', 'أ', 'ؤ', 'إ', 'ئ', 'ا'\n",
    "      'ى', 'ي'\n"
   ]
  },
  {
   "cell_type": "markdown",
   "metadata": {},
   "source": [
    "### Identify Unwanted Characters\n",
    "\n",
    "- Rare/uncommon Arabic letters:  'پ', 'چ', 'ک', 'گ', 'ھ', 'ہ'\n",
    "- useless characters: 'ـ'  (*tatweel*)\n",
    "- non-Arabic characters: '?', all English letters"
   ]
  },
  {
   "cell_type": "code",
   "execution_count": 359,
   "metadata": {},
   "outputs": [
    {
     "data": {
      "text/html": [
       "<div>\n",
       "<style scoped>\n",
       "    .dataframe tbody tr th:only-of-type {\n",
       "        vertical-align: middle;\n",
       "    }\n",
       "\n",
       "    .dataframe tbody tr th {\n",
       "        vertical-align: top;\n",
       "    }\n",
       "\n",
       "    .dataframe thead th {\n",
       "        text-align: right;\n",
       "    }\n",
       "</style>\n",
       "<table border=\"1\" class=\"dataframe\">\n",
       "  <thead>\n",
       "    <tr style=\"text-align: right;\">\n",
       "      <th></th>\n",
       "      <th>frequency</th>\n",
       "      <th>unicode_dec</th>\n",
       "      <th>unicode_hex</th>\n",
       "    </tr>\n",
       "    <tr>\n",
       "      <th>character</th>\n",
       "      <th></th>\n",
       "      <th></th>\n",
       "      <th></th>\n",
       "    </tr>\n",
       "  </thead>\n",
       "  <tbody>\n",
       "    <tr>\n",
       "      <th>ف</th>\n",
       "      <td>5351</td>\n",
       "      <td>1601</td>\n",
       "      <td>0x641</td>\n",
       "    </tr>\n",
       "    <tr>\n",
       "      <th>ي</th>\n",
       "      <td>15534</td>\n",
       "      <td>1610</td>\n",
       "      <td>0x64a</td>\n",
       "    </tr>\n",
       "    <tr>\n",
       "      <th>م</th>\n",
       "      <td>12932</td>\n",
       "      <td>1605</td>\n",
       "      <td>0x645</td>\n",
       "    </tr>\n",
       "    <tr>\n",
       "      <th>ن</th>\n",
       "      <td>9631</td>\n",
       "      <td>1606</td>\n",
       "      <td>0x646</td>\n",
       "    </tr>\n",
       "    <tr>\n",
       "      <th>ع</th>\n",
       "      <td>6893</td>\n",
       "      <td>1593</td>\n",
       "      <td>0x639</td>\n",
       "    </tr>\n",
       "  </tbody>\n",
       "</table>\n",
       "</div>"
      ],
      "text/plain": [
       "           frequency  unicode_dec unicode_hex\n",
       "character                                    \n",
       "ف               5351         1601       0x641\n",
       "ي              15534         1610       0x64a\n",
       "م              12932         1605       0x645\n",
       "ن               9631         1606       0x646\n",
       "ع               6893         1593       0x639"
      ]
     },
     "execution_count": 359,
     "metadata": {},
     "output_type": "execute_result"
    }
   ],
   "source": [
    "corpus_chars_df.head()"
   ]
  },
  {
   "cell_type": "code",
   "execution_count": 360,
   "metadata": {},
   "outputs": [
    {
     "data": {
      "text/plain": [
       "(37, 37, 37)"
      ]
     },
     "execution_count": 360,
     "metadata": {},
     "output_type": "execute_result"
    }
   ],
   "source": [
    "idx1 = pd.Series(corpus_chars_df.index.map(lambda x: re.match('[a-zA-Z?]',x)==None),index=corpus_chars_df.index)\n",
    "idx2 = (corpus_chars_df.frequency>=10)\n",
    "idx1.sum(), idx2.sum(), (idx1&idx2).sum()"
   ]
  },
  {
   "cell_type": "code",
   "execution_count": 361,
   "metadata": {},
   "outputs": [
    {
     "data": {
      "text/plain": [
       "(3, 3)"
      ]
     },
     "execution_count": 361,
     "metadata": {},
     "output_type": "execute_result"
    }
   ],
   "source": [
    "corpus_chars_df_not_AR = corpus_chars_df.loc[~(idx1&idx2)]\n",
    "corpus_chars_df_not_AR.shape"
   ]
  },
  {
   "cell_type": "code",
   "execution_count": 362,
   "metadata": {},
   "outputs": [
    {
     "name": "stdout",
     "output_type": "stream",
     "text": [
      "3\n"
     ]
    }
   ],
   "source": [
    "unwanted_characters = sorted(corpus_chars_df_not_AR.index.tolist())\n",
    "print(len(unwanted_characters))"
   ]
  },
  {
   "cell_type": "code",
   "execution_count": 363,
   "metadata": {},
   "outputs": [],
   "source": [
    "#corpus_chars_df_not_AR"
   ]
  },
  {
   "cell_type": "code",
   "execution_count": 364,
   "metadata": {},
   "outputs": [
    {
     "data": {
      "text/plain": [
       "(37, 3)"
      ]
     },
     "execution_count": 364,
     "metadata": {},
     "output_type": "execute_result"
    }
   ],
   "source": [
    "corpus_chars_df_AR = corpus_chars_df.loc[idx1&idx2]\n",
    "corpus_chars_df_AR.shape"
   ]
  },
  {
   "cell_type": "code",
   "execution_count": 365,
   "metadata": {},
   "outputs": [],
   "source": [
    "#corpus_chars_df_AR.sort_values(by='frequency')"
   ]
  },
  {
   "cell_type": "markdown",
   "metadata": {},
   "source": [
    "******"
   ]
  },
  {
   "cell_type": "markdown",
   "metadata": {},
   "source": [
    "## Corpus cleanup based on simple linguistic rules and heuristics\n",
    "- remove words that contain non-Arabic letters\n",
    "- Arabic letter normalization (remove tatweel and diacritics; for now do **not** conflate hamzas and alifs)\n",
    "- remove elongated words (informal/social media non-standard spelling)\n",
    "- remove one-letter words\n",
    "- remove very long words"
   ]
  },
  {
   "cell_type": "markdown",
   "metadata": {},
   "source": [
    "### Remove Words that Contain Unwanted Characters"
   ]
  },
  {
   "cell_type": "code",
   "execution_count": 366,
   "metadata": {},
   "outputs": [
    {
     "data": {
      "text/plain": [
       "(41200, 2)"
      ]
     },
     "execution_count": 366,
     "metadata": {},
     "output_type": "execute_result"
    }
   ],
   "source": [
    "words_corpus_df.shape"
   ]
  },
  {
   "cell_type": "code",
   "execution_count": 367,
   "metadata": {},
   "outputs": [
    {
     "data": {
      "text/html": [
       "<div>\n",
       "<style scoped>\n",
       "    .dataframe tbody tr th:only-of-type {\n",
       "        vertical-align: middle;\n",
       "    }\n",
       "\n",
       "    .dataframe tbody tr th {\n",
       "        vertical-align: top;\n",
       "    }\n",
       "\n",
       "    .dataframe thead th {\n",
       "        text-align: right;\n",
       "    }\n",
       "</style>\n",
       "<table border=\"1\" class=\"dataframe\">\n",
       "  <thead>\n",
       "    <tr style=\"text-align: right;\">\n",
       "      <th></th>\n",
       "      <th>word</th>\n",
       "      <th>frequency</th>\n",
       "    </tr>\n",
       "  </thead>\n",
       "  <tbody>\n",
       "    <tr>\n",
       "      <th>0</th>\n",
       "      <td>في</td>\n",
       "      <td>455629</td>\n",
       "    </tr>\n",
       "    <tr>\n",
       "      <th>1</th>\n",
       "      <td>من</td>\n",
       "      <td>413515</td>\n",
       "    </tr>\n",
       "    <tr>\n",
       "      <th>2</th>\n",
       "      <td>على</td>\n",
       "      <td>212554</td>\n",
       "    </tr>\n",
       "    <tr>\n",
       "      <th>3</th>\n",
       "      <td>أن</td>\n",
       "      <td>166261</td>\n",
       "    </tr>\n",
       "    <tr>\n",
       "      <th>4</th>\n",
       "      <td>إلى</td>\n",
       "      <td>121932</td>\n",
       "    </tr>\n",
       "  </tbody>\n",
       "</table>\n",
       "</div>"
      ],
      "text/plain": [
       "  word  frequency\n",
       "0   في     455629\n",
       "1   من     413515\n",
       "2  على     212554\n",
       "3   أن     166261\n",
       "4  إلى     121932"
      ]
     },
     "execution_count": 367,
     "metadata": {},
     "output_type": "execute_result"
    }
   ],
   "source": [
    "words_corpus_df.head()"
   ]
  },
  {
   "cell_type": "code",
   "execution_count": 368,
   "metadata": {},
   "outputs": [
    {
     "data": {
      "text/plain": [
       "'[?CN]'"
      ]
     },
     "execution_count": 368,
     "metadata": {},
     "output_type": "execute_result"
    }
   ],
   "source": [
    "unwanted_characters_regexp = '[' + ''.join(unwanted_characters) + ']'\n",
    "unwanted_characters_regexp"
   ]
  },
  {
   "cell_type": "code",
   "execution_count": 369,
   "metadata": {},
   "outputs": [
    {
     "data": {
      "text/plain": [
       "4"
      ]
     },
     "execution_count": 369,
     "metadata": {},
     "output_type": "execute_result"
    }
   ],
   "source": [
    "idx = words_corpus_df.word.map(lambda x: re.search(unwanted_characters_regexp,x)!=None)\n",
    "idx.sum()"
   ]
  },
  {
   "cell_type": "code",
   "execution_count": 370,
   "metadata": {},
   "outputs": [],
   "source": [
    "# Just for checking ...\n",
    "\n",
    "#idx2 = words_corpus_df.word.map(lambda x: re.search(arabic_nlp_utils.NON_ARABIC_CHARS_REGEX,x)!=None)\n",
    "#idx2.sum()\n",
    "\n",
    "#S1 = set(words_corpus_df.loc[idx,'word'].tolist())\n",
    "#S2 = set(words_corpus_df.loc[idx2,'word'].tolist())\n",
    "\n",
    "#np.sum(idx2),len(S2)\n",
    "\n",
    "#len(S1),len(S2),len(S1&S2),len(S1-S2),len(S2-S1)"
   ]
  },
  {
   "cell_type": "code",
   "execution_count": 371,
   "metadata": {},
   "outputs": [
    {
     "data": {
      "text/plain": [
       "['?ي', 'لـCNN', '?ان', 'بي?اس?']"
      ]
     },
     "execution_count": 371,
     "metadata": {},
     "output_type": "execute_result"
    }
   ],
   "source": [
    "words_corpus_df.loc[idx].word.tolist()"
   ]
  },
  {
   "cell_type": "code",
   "execution_count": 372,
   "metadata": {},
   "outputs": [],
   "source": [
    "words_corpus_df_clean = words_corpus_df.loc[~idx]"
   ]
  },
  {
   "cell_type": "code",
   "execution_count": 373,
   "metadata": {},
   "outputs": [
    {
     "data": {
      "text/plain": [
       "(41196, 2)"
      ]
     },
     "execution_count": 373,
     "metadata": {},
     "output_type": "execute_result"
    }
   ],
   "source": [
    "words_corpus_df_clean.shape"
   ]
  },
  {
   "cell_type": "code",
   "execution_count": 374,
   "metadata": {},
   "outputs": [
    {
     "data": {
      "text/html": [
       "<div>\n",
       "<style scoped>\n",
       "    .dataframe tbody tr th:only-of-type {\n",
       "        vertical-align: middle;\n",
       "    }\n",
       "\n",
       "    .dataframe tbody tr th {\n",
       "        vertical-align: top;\n",
       "    }\n",
       "\n",
       "    .dataframe thead th {\n",
       "        text-align: right;\n",
       "    }\n",
       "</style>\n",
       "<table border=\"1\" class=\"dataframe\">\n",
       "  <thead>\n",
       "    <tr style=\"text-align: right;\">\n",
       "      <th></th>\n",
       "      <th>word</th>\n",
       "      <th>frequency</th>\n",
       "    </tr>\n",
       "  </thead>\n",
       "  <tbody>\n",
       "    <tr>\n",
       "      <th>0</th>\n",
       "      <td>في</td>\n",
       "      <td>455629</td>\n",
       "    </tr>\n",
       "    <tr>\n",
       "      <th>1</th>\n",
       "      <td>من</td>\n",
       "      <td>413515</td>\n",
       "    </tr>\n",
       "    <tr>\n",
       "      <th>2</th>\n",
       "      <td>على</td>\n",
       "      <td>212554</td>\n",
       "    </tr>\n",
       "    <tr>\n",
       "      <th>3</th>\n",
       "      <td>أن</td>\n",
       "      <td>166261</td>\n",
       "    </tr>\n",
       "    <tr>\n",
       "      <th>4</th>\n",
       "      <td>إلى</td>\n",
       "      <td>121932</td>\n",
       "    </tr>\n",
       "  </tbody>\n",
       "</table>\n",
       "</div>"
      ],
      "text/plain": [
       "  word  frequency\n",
       "0   في     455629\n",
       "1   من     413515\n",
       "2  على     212554\n",
       "3   أن     166261\n",
       "4  إلى     121932"
      ]
     },
     "execution_count": 374,
     "metadata": {},
     "output_type": "execute_result"
    }
   ],
   "source": [
    "words_corpus_df_clean.head()"
   ]
  },
  {
   "cell_type": "code",
   "execution_count": 375,
   "metadata": {},
   "outputs": [],
   "source": [
    "assert(words_corpus_df_clean.shape[0]==words_corpus_df_clean.word.nunique())"
   ]
  },
  {
   "cell_type": "markdown",
   "metadata": {},
   "source": [
    "### Arabic Letter Normalization\n",
    "\n",
    "1. remove tatweel and diacritics\n",
    "2. orthographic letter noramlization (letters written in different ways, such as alif and hamza) -- NOT USED FOR THIS CORPUS FOR NOW UNTIL FURTHER ANALYSIS ...\n",
    "\n",
    "See documentation of function `arabic_nlp_utils.normalize_arabic_text` for more details."
   ]
  },
  {
   "cell_type": "code",
   "execution_count": 376,
   "metadata": {},
   "outputs": [
    {
     "name": "stderr",
     "output_type": "stream",
     "text": [
      "C:\\Users\\Admin\\Anaconda3\\lib\\site-packages\\ipykernel_launcher.py:2: SettingWithCopyWarning: \n",
      "A value is trying to be set on a copy of a slice from a DataFrame.\n",
      "Try using .loc[row_indexer,col_indexer] = value instead\n",
      "\n",
      "See the caveats in the documentation: http://pandas.pydata.org/pandas-docs/stable/user_guide/indexing.html#returning-a-view-versus-a-copy\n",
      "  \n"
     ]
    }
   ],
   "source": [
    "## 1) remove tatweel and diacritics\n",
    "words_corpus_df_clean['word_norm'] = words_corpus_df_clean.word.map(lambda w: arabic_nlp_utils.normalize_arabic_text_1(w))\n",
    "\n",
    "## 2) orthographic letter normalization (letters written in different ways, such as alif and hamza)\n",
    "## DISABLED FOR NOW"
   ]
  },
  {
   "cell_type": "code",
   "execution_count": 377,
   "metadata": {},
   "outputs": [
    {
     "data": {
      "text/html": [
       "<div>\n",
       "<style scoped>\n",
       "    .dataframe tbody tr th:only-of-type {\n",
       "        vertical-align: middle;\n",
       "    }\n",
       "\n",
       "    .dataframe tbody tr th {\n",
       "        vertical-align: top;\n",
       "    }\n",
       "\n",
       "    .dataframe thead th {\n",
       "        text-align: right;\n",
       "    }\n",
       "</style>\n",
       "<table border=\"1\" class=\"dataframe\">\n",
       "  <thead>\n",
       "    <tr style=\"text-align: right;\">\n",
       "      <th></th>\n",
       "      <th>word</th>\n",
       "      <th>frequency</th>\n",
       "      <th>word_norm</th>\n",
       "    </tr>\n",
       "  </thead>\n",
       "  <tbody>\n",
       "    <tr>\n",
       "      <th>0</th>\n",
       "      <td>في</td>\n",
       "      <td>455629</td>\n",
       "      <td>في</td>\n",
       "    </tr>\n",
       "    <tr>\n",
       "      <th>1</th>\n",
       "      <td>من</td>\n",
       "      <td>413515</td>\n",
       "      <td>من</td>\n",
       "    </tr>\n",
       "    <tr>\n",
       "      <th>2</th>\n",
       "      <td>على</td>\n",
       "      <td>212554</td>\n",
       "      <td>على</td>\n",
       "    </tr>\n",
       "    <tr>\n",
       "      <th>3</th>\n",
       "      <td>أن</td>\n",
       "      <td>166261</td>\n",
       "      <td>أن</td>\n",
       "    </tr>\n",
       "    <tr>\n",
       "      <th>4</th>\n",
       "      <td>إلى</td>\n",
       "      <td>121932</td>\n",
       "      <td>إلى</td>\n",
       "    </tr>\n",
       "  </tbody>\n",
       "</table>\n",
       "</div>"
      ],
      "text/plain": [
       "  word  frequency word_norm\n",
       "0   في     455629        في\n",
       "1   من     413515        من\n",
       "2  على     212554       على\n",
       "3   أن     166261        أن\n",
       "4  إلى     121932       إلى"
      ]
     },
     "execution_count": 377,
     "metadata": {},
     "output_type": "execute_result"
    }
   ],
   "source": [
    "words_corpus_df_clean.head()"
   ]
  },
  {
   "cell_type": "code",
   "execution_count": 378,
   "metadata": {},
   "outputs": [
    {
     "data": {
      "text/plain": [
       "246"
      ]
     },
     "execution_count": 378,
     "metadata": {},
     "output_type": "execute_result"
    }
   ],
   "source": [
    "# number of normalized words  (words that changed after normalization)\n",
    "idx = (words_corpus_df_clean.word!=words_corpus_df_clean.word_norm)\n",
    "idx.sum()"
   ]
  },
  {
   "cell_type": "code",
   "execution_count": 379,
   "metadata": {},
   "outputs": [
    {
     "data": {
      "text/html": [
       "<div>\n",
       "<style scoped>\n",
       "    .dataframe tbody tr th:only-of-type {\n",
       "        vertical-align: middle;\n",
       "    }\n",
       "\n",
       "    .dataframe tbody tr th {\n",
       "        vertical-align: top;\n",
       "    }\n",
       "\n",
       "    .dataframe thead th {\n",
       "        text-align: right;\n",
       "    }\n",
       "</style>\n",
       "<table border=\"1\" class=\"dataframe\">\n",
       "  <thead>\n",
       "    <tr style=\"text-align: right;\">\n",
       "      <th></th>\n",
       "      <th>word</th>\n",
       "      <th>frequency</th>\n",
       "      <th>word_norm</th>\n",
       "    </tr>\n",
       "  </thead>\n",
       "  <tbody>\n",
       "    <tr>\n",
       "      <th>90</th>\n",
       "      <td>ـ</td>\n",
       "      <td>14856</td>\n",
       "      <td></td>\n",
       "    </tr>\n",
       "    <tr>\n",
       "      <th>209</th>\n",
       "      <td>هـ</td>\n",
       "      <td>8157</td>\n",
       "      <td>ه</td>\n",
       "    </tr>\n",
       "    <tr>\n",
       "      <th>771</th>\n",
       "      <td>جديـد</td>\n",
       "      <td>2953</td>\n",
       "      <td>جديد</td>\n",
       "    </tr>\n",
       "    <tr>\n",
       "      <th>772</th>\n",
       "      <td>إضـافة</td>\n",
       "      <td>2951</td>\n",
       "      <td>إضافة</td>\n",
       "    </tr>\n",
       "    <tr>\n",
       "      <th>773</th>\n",
       "      <td>التســـجـيـل</td>\n",
       "      <td>2951</td>\n",
       "      <td>التسجيل</td>\n",
       "    </tr>\n",
       "  </tbody>\n",
       "</table>\n",
       "</div>"
      ],
      "text/plain": [
       "             word  frequency word_norm\n",
       "90              ـ      14856          \n",
       "209            هـ       8157         ه\n",
       "771         جديـد       2953      جديد\n",
       "772        إضـافة       2951     إضافة\n",
       "773  التســـجـيـل       2951   التسجيل"
      ]
     },
     "execution_count": 379,
     "metadata": {},
     "output_type": "execute_result"
    }
   ],
   "source": [
    "words_corpus_df_clean[idx].head()"
   ]
  },
  {
   "cell_type": "code",
   "execution_count": 380,
   "metadata": {},
   "outputs": [
    {
     "data": {
      "text/plain": [
       "232"
      ]
     },
     "execution_count": 380,
     "metadata": {},
     "output_type": "execute_result"
    }
   ],
   "source": [
    "# number of CONFLATED words : words that became the same after normalization\n",
    "words_corpus_df_clean.shape[0]-words_corpus_df_clean.word_norm.nunique()"
   ]
  },
  {
   "cell_type": "code",
   "execution_count": 381,
   "metadata": {},
   "outputs": [
    {
     "data": {
      "text/plain": [
       "(40964, 3)"
      ]
     },
     "execution_count": 381,
     "metadata": {},
     "output_type": "execute_result"
    }
   ],
   "source": [
    "# combine conflated words\n",
    "words_corpus_df_clean = words_corpus_df_clean.groupby('word_norm').first().reset_index()\n",
    "words_corpus_df_clean.shape"
   ]
  },
  {
   "cell_type": "code",
   "execution_count": 382,
   "metadata": {},
   "outputs": [],
   "source": [
    "assert(words_corpus_df_clean.shape[0]==words_corpus_df_clean.word_norm.nunique())"
   ]
  },
  {
   "cell_type": "code",
   "execution_count": 383,
   "metadata": {},
   "outputs": [
    {
     "data": {
      "text/plain": [
       "(40964, 3)"
      ]
     },
     "execution_count": 383,
     "metadata": {},
     "output_type": "execute_result"
    }
   ],
   "source": [
    "words_corpus_df_clean.shape"
   ]
  },
  {
   "cell_type": "markdown",
   "metadata": {},
   "source": [
    "### Remove elongated words\n",
    "Words that contain at least 3 adjacent repeated characters. This is informal spelling typically used in online social media text. We will just remove because it is difficult to correct/normalize."
   ]
  },
  {
   "cell_type": "code",
   "execution_count": 384,
   "metadata": {},
   "outputs": [
    {
     "name": "stdout",
     "output_type": "stream",
     "text": [
      "0\n",
      "[]\n"
     ]
    }
   ],
   "source": [
    "# Find words that contain 3 or more adjacent repeated characters\n",
    "idx = words_corpus_df_clean.word_norm.map(lambda w: len(generic_nlp_utils.three_plus_letters_RE.findall(w))>0)\n",
    "print(idx.sum())\n",
    "print(words_corpus_df_clean.word_norm[idx].tolist())"
   ]
  },
  {
   "cell_type": "code",
   "execution_count": 385,
   "metadata": {},
   "outputs": [
    {
     "data": {
      "text/html": [
       "<div>\n",
       "<style scoped>\n",
       "    .dataframe tbody tr th:only-of-type {\n",
       "        vertical-align: middle;\n",
       "    }\n",
       "\n",
       "    .dataframe tbody tr th {\n",
       "        vertical-align: top;\n",
       "    }\n",
       "\n",
       "    .dataframe thead th {\n",
       "        text-align: right;\n",
       "    }\n",
       "</style>\n",
       "<table border=\"1\" class=\"dataframe\">\n",
       "  <thead>\n",
       "    <tr style=\"text-align: right;\">\n",
       "      <th></th>\n",
       "      <th>word_norm</th>\n",
       "      <th>word</th>\n",
       "      <th>frequency</th>\n",
       "    </tr>\n",
       "  </thead>\n",
       "  <tbody>\n",
       "  </tbody>\n",
       "</table>\n",
       "</div>"
      ],
      "text/plain": [
       "Empty DataFrame\n",
       "Columns: [word_norm, word, frequency]\n",
       "Index: []"
      ]
     },
     "execution_count": 385,
     "metadata": {},
     "output_type": "execute_result"
    }
   ],
   "source": [
    "words_corpus_df_clean[idx].head(10)"
   ]
  },
  {
   "cell_type": "code",
   "execution_count": 386,
   "metadata": {},
   "outputs": [
    {
     "data": {
      "text/plain": [
       "((40964, 3), (40964, 3))"
      ]
     },
     "execution_count": 386,
     "metadata": {},
     "output_type": "execute_result"
    }
   ],
   "source": [
    "words_corpus_df_clean_2 = words_corpus_df_clean[~idx]\n",
    "words_corpus_df_clean.shape,words_corpus_df_clean_2.shape"
   ]
  },
  {
   "cell_type": "code",
   "execution_count": 387,
   "metadata": {},
   "outputs": [],
   "source": [
    "assert(words_corpus_df_clean_2.shape[0]==words_corpus_df_clean_2.word_norm.nunique())"
   ]
  },
  {
   "cell_type": "markdown",
   "metadata": {},
   "source": [
    "### Remove one-letter words"
   ]
  },
  {
   "cell_type": "code",
   "execution_count": 388,
   "metadata": {},
   "outputs": [
    {
     "data": {
      "text/plain": [
       "count    40964.000000\n",
       "mean         5.580632\n",
       "std          1.603074\n",
       "min          0.000000\n",
       "25%          4.000000\n",
       "50%          5.000000\n",
       "75%          7.000000\n",
       "max         17.000000\n",
       "Name: word_norm_len, dtype: float64"
      ]
     },
     "execution_count": 388,
     "metadata": {},
     "output_type": "execute_result"
    }
   ],
   "source": [
    "# Distribution of word length (after normalization and cleaning)\n",
    "\n",
    "words_corpus_df_clean_2['word_norm_len'] = words_corpus_df_clean_2.word_norm.map(len)\n",
    "words_corpus_df_clean_2.word_norm_len.describe()"
   ]
  },
  {
   "cell_type": "markdown",
   "metadata": {},
   "source": [
    "*Remark*: Some words have length zero due to character removal during normalization."
   ]
  },
  {
   "cell_type": "code",
   "execution_count": 389,
   "metadata": {},
   "outputs": [
    {
     "data": {
      "text/plain": [
       "<matplotlib.axes._subplots.AxesSubplot at 0x1bf5ad79518>"
      ]
     },
     "execution_count": 389,
     "metadata": {},
     "output_type": "execute_result"
    },
    {
     "data": {
      "image/png": "[encoded data removed]",
      "text/plain": [
       "<matplotlib.figure.Figure at 0x1bf5ad5bef0>"
      ]
     },
     "metadata": {},
     "output_type": "display_data"
    }
   ],
   "source": [
    "# Distribution of word length (after normalization and cleaning)\n",
    "\n",
    "words_corpus_df_clean_2.word_norm_len.plot.box()"
   ]
  },
  {
   "cell_type": "code",
   "execution_count": 390,
   "metadata": {},
   "outputs": [
    {
     "data": {
      "text/plain": [
       "(1, 35)"
      ]
     },
     "execution_count": 390,
     "metadata": {},
     "output_type": "execute_result"
    }
   ],
   "source": [
    "(words_corpus_df_clean_2.word_norm_len==0).sum(),(words_corpus_df_clean_2.word_norm_len==1).sum()"
   ]
  },
  {
   "cell_type": "code",
   "execution_count": 391,
   "metadata": {},
   "outputs": [
    {
     "data": {
      "text/html": [
       "<div>\n",
       "<style scoped>\n",
       "    .dataframe tbody tr th:only-of-type {\n",
       "        vertical-align: middle;\n",
       "    }\n",
       "\n",
       "    .dataframe tbody tr th {\n",
       "        vertical-align: top;\n",
       "    }\n",
       "\n",
       "    .dataframe thead th {\n",
       "        text-align: right;\n",
       "    }\n",
       "</style>\n",
       "<table border=\"1\" class=\"dataframe\">\n",
       "  <thead>\n",
       "    <tr style=\"text-align: right;\">\n",
       "      <th></th>\n",
       "      <th>word_norm</th>\n",
       "      <th>word</th>\n",
       "      <th>frequency</th>\n",
       "      <th>word_norm_len</th>\n",
       "    </tr>\n",
       "  </thead>\n",
       "  <tbody>\n",
       "    <tr>\n",
       "      <th>31719</th>\n",
       "      <td>ن</td>\n",
       "      <td>ن</td>\n",
       "      <td>45586</td>\n",
       "      <td>1</td>\n",
       "    </tr>\n",
       "    <tr>\n",
       "      <th>32546</th>\n",
       "      <td>ه</td>\n",
       "      <td>ه</td>\n",
       "      <td>36480</td>\n",
       "      <td>1</td>\n",
       "    </tr>\n",
       "    <tr>\n",
       "      <th>32807</th>\n",
       "      <td>و</td>\n",
       "      <td>و</td>\n",
       "      <td>119914</td>\n",
       "      <td>1</td>\n",
       "    </tr>\n",
       "    <tr>\n",
       "      <th>38930</th>\n",
       "      <td>ى</td>\n",
       "      <td>ى</td>\n",
       "      <td>8124</td>\n",
       "      <td>1</td>\n",
       "    </tr>\n",
       "    <tr>\n",
       "      <th>38931</th>\n",
       "      <td>ي</td>\n",
       "      <td>ي</td>\n",
       "      <td>44263</td>\n",
       "      <td>1</td>\n",
       "    </tr>\n",
       "  </tbody>\n",
       "</table>\n",
       "</div>"
      ],
      "text/plain": [
       "      word_norm word  frequency  word_norm_len\n",
       "31719         ن    ن      45586              1\n",
       "32546         ه    ه      36480              1\n",
       "32807         و    و     119914              1\n",
       "38930         ى    ى       8124              1\n",
       "38931         ي    ي      44263              1"
      ]
     },
     "execution_count": 391,
     "metadata": {},
     "output_type": "execute_result"
    }
   ],
   "source": [
    "words_corpus_df_clean_2[words_corpus_df_clean_2.word_norm_len==1].tail()"
   ]
  },
  {
   "cell_type": "code",
   "execution_count": 392,
   "metadata": {},
   "outputs": [
    {
     "data": {
      "text/plain": [
       "((40964, 3), (40964, 4), (40928, 4))"
      ]
     },
     "execution_count": 392,
     "metadata": {},
     "output_type": "execute_result"
    }
   ],
   "source": [
    "words_corpus_df_clean_3 = words_corpus_df_clean_2.loc[words_corpus_df_clean_2.word_norm_len>1]\n",
    "words_corpus_df_clean.shape,words_corpus_df_clean_2.shape,words_corpus_df_clean_3.shape"
   ]
  },
  {
   "cell_type": "code",
   "execution_count": 393,
   "metadata": {},
   "outputs": [
    {
     "data": {
      "text/plain": [
       "(40928, 40928)"
      ]
     },
     "execution_count": 393,
     "metadata": {},
     "output_type": "execute_result"
    }
   ],
   "source": [
    "words_corpus_df_clean_3.shape[0],words_corpus_df_clean_3.word_norm.nunique()"
   ]
  },
  {
   "cell_type": "code",
   "execution_count": 394,
   "metadata": {},
   "outputs": [],
   "source": [
    "assert(words_corpus_df_clean_3.shape[0]==words_corpus_df_clean_3.word_norm.nunique())"
   ]
  },
  {
   "cell_type": "markdown",
   "metadata": {},
   "source": [
    "### Remove very long words"
   ]
  },
  {
   "cell_type": "code",
   "execution_count": 395,
   "metadata": {},
   "outputs": [
    {
     "data": {
      "text/plain": [
       "count    40928.000000\n",
       "mean         5.584685\n",
       "std          1.597932\n",
       "min          2.000000\n",
       "25%          4.000000\n",
       "50%          5.000000\n",
       "75%          7.000000\n",
       "max         17.000000\n",
       "Name: word_norm_len, dtype: float64"
      ]
     },
     "execution_count": 395,
     "metadata": {},
     "output_type": "execute_result"
    }
   ],
   "source": [
    "words_corpus_df_clean_3.word_norm_len.describe()"
   ]
  },
  {
   "cell_type": "code",
   "execution_count": 396,
   "metadata": {},
   "outputs": [
    {
     "data": {
      "text/plain": [
       "(1, 0)"
      ]
     },
     "execution_count": 396,
     "metadata": {},
     "output_type": "execute_result"
    }
   ],
   "source": [
    "(words_corpus_df_clean_3.word_norm_len>=15).sum(),(words_corpus_df_clean_3.word_norm_len>=20).sum()"
   ]
  },
  {
   "cell_type": "code",
   "execution_count": 397,
   "metadata": {},
   "outputs": [
    {
     "data": {
      "text/html": [
       "<div>\n",
       "<style scoped>\n",
       "    .dataframe tbody tr th:only-of-type {\n",
       "        vertical-align: middle;\n",
       "    }\n",
       "\n",
       "    .dataframe tbody tr th {\n",
       "        vertical-align: top;\n",
       "    }\n",
       "\n",
       "    .dataframe thead th {\n",
       "        text-align: right;\n",
       "    }\n",
       "</style>\n",
       "<table border=\"1\" class=\"dataframe\">\n",
       "  <thead>\n",
       "    <tr style=\"text-align: right;\">\n",
       "      <th></th>\n",
       "      <th>word_norm</th>\n",
       "      <th>word</th>\n",
       "      <th>frequency</th>\n",
       "      <th>word_norm_len</th>\n",
       "    </tr>\n",
       "  </thead>\n",
       "  <tbody>\n",
       "    <tr>\n",
       "      <th>5657</th>\n",
       "      <td>التربيةالاجتماعية</td>\n",
       "      <td>التربيةالاجتماعية</td>\n",
       "      <td>226</td>\n",
       "      <td>17</td>\n",
       "    </tr>\n",
       "    <tr>\n",
       "      <th>27953</th>\n",
       "      <td>للبتروكيماويات</td>\n",
       "      <td>للبتروكيماويات</td>\n",
       "      <td>49</td>\n",
       "      <td>14</td>\n",
       "    </tr>\n",
       "    <tr>\n",
       "      <th>5104</th>\n",
       "      <td>البتروكيماويات</td>\n",
       "      <td>البتروكيماويات</td>\n",
       "      <td>118</td>\n",
       "      <td>14</td>\n",
       "    </tr>\n",
       "    <tr>\n",
       "      <th>5058</th>\n",
       "      <td>الباربيتيورات</td>\n",
       "      <td>الباربيتيورات</td>\n",
       "      <td>56</td>\n",
       "      <td>13</td>\n",
       "    </tr>\n",
       "    <tr>\n",
       "      <th>5057</th>\n",
       "      <td>الباراسيتامول</td>\n",
       "      <td>الباراسيتامول</td>\n",
       "      <td>37</td>\n",
       "      <td>13</td>\n",
       "    </tr>\n",
       "    <tr>\n",
       "      <th>5193</th>\n",
       "      <td>البروتستانتية</td>\n",
       "      <td>البروتستانتية</td>\n",
       "      <td>39</td>\n",
       "      <td>13</td>\n",
       "    </tr>\n",
       "    <tr>\n",
       "      <th>4334</th>\n",
       "      <td>الإمبراطوريات</td>\n",
       "      <td>الإمبراطوريات</td>\n",
       "      <td>36</td>\n",
       "      <td>13</td>\n",
       "    </tr>\n",
       "    <tr>\n",
       "      <th>4627</th>\n",
       "      <td>الاستراتيجيات</td>\n",
       "      <td>الاستراتيجيات</td>\n",
       "      <td>58</td>\n",
       "      <td>13</td>\n",
       "    </tr>\n",
       "    <tr>\n",
       "      <th>5105</th>\n",
       "      <td>البتروكيماوية</td>\n",
       "      <td>البتروكيماوية</td>\n",
       "      <td>156</td>\n",
       "      <td>13</td>\n",
       "    </tr>\n",
       "    <tr>\n",
       "      <th>33858</th>\n",
       "      <td>والاستراتيجية</td>\n",
       "      <td>والاستراتيجية</td>\n",
       "      <td>38</td>\n",
       "      <td>13</td>\n",
       "    </tr>\n",
       "    <tr>\n",
       "      <th>7388</th>\n",
       "      <td>الديمقراطيين</td>\n",
       "      <td>الديمقراطيين</td>\n",
       "      <td>51</td>\n",
       "      <td>12</td>\n",
       "    </tr>\n",
       "    <tr>\n",
       "      <th>4192</th>\n",
       "      <td>الإسرائيليات</td>\n",
       "      <td>الإسرائيليات</td>\n",
       "      <td>47</td>\n",
       "      <td>12</td>\n",
       "    </tr>\n",
       "    <tr>\n",
       "      <th>35010</th>\n",
       "      <td>والفيتامينات</td>\n",
       "      <td>والفيتامينات</td>\n",
       "      <td>36</td>\n",
       "      <td>12</td>\n",
       "    </tr>\n",
       "    <tr>\n",
       "      <th>4186</th>\n",
       "      <td>الإستراتيجية</td>\n",
       "      <td>الإستراتيجية</td>\n",
       "      <td>139</td>\n",
       "      <td>12</td>\n",
       "    </tr>\n",
       "    <tr>\n",
       "      <th>5397</th>\n",
       "      <td>البيروقراطية</td>\n",
       "      <td>البيروقراطية</td>\n",
       "      <td>39</td>\n",
       "      <td>12</td>\n",
       "    </tr>\n",
       "    <tr>\n",
       "      <th>16014</th>\n",
       "      <td>بنزوديازيبين</td>\n",
       "      <td>بنزوديازيبين</td>\n",
       "      <td>72</td>\n",
       "      <td>12</td>\n",
       "    </tr>\n",
       "    <tr>\n",
       "      <th>33855</th>\n",
       "      <td>والاستثمارية</td>\n",
       "      <td>والاستثمارية</td>\n",
       "      <td>66</td>\n",
       "      <td>12</td>\n",
       "    </tr>\n",
       "    <tr>\n",
       "      <th>6420</th>\n",
       "      <td>الجليكوجينية</td>\n",
       "      <td>الجليكوجينية</td>\n",
       "      <td>35</td>\n",
       "      <td>12</td>\n",
       "    </tr>\n",
       "    <tr>\n",
       "      <th>33865</th>\n",
       "      <td>والاستعدادات</td>\n",
       "      <td>والاستعدادات</td>\n",
       "      <td>30</td>\n",
       "      <td>12</td>\n",
       "    </tr>\n",
       "    <tr>\n",
       "      <th>34475</th>\n",
       "      <td>والديمقراطية</td>\n",
       "      <td>والديمقراطية</td>\n",
       "      <td>101</td>\n",
       "      <td>12</td>\n",
       "    </tr>\n",
       "    <tr>\n",
       "      <th>12990</th>\n",
       "      <td>الهيموجلوبين</td>\n",
       "      <td>الهيموجلوبين</td>\n",
       "      <td>31</td>\n",
       "      <td>12</td>\n",
       "    </tr>\n",
       "    <tr>\n",
       "      <th>4080</th>\n",
       "      <td>الأيديولوجية</td>\n",
       "      <td>الأيديولوجية</td>\n",
       "      <td>64</td>\n",
       "      <td>12</td>\n",
       "    </tr>\n",
       "    <tr>\n",
       "      <th>34150</th>\n",
       "      <td>والتكنولوجيا</td>\n",
       "      <td>والتكنولوجيا</td>\n",
       "      <td>84</td>\n",
       "      <td>12</td>\n",
       "    </tr>\n",
       "    <tr>\n",
       "      <th>33854</th>\n",
       "      <td>والاستثمارات</td>\n",
       "      <td>والاستثمارات</td>\n",
       "      <td>93</td>\n",
       "      <td>12</td>\n",
       "    </tr>\n",
       "    <tr>\n",
       "      <th>4335</th>\n",
       "      <td>الإمبراطورية</td>\n",
       "      <td>الإمبراطورية</td>\n",
       "      <td>427</td>\n",
       "      <td>12</td>\n",
       "    </tr>\n",
       "    <tr>\n",
       "      <th>14226</th>\n",
       "      <td>بالديمقراطية</td>\n",
       "      <td>بالديمقراطية</td>\n",
       "      <td>43</td>\n",
       "      <td>12</td>\n",
       "    </tr>\n",
       "    <tr>\n",
       "      <th>4628</th>\n",
       "      <td>الاستراتيجية</td>\n",
       "      <td>الاستراتيجية</td>\n",
       "      <td>314</td>\n",
       "      <td>12</td>\n",
       "    </tr>\n",
       "    <tr>\n",
       "      <th>8220</th>\n",
       "      <td>السيناريوهات</td>\n",
       "      <td>السيناريوهات</td>\n",
       "      <td>35</td>\n",
       "      <td>12</td>\n",
       "    </tr>\n",
       "    <tr>\n",
       "      <th>7389</th>\n",
       "      <td>الديموقراطية</td>\n",
       "      <td>الديموقراطية</td>\n",
       "      <td>83</td>\n",
       "      <td>12</td>\n",
       "    </tr>\n",
       "    <tr>\n",
       "      <th>34995</th>\n",
       "      <td>والفلسطينيين</td>\n",
       "      <td>والفلسطينيين</td>\n",
       "      <td>36</td>\n",
       "      <td>12</td>\n",
       "    </tr>\n",
       "    <tr>\n",
       "      <th>4195</th>\n",
       "      <td>الإسرائيليين</td>\n",
       "      <td>الإسرائيليين</td>\n",
       "      <td>251</td>\n",
       "      <td>12</td>\n",
       "    </tr>\n",
       "    <tr>\n",
       "      <th>4194</th>\n",
       "      <td>الإسرائيليون</td>\n",
       "      <td>الإسرائيليون</td>\n",
       "      <td>102</td>\n",
       "      <td>12</td>\n",
       "    </tr>\n",
       "    <tr>\n",
       "      <th>1906</th>\n",
       "      <td>إبراهيموفيتش</td>\n",
       "      <td>إبراهيموفيتش</td>\n",
       "      <td>34</td>\n",
       "      <td>12</td>\n",
       "    </tr>\n",
       "    <tr>\n",
       "      <th>9810</th>\n",
       "      <td>الفوتوغرافية</td>\n",
       "      <td>الفوتوغرافية</td>\n",
       "      <td>30</td>\n",
       "      <td>12</td>\n",
       "    </tr>\n",
       "    <tr>\n",
       "      <th>4643</th>\n",
       "      <td>الاستشهادية</td>\n",
       "      <td>الاستشهادية</td>\n",
       "      <td>45</td>\n",
       "      <td>11</td>\n",
       "    </tr>\n",
       "    <tr>\n",
       "      <th>33834</th>\n",
       "      <td>والاتفاقيات</td>\n",
       "      <td>والاتفاقيات</td>\n",
       "      <td>56</td>\n",
       "      <td>11</td>\n",
       "    </tr>\n",
       "    <tr>\n",
       "      <th>12547</th>\n",
       "      <td>الميكانيكية</td>\n",
       "      <td>الميكانيكية</td>\n",
       "      <td>33</td>\n",
       "      <td>11</td>\n",
       "    </tr>\n",
       "    <tr>\n",
       "      <th>33836</th>\n",
       "      <td>والاجتماعات</td>\n",
       "      <td>والاجتماعات</td>\n",
       "      <td>31</td>\n",
       "      <td>11</td>\n",
       "    </tr>\n",
       "    <tr>\n",
       "      <th>4650</th>\n",
       "      <td>الاستعدادات</td>\n",
       "      <td>الاستعدادات</td>\n",
       "      <td>125</td>\n",
       "      <td>11</td>\n",
       "    </tr>\n",
       "    <tr>\n",
       "      <th>33838</th>\n",
       "      <td>والاجتماعية</td>\n",
       "      <td>والاجتماعية</td>\n",
       "      <td>588</td>\n",
       "      <td>11</td>\n",
       "    </tr>\n",
       "  </tbody>\n",
       "</table>\n",
       "</div>"
      ],
      "text/plain": [
       "               word_norm               word  frequency  word_norm_len\n",
       "5657   التربيةالاجتماعية  التربيةالاجتماعية        226             17\n",
       "27953     للبتروكيماويات     للبتروكيماويات         49             14\n",
       "5104      البتروكيماويات     البتروكيماويات        118             14\n",
       "5058       الباربيتيورات      الباربيتيورات         56             13\n",
       "5057       الباراسيتامول      الباراسيتامول         37             13\n",
       "5193       البروتستانتية      البروتستانتية         39             13\n",
       "4334       الإمبراطوريات      الإمبراطوريات         36             13\n",
       "4627       الاستراتيجيات      الاستراتيجيات         58             13\n",
       "5105       البتروكيماوية      البتروكيماوية        156             13\n",
       "33858      والاستراتيجية      والاستراتيجية         38             13\n",
       "7388        الديمقراطيين       الديمقراطيين         51             12\n",
       "4192        الإسرائيليات       الإسرائيليات         47             12\n",
       "35010       والفيتامينات       والفيتامينات         36             12\n",
       "4186        الإستراتيجية       الإستراتيجية        139             12\n",
       "5397        البيروقراطية       البيروقراطية         39             12\n",
       "16014       بنزوديازيبين       بنزوديازيبين         72             12\n",
       "33855       والاستثمارية       والاستثمارية         66             12\n",
       "6420        الجليكوجينية       الجليكوجينية         35             12\n",
       "33865       والاستعدادات       والاستعدادات         30             12\n",
       "34475       والديمقراطية       والديمقراطية        101             12\n",
       "12990       الهيموجلوبين       الهيموجلوبين         31             12\n",
       "4080        الأيديولوجية       الأيديولوجية         64             12\n",
       "34150       والتكنولوجيا       والتكنولوجيا         84             12\n",
       "33854       والاستثمارات       والاستثمارات         93             12\n",
       "4335        الإمبراطورية       الإمبراطورية        427             12\n",
       "14226       بالديمقراطية       بالديمقراطية         43             12\n",
       "4628        الاستراتيجية       الاستراتيجية        314             12\n",
       "8220        السيناريوهات       السيناريوهات         35             12\n",
       "7389        الديموقراطية       الديموقراطية         83             12\n",
       "34995       والفلسطينيين       والفلسطينيين         36             12\n",
       "4195        الإسرائيليين       الإسرائيليين        251             12\n",
       "4194        الإسرائيليون       الإسرائيليون        102             12\n",
       "1906        إبراهيموفيتش       إبراهيموفيتش         34             12\n",
       "9810        الفوتوغرافية       الفوتوغرافية         30             12\n",
       "4643         الاستشهادية        الاستشهادية         45             11\n",
       "33834        والاتفاقيات        والاتفاقيات         56             11\n",
       "12547        الميكانيكية        الميكانيكية         33             11\n",
       "33836        والاجتماعات        والاجتماعات         31             11\n",
       "4650         الاستعدادات        الاستعدادات        125             11\n",
       "33838        والاجتماعية        والاجتماعية        588             11"
      ]
     },
     "execution_count": 397,
     "metadata": {},
     "output_type": "execute_result"
    }
   ],
   "source": [
    "words_corpus_df_clean_3.sort_values(by='word_norm_len',ascending=False).head(40)"
   ]
  },
  {
   "cell_type": "markdown",
   "metadata": {},
   "source": [
    "*Remark*: most words with 15 or more characters (shown above) are actually multi-word expressions with missing spaces."
   ]
  },
  {
   "cell_type": "code",
   "execution_count": 398,
   "metadata": {},
   "outputs": [
    {
     "data": {
      "text/plain": [
       "((40964, 3), (40964, 4), (40928, 4), (40927, 4))"
      ]
     },
     "execution_count": 398,
     "metadata": {},
     "output_type": "execute_result"
    }
   ],
   "source": [
    "words_corpus_df_clean_4 = words_corpus_df_clean_3.loc[words_corpus_df_clean_3.word_norm_len<15]\n",
    "words_corpus_df_clean.shape,words_corpus_df_clean_2.shape,words_corpus_df_clean_3.shape,words_corpus_df_clean_4.shape"
   ]
  },
  {
   "cell_type": "code",
   "execution_count": 400,
   "metadata": {},
   "outputs": [],
   "source": [
    "assert(words_corpus_df_clean_4.shape[0]==words_corpus_df_clean_4.word_norm.nunique())"
   ]
  },
  {
   "cell_type": "code",
   "execution_count": 401,
   "metadata": {},
   "outputs": [
    {
     "data": {
      "text/html": [
       "<div>\n",
       "<style scoped>\n",
       "    .dataframe tbody tr th:only-of-type {\n",
       "        vertical-align: middle;\n",
       "    }\n",
       "\n",
       "    .dataframe tbody tr th {\n",
       "        vertical-align: top;\n",
       "    }\n",
       "\n",
       "    .dataframe thead th {\n",
       "        text-align: right;\n",
       "    }\n",
       "</style>\n",
       "<table border=\"1\" class=\"dataframe\">\n",
       "  <thead>\n",
       "    <tr style=\"text-align: right;\">\n",
       "      <th></th>\n",
       "      <th>word_norm</th>\n",
       "      <th>word</th>\n",
       "      <th>frequency</th>\n",
       "      <th>word_norm_len</th>\n",
       "    </tr>\n",
       "  </thead>\n",
       "  <tbody>\n",
       "    <tr>\n",
       "      <th>2</th>\n",
       "      <td>آئ</td>\n",
       "      <td>آئ</td>\n",
       "      <td>33</td>\n",
       "      <td>2</td>\n",
       "    </tr>\n",
       "    <tr>\n",
       "      <th>3</th>\n",
       "      <td>آب</td>\n",
       "      <td>آب</td>\n",
       "      <td>466</td>\n",
       "      <td>2</td>\n",
       "    </tr>\n",
       "    <tr>\n",
       "      <th>4</th>\n",
       "      <td>آباء</td>\n",
       "      <td>آباء</td>\n",
       "      <td>58</td>\n",
       "      <td>4</td>\n",
       "    </tr>\n",
       "    <tr>\n",
       "      <th>5</th>\n",
       "      <td>آبائه</td>\n",
       "      <td>آبائه</td>\n",
       "      <td>30</td>\n",
       "      <td>5</td>\n",
       "    </tr>\n",
       "    <tr>\n",
       "      <th>6</th>\n",
       "      <td>آبائهم</td>\n",
       "      <td>آبائهم</td>\n",
       "      <td>131</td>\n",
       "      <td>6</td>\n",
       "    </tr>\n",
       "  </tbody>\n",
       "</table>\n",
       "</div>"
      ],
      "text/plain": [
       "  word_norm    word  frequency  word_norm_len\n",
       "2        آئ      آئ         33              2\n",
       "3        آب      آب        466              2\n",
       "4      آباء    آباء         58              4\n",
       "5     آبائه   آبائه         30              5\n",
       "6    آبائهم  آبائهم        131              6"
      ]
     },
     "execution_count": 401,
     "metadata": {},
     "output_type": "execute_result"
    }
   ],
   "source": [
    "words_corpus_df_clean_4.head()"
   ]
  },
  {
   "cell_type": "code",
   "execution_count": 440,
   "metadata": {},
   "outputs": [
    {
     "data": {
      "text/plain": [
       "(40927, 4)"
      ]
     },
     "execution_count": 440,
     "metadata": {},
     "output_type": "execute_result"
    }
   ],
   "source": [
    "words_corpus_df_clean_4.shape"
   ]
  },
  {
   "cell_type": "code",
   "execution_count": 439,
   "metadata": {},
   "outputs": [
    {
     "data": {
      "text/html": [
       "<div>\n",
       "<style scoped>\n",
       "    .dataframe tbody tr th:only-of-type {\n",
       "        vertical-align: middle;\n",
       "    }\n",
       "\n",
       "    .dataframe tbody tr th {\n",
       "        vertical-align: top;\n",
       "    }\n",
       "\n",
       "    .dataframe thead th {\n",
       "        text-align: right;\n",
       "    }\n",
       "</style>\n",
       "<table border=\"1\" class=\"dataframe\">\n",
       "  <thead>\n",
       "    <tr style=\"text-align: right;\">\n",
       "      <th></th>\n",
       "      <th>word_norm</th>\n",
       "      <th>word</th>\n",
       "      <th>frequency</th>\n",
       "      <th>word_norm_len</th>\n",
       "    </tr>\n",
       "  </thead>\n",
       "  <tbody>\n",
       "    <tr>\n",
       "      <th>18207</th>\n",
       "      <td>تلاشت</td>\n",
       "      <td>تلاشت</td>\n",
       "      <td>30</td>\n",
       "      <td>5</td>\n",
       "    </tr>\n",
       "    <tr>\n",
       "      <th>35889</th>\n",
       "      <td>وتجن</td>\n",
       "      <td>وتجن</td>\n",
       "      <td>30</td>\n",
       "      <td>4</td>\n",
       "    </tr>\n",
       "    <tr>\n",
       "      <th>16622</th>\n",
       "      <td>تتناقض</td>\n",
       "      <td>تتناقض</td>\n",
       "      <td>30</td>\n",
       "      <td>6</td>\n",
       "    </tr>\n",
       "    <tr>\n",
       "      <th>16624</th>\n",
       "      <td>تتنوع</td>\n",
       "      <td>تتنوع</td>\n",
       "      <td>30</td>\n",
       "      <td>5</td>\n",
       "    </tr>\n",
       "    <tr>\n",
       "      <th>35895</th>\n",
       "      <td>وتحتل</td>\n",
       "      <td>وتحتل</td>\n",
       "      <td>30</td>\n",
       "      <td>5</td>\n",
       "    </tr>\n",
       "    <tr>\n",
       "      <th>19065</th>\n",
       "      <td>جزائريين</td>\n",
       "      <td>جزائريين</td>\n",
       "      <td>30</td>\n",
       "      <td>8</td>\n",
       "    </tr>\n",
       "    <tr>\n",
       "      <th>22622</th>\n",
       "      <td>شعائرهم</td>\n",
       "      <td>شعائرهم</td>\n",
       "      <td>30</td>\n",
       "      <td>7</td>\n",
       "    </tr>\n",
       "    <tr>\n",
       "      <th>32541</th>\n",
       "      <td>نيودلهي</td>\n",
       "      <td>نيودلهي</td>\n",
       "      <td>30</td>\n",
       "      <td>7</td>\n",
       "    </tr>\n",
       "    <tr>\n",
       "      <th>24436</th>\n",
       "      <td>عياذا</td>\n",
       "      <td>عياذا</td>\n",
       "      <td>30</td>\n",
       "      <td>5</td>\n",
       "    </tr>\n",
       "    <tr>\n",
       "      <th>5972</th>\n",
       "      <td>التكتيك</td>\n",
       "      <td>التكتيك</td>\n",
       "      <td>30</td>\n",
       "      <td>7</td>\n",
       "    </tr>\n",
       "  </tbody>\n",
       "</table>\n",
       "</div>"
      ],
      "text/plain": [
       "      word_norm      word  frequency  word_norm_len\n",
       "18207     تلاشت     تلاشت         30              5\n",
       "35889      وتجن      وتجن         30              4\n",
       "16622    تتناقض    تتناقض         30              6\n",
       "16624     تتنوع     تتنوع         30              5\n",
       "35895     وتحتل     وتحتل         30              5\n",
       "19065  جزائريين  جزائريين         30              8\n",
       "22622   شعائرهم   شعائرهم         30              7\n",
       "32541   نيودلهي   نيودلهي         30              7\n",
       "24436     عياذا     عياذا         30              5\n",
       "5972    التكتيك   التكتيك         30              7"
      ]
     },
     "execution_count": 439,
     "metadata": {},
     "output_type": "execute_result"
    }
   ],
   "source": [
    "words_corpus_df_clean_4.sort_values(by='frequency',ascending=True).head(10)"
   ]
  },
  {
   "cell_type": "code",
   "execution_count": 441,
   "metadata": {},
   "outputs": [],
   "source": [
    "## Store word list in a file\n",
    "\n",
    "filename = '../../generated_data/OSAC_words.csv'\n",
    "my_list = words_corpus_df_clean_4.word_norm.tolist()\n",
    "assert(len(my_list)==len(set(my_list)))\n",
    "\n",
    "with open(filename, \"w\", encoding='utf8') as textfile:\n",
    "    for w in my_list:\n",
    "        textfile.write(str(w) + \",MSA\" + \"\\n\")"
   ]
  },
  {
   "cell_type": "markdown",
   "metadata": {},
   "source": [
    "***"
   ]
  },
  {
   "cell_type": "code",
   "execution_count": 445,
   "metadata": {},
   "outputs": [
    {
     "data": {
      "text/html": [
       "<div>\n",
       "<style scoped>\n",
       "    .dataframe tbody tr th:only-of-type {\n",
       "        vertical-align: middle;\n",
       "    }\n",
       "\n",
       "    .dataframe tbody tr th {\n",
       "        vertical-align: top;\n",
       "    }\n",
       "\n",
       "    .dataframe thead th {\n",
       "        text-align: right;\n",
       "    }\n",
       "</style>\n",
       "<table border=\"1\" class=\"dataframe\">\n",
       "  <thead>\n",
       "    <tr style=\"text-align: right;\">\n",
       "      <th></th>\n",
       "      <th>word_norm</th>\n",
       "      <th>word</th>\n",
       "      <th>frequency</th>\n",
       "      <th>word_norm_len</th>\n",
       "    </tr>\n",
       "  </thead>\n",
       "  <tbody>\n",
       "    <tr>\n",
       "      <th>6623</th>\n",
       "      <td>الحبس</td>\n",
       "      <td>الحبس</td>\n",
       "      <td>104</td>\n",
       "      <td>5</td>\n",
       "    </tr>\n",
       "    <tr>\n",
       "      <th>6640</th>\n",
       "      <td>الحجامة</td>\n",
       "      <td>الحجامة</td>\n",
       "      <td>276</td>\n",
       "      <td>7</td>\n",
       "    </tr>\n",
       "    <tr>\n",
       "      <th>13565</th>\n",
       "      <td>ايه</td>\n",
       "      <td>ايه</td>\n",
       "      <td>77</td>\n",
       "      <td>3</td>\n",
       "    </tr>\n",
       "    <tr>\n",
       "      <th>13764</th>\n",
       "      <td>بابا</td>\n",
       "      <td>بابا</td>\n",
       "      <td>420</td>\n",
       "      <td>4</td>\n",
       "    </tr>\n",
       "    <tr>\n",
       "      <th>37083</th>\n",
       "      <td>وش</td>\n",
       "      <td>وش</td>\n",
       "      <td>133</td>\n",
       "      <td>2</td>\n",
       "    </tr>\n",
       "    <tr>\n",
       "      <th>38418</th>\n",
       "      <td>وه</td>\n",
       "      <td>وه</td>\n",
       "      <td>862</td>\n",
       "      <td>2</td>\n",
       "    </tr>\n",
       "    <tr>\n",
       "      <th>38548</th>\n",
       "      <td>وياسر</td>\n",
       "      <td>وياسر</td>\n",
       "      <td>31</td>\n",
       "      <td>5</td>\n",
       "    </tr>\n",
       "    <tr>\n",
       "      <th>39011</th>\n",
       "      <td>ياسر</td>\n",
       "      <td>ياسر</td>\n",
       "      <td>350</td>\n",
       "      <td>4</td>\n",
       "    </tr>\n",
       "  </tbody>\n",
       "</table>\n",
       "</div>"
      ],
      "text/plain": [
       "      word_norm     word  frequency  word_norm_len\n",
       "6623      الحبس    الحبس        104              5\n",
       "6640    الحجامة  الحجامة        276              7\n",
       "13565       ايه      ايه         77              3\n",
       "13764      بابا     بابا        420              4\n",
       "37083        وش       وش        133              2\n",
       "38418        وه       وه        862              2\n",
       "38548     وياسر    وياسر         31              5\n",
       "39011      ياسر     ياسر        350              4"
      ]
     },
     "execution_count": 445,
     "metadata": {},
     "output_type": "execute_result"
    }
   ],
   "source": [
    "## Just checking ...\n",
    "\n",
    "L = ['الحبس','ياريت','يزي','يطيح','باش','بالقوي','بابا','ايه','وش'\n",
    "     ,'انتي','وهوما','يجي','وه','يكونو','انو','ايا','ياسي','ياسر','وياسر','ولات','الحجامة', 'الخمج','الجاية', 'اكا']\n",
    "idx = words_corpus_df_clean_4.word_norm.isin(L)\n",
    "words_corpus_df_clean_4[idx]"
   ]
  }
 ],
 "metadata": {
  "kernelspec": {
   "display_name": "Python 3",
   "language": "python",
   "name": "python3"
  },
  "language_info": {
   "codemirror_mode": {
    "name": "ipython",
    "version": 3
   },
   "file_extension": ".py",
   "mimetype": "text/x-python",
   "name": "python",
   "nbconvert_exporter": "python",
   "pygments_lexer": "ipython3",
   "version": "3.6.4"
  }
 },
 "nbformat": 4,
 "nbformat_minor": 2
}
