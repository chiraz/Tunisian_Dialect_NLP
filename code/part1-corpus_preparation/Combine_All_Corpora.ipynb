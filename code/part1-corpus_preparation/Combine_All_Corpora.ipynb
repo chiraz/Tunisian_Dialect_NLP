{
 "cells": [
  {
   "cell_type": "markdown",
   "metadata": {},
   "source": [
    "## Plan\n",
    "\n",
    "1. read words and their language labels from data files. Assume words have already been preprocessed and cleaned.\n",
    "3. merge the word lists and resolve any inconsistencies in language labelling among the different corpora.\n",
    "4. store final list of words and their language labels in a 2-column CSV file."
   ]
  },
  {
   "cell_type": "code",
   "execution_count": 1,
   "metadata": {},
   "outputs": [],
   "source": [
    "import pandas as pd\n",
    "import numpy as np\n",
    "import matplotlib.pyplot as plt"
   ]
  },
  {
   "cell_type": "markdown",
   "metadata": {},
   "source": [
    "## Load Arabic word lists from files"
   ]
  },
  {
   "cell_type": "code",
   "execution_count": 2,
   "metadata": {},
   "outputs": [],
   "source": [
    "corpus_filename = ['TUN_Social_Media_words.csv', 'OSAC_words.csv', 'AWN_words.csv']\n",
    "corpus_label = ['TUN_SM', 'OSAC', 'AWN']"
   ]
  },
  {
   "cell_type": "code",
   "execution_count": 3,
   "metadata": {},
   "outputs": [],
   "source": [
    "#?pd.read_csv"
   ]
  },
  {
   "cell_type": "code",
   "execution_count": 4,
   "metadata": {},
   "outputs": [
    {
     "name": "stdout",
     "output_type": "stream",
     "text": [
      "(2916, 3) (2916, 3)\n",
      "(40927, 3) (43843, 3)\n",
      "(12432, 3) (56275, 3)\n"
     ]
    },
    {
     "data": {
      "text/html": [
       "<div>\n",
       "<style scoped>\n",
       "    .dataframe tbody tr th:only-of-type {\n",
       "        vertical-align: middle;\n",
       "    }\n",
       "\n",
       "    .dataframe tbody tr th {\n",
       "        vertical-align: top;\n",
       "    }\n",
       "\n",
       "    .dataframe thead th {\n",
       "        text-align: right;\n",
       "    }\n",
       "</style>\n",
       "<table border=\"1\" class=\"dataframe\">\n",
       "  <thead>\n",
       "    <tr style=\"text-align: right;\">\n",
       "      <th></th>\n",
       "      <th>word</th>\n",
       "      <th>lang_label</th>\n",
       "      <th>corpus_label</th>\n",
       "    </tr>\n",
       "  </thead>\n",
       "  <tbody>\n",
       "    <tr>\n",
       "      <th>0</th>\n",
       "      <td>اب</td>\n",
       "      <td>MSA</td>\n",
       "      <td>TUN_SM</td>\n",
       "    </tr>\n",
       "    <tr>\n",
       "      <th>1</th>\n",
       "      <td>ابداع</td>\n",
       "      <td>MSA</td>\n",
       "      <td>TUN_SM</td>\n",
       "    </tr>\n",
       "    <tr>\n",
       "      <th>2</th>\n",
       "      <td>ابن</td>\n",
       "      <td>MSA</td>\n",
       "      <td>TUN_SM</td>\n",
       "    </tr>\n",
       "    <tr>\n",
       "      <th>3</th>\n",
       "      <td>ابوها</td>\n",
       "      <td>MSA</td>\n",
       "      <td>TUN_SM</td>\n",
       "    </tr>\n",
       "    <tr>\n",
       "      <th>4</th>\n",
       "      <td>اتصالات</td>\n",
       "      <td>MSA</td>\n",
       "      <td>TUN_SM</td>\n",
       "    </tr>\n",
       "  </tbody>\n",
       "</table>\n",
       "</div>"
      ],
      "text/plain": [
       "      word lang_label corpus_label\n",
       "0       اب        MSA       TUN_SM\n",
       "1    ابداع        MSA       TUN_SM\n",
       "2      ابن        MSA       TUN_SM\n",
       "3    ابوها        MSA       TUN_SM\n",
       "4  اتصالات        MSA       TUN_SM"
      ]
     },
     "execution_count": 4,
     "metadata": {},
     "output_type": "execute_result"
    }
   ],
   "source": [
    "df = pd.DataFrame(columns=['word','lang_label','corpus_label'])\n",
    "for i,filename in enumerate(corpus_filename):\n",
    "    df_temp = pd.read_csv('../../generated_data/'+filename,header=None, names=['word','lang_label'])\n",
    "    df_temp['corpus_label'] = corpus_label[i]\n",
    "    df = df.append(df_temp,sort=True)\n",
    "    print(df_temp.shape,df.shape)\n",
    "\n",
    "df = df[['word','lang_label','corpus_label']]\n",
    "df.head()"
   ]
  },
  {
   "cell_type": "code",
   "execution_count": 73,
   "metadata": {},
   "outputs": [
    {
     "data": {
      "text/plain": [
       "OSAC      40927\n",
       "AWN       12432\n",
       "TUN_SM     2916\n",
       "Name: corpus_label, dtype: int64"
      ]
     },
     "execution_count": 73,
     "metadata": {},
     "output_type": "execute_result"
    }
   ],
   "source": [
    "df.corpus_label.value_counts()"
   ]
  },
  {
   "cell_type": "code",
   "execution_count": 74,
   "metadata": {},
   "outputs": [
    {
     "data": {
      "text/plain": [
       "MSA    55488\n",
       "TN       787\n",
       "Name: lang_label, dtype: int64"
      ]
     },
     "execution_count": 74,
     "metadata": {},
     "output_type": "execute_result"
    }
   ],
   "source": [
    "df.lang_label.value_counts()"
   ]
  },
  {
   "cell_type": "code",
   "execution_count": 75,
   "metadata": {},
   "outputs": [
    {
     "data": {
      "text/plain": [
       "47682"
      ]
     },
     "execution_count": 75,
     "metadata": {},
     "output_type": "execute_result"
    }
   ],
   "source": [
    "df.word.nunique()"
   ]
  },
  {
   "cell_type": "markdown",
   "metadata": {},
   "source": [
    "## Merge/integrate words lists\n",
    "We have word lists from 3 different sources.\n",
    "\n",
    "We need to make sure the language labels of the common words are consistent."
   ]
  },
  {
   "cell_type": "code",
   "execution_count": 76,
   "metadata": {},
   "outputs": [
    {
     "data": {
      "text/html": [
       "<div>\n",
       "<style scoped>\n",
       "    .dataframe tbody tr th:only-of-type {\n",
       "        vertical-align: middle;\n",
       "    }\n",
       "\n",
       "    .dataframe tbody tr th {\n",
       "        vertical-align: top;\n",
       "    }\n",
       "\n",
       "    .dataframe thead th {\n",
       "        text-align: right;\n",
       "    }\n",
       "</style>\n",
       "<table border=\"1\" class=\"dataframe\">\n",
       "  <thead>\n",
       "    <tr style=\"text-align: right;\">\n",
       "      <th></th>\n",
       "      <th>word</th>\n",
       "      <th>lang_label</th>\n",
       "      <th>corpus_label</th>\n",
       "    </tr>\n",
       "  </thead>\n",
       "  <tbody>\n",
       "    <tr>\n",
       "      <th>0</th>\n",
       "      <td>اب</td>\n",
       "      <td>MSA</td>\n",
       "      <td>TUN_SM</td>\n",
       "    </tr>\n",
       "    <tr>\n",
       "      <th>1</th>\n",
       "      <td>ابداع</td>\n",
       "      <td>MSA</td>\n",
       "      <td>TUN_SM</td>\n",
       "    </tr>\n",
       "    <tr>\n",
       "      <th>2</th>\n",
       "      <td>ابن</td>\n",
       "      <td>MSA</td>\n",
       "      <td>TUN_SM</td>\n",
       "    </tr>\n",
       "    <tr>\n",
       "      <th>3</th>\n",
       "      <td>ابوها</td>\n",
       "      <td>MSA</td>\n",
       "      <td>TUN_SM</td>\n",
       "    </tr>\n",
       "    <tr>\n",
       "      <th>4</th>\n",
       "      <td>اتصالات</td>\n",
       "      <td>MSA</td>\n",
       "      <td>TUN_SM</td>\n",
       "    </tr>\n",
       "  </tbody>\n",
       "</table>\n",
       "</div>"
      ],
      "text/plain": [
       "      word lang_label corpus_label\n",
       "0       اب        MSA       TUN_SM\n",
       "1    ابداع        MSA       TUN_SM\n",
       "2      ابن        MSA       TUN_SM\n",
       "3    ابوها        MSA       TUN_SM\n",
       "4  اتصالات        MSA       TUN_SM"
      ]
     },
     "execution_count": 76,
     "metadata": {},
     "output_type": "execute_result"
    }
   ],
   "source": [
    "df.head()"
   ]
  },
  {
   "cell_type": "code",
   "execution_count": 92,
   "metadata": {},
   "outputs": [
    {
     "data": {
      "text/plain": [
       "(47682, 2)"
      ]
     },
     "execution_count": 92,
     "metadata": {},
     "output_type": "execute_result"
    }
   ],
   "source": [
    "u = df.groupby(by='word').agg({'corpus_label': lambda x: ','.join(x), 'lang_label': lambda x: ','.join(x)})\n",
    "u.shape"
   ]
  },
  {
   "cell_type": "code",
   "execution_count": 93,
   "metadata": {},
   "outputs": [
    {
     "data": {
      "text/html": [
       "<div>\n",
       "<style scoped>\n",
       "    .dataframe tbody tr th:only-of-type {\n",
       "        vertical-align: middle;\n",
       "    }\n",
       "\n",
       "    .dataframe tbody tr th {\n",
       "        vertical-align: top;\n",
       "    }\n",
       "\n",
       "    .dataframe thead th {\n",
       "        text-align: right;\n",
       "    }\n",
       "</style>\n",
       "<table border=\"1\" class=\"dataframe\">\n",
       "  <thead>\n",
       "    <tr style=\"text-align: right;\">\n",
       "      <th></th>\n",
       "      <th>corpus_label</th>\n",
       "      <th>lang_label</th>\n",
       "    </tr>\n",
       "    <tr>\n",
       "      <th>word</th>\n",
       "      <th></th>\n",
       "      <th></th>\n",
       "    </tr>\n",
       "  </thead>\n",
       "  <tbody>\n",
       "    <tr>\n",
       "      <th>آئ</th>\n",
       "      <td>OSAC</td>\n",
       "      <td>MSA</td>\n",
       "    </tr>\n",
       "    <tr>\n",
       "      <th>آب</th>\n",
       "      <td>OSAC,AWN</td>\n",
       "      <td>MSA,MSA</td>\n",
       "    </tr>\n",
       "    <tr>\n",
       "      <th>آباء</th>\n",
       "      <td>OSAC</td>\n",
       "      <td>MSA</td>\n",
       "    </tr>\n",
       "    <tr>\n",
       "      <th>آبائه</th>\n",
       "      <td>OSAC</td>\n",
       "      <td>MSA</td>\n",
       "    </tr>\n",
       "    <tr>\n",
       "      <th>آبائهم</th>\n",
       "      <td>OSAC</td>\n",
       "      <td>MSA</td>\n",
       "    </tr>\n",
       "  </tbody>\n",
       "</table>\n",
       "</div>"
      ],
      "text/plain": [
       "       corpus_label lang_label\n",
       "word                          \n",
       "آئ             OSAC        MSA\n",
       "آب         OSAC,AWN    MSA,MSA\n",
       "آباء           OSAC        MSA\n",
       "آبائه          OSAC        MSA\n",
       "آبائهم         OSAC        MSA"
      ]
     },
     "execution_count": 93,
     "metadata": {},
     "output_type": "execute_result"
    }
   ],
   "source": [
    "u.head()"
   ]
  },
  {
   "cell_type": "code",
   "execution_count": 94,
   "metadata": {},
   "outputs": [
    {
     "data": {
      "text/plain": [
       "OSAC               33167\n",
       "OSAC,AWN            5907\n",
       "AWN                 5692\n",
       "TUN_SM,OSAC         1061\n",
       "TUN_SM              1022\n",
       "TUN_SM,OSAC,AWN      792\n",
       "TUN_SM,AWN            41\n",
       "Name: corpus_label, dtype: int64"
      ]
     },
     "execution_count": 94,
     "metadata": {},
     "output_type": "execute_result"
    }
   ],
   "source": [
    "u.corpus_label.value_counts()"
   ]
  },
  {
   "cell_type": "code",
   "execution_count": 95,
   "metadata": {},
   "outputs": [
    {
     "data": {
      "text/plain": [
       "MSA            39225\n",
       "MSA,MSA         6912\n",
       "MSA,MSA,MSA      758\n",
       "TN               656\n",
       "TN,MSA            97\n",
       "TN,MSA,MSA        34\n",
       "Name: lang_label, dtype: int64"
      ]
     },
     "execution_count": 95,
     "metadata": {},
     "output_type": "execute_result"
    }
   ],
   "source": [
    "u.lang_label.value_counts()"
   ]
  },
  {
   "cell_type": "code",
   "execution_count": 81,
   "metadata": {},
   "outputs": [
    {
     "data": {
      "text/html": [
       "<div>\n",
       "<style scoped>\n",
       "    .dataframe tbody tr th:only-of-type {\n",
       "        vertical-align: middle;\n",
       "    }\n",
       "\n",
       "    .dataframe tbody tr th {\n",
       "        vertical-align: top;\n",
       "    }\n",
       "\n",
       "    .dataframe thead th {\n",
       "        text-align: right;\n",
       "    }\n",
       "</style>\n",
       "<table border=\"1\" class=\"dataframe\">\n",
       "  <thead>\n",
       "    <tr style=\"text-align: right;\">\n",
       "      <th>lang_label</th>\n",
       "      <th>MSA</th>\n",
       "      <th>MSA,MSA</th>\n",
       "      <th>MSA,MSA,MSA</th>\n",
       "      <th>TN</th>\n",
       "      <th>TN,MSA</th>\n",
       "      <th>TN,MSA,MSA</th>\n",
       "    </tr>\n",
       "    <tr>\n",
       "      <th>corpus_label</th>\n",
       "      <th></th>\n",
       "      <th></th>\n",
       "      <th></th>\n",
       "      <th></th>\n",
       "      <th></th>\n",
       "      <th></th>\n",
       "    </tr>\n",
       "  </thead>\n",
       "  <tbody>\n",
       "    <tr>\n",
       "      <th>AWN</th>\n",
       "      <td>5692</td>\n",
       "      <td>0</td>\n",
       "      <td>0</td>\n",
       "      <td>0</td>\n",
       "      <td>0</td>\n",
       "      <td>0</td>\n",
       "    </tr>\n",
       "    <tr>\n",
       "      <th>OSAC</th>\n",
       "      <td>33167</td>\n",
       "      <td>0</td>\n",
       "      <td>0</td>\n",
       "      <td>0</td>\n",
       "      <td>0</td>\n",
       "      <td>0</td>\n",
       "    </tr>\n",
       "    <tr>\n",
       "      <th>OSAC,AWN</th>\n",
       "      <td>0</td>\n",
       "      <td>5907</td>\n",
       "      <td>0</td>\n",
       "      <td>0</td>\n",
       "      <td>0</td>\n",
       "      <td>0</td>\n",
       "    </tr>\n",
       "    <tr>\n",
       "      <th>TUN_SM</th>\n",
       "      <td>366</td>\n",
       "      <td>0</td>\n",
       "      <td>0</td>\n",
       "      <td>656</td>\n",
       "      <td>0</td>\n",
       "      <td>0</td>\n",
       "    </tr>\n",
       "    <tr>\n",
       "      <th>TUN_SM,AWN</th>\n",
       "      <td>0</td>\n",
       "      <td>29</td>\n",
       "      <td>0</td>\n",
       "      <td>0</td>\n",
       "      <td>12</td>\n",
       "      <td>0</td>\n",
       "    </tr>\n",
       "    <tr>\n",
       "      <th>TUN_SM,OSAC</th>\n",
       "      <td>0</td>\n",
       "      <td>976</td>\n",
       "      <td>0</td>\n",
       "      <td>0</td>\n",
       "      <td>85</td>\n",
       "      <td>0</td>\n",
       "    </tr>\n",
       "    <tr>\n",
       "      <th>TUN_SM,OSAC,AWN</th>\n",
       "      <td>0</td>\n",
       "      <td>0</td>\n",
       "      <td>758</td>\n",
       "      <td>0</td>\n",
       "      <td>0</td>\n",
       "      <td>34</td>\n",
       "    </tr>\n",
       "  </tbody>\n",
       "</table>\n",
       "</div>"
      ],
      "text/plain": [
       "lang_label         MSA  MSA,MSA  MSA,MSA,MSA   TN  TN,MSA  TN,MSA,MSA\n",
       "corpus_label                                                         \n",
       "AWN               5692        0            0    0       0           0\n",
       "OSAC             33167        0            0    0       0           0\n",
       "OSAC,AWN             0     5907            0    0       0           0\n",
       "TUN_SM             366        0            0  656       0           0\n",
       "TUN_SM,AWN           0       29            0    0      12           0\n",
       "TUN_SM,OSAC          0      976            0    0      85           0\n",
       "TUN_SM,OSAC,AWN      0        0          758    0       0          34"
      ]
     },
     "execution_count": 81,
     "metadata": {},
     "output_type": "execute_result"
    }
   ],
   "source": [
    "pd.crosstab(u.corpus_label,u.lang_label)"
   ]
  },
  {
   "cell_type": "code",
   "execution_count": 96,
   "metadata": {},
   "outputs": [
    {
     "name": "stdout",
     "output_type": "stream",
     "text": [
      "131\n"
     ]
    },
    {
     "data": {
      "text/html": [
       "<div>\n",
       "<style scoped>\n",
       "    .dataframe tbody tr th:only-of-type {\n",
       "        vertical-align: middle;\n",
       "    }\n",
       "\n",
       "    .dataframe tbody tr th {\n",
       "        vertical-align: top;\n",
       "    }\n",
       "\n",
       "    .dataframe thead th {\n",
       "        text-align: right;\n",
       "    }\n",
       "</style>\n",
       "<table border=\"1\" class=\"dataframe\">\n",
       "  <thead>\n",
       "    <tr style=\"text-align: right;\">\n",
       "      <th></th>\n",
       "      <th>corpus_label</th>\n",
       "      <th>lang_label</th>\n",
       "    </tr>\n",
       "    <tr>\n",
       "      <th>word</th>\n",
       "      <th></th>\n",
       "      <th></th>\n",
       "    </tr>\n",
       "  </thead>\n",
       "  <tbody>\n",
       "    <tr>\n",
       "      <th>اش</th>\n",
       "      <td>TUN_SM,OSAC</td>\n",
       "      <td>TN,MSA</td>\n",
       "    </tr>\n",
       "    <tr>\n",
       "      <th>اك</th>\n",
       "      <td>TUN_SM,OSAC</td>\n",
       "      <td>TN,MSA</td>\n",
       "    </tr>\n",
       "    <tr>\n",
       "      <th>الحبس</th>\n",
       "      <td>TUN_SM,OSAC,AWN</td>\n",
       "      <td>TN,MSA,MSA</td>\n",
       "    </tr>\n",
       "    <tr>\n",
       "      <th>الحجامة</th>\n",
       "      <td>TUN_SM,OSAC</td>\n",
       "      <td>TN,MSA</td>\n",
       "    </tr>\n",
       "    <tr>\n",
       "      <th>الخ</th>\n",
       "      <td>TUN_SM,OSAC</td>\n",
       "      <td>TN,MSA</td>\n",
       "    </tr>\n",
       "  </tbody>\n",
       "</table>\n",
       "</div>"
      ],
      "text/plain": [
       "            corpus_label  lang_label\n",
       "word                                \n",
       "اش           TUN_SM,OSAC      TN,MSA\n",
       "اك           TUN_SM,OSAC      TN,MSA\n",
       "الحبس    TUN_SM,OSAC,AWN  TN,MSA,MSA\n",
       "الحجامة      TUN_SM,OSAC      TN,MSA\n",
       "الخ          TUN_SM,OSAC      TN,MSA"
      ]
     },
     "execution_count": 96,
     "metadata": {},
     "output_type": "execute_result"
    }
   ],
   "source": [
    "idx = u.lang_label.str.contains(\"TN,MSA\")\n",
    "print(idx.sum())\n",
    "u[idx].head()"
   ]
  },
  {
   "cell_type": "code",
   "execution_count": 97,
   "metadata": {},
   "outputs": [
    {
     "data": {
      "text/plain": [
       "MSA            39225\n",
       "MSA,MSA         6912\n",
       "MSA,MSA,MSA      758\n",
       "TN               656\n",
       "TN,MSA            97\n",
       "TN,MSA,MSA        34\n",
       "Name: lang_label, dtype: int64"
      ]
     },
     "execution_count": 97,
     "metadata": {},
     "output_type": "execute_result"
    }
   ],
   "source": [
    "df_clean = u.copy()\n",
    "df_clean.lang_label.value_counts()"
   ]
  },
  {
   "cell_type": "code",
   "execution_count": 98,
   "metadata": {},
   "outputs": [
    {
     "data": {
      "text/plain": [
       "MSA            39225\n",
       "MSA,MSA         6912\n",
       "TN               787\n",
       "MSA,MSA,MSA      758\n",
       "Name: lang_label, dtype: int64"
      ]
     },
     "execution_count": 98,
     "metadata": {},
     "output_type": "execute_result"
    }
   ],
   "source": [
    "idx = df_clean.lang_label.str.contains(\"TN,MSA\")\n",
    "df_clean.loc[idx,'lang_label'] = \"TN\"\n",
    "df_clean.lang_label.value_counts()"
   ]
  },
  {
   "cell_type": "code",
   "execution_count": 99,
   "metadata": {},
   "outputs": [
    {
     "data": {
      "text/plain": [
       "MSA    46895\n",
       "TN       787\n",
       "Name: lang_label, dtype: int64"
      ]
     },
     "execution_count": 99,
     "metadata": {},
     "output_type": "execute_result"
    }
   ],
   "source": [
    "idx = df_clean.lang_label.str.contains(\"MSA\")\n",
    "df_clean.loc[idx,'lang_label'] = \"MSA\"\n",
    "df_clean.lang_label.value_counts()"
   ]
  },
  {
   "cell_type": "code",
   "execution_count": 102,
   "metadata": {},
   "outputs": [
    {
     "data": {
      "text/html": [
       "<div>\n",
       "<style scoped>\n",
       "    .dataframe tbody tr th:only-of-type {\n",
       "        vertical-align: middle;\n",
       "    }\n",
       "\n",
       "    .dataframe tbody tr th {\n",
       "        vertical-align: top;\n",
       "    }\n",
       "\n",
       "    .dataframe thead th {\n",
       "        text-align: right;\n",
       "    }\n",
       "</style>\n",
       "<table border=\"1\" class=\"dataframe\">\n",
       "  <thead>\n",
       "    <tr style=\"text-align: right;\">\n",
       "      <th></th>\n",
       "      <th>corpus_label</th>\n",
       "      <th>lang_label</th>\n",
       "    </tr>\n",
       "    <tr>\n",
       "      <th>word</th>\n",
       "      <th></th>\n",
       "      <th></th>\n",
       "    </tr>\n",
       "  </thead>\n",
       "  <tbody>\n",
       "    <tr>\n",
       "      <th>آئ</th>\n",
       "      <td>OSAC</td>\n",
       "      <td>MSA</td>\n",
       "    </tr>\n",
       "    <tr>\n",
       "      <th>آب</th>\n",
       "      <td>OSAC,AWN</td>\n",
       "      <td>MSA</td>\n",
       "    </tr>\n",
       "    <tr>\n",
       "      <th>آباء</th>\n",
       "      <td>OSAC</td>\n",
       "      <td>MSA</td>\n",
       "    </tr>\n",
       "    <tr>\n",
       "      <th>آبائه</th>\n",
       "      <td>OSAC</td>\n",
       "      <td>MSA</td>\n",
       "    </tr>\n",
       "    <tr>\n",
       "      <th>آبائهم</th>\n",
       "      <td>OSAC</td>\n",
       "      <td>MSA</td>\n",
       "    </tr>\n",
       "  </tbody>\n",
       "</table>\n",
       "</div>"
      ],
      "text/plain": [
       "       corpus_label lang_label\n",
       "word                          \n",
       "آئ             OSAC        MSA\n",
       "آب         OSAC,AWN        MSA\n",
       "آباء           OSAC        MSA\n",
       "آبائه          OSAC        MSA\n",
       "آبائهم         OSAC        MSA"
      ]
     },
     "execution_count": 102,
     "metadata": {},
     "output_type": "execute_result"
    }
   ],
   "source": [
    "df_clean.head()"
   ]
  },
  {
   "cell_type": "code",
   "execution_count": 101,
   "metadata": {},
   "outputs": [
    {
     "data": {
      "text/plain": [
       "(47682, 2)"
      ]
     },
     "execution_count": 101,
     "metadata": {},
     "output_type": "execute_result"
    }
   ],
   "source": [
    "df_clean.shape"
   ]
  },
  {
   "cell_type": "markdown",
   "metadata": {},
   "source": [
    "### Store words and their language labels in a csv file"
   ]
  },
  {
   "cell_type": "code",
   "execution_count": 103,
   "metadata": {},
   "outputs": [],
   "source": [
    "filename = '../../generated_data/Arabic_words_corpus_final.csv'\n",
    "df_clean['lang_label'].to_csv(filename, encoding='utf8', header=False, index=True)"
   ]
  },
  {
   "cell_type": "code",
   "execution_count": null,
   "metadata": {},
   "outputs": [],
   "source": []
  }
 ],
 "metadata": {
  "kernelspec": {
   "display_name": "Python 3",
   "language": "python",
   "name": "python3"
  },
  "language_info": {
   "codemirror_mode": {
    "name": "ipython",
    "version": 3
   },
   "file_extension": ".py",
   "mimetype": "text/x-python",
   "name": "python",
   "nbconvert_exporter": "python",
   "pygments_lexer": "ipython3",
   "version": "3.6.4"
  }
 },
 "nbformat": 4,
 "nbformat_minor": 2
}
