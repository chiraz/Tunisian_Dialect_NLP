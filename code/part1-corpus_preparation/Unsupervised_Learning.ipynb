{
 "cells": [
  {
   "cell_type": "markdown",
   "metadata": {},
   "source": [
    "## Corpus Cleanup using Vector Space and Unsupervised Learning Methods\n",
    "\n",
    "Here we aim to further remove noisy words from the MSA words corpus, by using vector space and unsupervised learning methods. This approach is at root non-linguistic, i.e. language agnostic.\n",
    "\n",
    "In a nutshell, the idea is to represent words as numeric vectors (features) using **bag of ngrams** method, and perform various operations on words in this vector space. Specifically, we will reduce the dimensionality of the vector space, and identify anomalous points (i.e. words)."
   ]
  },
  {
   "cell_type": "code",
   "execution_count": 2,
   "metadata": {},
   "outputs": [],
   "source": [
    "import pandas as pd\n",
    "import numpy as np\n",
    "import matplotlib.pyplot as plt\n",
    "import seaborn as sns"
   ]
  },
  {
   "cell_type": "code",
   "execution_count": 3,
   "metadata": {},
   "outputs": [],
   "source": [
    "# set the font size of plots\n",
    "plt.rcParams['font.size'] = 14"
   ]
  },
  {
   "cell_type": "code",
   "execution_count": 4,
   "metadata": {},
   "outputs": [],
   "source": [
    "np.set_printoptions(precision=3)"
   ]
  },
  {
   "cell_type": "code",
   "execution_count": 5,
   "metadata": {},
   "outputs": [],
   "source": [
    "import yellowbrick\n",
    "\n",
    "from yellowbrick.text import FreqDistVisualizer\n",
    "from yellowbrick.text import TSNEVisualizer"
   ]
  },
  {
   "cell_type": "code",
   "execution_count": 6,
   "metadata": {},
   "outputs": [],
   "source": [
    "from sklearn.preprocessing import normalize"
   ]
  },
  {
   "cell_type": "markdown",
   "metadata": {},
   "source": [
    "## Load word data from file"
   ]
  },
  {
   "cell_type": "code",
   "execution_count": 7,
   "metadata": {},
   "outputs": [
    {
     "data": {
      "text/html": [
       "<div>\n",
       "<style scoped>\n",
       "    .dataframe tbody tr th:only-of-type {\n",
       "        vertical-align: middle;\n",
       "    }\n",
       "\n",
       "    .dataframe tbody tr th {\n",
       "        vertical-align: top;\n",
       "    }\n",
       "\n",
       "    .dataframe thead th {\n",
       "        text-align: right;\n",
       "    }\n",
       "</style>\n",
       "<table border=\"1\" class=\"dataframe\">\n",
       "  <thead>\n",
       "    <tr style=\"text-align: right;\">\n",
       "      <th></th>\n",
       "      <th>word</th>\n",
       "      <th>lang_label</th>\n",
       "    </tr>\n",
       "  </thead>\n",
       "  <tbody>\n",
       "    <tr>\n",
       "      <th>0</th>\n",
       "      <td>آئ</td>\n",
       "      <td>MSA</td>\n",
       "    </tr>\n",
       "    <tr>\n",
       "      <th>1</th>\n",
       "      <td>آب</td>\n",
       "      <td>MSA</td>\n",
       "    </tr>\n",
       "    <tr>\n",
       "      <th>2</th>\n",
       "      <td>آباء</td>\n",
       "      <td>MSA</td>\n",
       "    </tr>\n",
       "    <tr>\n",
       "      <th>3</th>\n",
       "      <td>آبائه</td>\n",
       "      <td>MSA</td>\n",
       "    </tr>\n",
       "    <tr>\n",
       "      <th>4</th>\n",
       "      <td>آبائهم</td>\n",
       "      <td>MSA</td>\n",
       "    </tr>\n",
       "  </tbody>\n",
       "</table>\n",
       "</div>"
      ],
      "text/plain": [
       "     word lang_label\n",
       "0      آئ        MSA\n",
       "1      آب        MSA\n",
       "2    آباء        MSA\n",
       "3   آبائه        MSA\n",
       "4  آبائهم        MSA"
      ]
     },
     "execution_count": 7,
     "metadata": {},
     "output_type": "execute_result"
    }
   ],
   "source": [
    "filename = '../../results/Arabic_words_corpus_final.csv'\n",
    "df = pd.read_csv(filename, names=['word','lang_label'],header=None)\n",
    "df.head()"
   ]
  },
  {
   "cell_type": "code",
   "execution_count": 10,
   "metadata": {},
   "outputs": [
    {
     "data": {
      "text/plain": [
       "MSA    46895\n",
       "TN       787\n",
       "Name: lang_label, dtype: int64"
      ]
     },
     "execution_count": 10,
     "metadata": {},
     "output_type": "execute_result"
    }
   ],
   "source": [
    "df.lang_label.value_counts()"
   ]
  },
  {
   "cell_type": "code",
   "execution_count": 9,
   "metadata": {},
   "outputs": [
    {
     "data": {
      "text/plain": [
       "(46895, 2)"
      ]
     },
     "execution_count": 9,
     "metadata": {},
     "output_type": "execute_result"
    }
   ],
   "source": [
    "msa_words_corpus = df[df.lang_label==\"MSA\"]\n",
    "msa_words_corpus.shape"
   ]
  },
  {
   "cell_type": "markdown",
   "metadata": {},
   "source": [
    "****"
   ]
  },
  {
   "cell_type": "markdown",
   "metadata": {},
   "source": [
    "## Vector-Space representation of words\n",
    "using Bag-of-ngrams ..."
   ]
  },
  {
   "cell_type": "code",
   "execution_count": 404,
   "metadata": {},
   "outputs": [],
   "source": [
    "from sklearn.feature_extraction.text import CountVectorizer, TfidfVectorizer"
   ]
  },
  {
   "cell_type": "code",
   "execution_count": 405,
   "metadata": {},
   "outputs": [],
   "source": [
    "# Important hyperparameter: maximum order of ngram features\n",
    "N = 3"
   ]
  },
  {
   "cell_type": "code",
   "execution_count": 406,
   "metadata": {},
   "outputs": [],
   "source": [
    "# Notice the option analyzer='char_wb'\n",
    "#vectorizer = TfidfVectorizer(min_df=10, max_df=0.9, ngram_range=(1, N), analyzer='char_wb')\n",
    "vectorizer = CountVectorizer(min_df=1, max_df=0.9, ngram_range=(1, N), analyzer='char_wb')"
   ]
  },
  {
   "cell_type": "markdown",
   "metadata": {},
   "source": [
    "#### Calculate DTM matrix"
   ]
  },
  {
   "cell_type": "code",
   "execution_count": 407,
   "metadata": {},
   "outputs": [
    {
     "data": {
      "text/plain": [
       "(scipy.sparse.csr.csr_matrix, (40927, 12108))"
      ]
     },
     "execution_count": 407,
     "metadata": {},
     "output_type": "execute_result"
    }
   ],
   "source": [
    "words_features_mat = vectorizer.fit_transform(msa_words_corpus.word.tolist())\n",
    "type(words_features_mat), words_features_mat.shape"
   ]
  },
  {
   "cell_type": "code",
   "execution_count": 408,
   "metadata": {},
   "outputs": [
    {
     "data": {
      "text/plain": [
       "(0, 4)"
      ]
     },
     "execution_count": 408,
     "metadata": {},
     "output_type": "execute_result"
    }
   ],
   "source": [
    "words_features_mat.min(),words_features_mat.max()"
   ]
  },
  {
   "cell_type": "code",
   "execution_count": 409,
   "metadata": {},
   "outputs": [
    {
     "data": {
      "text/plain": [
       "0.14186305059467197"
      ]
     },
     "execution_count": 409,
     "metadata": {},
     "output_type": "execute_result"
    }
   ],
   "source": [
    "words_features_mat.nnz/words_features_mat.shape[0]/words_features_mat.shape[1]*100"
   ]
  },
  {
   "cell_type": "code",
   "execution_count": 410,
   "metadata": {},
   "outputs": [
    {
     "data": {
      "text/plain": [
       "(numpy.ndarray, (12108,))"
      ]
     },
     "execution_count": 410,
     "metadata": {},
     "output_type": "execute_result"
    }
   ],
   "source": [
    "feature_names = np.asarray(vectorizer.get_feature_names())\n",
    "type(feature_names),feature_names.shape"
   ]
  },
  {
   "cell_type": "markdown",
   "metadata": {},
   "source": [
    "*****"
   ]
  },
  {
   "cell_type": "markdown",
   "metadata": {},
   "source": [
    "## Dimensionality Reduction\n",
    "\n",
    "Tentative Methods:\n",
    "\n",
    "- Heuristic method: remove rare features\n",
    "- Non-linear dimensitionality reduction with t-SNE\n",
    "- Linear dimensionality reduction via PCA"
   ]
  },
  {
   "cell_type": "markdown",
   "metadata": {},
   "source": [
    "### Heuristic: remove rare features\n",
    "Rare features are those that occur less than *threshold* times in the corpus. For now we use *threhsold*=1."
   ]
  },
  {
   "cell_type": "code",
   "execution_count": 411,
   "metadata": {},
   "outputs": [
    {
     "data": {
      "text/html": [
       "<div>\n",
       "<style scoped>\n",
       "    .dataframe tbody tr th:only-of-type {\n",
       "        vertical-align: middle;\n",
       "    }\n",
       "\n",
       "    .dataframe tbody tr th {\n",
       "        vertical-align: top;\n",
       "    }\n",
       "\n",
       "    .dataframe thead th {\n",
       "        text-align: right;\n",
       "    }\n",
       "</style>\n",
       "<table border=\"1\" class=\"dataframe\">\n",
       "  <thead>\n",
       "    <tr style=\"text-align: right;\">\n",
       "      <th></th>\n",
       "      <th>feature</th>\n",
       "      <th>df</th>\n",
       "      <th>relative_df</th>\n",
       "      <th>max_tf</th>\n",
       "    </tr>\n",
       "  </thead>\n",
       "  <tbody>\n",
       "    <tr>\n",
       "      <th>0</th>\n",
       "      <td>آ</td>\n",
       "      <td>101</td>\n",
       "      <td>0.002468</td>\n",
       "      <td>1</td>\n",
       "    </tr>\n",
       "    <tr>\n",
       "      <th>1</th>\n",
       "      <td>آئ</td>\n",
       "      <td>1</td>\n",
       "      <td>0.000024</td>\n",
       "      <td>1</td>\n",
       "    </tr>\n",
       "    <tr>\n",
       "      <th>2</th>\n",
       "      <td>آب</td>\n",
       "      <td>7</td>\n",
       "      <td>0.000171</td>\n",
       "      <td>1</td>\n",
       "    </tr>\n",
       "    <tr>\n",
       "      <th>3</th>\n",
       "      <td>آت</td>\n",
       "      <td>3</td>\n",
       "      <td>0.000073</td>\n",
       "      <td>1</td>\n",
       "    </tr>\n",
       "    <tr>\n",
       "      <th>4</th>\n",
       "      <td>آث</td>\n",
       "      <td>10</td>\n",
       "      <td>0.000244</td>\n",
       "      <td>1</td>\n",
       "    </tr>\n",
       "  </tbody>\n",
       "</table>\n",
       "</div>"
      ],
      "text/plain": [
       "  feature   df  relative_df  max_tf\n",
       "0       آ  101     0.002468       1\n",
       "1      آئ    1     0.000024       1\n",
       "2      آب    7     0.000171       1\n",
       "3      آت    3     0.000073       1\n",
       "4      آث   10     0.000244       1"
      ]
     },
     "execution_count": 411,
     "metadata": {},
     "output_type": "execute_result"
    }
   ],
   "source": [
    "# Put properties of features in a data frame for convenience\n",
    "\n",
    "feature_properties_df = pd.DataFrame({'feature':feature_names})\n",
    "\n",
    "feature_properties_df['df'] = np.array((words_features_mat>0).sum(axis=0)).ravel()\n",
    "feature_properties_df['relative_df'] = (1.0/words_features_mat.shape[0])*feature_properties_df.df\n",
    "feature_properties_df['max_tf'] = words_features_mat.max(axis=0).toarray().ravel()\n",
    "\n",
    "feature_properties_df.head()"
   ]
  },
  {
   "cell_type": "code",
   "execution_count": 412,
   "metadata": {},
   "outputs": [
    {
     "data": {
      "text/html": [
       "<div>\n",
       "<style scoped>\n",
       "    .dataframe tbody tr th:only-of-type {\n",
       "        vertical-align: middle;\n",
       "    }\n",
       "\n",
       "    .dataframe tbody tr th {\n",
       "        vertical-align: top;\n",
       "    }\n",
       "\n",
       "    .dataframe thead th {\n",
       "        text-align: right;\n",
       "    }\n",
       "</style>\n",
       "<table border=\"1\" class=\"dataframe\">\n",
       "  <thead>\n",
       "    <tr style=\"text-align: right;\">\n",
       "      <th></th>\n",
       "      <th>feature</th>\n",
       "      <th>df</th>\n",
       "      <th>relative_df</th>\n",
       "      <th>max_tf</th>\n",
       "    </tr>\n",
       "  </thead>\n",
       "  <tbody>\n",
       "    <tr>\n",
       "      <th>1851</th>\n",
       "      <td>ا</td>\n",
       "      <td>25622</td>\n",
       "      <td>0.626041</td>\n",
       "      <td>4</td>\n",
       "    </tr>\n",
       "    <tr>\n",
       "      <th>8675</th>\n",
       "      <td>ل</td>\n",
       "      <td>20440</td>\n",
       "      <td>0.499426</td>\n",
       "      <td>4</td>\n",
       "    </tr>\n",
       "    <tr>\n",
       "      <th>11485</th>\n",
       "      <td>ي</td>\n",
       "      <td>13796</td>\n",
       "      <td>0.337088</td>\n",
       "      <td>3</td>\n",
       "    </tr>\n",
       "    <tr>\n",
       "      <th>2329</th>\n",
       "      <td>ال</td>\n",
       "      <td>13576</td>\n",
       "      <td>0.331713</td>\n",
       "      <td>2</td>\n",
       "    </tr>\n",
       "    <tr>\n",
       "      <th>10769</th>\n",
       "      <td>و</td>\n",
       "      <td>12955</td>\n",
       "      <td>0.316539</td>\n",
       "      <td>3</td>\n",
       "    </tr>\n",
       "    <tr>\n",
       "      <th>9476</th>\n",
       "      <td>م</td>\n",
       "      <td>11773</td>\n",
       "      <td>0.287659</td>\n",
       "      <td>3</td>\n",
       "    </tr>\n",
       "    <tr>\n",
       "      <th>3107</th>\n",
       "      <td>ت</td>\n",
       "      <td>11751</td>\n",
       "      <td>0.287121</td>\n",
       "      <td>3</td>\n",
       "    </tr>\n",
       "    <tr>\n",
       "      <th>5100</th>\n",
       "      <td>ر</td>\n",
       "      <td>11414</td>\n",
       "      <td>0.278887</td>\n",
       "      <td>2</td>\n",
       "    </tr>\n",
       "    <tr>\n",
       "      <th>85</th>\n",
       "      <td>ا</td>\n",
       "      <td>11151</td>\n",
       "      <td>0.272461</td>\n",
       "      <td>1</td>\n",
       "    </tr>\n",
       "    <tr>\n",
       "      <th>112</th>\n",
       "      <td>ال</td>\n",
       "      <td>9845</td>\n",
       "      <td>0.240550</td>\n",
       "      <td>1</td>\n",
       "    </tr>\n",
       "  </tbody>\n",
       "</table>\n",
       "</div>"
      ],
      "text/plain": [
       "      feature     df  relative_df  max_tf\n",
       "1851        ا  25622     0.626041       4\n",
       "8675        ل  20440     0.499426       4\n",
       "11485       ي  13796     0.337088       3\n",
       "2329       ال  13576     0.331713       2\n",
       "10769       و  12955     0.316539       3\n",
       "9476        م  11773     0.287659       3\n",
       "3107        ت  11751     0.287121       3\n",
       "5100        ر  11414     0.278887       2\n",
       "85          ا  11151     0.272461       1\n",
       "112        ال   9845     0.240550       1"
      ]
     },
     "execution_count": 412,
     "metadata": {},
     "output_type": "execute_result"
    }
   ],
   "source": [
    "feature_properties_df.sort_values(by='df', ascending=False).head(10)"
   ]
  },
  {
   "cell_type": "code",
   "execution_count": 413,
   "metadata": {},
   "outputs": [
    {
     "data": {
      "text/html": [
       "<div>\n",
       "<style scoped>\n",
       "    .dataframe tbody tr th:only-of-type {\n",
       "        vertical-align: middle;\n",
       "    }\n",
       "\n",
       "    .dataframe tbody tr th {\n",
       "        vertical-align: top;\n",
       "    }\n",
       "\n",
       "    .dataframe thead th {\n",
       "        text-align: right;\n",
       "    }\n",
       "</style>\n",
       "<table border=\"1\" class=\"dataframe\">\n",
       "  <thead>\n",
       "    <tr style=\"text-align: right;\">\n",
       "      <th></th>\n",
       "      <th>feature</th>\n",
       "      <th>df</th>\n",
       "      <th>relative_df</th>\n",
       "      <th>max_tf</th>\n",
       "    </tr>\n",
       "  </thead>\n",
       "  <tbody>\n",
       "    <tr>\n",
       "      <th>6053</th>\n",
       "      <td>سوخ</td>\n",
       "      <td>1</td>\n",
       "      <td>0.000024</td>\n",
       "      <td>1</td>\n",
       "    </tr>\n",
       "    <tr>\n",
       "      <th>4878</th>\n",
       "      <td>دلى</td>\n",
       "      <td>1</td>\n",
       "      <td>0.000024</td>\n",
       "      <td>1</td>\n",
       "    </tr>\n",
       "    <tr>\n",
       "      <th>4889</th>\n",
       "      <td>دمك</td>\n",
       "      <td>1</td>\n",
       "      <td>0.000024</td>\n",
       "      <td>1</td>\n",
       "    </tr>\n",
       "    <tr>\n",
       "      <th>4898</th>\n",
       "      <td>دنس</td>\n",
       "      <td>1</td>\n",
       "      <td>0.000024</td>\n",
       "      <td>1</td>\n",
       "    </tr>\n",
       "    <tr>\n",
       "      <th>11733</th>\n",
       "      <td>يرع</td>\n",
       "      <td>1</td>\n",
       "      <td>0.000024</td>\n",
       "      <td>1</td>\n",
       "    </tr>\n",
       "  </tbody>\n",
       "</table>\n",
       "</div>"
      ],
      "text/plain": [
       "      feature  df  relative_df  max_tf\n",
       "6053      سوخ   1     0.000024       1\n",
       "4878      دلى   1     0.000024       1\n",
       "4889      دمك   1     0.000024       1\n",
       "4898      دنس   1     0.000024       1\n",
       "11733     يرع   1     0.000024       1"
      ]
     },
     "execution_count": 413,
     "metadata": {},
     "output_type": "execute_result"
    }
   ],
   "source": [
    "feature_properties_df.sort_values(by='df', ascending=True).head()"
   ]
  },
  {
   "cell_type": "code",
   "execution_count": 414,
   "metadata": {},
   "outputs": [
    {
     "data": {
      "text/html": [
       "<div>\n",
       "<style scoped>\n",
       "    .dataframe tbody tr th:only-of-type {\n",
       "        vertical-align: middle;\n",
       "    }\n",
       "\n",
       "    .dataframe tbody tr th {\n",
       "        vertical-align: top;\n",
       "    }\n",
       "\n",
       "    .dataframe thead th {\n",
       "        text-align: right;\n",
       "    }\n",
       "</style>\n",
       "<table border=\"1\" class=\"dataframe\">\n",
       "  <thead>\n",
       "    <tr style=\"text-align: right;\">\n",
       "      <th></th>\n",
       "      <th>df</th>\n",
       "      <th>relative_df</th>\n",
       "      <th>max_tf</th>\n",
       "    </tr>\n",
       "  </thead>\n",
       "  <tbody>\n",
       "    <tr>\n",
       "      <th>df</th>\n",
       "      <td>1.0000</td>\n",
       "      <td>1.0000</td>\n",
       "      <td>0.5903</td>\n",
       "    </tr>\n",
       "    <tr>\n",
       "      <th>relative_df</th>\n",
       "      <td>1.0000</td>\n",
       "      <td>1.0000</td>\n",
       "      <td>0.5903</td>\n",
       "    </tr>\n",
       "    <tr>\n",
       "      <th>max_tf</th>\n",
       "      <td>0.5903</td>\n",
       "      <td>0.5903</td>\n",
       "      <td>1.0000</td>\n",
       "    </tr>\n",
       "  </tbody>\n",
       "</table>\n",
       "</div>"
      ],
      "text/plain": [
       "                 df  relative_df  max_tf\n",
       "df           1.0000       1.0000  0.5903\n",
       "relative_df  1.0000       1.0000  0.5903\n",
       "max_tf       0.5903       0.5903  1.0000"
      ]
     },
     "execution_count": 414,
     "metadata": {},
     "output_type": "execute_result"
    }
   ],
   "source": [
    "feature_properties_df.corr()"
   ]
  },
  {
   "cell_type": "code",
   "execution_count": 415,
   "metadata": {},
   "outputs": [
    {
     "data": {
      "text/html": [
       "<div>\n",
       "<style scoped>\n",
       "    .dataframe tbody tr th:only-of-type {\n",
       "        vertical-align: middle;\n",
       "    }\n",
       "\n",
       "    .dataframe tbody tr th {\n",
       "        vertical-align: top;\n",
       "    }\n",
       "\n",
       "    .dataframe thead th {\n",
       "        text-align: right;\n",
       "    }\n",
       "</style>\n",
       "<table border=\"1\" class=\"dataframe\">\n",
       "  <thead>\n",
       "    <tr style=\"text-align: right;\">\n",
       "      <th></th>\n",
       "      <th>df</th>\n",
       "      <th>relative_df</th>\n",
       "      <th>max_tf</th>\n",
       "    </tr>\n",
       "  </thead>\n",
       "  <tbody>\n",
       "    <tr>\n",
       "      <th>count</th>\n",
       "      <td>12108.000000</td>\n",
       "      <td>12108.000000</td>\n",
       "      <td>12108.000000</td>\n",
       "    </tr>\n",
       "    <tr>\n",
       "      <th>mean</th>\n",
       "      <td>58.060291</td>\n",
       "      <td>0.001419</td>\n",
       "      <td>1.012389</td>\n",
       "    </tr>\n",
       "    <tr>\n",
       "      <th>std</th>\n",
       "      <td>505.744575</td>\n",
       "      <td>0.012357</td>\n",
       "      <td>0.120618</td>\n",
       "    </tr>\n",
       "    <tr>\n",
       "      <th>min</th>\n",
       "      <td>1.000000</td>\n",
       "      <td>0.000024</td>\n",
       "      <td>1.000000</td>\n",
       "    </tr>\n",
       "    <tr>\n",
       "      <th>25%</th>\n",
       "      <td>3.000000</td>\n",
       "      <td>0.000073</td>\n",
       "      <td>1.000000</td>\n",
       "    </tr>\n",
       "    <tr>\n",
       "      <th>50%</th>\n",
       "      <td>8.000000</td>\n",
       "      <td>0.000195</td>\n",
       "      <td>1.000000</td>\n",
       "    </tr>\n",
       "    <tr>\n",
       "      <th>75%</th>\n",
       "      <td>24.000000</td>\n",
       "      <td>0.000586</td>\n",
       "      <td>1.000000</td>\n",
       "    </tr>\n",
       "    <tr>\n",
       "      <th>max</th>\n",
       "      <td>25622.000000</td>\n",
       "      <td>0.626041</td>\n",
       "      <td>4.000000</td>\n",
       "    </tr>\n",
       "  </tbody>\n",
       "</table>\n",
       "</div>"
      ],
      "text/plain": [
       "                 df   relative_df        max_tf\n",
       "count  12108.000000  12108.000000  12108.000000\n",
       "mean      58.060291      0.001419      1.012389\n",
       "std      505.744575      0.012357      0.120618\n",
       "min        1.000000      0.000024      1.000000\n",
       "25%        3.000000      0.000073      1.000000\n",
       "50%        8.000000      0.000195      1.000000\n",
       "75%       24.000000      0.000586      1.000000\n",
       "max    25622.000000      0.626041      4.000000"
      ]
     },
     "execution_count": 415,
     "metadata": {},
     "output_type": "execute_result"
    }
   ],
   "source": [
    "feature_properties_df.describe()"
   ]
  },
  {
   "cell_type": "code",
   "execution_count": 416,
   "metadata": {},
   "outputs": [],
   "source": [
    "# sns.pairplot(feature_properties_df)"
   ]
  },
  {
   "cell_type": "code",
   "execution_count": 417,
   "metadata": {},
   "outputs": [
    {
     "data": {
      "text/plain": [
       "(1784, 1165, 831)"
      ]
     },
     "execution_count": 417,
     "metadata": {},
     "output_type": "execute_result"
    }
   ],
   "source": [
    "# TO DO: plot CDF of feature_properties_df.df\n",
    "\n",
    "(feature_properties_df.df==1).sum(),(feature_properties_df.df==2).sum(),(feature_properties_df.df==3).sum()"
   ]
  },
  {
   "cell_type": "code",
   "execution_count": 418,
   "metadata": {},
   "outputs": [],
   "source": [
    "# Identify rare features\n",
    "bool_vect = feature_properties_df.df==1\n",
    "indices = np.where(bool_vect)[0]"
   ]
  },
  {
   "cell_type": "code",
   "execution_count": 419,
   "metadata": {},
   "outputs": [
    {
     "data": {
      "text/plain": [
       "1784"
      ]
     },
     "execution_count": 419,
     "metadata": {},
     "output_type": "execute_result"
    }
   ],
   "source": [
    "# Number of rare features to be removed\n",
    "len(indices)"
   ]
  },
  {
   "cell_type": "code",
   "execution_count": 420,
   "metadata": {},
   "outputs": [
    {
     "data": {
      "text/plain": [
       "3    1750\n",
       "2      34\n",
       "Name: feature, dtype: int64"
      ]
     },
     "execution_count": 420,
     "metadata": {},
     "output_type": "execute_result"
    }
   ],
   "source": [
    "# length distribution of these rare features\n",
    "feature_properties_df[bool_vect].feature.map(len).value_counts()"
   ]
  },
  {
   "cell_type": "code",
   "execution_count": 421,
   "metadata": {},
   "outputs": [],
   "source": [
    "# List of rare features to be removed\n",
    "# print(feature_properties_df[bool_vect].feature.tolist())"
   ]
  },
  {
   "cell_type": "code",
   "execution_count": 422,
   "metadata": {},
   "outputs": [
    {
     "name": "stdout",
     "output_type": "stream",
     "text": [
      "[' دة', ' آك', 'عمن', 'دلك', 'صدة', 'يثأ', 'صيق', 'رقق', 'قرم', 'لئل', 'كذ ', 'مرر', 'رسع', ' ضت', 'نسة', 'صدع', 'بثه', 'رهت', 'هنك', 'لؤه', 'باص', 'ضتا', 'أيب', 'نتط', 'أقض', 'إرج', 'ءمة', 'ورخ', 'سحن', 'مغب', 'عص ', 'تؤس', 'بثت', 'اذل', 'مزب', 'وئه', 'طىء', 'عهن', 'يهج', 'شطا', 'أرخ', 'ءون', 'نيخ', 'يظف', 'ردش', 'شفط', 'إا', 'بطع', 'هئي', 'ضئ ', 'بكأ', 'خاك', 'قوه', 'قرئ', 'ذيع', 'دبث', 'أفن', 'إرب', 'يضخ', 'حح ', 'جرؤ', 'هنت', 'أظف', 'قتذ', 'فث', 'رجس', 'آها', 'للؤ', 'تعش', 'رثى', 'بثم', 'أضخ', 'برؤ', 'فحل', 'حقك', 'سلى', 'تضف', 'سوغ', 'أك ', 'وإغ', 'ذلا', 'رصو', 'ضنة', 'نزه', 'ثرى', 'طام', 'بشغ', 'حلك', 'خفت', 'عاظ', 'وثر', 'طئه', 'نحط', ' صت', 'نغه', 'وسح', 'ربص', 'كثب', 'تضت', 'يقذ']\n"
     ]
    }
   ],
   "source": [
    "# Random sample of 100 of these rare features\n",
    "\n",
    "print(feature_properties_df[bool_vect].feature.sample(n=100).tolist())"
   ]
  },
  {
   "cell_type": "code",
   "execution_count": 423,
   "metadata": {},
   "outputs": [
    {
     "data": {
      "text/plain": [
       "(numpy.ndarray, (40927,))"
      ]
     },
     "execution_count": 423,
     "metadata": {},
     "output_type": "execute_result"
    }
   ],
   "source": [
    "# Select words that contain rare features\n",
    "\n",
    "# number of rare features in each word\n",
    "nb_rare_features_per_word = np.array((words_features_mat[:,indices]).sum(axis=1)).ravel()\n",
    "type(nb_rare_features_per_word), nb_rare_features_per_word.shape"
   ]
  },
  {
   "cell_type": "code",
   "execution_count": 424,
   "metadata": {},
   "outputs": [
    {
     "data": {
      "text/plain": [
       "0    39331\n",
       "1     1455\n",
       "2      101\n",
       "3       34\n",
       "4        5\n",
       "5        1\n",
       "dtype: int64"
      ]
     },
     "execution_count": 424,
     "metadata": {},
     "output_type": "execute_result"
    }
   ],
   "source": [
    "pd.Series(nb_rare_features_per_word).value_counts()"
   ]
  },
  {
   "cell_type": "code",
   "execution_count": 438,
   "metadata": {},
   "outputs": [
    {
     "name": "stdout",
     "output_type": "stream",
     "text": [
      "1596\n",
      "['بظروف', 'أشمل', 'ضمها', 'غز', 'فبراير', 'استفزاز', 'قلج', 'وهشام', 'الإخشيد', 'الدؤوب', 'بدءوا', 'سبقوه', 'مهنته', 'نسعى', 'غدت', 'يشأ', 'الإعياء', 'أدرى', 'تؤسس', 'جة', 'أث', 'يسئ', 'لوذريق', 'ذياب', 'كنوز', 'إقمار', 'تفنى', 'الألفبائي', 'فتزوجها', 'تكذبني', 'المعتضد', 'حزنت', 'الإغماء', 'حفظكم', 'تساءلت', 'وزكاة', 'اللفظية', 'بحثت', 'غيض', 'يؤشر', 'بكأس', 'أخو', 'ضفاف', 'راسلنا', 'دحلان', 'كمسلمين', 'الأفطس', 'وهتك', 'ثالثهما', 'شنت', 'الدردري', 'القضبان', 'رامز', 'الليمفاوية', 'يء', 'فأذن', 'بيضتان', 'الإكتئاب', 'تعكف', 'وأردف', 'ابومعاشي', 'ورئيس', 'الضجر', 'أعطني', 'تبصر', 'الحضيض', 'استفدت', 'بوش', 'تغتسل', 'التآمر', 'قزوين', 'آد', 'المفلس', 'أقضي', 'آه', 'تضفي', 'يبطئ', 'ووحدة', 'البغاء', 'بأغلبية', 'قحطان', 'التأقلم', 'أدفع', 'أتأمل', 'المغص', 'هرقل', 'الاوعية', 'إقفال', 'وضد', 'جت', 'الإعتماد', 'المواعظ', 'نوضح', 'علشان', 'تحطمت', 'فمي', 'إرجاع', 'مأرب', 'كدش', 'ترفرف', 'برغر', 'سأقول', 'قبضه', 'القاوقجي', 'إشغال', 'يضخ', 'ساذجة', 'خطئه', 'مازيمبي', 'زخم', 'وسئل', 'صت', 'بميزان', 'أيدى', 'خد', 'قرمونة', 'مثلنا', 'الجرجير', 'بشق', 'القطط', 'خصصنا', 'ويثمور', 'ملئ', 'العثور', 'كنف', 'بثمن', 'يغدو', 'نطرح', 'يوغسلافيا', 'ممدوح', 'رفح', 'عشت', 'ببضع', 'تايلر', 'يقشر', 'تغمس', 'عقلك', 'لهيعة', 'ترتجف', 'الإصحاح', 'جاءكم', 'الآجلة', 'الهلع', 'التناسلى', 'ارتخاء', 'فعسى', 'تخصصه', 'فنعم', 'يسفر', 'فكذلك', 'النبيذ', 'المأثور', 'الزئبق', 'فاظفر', 'نأخذ', 'يشق', 'الغاشم', 'ولكنى', 'الزهور', 'فجزاه', 'رجعنا', 'عى', 'شرم', 'البرغل', 'فشق', 'المحافظين', 'الإكليل', 'آجلا', 'رغيف', 'ستذهب', 'عرضك', 'يجرؤ', 'أذربيجان', 'ضخامة', 'أعثر', 'فهرنهايت', 'الباص', 'روزفلت', 'اأ', 'قعر', 'إنى', 'يخططون', 'بشن', 'توشك', 'جزأين', 'الشنقيطي', 'ستزيد', 'ملجأ', 'ستؤدي', 'كحد', 'وصمة', 'فقبل', 'المصرى', 'دت', 'المساحيق', 'إفشاء', 'دنس', 'القوقاز', 'المشمش', 'أضخم']\n"
     ]
    }
   ],
   "source": [
    "## Words that contain rare features\n",
    "\n",
    "# Number of these words\n",
    "print((nb_rare_features_per_word>=1).sum())\n",
    "\n",
    "# List of these words\n",
    "# print(msa_words_corpus[nb_rare_features_per_word>=1].word.tolist())\n",
    "\n",
    "# Random sample of 200 of these words\n",
    "print(msa_words_corpus[nb_rare_features_per_word>=1].word.sample(n=200).tolist())"
   ]
  },
  {
   "cell_type": "markdown",
   "metadata": {},
   "source": [
    "******"
   ]
  },
  {
   "cell_type": "markdown",
   "metadata": {},
   "source": [
    "### Non-linear dimensionality reduction with t-SNE\n",
    "\n",
    "Actually, this is really a visualization method ... does not work on out-of-sample data ..."
   ]
  },
  {
   "cell_type": "markdown",
   "metadata": {},
   "source": [
    "Yellowbrick's ``yellowbrick.text`` module contains two text visualizers:\n",
    "- Token Frequency Distribution (``FreqDistVisualizer``): plot the frequency of tokens in a corpus.\n",
    "- t-SNE Corpus Visualization (``TSNEVisualizer``): plot similar documents closer together to discover clusters.\n",
    "\n",
    "Reference: https://www.districtdatalabs.com/text-analytics-with-yellowbrick/"
   ]
  },
  {
   "cell_type": "code",
   "execution_count": 94,
   "metadata": {},
   "outputs": [
    {
     "data": {
      "text/plain": [
       "(189514, 15331)"
      ]
     },
     "execution_count": 94,
     "metadata": {},
     "output_type": "execute_result"
    }
   ],
   "source": [
    "X = words_features_mat\n",
    "X.shape"
   ]
  },
  {
   "cell_type": "code",
   "execution_count": 95,
   "metadata": {},
   "outputs": [],
   "source": [
    "## Apply length normalization on row vectors of X so that cosine similarity becomes equivalent to euclidean distance\n",
    "\n",
    "# X_norm = normalize(X, norm='l2', axis=1, copy=True, return_norm=False)\n",
    "# type(X_norm),X_norm.shape"
   ]
  },
  {
   "cell_type": "code",
   "execution_count": 96,
   "metadata": {},
   "outputs": [],
   "source": [
    "if False:\n",
    "    visualizer = FreqDistVisualizer(features=feature_names)\n",
    "    visualizer.fit(words_features_mat)\n",
    "    visualizer.poof()"
   ]
  },
  {
   "cell_type": "code",
   "execution_count": 97,
   "metadata": {},
   "outputs": [],
   "source": [
    "if False:\n",
    "    tsne = TSNEVisualizer(decompose_by=50)   ##decompose=None\n",
    "    tsne.fit_transform(X)\n",
    "    tsne.poof()"
   ]
  },
  {
   "cell_type": "code",
   "execution_count": 98,
   "metadata": {},
   "outputs": [],
   "source": [
    "if False:\n",
    "    tsne2 = TSNEVisualizer(decompose_by=50)\n",
    "    tsne2.fit_transform(X_norm)\n",
    "    tsne2.poof()"
   ]
  },
  {
   "cell_type": "markdown",
   "metadata": {},
   "source": [
    "****"
   ]
  },
  {
   "cell_type": "markdown",
   "metadata": {},
   "source": [
    "### Linear Dimensionality Reduction"
   ]
  },
  {
   "cell_type": "markdown",
   "metadata": {},
   "source": [
    "PCA is inefficient on large sparse data.\n",
    "\n",
    "We will instead do dimensionality reduction via truncated SVD (aka LSA).\n",
    "\n",
    "From docstring of `TruncatedSVD`:\n",
    "\n",
    "*This transformer performs linear dimensionality reduction by means of truncated singular value decomposition (SVD). Contrary to PCA, this estimator does not center the data before computing the singular value decomposition. This means it can work with scipy.sparse matrices efficiently.\n",
    "In particular, truncated SVD works on term count/tf-idf matrices as returned by the vectorizers in sklearn.feature_extraction.text. In that context, it is known as latent semantic analysis (LSA).*"
   ]
  },
  {
   "cell_type": "code",
   "execution_count": 99,
   "metadata": {},
   "outputs": [],
   "source": [
    "from sklearn.decomposition import PCA, TruncatedSVD\n",
    "from sklearn.preprocessing import StandardScaler"
   ]
  },
  {
   "cell_type": "code",
   "execution_count": 100,
   "metadata": {},
   "outputs": [],
   "source": [
    "def PCA_wrapper(X, norm_X=False):\n",
    "\n",
    "    # whiten the features\n",
    "    if norm_X:\n",
    "        X = StandardScaler(with_mean=False).fit_transform(X)\n",
    "\n",
    "    pca = PCA()\n",
    "    transformed_X = pca.fit_transform(X)\n",
    "\n",
    "    # Look at the percentage of variance explained by the different components\n",
    "    print(np.cumsum(pca.explained_variance_ratio_))\n",
    "    plt.plot(np.cumsum(pca.explained_variance_ratio_))\n",
    "    plt.show()\n",
    "\n",
    "    # sns.pairplot(pd.DataFrame(transformed_X[:,0:3]))\n",
    "\n",
    "    # Plot data in 2D\n",
    "    plt.scatter(transformed_X[:,0],transformed_X[:,1])\n",
    "    plt.axis('equal')\n",
    "    plt.show()\n",
    "    \n",
    "    return transformed_X"
   ]
  },
  {
   "cell_type": "code",
   "execution_count": 101,
   "metadata": {},
   "outputs": [],
   "source": [
    "# TypeError: PCA does not support sparse input. See TruncatedSVD for a possible alternative.\n",
    "# PCA_wrapper(X)"
   ]
  },
  {
   "cell_type": "code",
   "execution_count": 102,
   "metadata": {},
   "outputs": [],
   "source": [
    "# ?TruncatedSVD"
   ]
  },
  {
   "cell_type": "code",
   "execution_count": 103,
   "metadata": {},
   "outputs": [
    {
     "data": {
      "text/plain": [
       "((189514, 15331), (189514, 500))"
      ]
     },
     "execution_count": 103,
     "metadata": {},
     "output_type": "execute_result"
    }
   ],
   "source": [
    "tsvd = TruncatedSVD(n_components=500, algorithm='randomized', n_iter=5, random_state=None, tol=0.0)\n",
    "transformed_X = tsvd.fit_transform(X)\n",
    "X.shape, transformed_X.shape"
   ]
  },
  {
   "cell_type": "code",
   "execution_count": 104,
   "metadata": {},
   "outputs": [
    {
     "name": "stdout",
     "output_type": "stream",
     "text": [
      "0.7616651423032479\n"
     ]
    },
    {
     "data": {
      "image/png": "[encoded data removed]",
      "text/plain": [
       "<matplotlib.figure.Figure at 0x1ac79a6a8d0>"
      ]
     },
     "metadata": {},
     "output_type": "display_data"
    },
    {
     "data": {
      "text/plain": [
       "Text(0.5,0,'component number')"
      ]
     },
     "execution_count": 104,
     "metadata": {},
     "output_type": "execute_result"
    },
    {
     "data": {
      "image/png": "[encoded data removed]",
      "text/plain": [
       "<matplotlib.figure.Figure at 0x1ac7190abe0>"
      ]
     },
     "metadata": {},
     "output_type": "display_data"
    }
   ],
   "source": [
    "print(tsvd.explained_variance_ratio_.sum())\n",
    "plt.plot(tsvd.explained_variance_ratio_.cumsum())\n",
    "plt.title('Cumulative explained variance ratio')\n",
    "plt.xlabel('component number')\n",
    "plt.show()\n",
    "plt.plot(tsvd.singular_values_)\n",
    "plt.ylabel('singular value')\n",
    "plt.xlabel('component number')"
   ]
  },
  {
   "cell_type": "code",
   "execution_count": 105,
   "metadata": {},
   "outputs": [
    {
     "data": {
      "text/plain": [
       "(numpy.ndarray, (500, 15331))"
      ]
     },
     "execution_count": 105,
     "metadata": {},
     "output_type": "execute_result"
    }
   ],
   "source": [
    "type(tsvd.components_),tsvd.components_.shape"
   ]
  },
  {
   "cell_type": "code",
   "execution_count": 106,
   "metadata": {},
   "outputs": [
    {
     "data": {
      "text/plain": [
       "(-0.7024619971283844, 0.7890208702102162)"
      ]
     },
     "execution_count": 106,
     "metadata": {},
     "output_type": "execute_result"
    }
   ],
   "source": [
    "tsvd.components_.min(),tsvd.components_.max()"
   ]
  },
  {
   "cell_type": "code",
   "execution_count": 107,
   "metadata": {},
   "outputs": [],
   "source": [
    "# sns.heatmap(tsvd.components_, cbar=True)"
   ]
  },
  {
   "cell_type": "code",
   "execution_count": 108,
   "metadata": {},
   "outputs": [],
   "source": [
    "if False:\n",
    "    plt.plot(tsvd.components_[0,:],label='component 0')\n",
    "    plt.plot(tsvd.components_[1,:],label='component 1')\n",
    "    plt.plot(tsvd.components_[2,:],label='component 2')\n",
    "    plt.plot(tsvd.components_[100,:],label='component 100')\n",
    "    plt.legend()"
   ]
  },
  {
   "cell_type": "markdown",
   "metadata": {},
   "source": [
    "****"
   ]
  },
  {
   "cell_type": "markdown",
   "metadata": {},
   "source": [
    "## Anomaly detection via clustering"
   ]
  },
  {
   "cell_type": "markdown",
   "metadata": {},
   "source": [
    "### K-Means Clustering"
   ]
  },
  {
   "cell_type": "code",
   "execution_count": 109,
   "metadata": {},
   "outputs": [],
   "source": [
    "from sklearn.cluster import KMeans, MiniBatchKMeans\n",
    "from sklearn.metrics import silhouette_score"
   ]
  },
  {
   "cell_type": "code",
   "execution_count": 110,
   "metadata": {},
   "outputs": [],
   "source": [
    "?KMeans\n",
    "#KMeans(n_clusters=8, init='k-means++', n_init=10, max_iter=300, tol=0.0001, precompute_distances='auto', verbose=0, random_state=None, copy_x=True, n_jobs=1, algorithm='auto')"
   ]
  },
  {
   "cell_type": "code",
   "execution_count": 111,
   "metadata": {},
   "outputs": [],
   "source": [
    "#?MiniBatchKMeans\n",
    "#MiniBatchKMeans(n_clusters=8, init=’k-means++’, max_iter=100, batch_size=100, verbose=0, compute_labels=True, random_state=None, tol=0.0, max_no_improvement=10, init_size=None, n_init=3, reassignment_ratio=0.01)"
   ]
  },
  {
   "cell_type": "code",
   "execution_count": 112,
   "metadata": {},
   "outputs": [],
   "source": [
    "def kmeans_helper(X_,K_values, norm_X=False, comp_silh_score=False):\n",
    "    Sum_of_squared_distances = []\n",
    "    silh_scores = [0]\n",
    "    if norm_X:\n",
    "        X_ = normalize(X_, norm='l2', axis=1, copy=False, return_norm=False)\n",
    "    for k in K_values:\n",
    "        #print(k)\n",
    "        km = MiniBatchKMeans(n_clusters=k, random_state=5)\n",
    "        km.fit(X_)\n",
    "        Sum_of_squared_distances.append(km.inertia_)\n",
    "        if comp_silh_score and k>1:\n",
    "            silh_scores.append(silhouette_score(X_, km.labels_, metric='euclidean'))\n",
    "    plt.plot(K_values,Sum_of_squared_distances)\n",
    "    plt.title('SSD vs. nb_clusters')\n",
    "    plt.show()\n",
    "    if comp_silh_score:\n",
    "        plt.plot(K_values,silh_scores)\n",
    "        plt.title('Silhouette Score vs. nb_clusters')\n",
    "        plt.show()"
   ]
  },
  {
   "cell_type": "code",
   "execution_count": 113,
   "metadata": {},
   "outputs": [],
   "source": [
    "K_values = range(1,202,3)"
   ]
  },
  {
   "cell_type": "code",
   "execution_count": 114,
   "metadata": {},
   "outputs": [
    {
     "ename": "KeyboardInterrupt",
     "evalue": "",
     "output_type": "error",
     "traceback": [
      "\u001b[1;31m---------------------------------------------------------------------------\u001b[0m",
      "\u001b[1;31mKeyboardInterrupt\u001b[0m                         Traceback (most recent call last)",
      "\u001b[1;32m<timed eval>\u001b[0m in \u001b[0;36m<module>\u001b[1;34m()\u001b[0m\n",
      "\u001b[1;32m<ipython-input-112-1a30bb67399d>\u001b[0m in \u001b[0;36mkmeans_helper\u001b[1;34m(X_, K_values, norm_X, comp_silh_score)\u001b[0m\n\u001b[0;32m      7\u001b[0m         \u001b[1;31m#print(k)\u001b[0m\u001b[1;33m\u001b[0m\u001b[1;33m\u001b[0m\u001b[0m\n\u001b[0;32m      8\u001b[0m         \u001b[0mkm\u001b[0m \u001b[1;33m=\u001b[0m \u001b[0mMiniBatchKMeans\u001b[0m\u001b[1;33m(\u001b[0m\u001b[0mn_clusters\u001b[0m\u001b[1;33m=\u001b[0m\u001b[0mk\u001b[0m\u001b[1;33m,\u001b[0m \u001b[0mrandom_state\u001b[0m\u001b[1;33m=\u001b[0m\u001b[1;36m5\u001b[0m\u001b[1;33m)\u001b[0m\u001b[1;33m\u001b[0m\u001b[0m\n\u001b[1;32m----> 9\u001b[1;33m         \u001b[0mkm\u001b[0m\u001b[1;33m.\u001b[0m\u001b[0mfit\u001b[0m\u001b[1;33m(\u001b[0m\u001b[0mX_\u001b[0m\u001b[1;33m)\u001b[0m\u001b[1;33m\u001b[0m\u001b[0m\n\u001b[0m\u001b[0;32m     10\u001b[0m         \u001b[0mSum_of_squared_distances\u001b[0m\u001b[1;33m.\u001b[0m\u001b[0mappend\u001b[0m\u001b[1;33m(\u001b[0m\u001b[0mkm\u001b[0m\u001b[1;33m.\u001b[0m\u001b[0minertia_\u001b[0m\u001b[1;33m)\u001b[0m\u001b[1;33m\u001b[0m\u001b[0m\n\u001b[0;32m     11\u001b[0m         \u001b[1;32mif\u001b[0m \u001b[0mcomp_silh_score\u001b[0m \u001b[1;32mand\u001b[0m \u001b[0mk\u001b[0m\u001b[1;33m>\u001b[0m\u001b[1;36m1\u001b[0m\u001b[1;33m:\u001b[0m\u001b[1;33m\u001b[0m\u001b[0m\n",
      "\u001b[1;32m~\\Anaconda3\\lib\\site-packages\\sklearn\\cluster\\k_means_.py\u001b[0m in \u001b[0;36mfit\u001b[1;34m(self, X, y, sample_weight)\u001b[0m\n\u001b[0;32m   1591\u001b[0m             \u001b[1;31m# Perform the actual update step on the minibatch data\u001b[0m\u001b[1;33m\u001b[0m\u001b[1;33m\u001b[0m\u001b[0m\n\u001b[0;32m   1592\u001b[0m             batch_inertia, centers_squared_diff = _mini_batch_step(\n\u001b[1;32m-> 1593\u001b[1;33m                 \u001b[0mX\u001b[0m\u001b[1;33m[\u001b[0m\u001b[0mminibatch_indices\u001b[0m\u001b[1;33m]\u001b[0m\u001b[1;33m,\u001b[0m \u001b[0msample_weight\u001b[0m\u001b[1;33m[\u001b[0m\u001b[0mminibatch_indices\u001b[0m\u001b[1;33m]\u001b[0m\u001b[1;33m,\u001b[0m\u001b[1;33m\u001b[0m\u001b[0m\n\u001b[0m\u001b[0;32m   1594\u001b[0m                 \u001b[0mx_squared_norms\u001b[0m\u001b[1;33m[\u001b[0m\u001b[0mminibatch_indices\u001b[0m\u001b[1;33m]\u001b[0m\u001b[1;33m,\u001b[0m\u001b[1;33m\u001b[0m\u001b[0m\n\u001b[0;32m   1595\u001b[0m                 \u001b[0mself\u001b[0m\u001b[1;33m.\u001b[0m\u001b[0mcluster_centers_\u001b[0m\u001b[1;33m,\u001b[0m \u001b[0mself\u001b[0m\u001b[1;33m.\u001b[0m\u001b[0mcounts_\u001b[0m\u001b[1;33m,\u001b[0m\u001b[1;33m\u001b[0m\u001b[0m\n",
      "\u001b[1;32m~\\Anaconda3\\lib\\site-packages\\scipy\\sparse\\csr.py\u001b[0m in \u001b[0;36m__getitem__\u001b[1;34m(self, key)\u001b[0m\n\u001b[0;32m    315\u001b[0m             \u001b[1;32mif\u001b[0m \u001b[0misintlike\u001b[0m\u001b[1;33m(\u001b[0m\u001b[0mcol\u001b[0m\u001b[1;33m)\u001b[0m \u001b[1;32mor\u001b[0m \u001b[0misinstance\u001b[0m\u001b[1;33m(\u001b[0m\u001b[0mcol\u001b[0m\u001b[1;33m,\u001b[0m\u001b[0mslice\u001b[0m\u001b[1;33m)\u001b[0m\u001b[1;33m:\u001b[0m\u001b[1;33m\u001b[0m\u001b[0m\n\u001b[0;32m    316\u001b[0m                 \u001b[0mP\u001b[0m \u001b[1;33m=\u001b[0m \u001b[0mextractor\u001b[0m\u001b[1;33m(\u001b[0m\u001b[0mrow\u001b[0m\u001b[1;33m,\u001b[0m \u001b[0mself\u001b[0m\u001b[1;33m.\u001b[0m\u001b[0mshape\u001b[0m\u001b[1;33m[\u001b[0m\u001b[1;36m0\u001b[0m\u001b[1;33m]\u001b[0m\u001b[1;33m)\u001b[0m     \u001b[1;31m# [[1,2],j] or [[1,2],1:2]\u001b[0m\u001b[1;33m\u001b[0m\u001b[0m\n\u001b[1;32m--> 317\u001b[1;33m                 \u001b[0mextracted\u001b[0m \u001b[1;33m=\u001b[0m \u001b[0mP\u001b[0m \u001b[1;33m*\u001b[0m \u001b[0mself\u001b[0m\u001b[1;33m\u001b[0m\u001b[0m\n\u001b[0m\u001b[0;32m    318\u001b[0m                 \u001b[1;32mif\u001b[0m \u001b[0mcol\u001b[0m \u001b[1;33m==\u001b[0m \u001b[0mslice\u001b[0m\u001b[1;33m(\u001b[0m\u001b[1;32mNone\u001b[0m\u001b[1;33m,\u001b[0m \u001b[1;32mNone\u001b[0m\u001b[1;33m,\u001b[0m \u001b[1;32mNone\u001b[0m\u001b[1;33m)\u001b[0m\u001b[1;33m:\u001b[0m\u001b[1;33m\u001b[0m\u001b[0m\n\u001b[0;32m    319\u001b[0m                     \u001b[1;32mreturn\u001b[0m \u001b[0mextracted\u001b[0m\u001b[1;33m\u001b[0m\u001b[0m\n",
      "\u001b[1;32m~\\Anaconda3\\lib\\site-packages\\scipy\\sparse\\base.py\u001b[0m in \u001b[0;36m__mul__\u001b[1;34m(self, other)\u001b[0m\n\u001b[0;32m    477\u001b[0m             \u001b[1;32mif\u001b[0m \u001b[0mself\u001b[0m\u001b[1;33m.\u001b[0m\u001b[0mshape\u001b[0m\u001b[1;33m[\u001b[0m\u001b[1;36m1\u001b[0m\u001b[1;33m]\u001b[0m \u001b[1;33m!=\u001b[0m \u001b[0mother\u001b[0m\u001b[1;33m.\u001b[0m\u001b[0mshape\u001b[0m\u001b[1;33m[\u001b[0m\u001b[1;36m0\u001b[0m\u001b[1;33m]\u001b[0m\u001b[1;33m:\u001b[0m\u001b[1;33m\u001b[0m\u001b[0m\n\u001b[0;32m    478\u001b[0m                 \u001b[1;32mraise\u001b[0m \u001b[0mValueError\u001b[0m\u001b[1;33m(\u001b[0m\u001b[1;34m'dimension mismatch'\u001b[0m\u001b[1;33m)\u001b[0m\u001b[1;33m\u001b[0m\u001b[0m\n\u001b[1;32m--> 479\u001b[1;33m             \u001b[1;32mreturn\u001b[0m \u001b[0mself\u001b[0m\u001b[1;33m.\u001b[0m\u001b[0m_mul_sparse_matrix\u001b[0m\u001b[1;33m(\u001b[0m\u001b[0mother\u001b[0m\u001b[1;33m)\u001b[0m\u001b[1;33m\u001b[0m\u001b[0m\n\u001b[0m\u001b[0;32m    480\u001b[0m \u001b[1;33m\u001b[0m\u001b[0m\n\u001b[0;32m    481\u001b[0m         \u001b[1;31m# If it's a list or whatever, treat it like a matrix\u001b[0m\u001b[1;33m\u001b[0m\u001b[1;33m\u001b[0m\u001b[0m\n",
      "\u001b[1;32m~\\Anaconda3\\lib\\site-packages\\scipy\\sparse\\compressed.py\u001b[0m in \u001b[0;36m_mul_sparse_matrix\u001b[1;34m(self, other)\u001b[0m\n\u001b[0;32m    493\u001b[0m            \u001b[0mnp\u001b[0m\u001b[1;33m.\u001b[0m\u001b[0masarray\u001b[0m\u001b[1;33m(\u001b[0m\u001b[0mother\u001b[0m\u001b[1;33m.\u001b[0m\u001b[0mindptr\u001b[0m\u001b[1;33m,\u001b[0m \u001b[0mdtype\u001b[0m\u001b[1;33m=\u001b[0m\u001b[0midx_dtype\u001b[0m\u001b[1;33m)\u001b[0m\u001b[1;33m,\u001b[0m\u001b[1;33m\u001b[0m\u001b[0m\n\u001b[0;32m    494\u001b[0m            \u001b[0mnp\u001b[0m\u001b[1;33m.\u001b[0m\u001b[0masarray\u001b[0m\u001b[1;33m(\u001b[0m\u001b[0mother\u001b[0m\u001b[1;33m.\u001b[0m\u001b[0mindices\u001b[0m\u001b[1;33m,\u001b[0m \u001b[0mdtype\u001b[0m\u001b[1;33m=\u001b[0m\u001b[0midx_dtype\u001b[0m\u001b[1;33m)\u001b[0m\u001b[1;33m,\u001b[0m\u001b[1;33m\u001b[0m\u001b[0m\n\u001b[1;32m--> 495\u001b[1;33m            indptr)\n\u001b[0m\u001b[0;32m    496\u001b[0m \u001b[1;33m\u001b[0m\u001b[0m\n\u001b[0;32m    497\u001b[0m         \u001b[0mnnz\u001b[0m \u001b[1;33m=\u001b[0m \u001b[0mindptr\u001b[0m\u001b[1;33m[\u001b[0m\u001b[1;33m-\u001b[0m\u001b[1;36m1\u001b[0m\u001b[1;33m]\u001b[0m\u001b[1;33m\u001b[0m\u001b[0m\n",
      "\u001b[1;31mKeyboardInterrupt\u001b[0m: "
     ]
    }
   ],
   "source": [
    "%time kmeans_helper(X,K_values)"
   ]
  },
  {
   "cell_type": "code",
   "execution_count": 115,
   "metadata": {},
   "outputs": [],
   "source": [
    "# %time kmeans_helper(X,K_values,norm_X = True)"
   ]
  },
  {
   "cell_type": "code",
   "execution_count": 116,
   "metadata": {},
   "outputs": [],
   "source": [
    "#nb_clusters = 5\n",
    "#%time km = MiniBatchKMeans(n_clusters=nb_clusters, random_state=2019).fit(X)\n",
    "#km"
   ]
  },
  {
   "cell_type": "markdown",
   "metadata": {},
   "source": [
    "### Spectral Clustering"
   ]
  },
  {
   "cell_type": "code",
   "execution_count": 117,
   "metadata": {},
   "outputs": [],
   "source": [
    "from sklearn.cluster import SpectralClustering\n",
    "from sklearn.metrics.pairwise import cosine_similarity"
   ]
  },
  {
   "cell_type": "code",
   "execution_count": null,
   "metadata": {},
   "outputs": [],
   "source": [
    "affinity_matrix = cosine_similarity(X)\n",
    "dist_matrix = 1-affinity_matrix\n",
    "print(type(affinity_matrix),affinity_matrix.shape,np.min(affinity_matrix),np.max(affinity_matrix))"
   ]
  },
  {
   "cell_type": "code",
   "execution_count": null,
   "metadata": {},
   "outputs": [],
   "source": [
    "#plt.matshow(affinity_matrix, cmap=plt.cm.Blues)\n",
    "#plt.title(\"Cosine similarity matrix\")"
   ]
  },
  {
   "cell_type": "code",
   "execution_count": null,
   "metadata": {},
   "outputs": [],
   "source": [
    "# force adjacency matrix to be connected\n",
    "affinity_matrix[affinity_matrix==0] = 1e-10\n",
    "\n",
    "# put zeros in the diagonal\n",
    "np.fill_diagonal(affinity_matrix, 0)\n",
    "affinity_matrix[0:5,0:5]"
   ]
  },
  {
   "cell_type": "code",
   "execution_count": null,
   "metadata": {},
   "outputs": [],
   "source": [
    "#plt.matshow(affinity_matrix, cmap=plt.cm.Blues)\n",
    "#plt.title(\"Cosine similarity matrix\")"
   ]
  },
  {
   "cell_type": "code",
   "execution_count": null,
   "metadata": {},
   "outputs": [],
   "source": [
    "k0, eigenvalues = autosp.predict_k(affinity_matrix)\n",
    "k0, eigenvalues[0:5]"
   ]
  },
  {
   "cell_type": "code",
   "execution_count": null,
   "metadata": {},
   "outputs": [],
   "source": [
    "plt.plot(eigenvalues)"
   ]
  }
 ],
 "metadata": {
  "kernelspec": {
   "display_name": "Python 3",
   "language": "python",
   "name": "python3"
  },
  "language_info": {
   "codemirror_mode": {
    "name": "ipython",
    "version": 3
   },
   "file_extension": ".py",
   "mimetype": "text/x-python",
   "name": "python",
   "nbconvert_exporter": "python",
   "pygments_lexer": "ipython3",
   "version": "3.6.4"
  }
 },
 "nbformat": 4,
 "nbformat_minor": 2
}
