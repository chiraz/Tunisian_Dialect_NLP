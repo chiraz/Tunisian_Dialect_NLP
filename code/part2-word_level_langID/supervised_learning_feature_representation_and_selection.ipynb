{
 "cells": [
  {
   "cell_type": "markdown",
   "metadata": {},
   "source": [
    "## Plan\n",
    "1. Read labelled corpus of words and their corresponding language (MSA or TND).\n",
    "2. Split data into training and test sets.\n",
    "3. Representation of words as numeric feature vectors using **bag-of-ngrams** with tfidf feature weighting.\n",
    "4. Automatic feature selection based on mutual information."
   ]
  },
  {
   "cell_type": "code",
   "execution_count": 5,
   "metadata": {},
   "outputs": [],
   "source": [
    "import pandas as pd\n",
    "import numpy as np\n",
    "import matplotlib.pyplot as plt\n",
    "import seaborn as sns"
   ]
  },
  {
   "cell_type": "code",
   "execution_count": 6,
   "metadata": {},
   "outputs": [],
   "source": [
    "from sklearn.model_selection import train_test_split"
   ]
  },
  {
   "cell_type": "code",
   "execution_count": 7,
   "metadata": {},
   "outputs": [],
   "source": [
    "from sklearn.feature_extraction.text import CountVectorizer, TfidfVectorizer"
   ]
  },
  {
   "cell_type": "code",
   "execution_count": 8,
   "metadata": {},
   "outputs": [],
   "source": [
    "from sklearn.feature_selection import SelectFromModel\n",
    "from sklearn.feature_selection import SelectKBest, chi2, mutual_info_classif"
   ]
  },
  {
   "cell_type": "code",
   "execution_count": 9,
   "metadata": {},
   "outputs": [],
   "source": [
    "# Add higher directory to python modules path.\n",
    "\n",
    "import sys\n",
    "sys.path.append(\"..\")"
   ]
  },
  {
   "cell_type": "code",
   "execution_count": 10,
   "metadata": {},
   "outputs": [],
   "source": [
    "# Local utility functions\n",
    "from utilities import machine_learning_utils"
   ]
  },
  {
   "cell_type": "markdown",
   "metadata": {},
   "source": [
    "****"
   ]
  },
  {
   "cell_type": "markdown",
   "metadata": {},
   "source": [
    "## Load word data from file"
   ]
  },
  {
   "cell_type": "code",
   "execution_count": 11,
   "metadata": {},
   "outputs": [],
   "source": [
    "#?pd.read_csv"
   ]
  },
  {
   "cell_type": "code",
   "execution_count": 12,
   "metadata": {},
   "outputs": [
    {
     "data": {
      "text/html": [
       "<div>\n",
       "<style scoped>\n",
       "    .dataframe tbody tr th:only-of-type {\n",
       "        vertical-align: middle;\n",
       "    }\n",
       "\n",
       "    .dataframe tbody tr th {\n",
       "        vertical-align: top;\n",
       "    }\n",
       "\n",
       "    .dataframe thead th {\n",
       "        text-align: right;\n",
       "    }\n",
       "</style>\n",
       "<table border=\"1\" class=\"dataframe\">\n",
       "  <thead>\n",
       "    <tr style=\"text-align: right;\">\n",
       "      <th></th>\n",
       "      <th>word</th>\n",
       "      <th>lang_label</th>\n",
       "    </tr>\n",
       "  </thead>\n",
       "  <tbody>\n",
       "    <tr>\n",
       "      <th>0</th>\n",
       "      <td>آئ</td>\n",
       "      <td>MSA</td>\n",
       "    </tr>\n",
       "    <tr>\n",
       "      <th>1</th>\n",
       "      <td>آب</td>\n",
       "      <td>MSA</td>\n",
       "    </tr>\n",
       "    <tr>\n",
       "      <th>2</th>\n",
       "      <td>آباء</td>\n",
       "      <td>MSA</td>\n",
       "    </tr>\n",
       "    <tr>\n",
       "      <th>3</th>\n",
       "      <td>آبائه</td>\n",
       "      <td>MSA</td>\n",
       "    </tr>\n",
       "    <tr>\n",
       "      <th>4</th>\n",
       "      <td>آبائهم</td>\n",
       "      <td>MSA</td>\n",
       "    </tr>\n",
       "  </tbody>\n",
       "</table>\n",
       "</div>"
      ],
      "text/plain": [
       "     word lang_label\n",
       "0      آئ        MSA\n",
       "1      آب        MSA\n",
       "2    آباء        MSA\n",
       "3   آبائه        MSA\n",
       "4  آبائهم        MSA"
      ]
     },
     "execution_count": 12,
     "metadata": {},
     "output_type": "execute_result"
    }
   ],
   "source": [
    "filename = '../../results/Arabic_words_corpus_final.csv'\n",
    "df = pd.read_csv(filename, names=['word','lang_label'],header=None)\n",
    "df.head()"
   ]
  },
  {
   "cell_type": "code",
   "execution_count": 13,
   "metadata": {},
   "outputs": [
    {
     "data": {
      "text/plain": [
       "(47682, 2)"
      ]
     },
     "execution_count": 13,
     "metadata": {},
     "output_type": "execute_result"
    }
   ],
   "source": [
    "df.shape"
   ]
  },
  {
   "cell_type": "code",
   "execution_count": 14,
   "metadata": {},
   "outputs": [
    {
     "data": {
      "text/plain": [
       "47682"
      ]
     },
     "execution_count": 14,
     "metadata": {},
     "output_type": "execute_result"
    }
   ],
   "source": [
    "words_list = df.word.tolist()\n",
    "labels_list = df.lang_label.tolist()\n",
    "assert(len(words_list)==len(labels_list))\n",
    "len(words_list)"
   ]
  },
  {
   "cell_type": "markdown",
   "metadata": {},
   "source": [
    "## Split data into train and test sets\n",
    "- 75% - 25% split of the data\n",
    "- since our data is imabalanced, it is important that we do a **stratified** split."
   ]
  },
  {
   "cell_type": "code",
   "execution_count": 15,
   "metadata": {},
   "outputs": [],
   "source": [
    "#?train_test_split"
   ]
  },
  {
   "cell_type": "code",
   "execution_count": 16,
   "metadata": {},
   "outputs": [
    {
     "data": {
      "text/plain": [
       "MSA    46895\n",
       "TN       787\n",
       "dtype: int64"
      ]
     },
     "execution_count": 16,
     "metadata": {},
     "output_type": "execute_result"
    }
   ],
   "source": [
    "pd.Series(labels_list).value_counts()"
   ]
  },
  {
   "cell_type": "code",
   "execution_count": 17,
   "metadata": {},
   "outputs": [
    {
     "data": {
      "text/plain": [
       "(35761, 11921)"
      ]
     },
     "execution_count": 17,
     "metadata": {},
     "output_type": "execute_result"
    }
   ],
   "source": [
    "words_train,words_test,labels_train,labels_test = train_test_split(words_list, labels_list, test_size=0.25, stratify=labels_list, random_state=123)\n",
    "len(words_train), len(words_test)"
   ]
  },
  {
   "cell_type": "code",
   "execution_count": 18,
   "metadata": {},
   "outputs": [
    {
     "data": {
      "text/plain": [
       "MSA    35171\n",
       "TN       590\n",
       "dtype: int64"
      ]
     },
     "execution_count": 18,
     "metadata": {},
     "output_type": "execute_result"
    }
   ],
   "source": [
    "pd.Series(labels_train).value_counts()"
   ]
  },
  {
   "cell_type": "markdown",
   "metadata": {},
   "source": [
    "****"
   ]
  },
  {
   "cell_type": "markdown",
   "metadata": {},
   "source": [
    "## Representation of words using Bag-of-character-ngrams\n",
    "\n",
    "The goal here is to represent words as numeric feature vectors of the same size. For this we will use the \"Bag of character ngrams\" method which consists of the following 3 basic computational steps:\n",
    "\n",
    "1. for each word, extract all ngrams that belong to that word, with n between 1 and $N$ (where $N$ is a fixed hyperparameter). Let $V$ be the set of *distinct* ngrams extracted from all words (historically called the *vocabulary*).\n",
    "2. prune the set $V$ by removing ngrams whose frequency of occurrence is below some threshold (`min_df=10`) or above some threshold (`max_df=0.9`). That is, remove ngrams that either occur too frequently or too infrequently in the training corpus.\n",
    "This is really a heuristic *feature selection* process, and it roughly amounts to removing low-variance features (see https://scikit-learn.org/stable/modules/feature_selection.html).\n",
    "3. for each word $w$ obtain a numeric feature vector of length $|V|$, where each feature value represents the *weight* of one ngram in the word $w$. We will do this via **tfidf weighting**.  The vectors of all words are stored in the **DTM matrix**."
   ]
  },
  {
   "cell_type": "markdown",
   "metadata": {},
   "source": [
    "*Definitions / Terminology:*\n",
    "\n",
    "- DF (\"Document Frequency\") of a feature: the number of words that contain this feature.\n",
    "- IDF (\"Inverse Document Frequency\") of a feature : 1/DF\n",
    "- DTM: Document-term matrix; the $(i,j)$th element of this matrix is a numeric measure of the importance of the $i$th document to the $j$th term.\n",
    "\n",
    "This terminology may seem strange but it is used for historical reasons; it comes from the rudimentary **bag-of-words** model originally used/designed for information retrieval applications. \n",
    "\n",
    "In our case, a 'document' is a word and a 'term' is a character ngram."
   ]
  },
  {
   "cell_type": "markdown",
   "metadata": {},
   "source": [
    "*Important Remark*: \n",
    "\n",
    "I have used the option `analyzer='char_wb'` when creating the `TfidfVectorizer` class instance so that words are left- and right- padded with n-2 spaces prior to extraction of n-grams. Padding is useful because it generates ngrams that represent the beginning and end of words. \n",
    "\n",
    "For example, assuming N=3, the ngrams corresponding to the 6-letter Arabic word 'مقابلة' are shown below. The bigram ' م' on the first line consists of a space followed by the letter 'م'; it hence captures words that begin with the letter 'م'. This bigram is quite different than the unigram 'م', which captures words that contain the letter 'م' anywhere in the word.  Similarly, the trigram 'لة ' captures words that end with the 2-letter sequence 'لة '.\n",
    "\n",
    "         ' م',\n",
    "         ' مق',\n",
    "         'ا',\n",
    "         'اب',\n",
    "         'ابل',\n",
    "         'ب',\n",
    "         'بل',\n",
    "         'بلة',\n",
    "         'ة',\n",
    "         'ة ',\n",
    "         'ق',\n",
    "         'قا',\n",
    "         'قاب',\n",
    "         'ل',\n",
    "         'لة',\n",
    "         'لة ',\n",
    "         'م',\n",
    "         'مق',\n",
    "         'مقا'\n",
    " "
   ]
  },
  {
   "cell_type": "code",
   "execution_count": 19,
   "metadata": {},
   "outputs": [],
   "source": [
    "# important hyperparameter of this method: maximum order of ngram features\n",
    "N = 4"
   ]
  },
  {
   "cell_type": "code",
   "execution_count": 20,
   "metadata": {},
   "outputs": [],
   "source": [
    "# Note that the min_df and max_df hyperparameters are used to filter out useless ngrams -- those that occur either too infrequently or too frequently\n",
    "\n",
    "vectorizer = TfidfVectorizer(min_df=10, max_df=0.9, ngram_range=(1, N), analyzer='char_wb')"
   ]
  },
  {
   "cell_type": "code",
   "execution_count": 21,
   "metadata": {},
   "outputs": [
    {
     "data": {
      "text/plain": [
       "(scipy.sparse.csr.csr_matrix, (35761, 8069))"
      ]
     },
     "execution_count": 21,
     "metadata": {},
     "output_type": "execute_result"
    }
   ],
   "source": [
    "dtm_train = vectorizer.fit_transform(words_train)\n",
    "type(dtm_train), dtm_train.shape"
   ]
  },
  {
   "cell_type": "code",
   "execution_count": 22,
   "metadata": {},
   "outputs": [
    {
     "data": {
      "text/plain": [
       "(scipy.sparse.csr.csr_matrix, (11921, 8069))"
      ]
     },
     "execution_count": 22,
     "metadata": {},
     "output_type": "execute_result"
    }
   ],
   "source": [
    "dtm_test = vectorizer.transform(words_test)\n",
    "type(dtm_test), dtm_test.shape"
   ]
  },
  {
   "cell_type": "code",
   "execution_count": 23,
   "metadata": {},
   "outputs": [
    {
     "data": {
      "text/plain": [
       "(numpy.ndarray, (8069,))"
      ]
     },
     "execution_count": 23,
     "metadata": {},
     "output_type": "execute_result"
    }
   ],
   "source": [
    "feature_names = np.asarray(vectorizer.get_feature_names())\n",
    "type(feature_names),feature_names.shape"
   ]
  },
  {
   "cell_type": "markdown",
   "metadata": {},
   "source": [
    "#### Checking the DTM matrix"
   ]
  },
  {
   "cell_type": "code",
   "execution_count": 24,
   "metadata": {},
   "outputs": [
    {
     "data": {
      "text/plain": [
       "(35761, 8069)"
      ]
     },
     "execution_count": 24,
     "metadata": {},
     "output_type": "execute_result"
    }
   ],
   "source": [
    "# size of matrix\n",
    "\n",
    "dtm_train.shape"
   ]
  },
  {
   "cell_type": "code",
   "execution_count": 25,
   "metadata": {},
   "outputs": [
    {
     "data": {
      "text/plain": [
       "(0.0, 0.8401152913769929)"
      ]
     },
     "execution_count": 25,
     "metadata": {},
     "output_type": "execute_result"
    }
   ],
   "source": [
    "# range of values\n",
    "\n",
    "dtm_train.min(),dtm_train.max()"
   ]
  },
  {
   "cell_type": "code",
   "execution_count": 26,
   "metadata": {},
   "outputs": [
    {
     "data": {
      "text/plain": [
       "0.2242982649137362"
      ]
     },
     "execution_count": 26,
     "metadata": {},
     "output_type": "execute_result"
    }
   ],
   "source": [
    "# percentage of non-zero values in this matrix -- should be very sparse\n",
    "\n",
    "dtm_train.nnz/dtm_train.shape[0]/dtm_train.shape[1]*100"
   ]
  },
  {
   "cell_type": "markdown",
   "metadata": {},
   "source": [
    "#### Exploratory analysis of some meta-properties of features (ngrams)"
   ]
  },
  {
   "cell_type": "code",
   "execution_count": 27,
   "metadata": {},
   "outputs": [
    {
     "data": {
      "text/html": [
       "<div>\n",
       "<style scoped>\n",
       "    .dataframe tbody tr th:only-of-type {\n",
       "        vertical-align: middle;\n",
       "    }\n",
       "\n",
       "    .dataframe tbody tr th {\n",
       "        vertical-align: top;\n",
       "    }\n",
       "\n",
       "    .dataframe thead th {\n",
       "        text-align: right;\n",
       "    }\n",
       "</style>\n",
       "<table border=\"1\" class=\"dataframe\">\n",
       "  <thead>\n",
       "    <tr style=\"text-align: right;\">\n",
       "      <th></th>\n",
       "      <th>feature</th>\n",
       "      <th>DF</th>\n",
       "      <th>IDF</th>\n",
       "      <th>max_tfidf</th>\n",
       "    </tr>\n",
       "  </thead>\n",
       "  <tbody>\n",
       "    <tr>\n",
       "      <th>0</th>\n",
       "      <td>آ</td>\n",
       "      <td>76</td>\n",
       "      <td>7.140836</td>\n",
       "      <td>0.684077</td>\n",
       "    </tr>\n",
       "    <tr>\n",
       "      <th>1</th>\n",
       "      <td>آل</td>\n",
       "      <td>11</td>\n",
       "      <td>8.999735</td>\n",
       "      <td>0.562443</td>\n",
       "    </tr>\n",
       "    <tr>\n",
       "      <th>2</th>\n",
       "      <td>آم</td>\n",
       "      <td>10</td>\n",
       "      <td>9.086746</td>\n",
       "      <td>0.492150</td>\n",
       "    </tr>\n",
       "    <tr>\n",
       "      <th>3</th>\n",
       "      <td>أ</td>\n",
       "      <td>1579</td>\n",
       "      <td>4.119461</td>\n",
       "      <td>0.475887</td>\n",
       "    </tr>\n",
       "    <tr>\n",
       "      <th>4</th>\n",
       "      <td>أب</td>\n",
       "      <td>86</td>\n",
       "      <td>7.018733</td>\n",
       "      <td>0.581101</td>\n",
       "    </tr>\n",
       "  </tbody>\n",
       "</table>\n",
       "</div>"
      ],
      "text/plain": [
       "  feature    DF       IDF  max_tfidf\n",
       "0       آ    76  7.140836   0.684077\n",
       "1      آل    11  8.999735   0.562443\n",
       "2      آم    10  9.086746   0.492150\n",
       "3       أ  1579  4.119461   0.475887\n",
       "4      أب    86  7.018733   0.581101"
      ]
     },
     "execution_count": 27,
     "metadata": {},
     "output_type": "execute_result"
    }
   ],
   "source": [
    "# Store some properties of the features in a data frame for convenience\n",
    "\n",
    "feature_properties_df = pd.DataFrame({'feature':feature_names})\n",
    "\n",
    "feature_properties_df['DF'] = np.array((dtm_train>0).sum(axis=0)).ravel()\n",
    "feature_properties_df['IDF'] = vectorizer.idf_\n",
    "feature_properties_df['max_tfidf'] = dtm_train.max(axis=0).toarray().ravel()\n",
    "feature_properties_df = feature_properties_df[['feature', 'DF', 'IDF','max_tfidf']]\n",
    "\n",
    "feature_properties_df.head()"
   ]
  },
  {
   "cell_type": "code",
   "execution_count": 28,
   "metadata": {},
   "outputs": [
    {
     "data": {
      "text/html": [
       "<div>\n",
       "<style scoped>\n",
       "    .dataframe tbody tr th:only-of-type {\n",
       "        vertical-align: middle;\n",
       "    }\n",
       "\n",
       "    .dataframe tbody tr th {\n",
       "        vertical-align: top;\n",
       "    }\n",
       "\n",
       "    .dataframe thead th {\n",
       "        text-align: right;\n",
       "    }\n",
       "</style>\n",
       "<table border=\"1\" class=\"dataframe\">\n",
       "  <thead>\n",
       "    <tr style=\"text-align: right;\">\n",
       "      <th></th>\n",
       "      <th>DF</th>\n",
       "      <th>IDF</th>\n",
       "      <th>max_tfidf</th>\n",
       "    </tr>\n",
       "  </thead>\n",
       "  <tbody>\n",
       "    <tr>\n",
       "      <th>DF</th>\n",
       "      <td>1.000000</td>\n",
       "      <td>-0.486256</td>\n",
       "      <td>-0.092916</td>\n",
       "    </tr>\n",
       "    <tr>\n",
       "      <th>IDF</th>\n",
       "      <td>-0.486256</td>\n",
       "      <td>1.000000</td>\n",
       "      <td>-0.024668</td>\n",
       "    </tr>\n",
       "    <tr>\n",
       "      <th>max_tfidf</th>\n",
       "      <td>-0.092916</td>\n",
       "      <td>-0.024668</td>\n",
       "      <td>1.000000</td>\n",
       "    </tr>\n",
       "  </tbody>\n",
       "</table>\n",
       "</div>"
      ],
      "text/plain": [
       "                 DF       IDF  max_tfidf\n",
       "DF         1.000000 -0.486256  -0.092916\n",
       "IDF       -0.486256  1.000000  -0.024668\n",
       "max_tfidf -0.092916 -0.024668   1.000000"
      ]
     },
     "execution_count": 28,
     "metadata": {},
     "output_type": "execute_result"
    }
   ],
   "source": [
    "feature_properties_df.corr()"
   ]
  },
  {
   "cell_type": "code",
   "execution_count": 29,
   "metadata": {},
   "outputs": [
    {
     "data": {
      "text/html": [
       "<div>\n",
       "<style scoped>\n",
       "    .dataframe tbody tr th:only-of-type {\n",
       "        vertical-align: middle;\n",
       "    }\n",
       "\n",
       "    .dataframe tbody tr th {\n",
       "        vertical-align: top;\n",
       "    }\n",
       "\n",
       "    .dataframe thead th {\n",
       "        text-align: right;\n",
       "    }\n",
       "</style>\n",
       "<table border=\"1\" class=\"dataframe\">\n",
       "  <thead>\n",
       "    <tr style=\"text-align: right;\">\n",
       "      <th></th>\n",
       "      <th>feature</th>\n",
       "      <th>DF</th>\n",
       "      <th>IDF</th>\n",
       "      <th>max_tfidf</th>\n",
       "    </tr>\n",
       "  </thead>\n",
       "  <tbody>\n",
       "    <tr>\n",
       "      <th>1440</th>\n",
       "      <td>ا</td>\n",
       "      <td>21816</td>\n",
       "      <td>1.494196</td>\n",
       "      <td>0.230176</td>\n",
       "    </tr>\n",
       "    <tr>\n",
       "      <th>5792</th>\n",
       "      <td>ل</td>\n",
       "      <td>16712</td>\n",
       "      <td>1.760699</td>\n",
       "      <td>0.285738</td>\n",
       "    </tr>\n",
       "    <tr>\n",
       "      <th>7742</th>\n",
       "      <td>ي</td>\n",
       "      <td>11916</td>\n",
       "      <td>2.098920</td>\n",
       "      <td>0.356860</td>\n",
       "    </tr>\n",
       "    <tr>\n",
       "      <th>7329</th>\n",
       "      <td>و</td>\n",
       "      <td>10901</td>\n",
       "      <td>2.187940</td>\n",
       "      <td>0.334418</td>\n",
       "    </tr>\n",
       "    <tr>\n",
       "      <th>1873</th>\n",
       "      <td>ال</td>\n",
       "      <td>10721</td>\n",
       "      <td>2.204588</td>\n",
       "      <td>0.247885</td>\n",
       "    </tr>\n",
       "  </tbody>\n",
       "</table>\n",
       "</div>"
      ],
      "text/plain": [
       "     feature     DF       IDF  max_tfidf\n",
       "1440       ا  21816  1.494196   0.230176\n",
       "5792       ل  16712  1.760699   0.285738\n",
       "7742       ي  11916  2.098920   0.356860\n",
       "7329       و  10901  2.187940   0.334418\n",
       "1873      ال  10721  2.204588   0.247885"
      ]
     },
     "execution_count": 29,
     "metadata": {},
     "output_type": "execute_result"
    }
   ],
   "source": [
    "# 5 features with highest DF values (i.e. that are most frequent in the corpus)\n",
    "feature_properties_df.sort_values(\"DF\", ascending=False).head()"
   ]
  },
  {
   "cell_type": "code",
   "execution_count": 30,
   "metadata": {},
   "outputs": [
    {
     "data": {
      "text/html": [
       "<div>\n",
       "<style scoped>\n",
       "    .dataframe tbody tr th:only-of-type {\n",
       "        vertical-align: middle;\n",
       "    }\n",
       "\n",
       "    .dataframe tbody tr th {\n",
       "        vertical-align: top;\n",
       "    }\n",
       "\n",
       "    .dataframe thead th {\n",
       "        text-align: right;\n",
       "    }\n",
       "</style>\n",
       "<table border=\"1\" class=\"dataframe\">\n",
       "  <thead>\n",
       "    <tr style=\"text-align: right;\">\n",
       "      <th></th>\n",
       "      <th>feature</th>\n",
       "      <th>DF</th>\n",
       "      <th>IDF</th>\n",
       "      <th>max_tfidf</th>\n",
       "    </tr>\n",
       "  </thead>\n",
       "  <tbody>\n",
       "    <tr>\n",
       "      <th>7103</th>\n",
       "      <td>نصب</td>\n",
       "      <td>10</td>\n",
       "      <td>9.086746</td>\n",
       "      <td>0.472617</td>\n",
       "    </tr>\n",
       "    <tr>\n",
       "      <th>3463</th>\n",
       "      <td>حون</td>\n",
       "      <td>10</td>\n",
       "      <td>9.086746</td>\n",
       "      <td>0.433276</td>\n",
       "    </tr>\n",
       "    <tr>\n",
       "      <th>5394</th>\n",
       "      <td>فلة</td>\n",
       "      <td>10</td>\n",
       "      <td>9.086746</td>\n",
       "      <td>0.403014</td>\n",
       "    </tr>\n",
       "    <tr>\n",
       "      <th>5393</th>\n",
       "      <td>فلة</td>\n",
       "      <td>10</td>\n",
       "      <td>9.086746</td>\n",
       "      <td>0.403014</td>\n",
       "    </tr>\n",
       "    <tr>\n",
       "      <th>5385</th>\n",
       "      <td>فك</td>\n",
       "      <td>10</td>\n",
       "      <td>9.086746</td>\n",
       "      <td>0.558877</td>\n",
       "    </tr>\n",
       "  </tbody>\n",
       "</table>\n",
       "</div>"
      ],
      "text/plain": [
       "     feature  DF       IDF  max_tfidf\n",
       "7103     نصب  10  9.086746   0.472617\n",
       "3463    حون   10  9.086746   0.433276\n",
       "5394    فلة   10  9.086746   0.403014\n",
       "5393     فلة  10  9.086746   0.403014\n",
       "5385     فك   10  9.086746   0.558877"
      ]
     },
     "execution_count": 30,
     "metadata": {},
     "output_type": "execute_result"
    }
   ],
   "source": [
    "# 5 features with lowest DF values (i.e. that are least frequent in the corpus)\n",
    "feature_properties_df.sort_values(\"DF\").head()"
   ]
  },
  {
   "cell_type": "code",
   "execution_count": 31,
   "metadata": {},
   "outputs": [
    {
     "data": {
      "text/plain": [
       "<seaborn.axisgrid.PairGrid at 0x161145efb38>"
      ]
     },
     "execution_count": 31,
     "metadata": {},
     "output_type": "execute_result"
    },
    {
     "data": {
      "image/png": "[encoded data removed]",
      "text/plain": [
       "<matplotlib.figure.Figure at 0x161145ef550>"
      ]
     },
     "metadata": {},
     "output_type": "display_data"
    }
   ],
   "source": [
    "#feature_properties_df.plot.scatter(\"DF\",\"IDF\")\n",
    "sns.pairplot(feature_properties_df)"
   ]
  },
  {
   "cell_type": "markdown",
   "metadata": {},
   "source": [
    "#### Just for fun\n",
    "\n",
    "relationship between number of features (ngrams) in a word and its length."
   ]
  },
  {
   "cell_type": "code",
   "execution_count": 32,
   "metadata": {},
   "outputs": [
    {
     "data": {
      "text/html": [
       "<div>\n",
       "<style scoped>\n",
       "    .dataframe tbody tr th:only-of-type {\n",
       "        vertical-align: middle;\n",
       "    }\n",
       "\n",
       "    .dataframe tbody tr th {\n",
       "        vertical-align: top;\n",
       "    }\n",
       "\n",
       "    .dataframe thead th {\n",
       "        text-align: right;\n",
       "    }\n",
       "</style>\n",
       "<table border=\"1\" class=\"dataframe\">\n",
       "  <thead>\n",
       "    <tr style=\"text-align: right;\">\n",
       "      <th></th>\n",
       "      <th>nb_chars</th>\n",
       "      <th>nb_features</th>\n",
       "    </tr>\n",
       "    <tr>\n",
       "      <th>word</th>\n",
       "      <th></th>\n",
       "      <th></th>\n",
       "    </tr>\n",
       "  </thead>\n",
       "  <tbody>\n",
       "    <tr>\n",
       "      <th>صعد</th>\n",
       "      <td>3</td>\n",
       "      <td>9</td>\n",
       "    </tr>\n",
       "    <tr>\n",
       "      <th>ومعنوية</th>\n",
       "      <td>7</td>\n",
       "      <td>23</td>\n",
       "    </tr>\n",
       "    <tr>\n",
       "      <th>يزكي</th>\n",
       "      <td>4</td>\n",
       "      <td>10</td>\n",
       "    </tr>\n",
       "    <tr>\n",
       "      <th>ووضعوا</th>\n",
       "      <td>6</td>\n",
       "      <td>16</td>\n",
       "    </tr>\n",
       "    <tr>\n",
       "      <th>حكومته</th>\n",
       "      <td>6</td>\n",
       "      <td>20</td>\n",
       "    </tr>\n",
       "  </tbody>\n",
       "</table>\n",
       "</div>"
      ],
      "text/plain": [
       "         nb_chars  nb_features\n",
       "word                          \n",
       "صعد             3            9\n",
       "ومعنوية         7           23\n",
       "يزكي            4           10\n",
       "ووضعوا          6           16\n",
       "حكومته          6           20"
      ]
     },
     "execution_count": 32,
     "metadata": {},
     "output_type": "execute_result"
    }
   ],
   "source": [
    "# How many features (ngrams) are there in each word?\n",
    "\n",
    "temp_df = pd.DataFrame({'word':words_train})\n",
    "temp_df['nb_chars'] = temp_df.word.map(len)\n",
    "temp_df['nb_features'] = np.array((dtm_train>0).sum(axis=1)).ravel()\n",
    "temp_df = temp_df.set_index('word')\n",
    "temp_df.head()"
   ]
  },
  {
   "cell_type": "code",
   "execution_count": 33,
   "metadata": {},
   "outputs": [
    {
     "data": {
      "text/html": [
       "<div>\n",
       "<style scoped>\n",
       "    .dataframe tbody tr th:only-of-type {\n",
       "        vertical-align: middle;\n",
       "    }\n",
       "\n",
       "    .dataframe tbody tr th {\n",
       "        vertical-align: top;\n",
       "    }\n",
       "\n",
       "    .dataframe thead th {\n",
       "        text-align: right;\n",
       "    }\n",
       "</style>\n",
       "<table border=\"1\" class=\"dataframe\">\n",
       "  <thead>\n",
       "    <tr style=\"text-align: right;\">\n",
       "      <th></th>\n",
       "      <th>nb_chars</th>\n",
       "      <th>nb_features</th>\n",
       "    </tr>\n",
       "  </thead>\n",
       "  <tbody>\n",
       "    <tr>\n",
       "      <th>nb_chars</th>\n",
       "      <td>1.000000</td>\n",
       "      <td>0.952005</td>\n",
       "    </tr>\n",
       "    <tr>\n",
       "      <th>nb_features</th>\n",
       "      <td>0.952005</td>\n",
       "      <td>1.000000</td>\n",
       "    </tr>\n",
       "  </tbody>\n",
       "</table>\n",
       "</div>"
      ],
      "text/plain": [
       "             nb_chars  nb_features\n",
       "nb_chars     1.000000     0.952005\n",
       "nb_features  0.952005     1.000000"
      ]
     },
     "execution_count": 33,
     "metadata": {},
     "output_type": "execute_result"
    }
   ],
   "source": [
    "temp_df.corr()"
   ]
  },
  {
   "cell_type": "code",
   "execution_count": 34,
   "metadata": {},
   "outputs": [
    {
     "data": {
      "text/plain": [
       "<matplotlib.axes._subplots.AxesSubplot at 0x16114ffaa20>"
      ]
     },
     "execution_count": 34,
     "metadata": {},
     "output_type": "execute_result"
    },
    {
     "data": {
      "image/png": "[encoded data removed]",
      "text/plain": [
       "<matplotlib.figure.Figure at 0x16114f5c6a0>"
      ]
     },
     "metadata": {},
     "output_type": "display_data"
    }
   ],
   "source": [
    "temp_df.plot.scatter('nb_chars','nb_features')"
   ]
  },
  {
   "cell_type": "markdown",
   "metadata": {},
   "source": [
    "****"
   ]
  },
  {
   "cell_type": "markdown",
   "metadata": {},
   "source": [
    "## Automatic Feature Selection\n",
    "\n",
    "The size of our DTM matrix is 35761 by 8069. From a supervised learning point of view, this means we have 35761 training samples (feature vectors) and 8069 features. The ratio of samples to features is around 4 which seems a bit too low for effective learning to happen. Feature selection helps us increase this ratio by decreasing the number of features; more precisely by selecting a subset of the most 'important' features. \n",
    "\n",
    "We will explore two different measures of **feature importance** typically used in practice:\n",
    "\n",
    "1. Chi-squared statistic,\n",
    "2. Mutual information."
   ]
  },
  {
   "cell_type": "code",
   "execution_count": 71,
   "metadata": {},
   "outputs": [
    {
     "data": {
      "text/plain": [
       "((35761, 8069), (35761,), (11921, 8069), (11921,), (8069,))"
      ]
     },
     "execution_count": 71,
     "metadata": {},
     "output_type": "execute_result"
    }
   ],
   "source": [
    "X_train = dtm_train\n",
    "y_train = np.asarray(labels_train)\n",
    "X_test = dtm_test\n",
    "y_test = np.asarray(labels_test)\n",
    "\n",
    "X_train.shape,y_train.shape,X_test.shape,y_test.shape,feature_names.shape"
   ]
  },
  {
   "cell_type": "code",
   "execution_count": 37,
   "metadata": {},
   "outputs": [],
   "source": [
    "# This takes a little while ...\n",
    "\n",
    "ch_score,pvalue = chi2(X_train,y_train)\n",
    "feature_properties_df['chi2_score'] = ch_score\n",
    "feature_properties_df['chi2_pvalue'] = pvalue\n",
    "feature_properties_df['mi_score'] = mutual_info_classif(X_train,y_train)"
   ]
  },
  {
   "cell_type": "code",
   "execution_count": 38,
   "metadata": {},
   "outputs": [
    {
     "data": {
      "text/html": [
       "<div>\n",
       "<style scoped>\n",
       "    .dataframe tbody tr th:only-of-type {\n",
       "        vertical-align: middle;\n",
       "    }\n",
       "\n",
       "    .dataframe tbody tr th {\n",
       "        vertical-align: top;\n",
       "    }\n",
       "\n",
       "    .dataframe thead th {\n",
       "        text-align: right;\n",
       "    }\n",
       "</style>\n",
       "<table border=\"1\" class=\"dataframe\">\n",
       "  <thead>\n",
       "    <tr style=\"text-align: right;\">\n",
       "      <th></th>\n",
       "      <th>DF</th>\n",
       "      <th>chi2_score</th>\n",
       "      <th>chi2_pvalue</th>\n",
       "      <th>mi_score</th>\n",
       "    </tr>\n",
       "  </thead>\n",
       "  <tbody>\n",
       "    <tr>\n",
       "      <th>count</th>\n",
       "      <td>8069.000000</td>\n",
       "      <td>8.069000e+03</td>\n",
       "      <td>8.069000e+03</td>\n",
       "      <td>8069.000000</td>\n",
       "    </tr>\n",
       "    <tr>\n",
       "      <th>mean</th>\n",
       "      <td>80.211303</td>\n",
       "      <td>8.893110e-01</td>\n",
       "      <td>6.617825e-01</td>\n",
       "      <td>0.000155</td>\n",
       "    </tr>\n",
       "    <tr>\n",
       "      <th>std</th>\n",
       "      <td>522.842210</td>\n",
       "      <td>6.223618e+00</td>\n",
       "      <td>2.058945e-01</td>\n",
       "      <td>0.001077</td>\n",
       "    </tr>\n",
       "    <tr>\n",
       "      <th>min</th>\n",
       "      <td>10.000000</td>\n",
       "      <td>1.369525e-07</td>\n",
       "      <td>7.501794e-68</td>\n",
       "      <td>0.000005</td>\n",
       "    </tr>\n",
       "    <tr>\n",
       "      <th>25%</th>\n",
       "      <td>13.000000</td>\n",
       "      <td>7.303247e-02</td>\n",
       "      <td>6.307651e-01</td>\n",
       "      <td>0.000006</td>\n",
       "    </tr>\n",
       "    <tr>\n",
       "      <th>50%</th>\n",
       "      <td>19.000000</td>\n",
       "      <td>1.107849e-01</td>\n",
       "      <td>7.392522e-01</td>\n",
       "      <td>0.000010</td>\n",
       "    </tr>\n",
       "    <tr>\n",
       "      <th>75%</th>\n",
       "      <td>38.000000</td>\n",
       "      <td>2.310246e-01</td>\n",
       "      <td>7.869716e-01</td>\n",
       "      <td>0.000036</td>\n",
       "    </tr>\n",
       "    <tr>\n",
       "      <th>max</th>\n",
       "      <td>21816.000000</td>\n",
       "      <td>3.029496e+02</td>\n",
       "      <td>9.997047e-01</td>\n",
       "      <td>0.047703</td>\n",
       "    </tr>\n",
       "  </tbody>\n",
       "</table>\n",
       "</div>"
      ],
      "text/plain": [
       "                 DF    chi2_score   chi2_pvalue     mi_score\n",
       "count   8069.000000  8.069000e+03  8.069000e+03  8069.000000\n",
       "mean      80.211303  8.893110e-01  6.617825e-01     0.000155\n",
       "std      522.842210  6.223618e+00  2.058945e-01     0.001077\n",
       "min       10.000000  1.369525e-07  7.501794e-68     0.000005\n",
       "25%       13.000000  7.303247e-02  6.307651e-01     0.000006\n",
       "50%       19.000000  1.107849e-01  7.392522e-01     0.000010\n",
       "75%       38.000000  2.310246e-01  7.869716e-01     0.000036\n",
       "max    21816.000000  3.029496e+02  9.997047e-01     0.047703"
      ]
     },
     "execution_count": 38,
     "metadata": {},
     "output_type": "execute_result"
    }
   ],
   "source": [
    "feature_properties_df[['DF', 'chi2_score','chi2_pvalue','mi_score']].describe()"
   ]
  },
  {
   "cell_type": "code",
   "execution_count": 39,
   "metadata": {},
   "outputs": [
    {
     "data": {
      "text/html": [
       "<div>\n",
       "<style scoped>\n",
       "    .dataframe tbody tr th:only-of-type {\n",
       "        vertical-align: middle;\n",
       "    }\n",
       "\n",
       "    .dataframe tbody tr th {\n",
       "        vertical-align: top;\n",
       "    }\n",
       "\n",
       "    .dataframe thead th {\n",
       "        text-align: right;\n",
       "    }\n",
       "</style>\n",
       "<table border=\"1\" class=\"dataframe\">\n",
       "  <thead>\n",
       "    <tr style=\"text-align: right;\">\n",
       "      <th></th>\n",
       "      <th>DF</th>\n",
       "      <th>chi2_score</th>\n",
       "      <th>chi2_pvalue</th>\n",
       "      <th>mi_score</th>\n",
       "    </tr>\n",
       "  </thead>\n",
       "  <tbody>\n",
       "    <tr>\n",
       "      <th>DF</th>\n",
       "      <td>1.000000</td>\n",
       "      <td>0.019733</td>\n",
       "      <td>-0.142939</td>\n",
       "      <td>0.945162</td>\n",
       "    </tr>\n",
       "    <tr>\n",
       "      <th>chi2_score</th>\n",
       "      <td>0.019733</td>\n",
       "      <td>1.000000</td>\n",
       "      <td>-0.374777</td>\n",
       "      <td>0.147785</td>\n",
       "    </tr>\n",
       "    <tr>\n",
       "      <th>chi2_pvalue</th>\n",
       "      <td>-0.142939</td>\n",
       "      <td>-0.374777</td>\n",
       "      <td>1.000000</td>\n",
       "      <td>-0.195860</td>\n",
       "    </tr>\n",
       "    <tr>\n",
       "      <th>mi_score</th>\n",
       "      <td>0.945162</td>\n",
       "      <td>0.147785</td>\n",
       "      <td>-0.195860</td>\n",
       "      <td>1.000000</td>\n",
       "    </tr>\n",
       "  </tbody>\n",
       "</table>\n",
       "</div>"
      ],
      "text/plain": [
       "                   DF  chi2_score  chi2_pvalue  mi_score\n",
       "DF           1.000000    0.019733    -0.142939  0.945162\n",
       "chi2_score   0.019733    1.000000    -0.374777  0.147785\n",
       "chi2_pvalue -0.142939   -0.374777     1.000000 -0.195860\n",
       "mi_score     0.945162    0.147785    -0.195860  1.000000"
      ]
     },
     "execution_count": 39,
     "metadata": {},
     "output_type": "execute_result"
    }
   ],
   "source": [
    "feature_properties_df[['DF','chi2_score','chi2_pvalue','mi_score']].corr()"
   ]
  },
  {
   "cell_type": "code",
   "execution_count": 40,
   "metadata": {},
   "outputs": [
    {
     "data": {
      "text/plain": [
       "<seaborn.axisgrid.PairGrid at 0x1611502a630>"
      ]
     },
     "execution_count": 40,
     "metadata": {},
     "output_type": "execute_result"
    },
    {
     "data": {
      "image/png": "[encoded data removed]",
      "text/plain": [
       "<matplotlib.figure.Figure at 0x1611505bdd8>"
      ]
     },
     "metadata": {},
     "output_type": "display_data"
    }
   ],
   "source": [
    "sns.pairplot(feature_properties_df[['DF','chi2_score','chi2_pvalue','mi_score']])"
   ]
  },
  {
   "cell_type": "code",
   "execution_count": 41,
   "metadata": {},
   "outputs": [],
   "source": [
    "# feature_properties_df.plot.scatter(x='DF', y='chi2_score', loglog=True)"
   ]
  },
  {
   "cell_type": "code",
   "execution_count": 42,
   "metadata": {},
   "outputs": [],
   "source": [
    "# feature_properties_df.plot.scatter(x='chi2_score', y='chi2_pvalue', logx=True)"
   ]
  },
  {
   "cell_type": "markdown",
   "metadata": {},
   "source": [
    "### Visualize top features"
   ]
  },
  {
   "cell_type": "code",
   "execution_count": 43,
   "metadata": {},
   "outputs": [
    {
     "data": {
      "text/html": [
       "<div>\n",
       "<style scoped>\n",
       "    .dataframe tbody tr th:only-of-type {\n",
       "        vertical-align: middle;\n",
       "    }\n",
       "\n",
       "    .dataframe tbody tr th {\n",
       "        vertical-align: top;\n",
       "    }\n",
       "\n",
       "    .dataframe thead th {\n",
       "        text-align: right;\n",
       "    }\n",
       "</style>\n",
       "<table border=\"1\" class=\"dataframe\">\n",
       "  <thead>\n",
       "    <tr style=\"text-align: right;\">\n",
       "      <th></th>\n",
       "      <th>feature</th>\n",
       "      <th>DF</th>\n",
       "      <th>chi2_score</th>\n",
       "      <th>chi2_pvalue</th>\n",
       "      <th>mi_score</th>\n",
       "    </tr>\n",
       "  </thead>\n",
       "  <tbody>\n",
       "    <tr>\n",
       "      <th>7330</th>\n",
       "      <td>و</td>\n",
       "      <td>335</td>\n",
       "      <td>302.949591</td>\n",
       "      <td>7.501794e-68</td>\n",
       "      <td>0.009915</td>\n",
       "    </tr>\n",
       "    <tr>\n",
       "      <th>1488</th>\n",
       "      <td>اا</td>\n",
       "      <td>13</td>\n",
       "      <td>186.041730</td>\n",
       "      <td>2.324784e-42</td>\n",
       "      <td>0.001151</td>\n",
       "    </tr>\n",
       "    <tr>\n",
       "      <th>4486</th>\n",
       "      <td>ش</td>\n",
       "      <td>203</td>\n",
       "      <td>127.760983</td>\n",
       "      <td>1.266079e-29</td>\n",
       "      <td>0.004816</td>\n",
       "    </tr>\n",
       "    <tr>\n",
       "      <th>7183</th>\n",
       "      <td>نو</td>\n",
       "      <td>19</td>\n",
       "      <td>124.455246</td>\n",
       "      <td>6.697276e-29</td>\n",
       "      <td>0.001154</td>\n",
       "    </tr>\n",
       "    <tr>\n",
       "      <th>3032</th>\n",
       "      <td>تو</td>\n",
       "      <td>20</td>\n",
       "      <td>118.799113</td>\n",
       "      <td>1.158916e-27</td>\n",
       "      <td>0.001155</td>\n",
       "    </tr>\n",
       "  </tbody>\n",
       "</table>\n",
       "</div>"
      ],
      "text/plain": [
       "     feature   DF  chi2_score   chi2_pvalue  mi_score\n",
       "7330      و   335  302.949591  7.501794e-68  0.009915\n",
       "1488      اا   13  186.041730  2.324784e-42  0.001151\n",
       "4486      ش   203  127.760983  1.266079e-29  0.004816\n",
       "7183     نو    19  124.455246  6.697276e-29  0.001154\n",
       "3032     تو    20  118.799113  1.158916e-27  0.001155"
      ]
     },
     "execution_count": 43,
     "metadata": {},
     "output_type": "execute_result"
    }
   ],
   "source": [
    "# Top 5 features based on chi-squared statistic\n",
    "\n",
    "feature_properties_df[['feature','DF','chi2_score','chi2_pvalue','mi_score']].sort_values(by='chi2_score',ascending=False).head(5)"
   ]
  },
  {
   "cell_type": "code",
   "execution_count": 44,
   "metadata": {},
   "outputs": [
    {
     "data": {
      "text/html": [
       "<div>\n",
       "<style scoped>\n",
       "    .dataframe tbody tr th:only-of-type {\n",
       "        vertical-align: middle;\n",
       "    }\n",
       "\n",
       "    .dataframe tbody tr th {\n",
       "        vertical-align: top;\n",
       "    }\n",
       "\n",
       "    .dataframe thead th {\n",
       "        text-align: right;\n",
       "    }\n",
       "</style>\n",
       "<table border=\"1\" class=\"dataframe\">\n",
       "  <thead>\n",
       "    <tr style=\"text-align: right;\">\n",
       "      <th></th>\n",
       "      <th>feature</th>\n",
       "      <th>DF</th>\n",
       "      <th>chi2_score</th>\n",
       "      <th>chi2_pvalue</th>\n",
       "      <th>mi_score</th>\n",
       "    </tr>\n",
       "  </thead>\n",
       "  <tbody>\n",
       "    <tr>\n",
       "      <th>1440</th>\n",
       "      <td>ا</td>\n",
       "      <td>21816</td>\n",
       "      <td>0.092783</td>\n",
       "      <td>0.760668</td>\n",
       "      <td>0.047703</td>\n",
       "    </tr>\n",
       "    <tr>\n",
       "      <th>7742</th>\n",
       "      <td>ي</td>\n",
       "      <td>11916</td>\n",
       "      <td>1.177065</td>\n",
       "      <td>0.277954</td>\n",
       "      <td>0.029786</td>\n",
       "    </tr>\n",
       "    <tr>\n",
       "      <th>7329</th>\n",
       "      <td>و</td>\n",
       "      <td>10901</td>\n",
       "      <td>2.106395</td>\n",
       "      <td>0.146684</td>\n",
       "      <td>0.028179</td>\n",
       "    </tr>\n",
       "    <tr>\n",
       "      <th>5792</th>\n",
       "      <td>ل</td>\n",
       "      <td>16712</td>\n",
       "      <td>3.602400</td>\n",
       "      <td>0.057696</td>\n",
       "      <td>0.026924</td>\n",
       "    </tr>\n",
       "    <tr>\n",
       "      <th>6549</th>\n",
       "      <td>م</td>\n",
       "      <td>10238</td>\n",
       "      <td>0.208818</td>\n",
       "      <td>0.647695</td>\n",
       "      <td>0.023739</td>\n",
       "    </tr>\n",
       "  </tbody>\n",
       "</table>\n",
       "</div>"
      ],
      "text/plain": [
       "     feature     DF  chi2_score  chi2_pvalue  mi_score\n",
       "1440       ا  21816    0.092783     0.760668  0.047703\n",
       "7742       ي  11916    1.177065     0.277954  0.029786\n",
       "7329       و  10901    2.106395     0.146684  0.028179\n",
       "5792       ل  16712    3.602400     0.057696  0.026924\n",
       "6549       م  10238    0.208818     0.647695  0.023739"
      ]
     },
     "execution_count": 44,
     "metadata": {},
     "output_type": "execute_result"
    }
   ],
   "source": [
    "# Top 5 features based on mutual information\n",
    "\n",
    "feature_properties_df[['feature','DF','chi2_score','chi2_pvalue','mi_score']].sort_values(by='mi_score',ascending=False).head(5)"
   ]
  },
  {
   "cell_type": "code",
   "execution_count": 45,
   "metadata": {},
   "outputs": [],
   "source": [
    "words_train_df = pd.DataFrame(dict(word=words_train,lang_label=labels_train))"
   ]
  },
  {
   "cell_type": "code",
   "execution_count": 46,
   "metadata": {},
   "outputs": [
    {
     "name": "stdout",
     "output_type": "stream",
     "text": [
      "Top 10 Features:\n",
      "Importance_score\tNgram_feature\n",
      "    302.950\t\t\"و \"\n",
      "    186.042\t\t\"اا\"\n",
      "    127.761\t\t\"ش \"\n",
      "    124.455\t\t\"نو \"\n",
      "    118.799\t\t\"تو \"\n",
      "    110.435\t\t\"وش \"\n",
      "    108.808\t\t\"فو \"\n",
      "     95.124\t\t\"شوف\"\n",
      "     80.696\t\t\" ما\"\n",
      "     71.185\t\t\"بو \"\n",
      "\n",
      "=====================\n",
      "feature: \"و \"\n",
      "\n",
      "Number of training words that contain this feature: 335\n",
      "\n",
      "Distribution of language labels of words that contain this feature:\n",
      "     contain this feature  total  % of total\n",
      "MSA                   251  35171    0.713656\n",
      "TN                     84    590   14.237288\n",
      "\n",
      "Example training words that contain this feature:\n",
      "  MSA: ['دييغو', 'مونشو', 'ألفونسو', 'اليونسكو', 'دو', 'اللهو', 'فانواتو', 'للنمو', 'العدو', 'ميناموتو']\n",
      "  TND: []\n",
      "\n",
      "=====================\n",
      "feature: \"اا\"\n",
      "\n",
      "Number of training words that contain this feature: 13\n",
      "\n",
      "Distribution of language labels of words that contain this feature:\n",
      "     contain this feature  total  % of total\n",
      "TN                     10    590    0.008530\n",
      "MSA                     3  35171    1.694915\n",
      "\n",
      "Example training words that contain this feature:\n",
      "  MSA: ['اللاارادي', 'ااشترى', 'ااستدعى']\n",
      "  TND: []\n",
      "\n",
      "=====================\n",
      "feature: \"ش \"\n",
      "\n",
      "Number of training words that contain this feature: 203\n",
      "\n",
      "Distribution of language labels of words that contain this feature:\n",
      "     contain this feature  total  % of total\n",
      "MSA                   162  35171    0.460607\n",
      "TN                     41    590    6.949153\n",
      "\n",
      "Example training words that contain this feature:\n",
      "  MSA: ['حنش', 'حشيش', 'شاوش', 'مراكش', 'دردش', 'قرش', 'يش', 'هش', 'إتش', 'المدهش']\n",
      "  TND: []\n",
      "\n",
      "=====================\n",
      "feature: \"نو \"\n",
      "\n",
      "Number of training words that contain this feature: 19\n",
      "\n",
      "Distribution of language labels of words that contain this feature:\n",
      "     contain this feature  total  % of total\n",
      "TN                     10    590    0.025589\n",
      "MSA                     9  35171    1.694915\n",
      "\n",
      "Example training words that contain this feature:\n",
      "  MSA: ['وبنو', 'الحنو', 'ميلانو', 'نانو', 'كريستيانو', 'دنو', 'رينو', 'بنو', 'مارينو']\n",
      "  TND: []\n",
      "\n",
      "=====================\n",
      "feature: \"تو \"\n",
      "\n",
      "Number of training words that contain this feature: 20\n",
      "\n",
      "Distribution of language labels of words that contain this feature:\n",
      "     contain this feature  total  % of total\n",
      "MSA                    10  35171    0.028433\n",
      "TN                     10    590    1.694915\n",
      "\n",
      "Example training words that contain this feature:\n",
      "  MSA: ['فانواتو', 'ميناموتو', 'الناتو', 'إيتو', 'ميكوتو', 'ياماتو', 'بورتو', 'كيوتو', 'مستو', 'بلوتو']\n",
      "  TND: []\n",
      "\n",
      "=====================\n",
      "feature: \"وش \"\n",
      "\n",
      "Number of training words that contain this feature: 14\n",
      "\n",
      "Distribution of language labels of words that contain this feature:\n",
      "     contain this feature  total  % of total\n",
      "TN                      8    590    0.017060\n",
      "MSA                     6  35171    1.355932\n",
      "\n",
      "Example training words that contain this feature:\n",
      "  MSA: ['شاوش', 'جيوش', 'ناوش', 'بوش', 'الجيوش', 'شوش']\n",
      "  TND: []\n",
      "\n",
      "=====================\n",
      "feature: \"فو \"\n",
      "\n",
      "Number of training words that contain this feature: 16\n",
      "\n",
      "Distribution of language labels of words that contain this feature:\n",
      "     contain this feature  total  % of total\n",
      "TN                      9    590    0.019903\n",
      "MSA                     7  35171    1.525424\n",
      "\n",
      "Example training words that contain this feature:\n",
      "  MSA: ['فو', 'يعفو', 'موظفو', 'سراييفو', 'فولفو', 'والعفو', 'غفو']\n",
      "  TND: []\n",
      "\n",
      "=====================\n",
      "feature: \"شوف\"\n",
      "\n",
      "Number of training words that contain this feature: 13\n",
      "\n",
      "Distribution of language labels of words that contain this feature:\n",
      "     contain this feature  total  % of total\n",
      "TN                      7    590    0.017060\n",
      "MSA                     6  35171    1.186441\n",
      "\n",
      "Example training words that contain this feature:\n",
      "  MSA: ['نشوف', 'مكشوف', 'المكشوفة', 'مكشوفة', 'المكشوف', 'الشوفان']\n",
      "  TND: []\n",
      "\n",
      "=====================\n",
      "feature: \" ما\"\n",
      "\n",
      "Number of training words that contain this feature: 129\n",
      "\n",
      "Distribution of language labels of words that contain this feature:\n",
      "     contain this feature  total  % of total\n",
      "MSA                   104  35171    0.295698\n",
      "TN                     25    590    4.237288\n",
      "\n",
      "Example training words that contain this feature:\n",
      "  MSA: ['ماعز', 'مائلة', 'ماهر', 'مات', 'ماتت', 'مالقه', 'مايكروسوفت', 'ماني', 'ماضي', 'ماركة']\n",
      "  TND: []\n",
      "\n",
      "=====================\n",
      "feature: \"بو \"\n",
      "\n",
      "Number of training words that contain this feature: 16\n",
      "\n",
      "Distribution of language labels of words that contain this feature:\n",
      "     contain this feature  total  % of total\n",
      "MSA                     9  35171    0.025589\n",
      "TN                      7    590    1.186441\n",
      "\n",
      "Example training words that contain this feature:\n",
      "  MSA: ['تيبو', 'قبو', 'أبو', 'خبو', 'كولومبو', 'الربو', 'يربو', 'والربو', 'ابو']\n",
      "  TND: []\n",
      "\n"
     ]
    },
    {
     "data": {
      "image/png": "[encoded data removed]",
      "text/plain": [
       "<matplotlib.figure.Figure at 0x16117c50d68>"
      ]
     },
     "metadata": {},
     "output_type": "display_data"
    }
   ],
   "source": [
    "machine_learning_utils.analyze_feature_importance(feature_properties_df.chi2_score,feature_names,words_train_df,X_train)"
   ]
  },
  {
   "cell_type": "code",
   "execution_count": 47,
   "metadata": {},
   "outputs": [
    {
     "name": "stdout",
     "output_type": "stream",
     "text": [
      "Top 10 Features:\n",
      "Importance_score\tNgram_feature\n",
      "      0.048\t\t\"ا\"\n",
      "      0.030\t\t\"ي\"\n",
      "      0.028\t\t\"و\"\n",
      "      0.027\t\t\"ل\"\n",
      "      0.024\t\t\"م\"\n",
      "      0.018\t\t\"ر\"\n",
      "      0.018\t\t\"ب\"\n",
      "      0.017\t\t\"ن\"\n",
      "      0.017\t\t\"ت\"\n",
      "      0.015\t\t\"ه\"\n",
      "\n",
      "=====================\n",
      "feature: \"ا\"\n",
      "\n",
      "Number of training words that contain this feature: 21816\n",
      "\n",
      "Distribution of language labels of words that contain this feature:\n",
      "     contain this feature  total  % of total\n",
      "MSA                 21488  35171   61.095789\n",
      "TN                    328    590   55.593220\n",
      "\n",
      "Example training words that contain this feature:\n",
      "  MSA: ['ووضعوا', 'إختفاء', 'بيوتنا', 'والرقص', 'اليومين', 'بالحيوية', 'الهوى', 'احراز', 'مؤتمرات', 'والمشاركة']\n",
      "  TND: []\n",
      "\n",
      "=====================\n",
      "feature: \"ي\"\n",
      "\n",
      "Number of training words that contain this feature: 11916\n",
      "\n",
      "Distribution of language labels of words that contain this feature:\n",
      "     contain this feature  total  % of total\n",
      "MSA                 11704  35171   33.277416\n",
      "TN                    212    590   35.932203\n",
      "\n",
      "Example training words that contain this feature:\n",
      "  MSA: ['ومعنوية', 'يزكي', 'بيوتنا', 'صفيحة', 'اليومين', 'يدع', 'بالحيوية', 'وتوحيد', 'ويجعلها', 'وتنامي']\n",
      "  TND: []\n",
      "\n",
      "=====================\n",
      "feature: \"و\"\n",
      "\n",
      "Number of training words that contain this feature: 10901\n",
      "\n",
      "Distribution of language labels of words that contain this feature:\n",
      "     contain this feature  total  % of total\n",
      "MSA                 10699  35171   30.419948\n",
      "TN                    202    590   34.237288\n",
      "\n",
      "Example training words that contain this feature:\n",
      "  MSA: ['ومعنوية', 'ووضعوا', 'حكومته', 'ووقت', 'بيوتنا', 'والرقص', 'اليومين', 'بالحيوية', 'الهوى', 'والمشاركة']\n",
      "  TND: []\n",
      "\n",
      "=====================\n",
      "feature: \"ل\"\n",
      "\n",
      "Number of training words that contain this feature: 16712\n",
      "\n",
      "Distribution of language labels of words that contain this feature:\n",
      "     contain this feature  total  % of total\n",
      "MSA                 16549  35171   47.052970\n",
      "TN                    163    590   27.627119\n",
      "\n",
      "Example training words that contain this feature:\n",
      "  MSA: ['والرقص', 'لمؤتمر', 'اليومين', 'بالحيوية', 'الهوى', 'والمشاركة', 'ويجعلها', 'سولومون', 'الطحينة', 'الفضلاء']\n",
      "  TND: []\n",
      "\n",
      "=====================\n",
      "feature: \"م\"\n",
      "\n",
      "Number of training words that contain this feature: 10238\n",
      "\n",
      "Distribution of language labels of words that contain this feature:\n",
      "     contain this feature  total  % of total\n",
      "MSA                 10072  35171   28.637230\n",
      "TN                    166    590   28.135593\n",
      "\n",
      "Example training words that contain this feature:\n",
      "  MSA: ['ومعنوية', 'حكومته', 'لمؤتمر', 'اليومين', 'عصرهم', 'مؤتمرات', 'والمشاركة', 'ومقدار', 'وتنامي', 'سولومون']\n",
      "  TND: []\n",
      "\n",
      "=====================\n",
      "feature: \"ر\"\n",
      "\n",
      "Number of training words that contain this feature: 10136\n",
      "\n",
      "Distribution of language labels of words that contain this feature:\n",
      "     contain this feature  total  % of total\n",
      "MSA                 10019  35171   28.486537\n",
      "TN                    117    590   19.830508\n",
      "\n",
      "Example training words that contain this feature:\n",
      "  MSA: ['والرقص', 'لمؤتمر', 'عصرهم', 'احراز', 'مؤتمرات', 'والمشاركة', 'ومقدار', 'إماراتية', 'أطرافها', 'بحرف']\n",
      "  TND: []\n",
      "\n",
      "=====================\n",
      "feature: \"ب\"\n",
      "\n",
      "Number of training words that contain this feature: 7488\n",
      "\n",
      "Distribution of language labels of words that contain this feature:\n",
      "     contain this feature  total  % of total\n",
      "MSA                  7363  35171   20.934861\n",
      "TN                    125    590   21.186441\n",
      "\n",
      "Example training words that contain this feature:\n",
      "  MSA: ['بيوتنا', 'بالحيوية', 'بحرف', 'بحضور', 'الاشتباه', 'ليبلغ', 'وضوابط', 'تنبع', 'مبللا', 'بمقتضاه']\n",
      "  TND: []\n",
      "\n",
      "=====================\n",
      "feature: \"ن\"\n",
      "\n",
      "Number of training words that contain this feature: 8016\n",
      "\n",
      "Distribution of language labels of words that contain this feature:\n",
      "     contain this feature  total  % of total\n",
      "MSA                  7897  35171   22.453157\n",
      "TN                    119    590   20.169492\n",
      "\n",
      "Example training words that contain this feature:\n",
      "  MSA: ['ومعنوية', 'بيوتنا', 'اليومين', 'حنش', 'وتنامي', 'سولومون', 'الطحينة', 'المحيطين', 'أنوثة', 'نشأ']\n",
      "  TND: []\n",
      "\n",
      "=====================\n",
      "feature: \"ت\"\n",
      "\n",
      "Number of training words that contain this feature: 10268\n",
      "\n",
      "Distribution of language labels of words that contain this feature:\n",
      "     contain this feature  total  % of total\n",
      "MSA                 10163  35171   28.895965\n",
      "TN                    105    590   17.796610\n",
      "\n",
      "Example training words that contain this feature:\n",
      "  MSA: ['حكومته', 'إختفاء', 'ووقت', 'بيوتنا', 'لمؤتمر', 'مؤتمرات', 'وتوحيد', 'وتنامي', 'إماراتية', 'الاشتباه']\n",
      "  TND: []\n",
      "\n",
      "=====================\n",
      "feature: \"ه\"\n",
      "\n",
      "Number of training words that contain this feature: 5206\n",
      "\n",
      "Distribution of language labels of words that contain this feature:\n",
      "     contain this feature  total  % of total\n",
      "MSA                  5096  35171   14.489210\n",
      "TN                    110    590   18.644068\n",
      "\n",
      "Example training words that contain this feature:\n",
      "  MSA: ['حكومته', 'الهوى', 'عصرهم', 'ويجعلها', 'أطرافها', 'اعمارهم', 'الاشتباه', 'وحمايته', 'حاجتهم', 'تشوهات']\n",
      "  TND: []\n",
      "\n"
     ]
    },
    {
     "data": {
      "image/png": "[encoded data removed]",
      "text/plain": [
       "<matplotlib.figure.Figure at 0x16117c75240>"
      ]
     },
     "metadata": {},
     "output_type": "display_data"
    }
   ],
   "source": [
    "machine_learning_utils.analyze_feature_importance(feature_properties_df.mi_score,feature_names,words_train_df,X_train)"
   ]
  },
  {
   "cell_type": "markdown",
   "metadata": {},
   "source": [
    "*Remarks and Conclusions:*\n",
    "\n",
    "Based on qualitative visual inspection of the words containing top features (see results above), it appears that the **Chi-squared statistic** is better than mutual information at discerning important features. Thus that is what we are going to use for automatic feature selection below."
   ]
  },
  {
   "cell_type": "markdown",
   "metadata": {},
   "source": [
    "### Select top K features\n",
    "\n",
    "- We use **Chi-squared** scores because they seem much better than mutual information at finding discriminant features.\n",
    "- We will now first choose a good cutoff threshold by visually inspecting the ECDF of chi-squared scores (see red plot below).\n",
    "- Then, based on this threshold, we choose the value of $K$, the number of top-scoring features to keep."
   ]
  },
  {
   "cell_type": "code",
   "execution_count": 48,
   "metadata": {},
   "outputs": [
    {
     "data": {
      "image/png": "[encoded data removed]",
      "text/plain": [
       "<matplotlib.figure.Figure at 0x161192a6240>"
      ]
     },
     "metadata": {},
     "output_type": "display_data"
    }
   ],
   "source": [
    "# ECDF of chi2 scores\n",
    "\n",
    "# compute the ECDF of our data sample\n",
    "qe, pe = machine_learning_utils.ecdf(feature_properties_df.chi2_score)\n",
    "\n",
    "# plot\n",
    "plt.plot(qe, pe, ':dr', lw=1)\n",
    "plt.xscale('log')\n",
    "plt.xlabel('chi2_score')\n",
    "plt.ylabel('Cumulative probability')\n",
    "plt.title('Empirical CDF of Chi-squared Feature Scores')\n",
    "plt.show()"
   ]
  },
  {
   "cell_type": "code",
   "execution_count": 52,
   "metadata": {},
   "outputs": [
    {
     "data": {
      "image/png": "[encoded data removed]",
      "text/plain": [
       "<matplotlib.figure.Figure at 0x16119351cf8>"
      ]
     },
     "metadata": {},
     "output_type": "display_data"
    }
   ],
   "source": [
    "plt.plot(qe, pe, ':dr', lw=1)\n",
    "#plt.xscale('log')\n",
    "plt.xlabel('chi2_score')\n",
    "plt.ylabel('Cumulative probability')\n",
    "plt.title('Empirical CDF of Chi-squared Feature Scores')\n",
    "plt.axis([0.01,2,0,1])\n",
    "plt.show()"
   ]
  },
  {
   "cell_type": "code",
   "execution_count": 61,
   "metadata": {},
   "outputs": [
    {
     "data": {
      "text/plain": [
       "3227.6000000000004"
      ]
     },
     "execution_count": 61,
     "metadata": {},
     "output_type": "execute_result"
    }
   ],
   "source": [
    "# choose the cutoff threshold via visual inspection of the above ECDF plot\n",
    "prob_cutoff_threshold = 0.6\n",
    "\n",
    "# approximately the number of top-scoring features we should keep\n",
    "K_approx = feature_properties_df.shape[0]*(1-prob_cutoff_threshold)\n",
    "K_approx"
   ]
  },
  {
   "cell_type": "code",
   "execution_count": 77,
   "metadata": {},
   "outputs": [],
   "source": [
    "# finally set the value of K to a nice round number\n",
    "K = 3000"
   ]
  },
  {
   "cell_type": "code",
   "execution_count": 78,
   "metadata": {},
   "outputs": [],
   "source": [
    "# determine subset of selected features\n",
    "ch2 = SelectKBest(chi2, k=K)"
   ]
  },
  {
   "cell_type": "code",
   "execution_count": 79,
   "metadata": {},
   "outputs": [
    {
     "data": {
      "text/plain": [
       "((35761, 3000), (11921, 3000), (3000,), (3000, 7))"
      ]
     },
     "execution_count": 79,
     "metadata": {},
     "output_type": "execute_result"
    }
   ],
   "source": [
    "# update training variables accordingly\n",
    "X_train_sub = ch2.fit_transform(X_train, y_train)\n",
    "X_test_sub = ch2.transform(X_test)\n",
    "idx = ch2.get_support(indices=True)\n",
    "feature_names_sub = feature_names[idx]\n",
    "feature_properties_df_sub = feature_properties_df.loc[idx]\n",
    "\n",
    "X_train_sub.shape,X_test_sub.shape,feature_names_sub.shape,feature_properties_df_sub.shape"
   ]
  },
  {
   "cell_type": "code",
   "execution_count": 80,
   "metadata": {},
   "outputs": [],
   "source": [
    "import pickle\n",
    "pickle.dump([X_train_sub,y_train,X_test_sub,y_test,feature_names_sub,words_train_df], open(\"../../generated_data/word_data_features.p\", \"wb\"))"
   ]
  },
  {
   "cell_type": "markdown",
   "metadata": {},
   "source": [
    "*****"
   ]
  },
  {
   "cell_type": "code",
   "execution_count": 81,
   "metadata": {},
   "outputs": [
    {
     "data": {
      "text/plain": [
       "MSA    35171\n",
       "TN       590\n",
       "dtype: int64"
      ]
     },
     "execution_count": 81,
     "metadata": {},
     "output_type": "execute_result"
    }
   ],
   "source": [
    "pd.Series(labels_train).value_counts()"
   ]
  },
  {
   "cell_type": "code",
   "execution_count": null,
   "metadata": {},
   "outputs": [],
   "source": []
  }
 ],
 "metadata": {
  "kernelspec": {
   "display_name": "Python 3",
   "language": "python",
   "name": "python3"
  },
  "language_info": {
   "codemirror_mode": {
    "name": "ipython",
    "version": 3
   },
   "file_extension": ".py",
   "mimetype": "text/x-python",
   "name": "python",
   "nbconvert_exporter": "python",
   "pygments_lexer": "ipython3",
   "version": "3.6.4"
  }
 },
 "nbformat": 4,
 "nbformat_minor": 2
}
