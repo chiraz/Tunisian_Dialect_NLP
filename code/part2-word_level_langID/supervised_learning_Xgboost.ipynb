{
 "cells": [
  {
   "cell_type": "code",
   "execution_count": 76,
   "metadata": {},
   "outputs": [],
   "source": [
    "import pandas as pd\n",
    "import numpy as np\n",
    "import matplotlib.pyplot as plt\n",
    "import seaborn as sns"
   ]
  },
  {
   "cell_type": "code",
   "execution_count": 77,
   "metadata": {},
   "outputs": [],
   "source": [
    "import matplotlib"
   ]
  },
  {
   "cell_type": "code",
   "execution_count": 78,
   "metadata": {},
   "outputs": [],
   "source": [
    "from sklearn import metrics"
   ]
  },
  {
   "cell_type": "code",
   "execution_count": 79,
   "metadata": {},
   "outputs": [],
   "source": [
    "from sklearn.model_selection import GridSearchCV, RandomizedSearchCV"
   ]
  },
  {
   "cell_type": "code",
   "execution_count": 80,
   "metadata": {},
   "outputs": [],
   "source": [
    "import xgboost as xgb"
   ]
  },
  {
   "cell_type": "code",
   "execution_count": 81,
   "metadata": {},
   "outputs": [],
   "source": [
    "# Add higher directory to python modules path.\n",
    "\n",
    "import sys\n",
    "sys.path.append(\"..\")"
   ]
  },
  {
   "cell_type": "code",
   "execution_count": 82,
   "metadata": {},
   "outputs": [],
   "source": [
    "# Local utility functions\n",
    "from utilities import machine_learning_utils"
   ]
  },
  {
   "cell_type": "code",
   "execution_count": 83,
   "metadata": {},
   "outputs": [],
   "source": [
    "# ?xgb.DMatrix\n",
    "# ?xgb.cv"
   ]
  },
  {
   "cell_type": "code",
   "execution_count": 84,
   "metadata": {},
   "outputs": [],
   "source": [
    "# ?xgb.XGBClassifier"
   ]
  },
  {
   "cell_type": "markdown",
   "metadata": {},
   "source": [
    "## Load Data"
   ]
  },
  {
   "cell_type": "code",
   "execution_count": 85,
   "metadata": {},
   "outputs": [
    {
     "data": {
      "text/plain": [
       "((35761, 3000), (11921, 3000), (3000,), (35761, 2))"
      ]
     },
     "execution_count": 85,
     "metadata": {},
     "output_type": "execute_result"
    }
   ],
   "source": [
    "import pickle\n",
    "\n",
    "X_train,y_train,X_test,y_test,feature_names,words_train_df = pickle.load(open(\"../../generated_data/word_data_features.p\",\"rb\"))\n",
    "\n",
    "X_train.shape,X_test.shape,feature_names.shape, words_train_df.shape"
   ]
  },
  {
   "cell_type": "code",
   "execution_count": 86,
   "metadata": {},
   "outputs": [],
   "source": [
    "# save original variables just in case\n",
    "X_train0,y_train0 = X_train,y_train"
   ]
  },
  {
   "cell_type": "code",
   "execution_count": 87,
   "metadata": {},
   "outputs": [],
   "source": [
    "# Create the DMatrices for our data\n",
    "DMat_train = xgb.DMatrix(data=X_train, label=pd.Series(y_train).map({\"MSA\":0, \"TND\":1}).tolist())\n",
    "DMat_test = xgb.DMatrix(data=X_test, label=pd.Series(y_test).map({\"MSA\":0, \"TND\":1}).tolist())"
   ]
  },
  {
   "cell_type": "markdown",
   "metadata": {},
   "source": [
    "## Build default model"
   ]
  },
  {
   "cell_type": "code",
   "execution_count": 88,
   "metadata": {},
   "outputs": [],
   "source": [
    "xgb1 = xgb.XGBClassifier(\n",
    " learning_rate =0.3,\n",
    " n_estimators=500,\n",
    " max_depth=5,\n",
    " min_child_weight=1,\n",
    " gamma=0,\n",
    " subsample=0.8,\n",
    " colsample_bytree=0.8,\n",
    " scale_pos_weight=1,\n",
    " objective= 'binary:logistic',\n",
    " nthread=4,\n",
    " seed=27)"
   ]
  },
  {
   "cell_type": "code",
   "execution_count": 89,
   "metadata": {},
   "outputs": [
    {
     "data": {
      "text/plain": [
       "{'base_score': 0.5,\n",
       " 'booster': 'gbtree',\n",
       " 'colsample_bylevel': 1,\n",
       " 'colsample_bytree': 0.8,\n",
       " 'gamma': 0,\n",
       " 'learning_rate': 0.3,\n",
       " 'max_delta_step': 0,\n",
       " 'max_depth': 5,\n",
       " 'min_child_weight': 1,\n",
       " 'missing': None,\n",
       " 'n_estimators': 500,\n",
       " 'n_jobs': 1,\n",
       " 'nthread': 4,\n",
       " 'objective': 'binary:logistic',\n",
       " 'random_state': 0,\n",
       " 'reg_alpha': 0,\n",
       " 'reg_lambda': 1,\n",
       " 'scale_pos_weight': 1,\n",
       " 'seed': 27,\n",
       " 'silent': True,\n",
       " 'subsample': 0.8}"
      ]
     },
     "execution_count": 89,
     "metadata": {},
     "output_type": "execute_result"
    }
   ],
   "source": [
    "xgb1.get_params()"
   ]
  },
  {
   "cell_type": "code",
   "execution_count": 90,
   "metadata": {},
   "outputs": [
    {
     "data": {
      "text/plain": [
       "{'base_score': 0.5,\n",
       " 'booster': 'gbtree',\n",
       " 'colsample_bylevel': 1,\n",
       " 'colsample_bytree': 0.8,\n",
       " 'gamma': 0,\n",
       " 'learning_rate': 0.3,\n",
       " 'max_delta_step': 0,\n",
       " 'max_depth': 5,\n",
       " 'min_child_weight': 1,\n",
       " 'missing': None,\n",
       " 'n_estimators': 500,\n",
       " 'nthread': 4,\n",
       " 'objective': 'binary:logistic',\n",
       " 'reg_alpha': 0,\n",
       " 'reg_lambda': 1,\n",
       " 'scale_pos_weight': 1,\n",
       " 'seed': 27,\n",
       " 'silent': 1,\n",
       " 'subsample': 0.8}"
      ]
     },
     "execution_count": 90,
     "metadata": {},
     "output_type": "execute_result"
    }
   ],
   "source": [
    "xgb1.get_xgb_params()"
   ]
  },
  {
   "cell_type": "code",
   "execution_count": 91,
   "metadata": {},
   "outputs": [
    {
     "data": {
      "text/plain": [
       "XGBClassifier(base_score=0.5, booster='gbtree', colsample_bylevel=1,\n",
       "       colsample_bytree=0.8, gamma=0, learning_rate=0.3, max_delta_step=0,\n",
       "       max_depth=5, min_child_weight=1, missing=None, n_estimators=500,\n",
       "       n_jobs=1, nthread=4, objective='binary:logistic', random_state=0,\n",
       "       reg_alpha=0, reg_lambda=1, scale_pos_weight=1, seed=27, silent=True,\n",
       "       subsample=0.8)"
      ]
     },
     "execution_count": 91,
     "metadata": {},
     "output_type": "execute_result"
    }
   ],
   "source": [
    "# TEMPORARY FOR DEBUGGING\n",
    "\n",
    "xgb1.fit(X_train,y_train)"
   ]
  },
  {
   "cell_type": "code",
   "execution_count": 92,
   "metadata": {},
   "outputs": [
    {
     "name": "stdout",
     "output_type": "stream",
     "text": [
      "accuracy: 0.983307\n",
      "\n",
      "Model Report\n",
      "Accuracy: 0.9833\n",
      "AUC Score: 0.892266\n"
     ]
    }
   ],
   "source": [
    "# Predict the labels of the test set\n",
    "y_test_pred = xgb1.predict(X_test)\n",
    "p_test_pred = xgb1.predict_proba(X_test)[:,1]\n",
    "\n",
    "# Compute the accuracy: accuracy\n",
    "accuracy = float(np.sum(y_test_pred==y_test))/y_test.shape[0]\n",
    "print(\"accuracy: %f\" % (accuracy))\n",
    "\n",
    "#Print model report\n",
    "print (\"\\nModel Report\")\n",
    "print (\"Accuracy: %.4g\" % metrics.accuracy_score(y_test, y_test_pred))\n",
    "print (\"AUC Score: %f\" % metrics.roc_auc_score(y_test, p_test_pred))"
   ]
  },
  {
   "cell_type": "code",
   "execution_count": 93,
   "metadata": {},
   "outputs": [
    {
     "name": "stdout",
     "output_type": "stream",
     "text": [
      "------------------------------------\n",
      "Classification report with default cutoff threshold=0.5\n",
      "------------------------------------\n",
      "\n",
      "              precision    recall  f1-score   support\n",
      "\n",
      "         MSA       0.99      1.00      0.99     11724\n",
      "          TN       0.48      0.11      0.17       197\n",
      "\n",
      "   micro avg       0.98      0.98      0.98     11921\n",
      "   macro avg       0.73      0.55      0.58     11921\n",
      "weighted avg       0.98      0.98      0.98     11921\n",
      "\n",
      "Average F1 score: 0.582921006406473\n",
      "\n",
      "Confusion matrix:\n",
      "col_0    MSA  TN\n",
      "row_0           \n",
      "MSA    11701  23\n",
      "TN       176  21\n",
      "\n",
      "\n",
      "------------------------------------\n",
      "Area Under the Curve:  0.892\n",
      "------------------------------------\n",
      "\n",
      "\n",
      "\n",
      "------------------------------------\n",
      "Maximum F1 Scores:\n",
      "------------------------------------\n",
      "               MSA        TN   Average\n",
      "Threshold  0.93976  0.089801  0.091264\n",
      "Max(F1)    0.99192  0.332657  0.659367\n",
      "\n",
      "------------------------------------\n",
      "\n"
     ]
    },
    {
     "data": {
      "image/png": "[encoded data removed]",
      "text/plain": [
       "<matplotlib.figure.Figure at 0x28574f55cc0>"
      ]
     },
     "metadata": {},
     "output_type": "display_data"
    },
    {
     "data": {
      "image/png": "[encoded data removed]",
      "text/plain": [
       "<matplotlib.figure.Figure at 0x285738c2e10>"
      ]
     },
     "metadata": {},
     "output_type": "display_data"
    },
    {
     "data": {
      "image/png": "[encoded data removed]",
      "text/plain": [
       "<matplotlib.figure.Figure at 0x28572d720f0>"
      ]
     },
     "metadata": {},
     "output_type": "display_data"
    },
    {
     "data": {
      "image/png": "[encoded data removed]",
      "text/plain": [
       "<matplotlib.figure.Figure at 0x285732c4550>"
      ]
     },
     "metadata": {},
     "output_type": "display_data"
    },
    {
     "data": {
      "image/png": "[encoded data removed]",
      "text/plain": [
       "<matplotlib.figure.Figure at 0x28574c03780>"
      ]
     },
     "metadata": {},
     "output_type": "display_data"
    }
   ],
   "source": [
    "machine_learning_utils.my_performance_report(y_test,xgb1.predict(X_test),xgb1.predict_proba(X_test),xgb1.classes_)"
   ]
  },
  {
   "cell_type": "markdown",
   "metadata": {},
   "source": [
    "*****"
   ]
  },
  {
   "cell_type": "markdown",
   "metadata": {},
   "source": [
    "## Hyperparameter tuning\n",
    "\n",
    "This part is currently disfunctional: xgb.cv() crashes because the matrix is too large. Need to fix this somehow ..."
   ]
  },
  {
   "cell_type": "markdown",
   "metadata": {},
   "source": [
    "*General strategy for tuning hyperparameters of XGboost*:\n",
    "\n",
    "1. **Choose a relatively high learning rate and find optimum number of trees for this learning rate**. Generally a learning rate of 0.1 works but somewhere between 0.05 to 0.3 should work for different problems. XGBoost has a very useful function called as “cv” which performs cross-validation at each boosting iteration and thus returns the **optimum number of trees**.\n",
    "2. **Tune tree-specific parameters** (max_depth, min_child_weight, gamma, subsample, colsample_bytree) for the chosen learning rate and number of trees.\n",
    "3. **Tune regularization parameters** (lambda, alpha) which can help reduce model complexity and enhance performance. [in order to reduce overfitting???]\n",
    "4. **Tune the learning rate** : find a lower learning rate ...\n",
    "\n",
    "Reference: https://www.analyticsvidhya.com/blog/2016/03/complete-guide-parameter-tuning-xgboost-with-codes-python/"
   ]
  },
  {
   "cell_type": "markdown",
   "metadata": {},
   "source": [
    "### Step 1\n",
    "\n",
    "**Choose a relatively high learning rate and find optimum number of trees for this learning rate**.\n",
    "\n",
    "- learning rate = 0.1\n",
    "- max_depth = 5 : This should be between 3-10.\n",
    "- min_child_weight = 1 : choose a relatively small value because we have a highly imbalanced class problem and leaf nodes can have small size groups.\n",
    "- gamma = 0 : A small value like 0.1-0.2 can also be chosen as a starting point. This will anyways be tuned later.\n",
    "- subsample, colsample_bytree = 0.8 : These are good starting values. Typical values range between 0.5-0.9.\n",
    "- scale_pos_weight = 1 : Because of high class imbalance."
   ]
  },
  {
   "cell_type": "code",
   "execution_count": null,
   "metadata": {},
   "outputs": [],
   "source": [
    "# Perform cross-validation: cv_results\n",
    "cv_results = xgb.cv(dtrain=DMat_train, params=xgb1.get_xgb_params(), \n",
    "                    num_boost_round=xgb1.get_params()['n_estimators'], early_stopping_rounds=50, \n",
    "                    nfold=5, metrics=\"error\", \n",
    "                    stratified=True,\n",
    "                    as_pandas=True, verbose_eval=False, seed=123)\n",
    "\n",
    "# print(cv_results)\n",
    "\n",
    "print(\"classification error in final round:\", cv_results[\"test-error-mean\"].iloc[-1])\n",
    "print(\"number of estimators:\", cv_results.shape[0])\n",
    "\n",
    "# Plot accuracy\n",
    "cv_results[[\"train-error-mean\",\"test-error-mean\"]].plot()\n",
    "cv_results[[\"train-error-std\",\"test-error-std\"]].plot()"
   ]
  },
  {
   "cell_type": "code",
   "execution_count": null,
   "metadata": {},
   "outputs": [],
   "source": [
    "# Perform cross_validation with AUC metric\n",
    "\n",
    "cv_results1_ = xgb.cv(dtrain=DMat_train, params=xgb1.get_xgb_params(), \n",
    "                    num_boost_round=xgb1.get_params()['n_estimators'], early_stopping_rounds=50, \n",
    "                    nfold=5, metrics=\"auc\", \n",
    "                    stratified=True,\n",
    "                    as_pandas=True, verbose_eval=False, seed=123)\n",
    "\n",
    "print(\"AUC in final round:\", cv_results1_[\"test-auc-mean\"].iloc[-1])\n",
    "\n",
    "print(\"number of estimators:\", cv_results1_.shape[0])\n",
    "\n",
    "cv_results1_[[\"train-auc-mean\",\"test-auc-mean\"]].plot()\n",
    "\n",
    "cv_results1_[[\"train-auc-std\",\"test-auc-std\"]].plot()"
   ]
  },
  {
   "cell_type": "markdown",
   "metadata": {},
   "source": [
    "### Step 2\n",
    "\n",
    "**Tune tree-specific parameters** (max_depth, min_child_weight, gamma, subsample, colsample_bytree) for the chosen learning rate and number of trees.\n",
    "\n",
    "- Step 2.1: use grid search to tune `max_depth` and `min_child_weight`.\n",
    "- Step 2.2: "
   ]
  },
  {
   "cell_type": "code",
   "execution_count": null,
   "metadata": {},
   "outputs": [],
   "source": [
    "xgb2 = xgb1\n",
    "xgb2.set_params(n_estimators=100)"
   ]
  },
  {
   "cell_type": "code",
   "execution_count": null,
   "metadata": {},
   "outputs": [],
   "source": [
    "xgb2.get_params()"
   ]
  },
  {
   "cell_type": "code",
   "execution_count": null,
   "metadata": {},
   "outputs": [],
   "source": [
    "xgb2.get_xgb_params()"
   ]
  },
  {
   "cell_type": "code",
   "execution_count": null,
   "metadata": {},
   "outputs": [],
   "source": [
    "param_grid1 = {\n",
    " 'max_depth':range(1,6,1),\n",
    " 'min_child_weight':range(1,6,1)\n",
    "}\n",
    "\n",
    "gsearch1 = GridSearchCV(estimator=xgb2, param_grid=param_grid1, scoring='roc_auc', n_jobs=4, iid=False, cv=5, return_train_score=True)\n",
    "gsearch1.fit(X_train,y_train)"
   ]
  },
  {
   "cell_type": "code",
   "execution_count": null,
   "metadata": {},
   "outputs": [],
   "source": [
    "print(\"Best score:\", gsearch1.best_score_)\n",
    "print(\"Best parameters:\", gsearch1.best_params_)\n",
    "\n",
    "res_df = pd.DataFrame(gsearch1.cv_results_)\n",
    "res_df = res_df.set_index(['param_max_depth','param_min_child_weight'])\n",
    "res_df = res_df[['mean_test_score','std_test_score','mean_train_score','std_train_score']]\n",
    "\n",
    "print(res_df.head())\n",
    "\n",
    "res_df[['mean_train_score','mean_test_score']].plot()\n",
    "\n",
    "#pd.DataFrame(gsearch1.cv_results_['params']).head()\n",
    "#gsearch1.best_estimator_"
   ]
  },
  {
   "cell_type": "code",
   "execution_count": null,
   "metadata": {},
   "outputs": [],
   "source": [
    "{'subsample':[i/10.0 for i in range(6,10)],\n",
    " 'colsample_bytree':[i/10.0 for i in range(6,10)],\n",
    " 'subsample': [i/100.0 for i in range(75,90,5)],\n",
    " 'colsample_bytree': [i/100.0 for i in range(75,90,5)] }"
   ]
  },
  {
   "cell_type": "code",
   "execution_count": null,
   "metadata": {},
   "outputs": [],
   "source": [
    "param_grid2 = {\n",
    "    'max_depth':[3,4,5],\n",
    "    'min_child_weight':[1,2],\n",
    "    'subsample': [0.5,0.7,0.9,1.0],\n",
    "    'colsample_bytree':[0.5,0.7,0.9,1.0],\n",
    "    'gamma':[i/10.0 for i in range(0,8)]\n",
    "}"
   ]
  },
  {
   "cell_type": "code",
   "execution_count": null,
   "metadata": {},
   "outputs": [],
   "source": [
    "gsearch2 = GridSearchCV(estimator=xgb2, param_grid=param_grid2, scoring='roc_auc', \n",
    "                        n_jobs=4, iid=False, cv=5, return_train_score=True)\n",
    "gsearch2.fit(X_train,y_train)\n",
    "\n",
    "print(\"Best score:\", gsearch2.best_score_)\n",
    "print(\"Best parameters:\", gsearch2.best_params_)\n",
    "\n",
    "res_df2 = pd.DataFrame(gsearch2.cv_results_)\n",
    "res_df2 = res_df2.set_index(['param_max_depth','param_min_child_weight','param_subsample','param_colsample_bytree','param_gamma'])\n",
    "res_df2 = res_df2[['mean_test_score','std_test_score','mean_train_score','std_train_score']]\n",
    "\n",
    "print(res_df2.head())\n",
    "\n",
    "res_df2[['mean_train_score','mean_test_score']].plot()"
   ]
  },
  {
   "cell_type": "code",
   "execution_count": null,
   "metadata": {},
   "outputs": [],
   "source": [
    "gsearch2b = RandomizedSearchCV(estimator=xgb2, param_distributions=param_grid2, scoring='roc_auc', \n",
    "                              n_iter = 30,\n",
    "                              n_jobs=4, iid=False, cv=5, return_train_score=True)\n",
    "gsearch2b.fit(X_train,y_train)\n",
    "\n",
    "print(\"Best score:\", gsearch2b.best_score_)\n",
    "print(\"Best parameters:\", gsearch2b.best_params_)\n",
    "\n",
    "res_df2b = pd.DataFrame(gsearch2b.cv_results_)\n",
    "res_df2b = res_df2b.set_index(['param_max_depth','param_min_child_weight'])\n",
    "res_df2b = res_df2b[['mean_test_score','std_test_score','mean_train_score','std_train_score']]\n",
    "\n",
    "print(res_df2b.head())\n",
    "\n",
    "res_df2b[['mean_train_score','mean_test_score']].plot()\n"
   ]
  },
  {
   "cell_type": "markdown",
   "metadata": {},
   "source": [
    "### Step 3\n",
    "\n",
    "**Tune regularization parameters** (lambda, alpha) which can help reduce model complexity and enhance performance."
   ]
  },
  {
   "cell_type": "code",
   "execution_count": null,
   "metadata": {},
   "outputs": [],
   "source": [
    "gsearch2.best_params_"
   ]
  },
  {
   "cell_type": "code",
   "execution_count": null,
   "metadata": {},
   "outputs": [],
   "source": [
    "xgb3 = xgb2\n",
    "xgb3.set_params(colsample_bytree=0.5,max_depth=4,min_child_weight=1,subsample=1.0,gamma=0.5)"
   ]
  },
  {
   "cell_type": "code",
   "execution_count": null,
   "metadata": {},
   "outputs": [],
   "source": [
    "xgb3.get_params()"
   ]
  },
  {
   "cell_type": "code",
   "execution_count": null,
   "metadata": {},
   "outputs": [],
   "source": [
    "xgb3.get_xgb_params()"
   ]
  },
  {
   "cell_type": "code",
   "execution_count": null,
   "metadata": {},
   "outputs": [],
   "source": [
    "param_grid3 = {\n",
    "    'reg_lambda':[1e-5, 1e-2, 0.1, 1, 10],\n",
    "    'reg_alpha':[1e-5, 1e-2, 0.1, 1, 10],\n",
    "}"
   ]
  },
  {
   "cell_type": "code",
   "execution_count": null,
   "metadata": {},
   "outputs": [],
   "source": [
    "gsearch3 = GridSearchCV(estimator=xgb3, param_grid=param_grid3, scoring='roc_auc', \n",
    "                        n_jobs=4, iid=False, cv=5, return_train_score=True)\n",
    "gsearch3.fit(X_train,y_train)"
   ]
  },
  {
   "cell_type": "code",
   "execution_count": null,
   "metadata": {},
   "outputs": [],
   "source": [
    "print(\"Best score:\", gsearch3.best_score_)\n",
    "print(\"Best parameters:\", gsearch3.best_params_)\n",
    "\n",
    "res_df3 = pd.DataFrame(gsearch3.cv_results_)\n",
    "res_df3 = res_df3.set_index(['param_reg_lambda','param_reg_alpha'])\n",
    "res_df3 = res_df3[['mean_test_score','std_test_score','mean_train_score','std_train_score']]\n",
    "\n",
    "res_df3[['mean_train_score','mean_test_score']].plot()"
   ]
  },
  {
   "cell_type": "code",
   "execution_count": null,
   "metadata": {},
   "outputs": [],
   "source": [
    "res_df3.head()"
   ]
  },
  {
   "cell_type": "code",
   "execution_count": null,
   "metadata": {},
   "outputs": [],
   "source": [
    "res_df3.tail()"
   ]
  },
  {
   "cell_type": "code",
   "execution_count": null,
   "metadata": {},
   "outputs": [],
   "source": [
    "param_grid3b = {\n",
    "    'reg_lambda':[0.1, 0.5, 0.7, 1, 2, 5],\n",
    "    'reg_alpha':[1e-6, 5e-6, 1e-5, 5e-5, 1e-4],\n",
    "}"
   ]
  },
  {
   "cell_type": "code",
   "execution_count": null,
   "metadata": {},
   "outputs": [],
   "source": [
    "gsearch3b = GridSearchCV(estimator=xgb3, param_grid=param_grid3b, scoring='roc_auc', \n",
    "                        n_jobs=4, iid=False, cv=5, return_train_score=True)\n",
    "gsearch3b.fit(X_train,y_train)"
   ]
  },
  {
   "cell_type": "code",
   "execution_count": null,
   "metadata": {},
   "outputs": [],
   "source": [
    "print(\"Best score:\", gsearch3b.best_score_)\n",
    "print(\"Best parameters:\", gsearch3b.best_params_)\n",
    "\n",
    "res_df3b = pd.DataFrame(gsearch3b.cv_results_)\n",
    "res_df3b = res_df3b.set_index(['param_reg_lambda','param_reg_alpha'])\n",
    "res_df3b = res_df3b[['mean_test_score','std_test_score','mean_train_score','std_train_score']]\n",
    "\n",
    "res_df3b[['mean_train_score','mean_test_score']].plot()\n",
    "res_df3b[['std_train_score','std_test_score']].plot()"
   ]
  },
  {
   "cell_type": "code",
   "execution_count": null,
   "metadata": {},
   "outputs": [],
   "source": [
    "res_df3b.head(10)"
   ]
  },
  {
   "cell_type": "markdown",
   "metadata": {},
   "source": [
    "### Step 4"
   ]
  },
  {
   "cell_type": "code",
   "execution_count": null,
   "metadata": {},
   "outputs": [],
   "source": [
    "xgb4 = xgb3\n",
    "xgb4.set_params(reg_alpha=5e-05, reg_lambda=1.0)"
   ]
  },
  {
   "cell_type": "code",
   "execution_count": null,
   "metadata": {},
   "outputs": [],
   "source": [
    "param_grid4 = {\n",
    "    'scale_pos_weight':[0.6,0.7,0.8,0.9,1.0]\n",
    "}"
   ]
  },
  {
   "cell_type": "code",
   "execution_count": null,
   "metadata": {},
   "outputs": [],
   "source": [
    "gsearch4 = GridSearchCV(estimator=xgb4, param_grid=param_grid4, scoring='roc_auc', \n",
    "                        n_jobs=4, iid=False, cv=5, return_train_score=True)\n",
    "gsearch4.fit(X_train,y_train)"
   ]
  },
  {
   "cell_type": "code",
   "execution_count": null,
   "metadata": {},
   "outputs": [],
   "source": [
    "print(\"Best score:\", gsearch4.best_score_)\n",
    "print(\"Best parameters:\", gsearch4.best_params_)\n",
    "\n",
    "res_df4 = pd.DataFrame(gsearch4.cv_results_)\n",
    "res_df4 = res_df4.set_index('param_scale_pos_weight')\n",
    "res_df4 = res_df4[['mean_test_score','std_test_score','mean_train_score','std_train_score']]\n",
    "\n",
    "res_df4[['mean_train_score','mean_test_score']].plot()"
   ]
  },
  {
   "cell_type": "code",
   "execution_count": null,
   "metadata": {},
   "outputs": [],
   "source": [
    "res_df4[['mean_train_score','mean_test_score']].head()"
   ]
  },
  {
   "cell_type": "code",
   "execution_count": null,
   "metadata": {},
   "outputs": [],
   "source": []
  },
  {
   "cell_type": "markdown",
   "metadata": {},
   "source": [
    "## Build Final XGBoost Model"
   ]
  },
  {
   "cell_type": "code",
   "execution_count": null,
   "metadata": {},
   "outputs": [],
   "source": [
    "xgb_final = xgb4\n",
    "xgb_final.set_params(scale_pos_weight=1.0)"
   ]
  },
  {
   "cell_type": "code",
   "execution_count": null,
   "metadata": {},
   "outputs": [],
   "source": [
    "# Perform cross_validation with AUC metric\n",
    "\n",
    "cv_results_final = xgb.cv(dtrain=DMat_train, params=xgb_final.get_xgb_params(), \n",
    "                    num_boost_round=xgb_final.get_params()['n_estimators'], early_stopping_rounds=50, \n",
    "                    nfold=5, metrics=\"auc\", \n",
    "                    stratified=True,\n",
    "                    as_pandas=True, verbose_eval=False, seed=123)\n",
    "\n",
    "print(\"AUC in final round:\", cv_results_final[\"test-auc-mean\"].iloc[-1])\n",
    "\n",
    "print(\"number of estimators:\", cv_results_final.shape[0])\n",
    "\n",
    "cv_results_final[[\"train-auc-mean\",\"test-auc-mean\"]].plot()\n",
    "\n",
    "cv_results_final[[\"train-auc-std\",\"test-auc-std\"]].plot()"
   ]
  },
  {
   "cell_type": "markdown",
   "metadata": {},
   "source": [
    "### Model performance on test set"
   ]
  },
  {
   "cell_type": "code",
   "execution_count": null,
   "metadata": {},
   "outputs": [],
   "source": [
    "# Fit the classifier to the training set\n",
    "xgb_final.fit(X_train,y_train)"
   ]
  },
  {
   "cell_type": "code",
   "execution_count": null,
   "metadata": {},
   "outputs": [],
   "source": [
    "# Predict the labels of the test set\n",
    "y_test_pred = xgb_final.predict(X_test)\n",
    "p_test_pred = xgb_final.predict_proba(X_test)[:,1]\n",
    "\n",
    "# Compute the accuracy: accuracy\n",
    "accuracy = float(np.sum(y_test_pred==y_test))/y_test.shape[0]\n",
    "print(\"accuracy: %f\" % (accuracy))\n",
    "\n",
    "#Print model report\n",
    "print (\"\\nModel Report\")\n",
    "print (\"Accuracy: %.4g\" % metrics.accuracy_score(y_test, y_test_pred))\n",
    "print (\"AUC Score: %f\" % metrics.roc_auc_score(y_test, p_test_pred))"
   ]
  },
  {
   "cell_type": "code",
   "execution_count": null,
   "metadata": {},
   "outputs": [],
   "source": [
    "machine_learning_utils.my_performance_report(y_test,xgb_final.predict(X_test),xgb_final.predict_proba(X_test),xgb_final.classes_)"
   ]
  },
  {
   "cell_type": "markdown",
   "metadata": {},
   "source": [
    "### Feature importance\n",
    "\n",
    "Get top 20 most important features.\n",
    "\n",
    "References: \n",
    "\n",
    "- https://stackoverflow.com/questions/38212649/feature-importance-with-xgbclassifier  (Jul 2016)\n",
    "- https://stackoverflow.com/questions/51905524/plot-importance-variables-xgboost-python  (Aug 2018)"
   ]
  },
  {
   "cell_type": "code",
   "execution_count": null,
   "metadata": {},
   "outputs": [],
   "source": [
    "xgb_final.booster"
   ]
  },
  {
   "cell_type": "code",
   "execution_count": null,
   "metadata": {},
   "outputs": [],
   "source": [
    "## Method 1\n",
    "# Reference: https://stackoverflow.com/questions/38212649/feature-importance-with-xgbclassifier  (Jul 2016)\n",
    "    \n",
    "def get_xgb_imp(xgb, feat_names):\n",
    "    from numpy import array\n",
    "    imp_dict = xgb.get_booster().get_fscore()\n",
    "    #df = pd.Series(imp_dict)\n",
    "    df = pd.DataFrame(imp_dict.items())\n",
    "    df.columns = ['fidx','importance_score']\n",
    "    df['idx'] = df.fidx.map(lambda x: int(x[1:]))\n",
    "    df['ngram'] = df.fidx.map(lambda x: feat_names[int(x[1:])])\n",
    "    df = df.set_index('idx')\n",
    "    return df\n",
    "feat_imp_df = get_xgb_imp(xgb_final,feature_names)\n",
    "feat_imp_df.sort_values(by='importance_score',ascending=False, inplace=True)\n",
    "feat_imp_df.head()"
   ]
  },
  {
   "cell_type": "code",
   "execution_count": null,
   "metadata": {},
   "outputs": [],
   "source": [
    "feat_imp_df.head(10)"
   ]
  },
  {
   "cell_type": "code",
   "execution_count": null,
   "metadata": {},
   "outputs": [],
   "source": [
    "feat_imp_df.sort_index().head()"
   ]
  },
  {
   "cell_type": "code",
   "execution_count": null,
   "metadata": {},
   "outputs": [],
   "source": [
    "list(feat_imp_df.ngram[0:10])"
   ]
  },
  {
   "cell_type": "code",
   "execution_count": null,
   "metadata": {},
   "outputs": [],
   "source": [
    "#?feat_imp_df.plot.barh"
   ]
  },
  {
   "cell_type": "code",
   "execution_count": null,
   "metadata": {},
   "outputs": [],
   "source": [
    "feat_imp_df.head(10).plot.barh(y='importance_score', x='ngram', title='Feature Importances')\n",
    "plt.xlabel('Feature Importance Score')\n",
    "plt.ylabel('Feature Name (ngram)')\n",
    "plt.title('Top 10 Features')"
   ]
  },
  {
   "cell_type": "code",
   "execution_count": null,
   "metadata": {},
   "outputs": [],
   "source": [
    "## Method 2\n",
    "# Reference: https://stackoverflow.com/questions/51905524/plot-importance-variables-xgboost-python  (Aug 2018)\n",
    "\n",
    "from xgboost import plot_importance\n",
    "plot_importance(xgb_final, max_num_features=10)\n",
    "plt.show()"
   ]
  },
  {
   "cell_type": "code",
   "execution_count": null,
   "metadata": {},
   "outputs": [],
   "source": [
    "def analyze_feature_importance_v2(feat_imp_df,train_words_df,X_train):\n",
    "\n",
    "    assert(train_words_df.shape[0]==X_train.shape[0] and feat_imp_df.shape[0]<=X_train.shape[1])\n",
    "\n",
    "    # print top 10 features\n",
    "    print(\"Top 10 Features:\")\n",
    "    print(\"Importance_score\\tNgram_feature\")\n",
    "    for i in feat_imp_df.index[0:10]:\n",
    "        ##print(\"\\t\", feat_imp_df.importance_score[i], '\\t\\t\\t\\\"'+feat_imp_df.ngram[i]+'\\\"')\n",
    "        print('%10.2f\\t\\t\\\"%s\\\"' %(feat_imp_df.importance_score[i],feat_imp_df.ngram[i]))\n",
    "    print(\"\")\n",
    "\n",
    "    ## relationship of the top 10 features with the training words\n",
    "\n",
    "    for i in feat_imp_df.index[0:10]:\n",
    "        print(\"=====================\")\n",
    "        print(\"feature:\", '\\\"'+feat_imp_df.ngram[i]+'\\\"')\n",
    "        print(\"\")\n",
    "        u = X_train[:,i].toarray().ravel()\n",
    "        print(\"Number of training words that contain this feature:\",(u>0).sum())\n",
    "        print(\"\")\n",
    "        df1 = train_words_df.loc[u>0,'lang_label'].value_counts(normalize=False)\n",
    "        df2 = train_words_df['lang_label'].value_counts(normalize=False)\n",
    "        df3 = df1/df2*100\n",
    "        df3.index = df1.index\n",
    "        df4 = pd.concat([df1,df2,df3],axis=1, sort=False)\n",
    "        df4.columns = ['contain this feature', 'total', '% of total']\n",
    "        print(\"Distribution of language labels of words that contain this feature:\")\n",
    "        print(df4)\n",
    "        print(\"\")\n",
    "        print(\"Example training words that contain this feature:\")\n",
    "        print(\"  MSA:\",train_words_df.loc[(u>0)&(train_words_df.lang_label==\"MSA\"),'word'].head(10).tolist())\n",
    "        print(\"  TND:\",train_words_df.loc[(u>0)&(train_words_df.lang_label==\"TND\"),'word'].head(10).tolist())\n",
    "        print(\"\")"
   ]
  },
  {
   "cell_type": "code",
   "execution_count": null,
   "metadata": {},
   "outputs": [],
   "source": [
    "analyze_feature_importance_v2(feat_imp_df,words_train_df,X_train)"
   ]
  },
  {
   "cell_type": "markdown",
   "metadata": {},
   "source": [
    "*****"
   ]
  },
  {
   "cell_type": "code",
   "execution_count": null,
   "metadata": {},
   "outputs": [],
   "source": []
  }
 ],
 "metadata": {
  "kernelspec": {
   "display_name": "Python 3",
   "language": "python",
   "name": "python3"
  },
  "language_info": {
   "codemirror_mode": {
    "name": "ipython",
    "version": 3
   },
   "file_extension": ".py",
   "mimetype": "text/x-python",
   "name": "python",
   "nbconvert_exporter": "python",
   "pygments_lexer": "ipython3",
   "version": "3.6.4"
  }
 },
 "nbformat": 4,
 "nbformat_minor": 2
}
