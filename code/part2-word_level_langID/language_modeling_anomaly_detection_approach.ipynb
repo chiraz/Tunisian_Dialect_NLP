{
 "cells": [
  {
   "cell_type": "markdown",
   "metadata": {},
   "source": [
    "## Plan\n",
    "1. Read labelled corpus of words and their corresponding language (MSA or TND)\n",
    "2. Split the data\n",
    "3. Build character-ngram based language model of MSA words\n",
    "4. Use MSA language model to build a word-level language classifier for MSA vs. TND"
   ]
  },
  {
   "cell_type": "code",
   "execution_count": 1,
   "metadata": {},
   "outputs": [],
   "source": [
    "import pandas as pd\n",
    "import numpy as np\n",
    "import matplotlib.pyplot as plt\n",
    "import seaborn as sns"
   ]
  },
  {
   "cell_type": "code",
   "execution_count": 2,
   "metadata": {},
   "outputs": [],
   "source": [
    "from nltk.lm.preprocessing import padded_everygram_pipeline\n",
    "from nltk.lm import KneserNeyInterpolated\n",
    "from nltk.util import ngrams"
   ]
  },
  {
   "cell_type": "code",
   "execution_count": 3,
   "metadata": {},
   "outputs": [],
   "source": [
    "from sklearn.model_selection import train_test_split\n",
    "from sklearn import metrics"
   ]
  },
  {
   "cell_type": "markdown",
   "metadata": {},
   "source": [
    "## Load word data from file"
   ]
  },
  {
   "cell_type": "code",
   "execution_count": 4,
   "metadata": {},
   "outputs": [
    {
     "data": {
      "text/html": [
       "<div>\n",
       "<style scoped>\n",
       "    .dataframe tbody tr th:only-of-type {\n",
       "        vertical-align: middle;\n",
       "    }\n",
       "\n",
       "    .dataframe tbody tr th {\n",
       "        vertical-align: top;\n",
       "    }\n",
       "\n",
       "    .dataframe thead th {\n",
       "        text-align: right;\n",
       "    }\n",
       "</style>\n",
       "<table border=\"1\" class=\"dataframe\">\n",
       "  <thead>\n",
       "    <tr style=\"text-align: right;\">\n",
       "      <th></th>\n",
       "      <th>word</th>\n",
       "      <th>lang_label</th>\n",
       "    </tr>\n",
       "  </thead>\n",
       "  <tbody>\n",
       "    <tr>\n",
       "      <th>0</th>\n",
       "      <td>آئ</td>\n",
       "      <td>MSA</td>\n",
       "    </tr>\n",
       "    <tr>\n",
       "      <th>1</th>\n",
       "      <td>آب</td>\n",
       "      <td>MSA</td>\n",
       "    </tr>\n",
       "    <tr>\n",
       "      <th>2</th>\n",
       "      <td>آباء</td>\n",
       "      <td>MSA</td>\n",
       "    </tr>\n",
       "    <tr>\n",
       "      <th>3</th>\n",
       "      <td>آبائه</td>\n",
       "      <td>MSA</td>\n",
       "    </tr>\n",
       "    <tr>\n",
       "      <th>4</th>\n",
       "      <td>آبائهم</td>\n",
       "      <td>MSA</td>\n",
       "    </tr>\n",
       "  </tbody>\n",
       "</table>\n",
       "</div>"
      ],
      "text/plain": [
       "     word lang_label\n",
       "0      آئ        MSA\n",
       "1      آب        MSA\n",
       "2    آباء        MSA\n",
       "3   آبائه        MSA\n",
       "4  آبائهم        MSA"
      ]
     },
     "execution_count": 4,
     "metadata": {},
     "output_type": "execute_result"
    }
   ],
   "source": [
    "filename = '../../results/Arabic_words_corpus_final.csv'\n",
    "df = pd.read_csv(filename, names=['word','lang_label'],header=None)\n",
    "df.head()"
   ]
  },
  {
   "cell_type": "code",
   "execution_count": 5,
   "metadata": {},
   "outputs": [
    {
     "data": {
      "text/plain": [
       "(46895, 787)"
      ]
     },
     "execution_count": 5,
     "metadata": {},
     "output_type": "execute_result"
    }
   ],
   "source": [
    "msa_words_list = df.loc[df.lang_label==\"MSA\",'word'].tolist()\n",
    "tnd_words_list = df.loc[df.lang_label==\"TN\",'word'].tolist()\n",
    "len(msa_words_list),len(tnd_words_list)"
   ]
  },
  {
   "cell_type": "code",
   "execution_count": 6,
   "metadata": {},
   "outputs": [
    {
     "data": {
      "text/plain": [
       "['آئ', 'آب', 'آباء', 'آبائه', 'آبائهم']"
      ]
     },
     "execution_count": 6,
     "metadata": {},
     "output_type": "execute_result"
    }
   ],
   "source": [
    "msa_words_list[0:5]"
   ]
  },
  {
   "cell_type": "code",
   "execution_count": 7,
   "metadata": {},
   "outputs": [
    {
     "data": {
      "text/plain": [
       "['اتفوه', 'اتفووه', 'احشم', 'احنا', 'اخخ']"
      ]
     },
     "execution_count": 7,
     "metadata": {},
     "output_type": "execute_result"
    }
   ],
   "source": [
    "tnd_words_list[0:5]"
   ]
  },
  {
   "cell_type": "markdown",
   "metadata": {},
   "source": [
    "## Split data into train and test sets\n",
    "- 75% - 25% split of the data.\n",
    "- the training data will be used to build the language model and calibrate (tune) the threshold of the language classifier.\n",
    "- the test data will be used to evaluate the performance of this language classifier."
   ]
  },
  {
   "cell_type": "code",
   "execution_count": 46,
   "metadata": {},
   "outputs": [
    {
     "data": {
      "text/plain": [
       "(35171, 11724)"
      ]
     },
     "execution_count": 46,
     "metadata": {},
     "output_type": "execute_result"
    }
   ],
   "source": [
    "msa_words_train,msa_words_test = train_test_split(msa_words_list, test_size=0.25, random_state=123)\n",
    "len(msa_words_train), len(msa_words_test)"
   ]
  },
  {
   "cell_type": "code",
   "execution_count": 9,
   "metadata": {},
   "outputs": [
    {
     "data": {
      "text/plain": [
       "(590, 197)"
      ]
     },
     "execution_count": 9,
     "metadata": {},
     "output_type": "execute_result"
    }
   ],
   "source": [
    "tnd_words_train,tnd_words_test = train_test_split(tnd_words_list, test_size=0.25, random_state=3456)\n",
    "len(tnd_words_train), len(tnd_words_test)"
   ]
  },
  {
   "cell_type": "markdown",
   "metadata": {},
   "source": [
    "*******"
   ]
  },
  {
   "cell_type": "markdown",
   "metadata": {},
   "source": [
    "## Build language model of MSA words"
   ]
  },
  {
   "cell_type": "code",
   "execution_count": 10,
   "metadata": {},
   "outputs": [],
   "source": [
    "# set the order of the desired ngram model\n",
    "N = 3"
   ]
  },
  {
   "cell_type": "markdown",
   "metadata": {},
   "source": [
    "### Padding words\n",
    "\n",
    "In order to build an N-gram character-level language model, we need to first extract all character ngrams of length N from each training word. Furthermore, in order to capture the beginning and end of a word, we pad it on the left and the right with N-2 special characters, called *pad symbols*. \n",
    "\n",
    "For example, the padded form of the word 'جرح' is :\n",
    "\n",
    "`left_pad_symbol, left_pad_symbol, ح , ر , ج , right_pad_symbol, right_pad_symbol`\n",
    "\n",
    "Hence, the extracted 3-grams of this word are:\n",
    "\n",
    "`left_pad_symbol, left_pad_symbol, ج`\n",
    "\n",
    "`left_pad_symbol, ر , ج`\n",
    "\n",
    "`ح , ر, right_pad_symbol`\n",
    "\n",
    "`ح, right_pad_symbol, right_pad_symbol`\n",
    "\n",
    "\n",
    "**Important remark**: Because Arabic is a right-to-left language, pad symbols must also be 'right-to-left characters'. This has to do with the way Python (anf programming languages in general) handles right-to-left text (vs. the default left-to-right text.\n"
   ]
  },
  {
   "cell_type": "code",
   "execution_count": 11,
   "metadata": {},
   "outputs": [
    {
     "name": "stdout",
     "output_type": "stream",
     "text": [
      "ngrams:\n",
      "[('\\u0602',), ('ا',), ('س',), ('ت',), ('ح',), ('ا',), ('ل',), ('ة',), ('\\u0603',), ('\\u0602', 'ا'), ('ا', 'س'), ('س', 'ت'), ('ت', 'ح'), ('ح', 'ا'), ('ا', 'ل'), ('ل', 'ة'), ('ة', '\\u0603')]\n",
      "\n",
      "[('\\u0602',), ('ا',), ('ش',), ('ب',), ('ا',), ('ه',), ('\\u0603',), ('\\u0602', 'ا'), ('ا', 'ش'), ('ش', 'ب'), ('ب', 'ا'), ('ا', 'ه'), ('ه', '\\u0603')]\n",
      "\n",
      "[('\\u0602',), ('ج',), ('ر',), ('ح',), ('\\u0603',), ('\\u0602', 'ج'), ('ج', 'ر'), ('ر', 'ح'), ('ح', '\\u0603')]\n",
      "\n",
      "#############\n",
      "padded sentences:\n"
     ]
    },
    {
     "data": {
      "text/plain": [
       "['\\u0602',\n",
       " 'ا',\n",
       " 'س',\n",
       " 'ت',\n",
       " 'ح',\n",
       " 'ا',\n",
       " 'ل',\n",
       " 'ة',\n",
       " '\\u0603',\n",
       " '\\u0602',\n",
       " 'ا',\n",
       " 'ش',\n",
       " 'ب',\n",
       " 'ا',\n",
       " 'ه',\n",
       " '\\u0603',\n",
       " '\\u0602',\n",
       " 'ج',\n",
       " 'ر',\n",
       " 'ح',\n",
       " '\\u0603']"
      ]
     },
     "execution_count": 11,
     "metadata": {},
     "output_type": "execute_result"
    }
   ],
   "source": [
    "# Modified version of padded_everygram_pipeline that passes optional arguments to pad_both_ends.\n",
    "# Source: https://repos.lsv.uni-saarland.de/christine_schaefer/sopro-chatbot-ws2019/blob/5dee69e4bd0c95a1b3cb63196669f910de2b8da0/language_models.py\n",
    "\n",
    "from functools import partial\n",
    "from nltk.util import everygrams\n",
    "from nltk.lm.preprocessing import pad_both_ends\n",
    "from nltk.lm.preprocessing import flatten\n",
    "\n",
    "# I chose punctuation marks from the Arabic character set as pad symbols.\n",
    "# See above remark about choice of pad symbols for right-to-left languages\n",
    "LEFT_PAD_SYMBOL=\"\\u0602\"\n",
    "RIGHT_PAD_SYMBOL=\"\\u0603\"\n",
    "\n",
    "## These pad symbols will NOT work for Arabic text.\n",
    "#BAD_LEFT_PAD_SYMBOL=\"<\"\n",
    "#BAD_RIGHT_PAD_SYMBOL=\">\"\n",
    "\n",
    "\n",
    "def my_padded_everygram_pipeline(order, text, pad_left=True, pad_right=True, left_pad_symbol=LEFT_PAD_SYMBOL, right_pad_symbol=RIGHT_PAD_SYMBOL):\n",
    "    \"\"\"\n",
    "    Creates two iterators:\n",
    "    - sentences padded and turned into sequences of `nltk.util.everygrams`\n",
    "    - sentences padded as above and chained together for a flat stream of words\n",
    "\n",
    "    :param order: Largest ngram length produced by `everygrams`.\n",
    "    :param text: Text to iterate over. Expected to be an iterable of sentences, i.e. Iterable[Iterable[str]]\n",
    "    :return: iterator over text as ngrams, iterator over text as vocabulary data\n",
    "    \"\"\"\n",
    "    padding_fn = partial(pad_both_ends, n=order, pad_left=pad_left, pad_right=pad_right, left_pad_symbol=left_pad_symbol, right_pad_symbol=right_pad_symbol)\n",
    "    return (\n",
    "        (everygrams(list(padding_fn(sent)), max_len=order) for sent in text),\n",
    "        flatten(map(padding_fn, text)),\n",
    "    )\n",
    "\n",
    "# unit test:\n",
    "text = [['the', 'cats', 'and', 'the', 'dogs'], ['the', 'cat', 'is', 'on', 'the', 'mat']]\n",
    "text = ['استحالة', 'اشباه', 'جرح']\n",
    "ngram_sentences_, padded_sentences_ = my_padded_everygram_pipeline(2, text)\n",
    "\n",
    "print('ngrams:')\n",
    "for x in ngram_sentences_:\n",
    "    print(list(x))\n",
    "    print()\n",
    "print('#############')\n",
    "print('padded sentences:')\n",
    "list(padded_sentences_)"
   ]
  },
  {
   "cell_type": "code",
   "execution_count": 12,
   "metadata": {},
   "outputs": [],
   "source": [
    "# preprocess the training data for language modeling: pad it then flatten it\n",
    "ngram_sentences, padded_sentences = my_padded_everygram_pipeline(N, msa_words_train)"
   ]
  },
  {
   "cell_type": "code",
   "execution_count": 13,
   "metadata": {},
   "outputs": [],
   "source": [
    "# train a smoothed N-gram language model\n",
    "lm1 = KneserNeyInterpolated(N)\n",
    "lm1.fit(ngram_sentences, padded_sentences)"
   ]
  },
  {
   "cell_type": "code",
   "execution_count": 14,
   "metadata": {},
   "outputs": [
    {
     "name": "stdout",
     "output_type": "stream",
     "text": [
      "<NgramCounter with 3 ngram orders and 898245 ngrams>\n"
     ]
    }
   ],
   "source": [
    "print(lm1.counts)"
   ]
  },
  {
   "cell_type": "code",
   "execution_count": 15,
   "metadata": {},
   "outputs": [
    {
     "data": {
      "text/plain": [
       "FreqDist({'\\u0603': 94, 'ة': 63, 'ن': 42, 'ا': 41, 'ر': 31, 'د': 26, 'ل': 20, 'ف': 18, 'ق': 17, 'ت': 17, ...})"
      ]
     },
     "execution_count": 15,
     "metadata": {},
     "output_type": "execute_result"
    }
   ],
   "source": [
    "lm1.counts[list('في')]"
   ]
  },
  {
   "cell_type": "code",
   "execution_count": 16,
   "metadata": {},
   "outputs": [
    {
     "data": {
      "text/plain": [
       "9.545368211123893"
      ]
     },
     "execution_count": 16,
     "metadata": {},
     "output_type": "execute_result"
    }
   ],
   "source": [
    "lm1.perplexity([('ف', 'ي')])"
   ]
  },
  {
   "cell_type": "markdown",
   "metadata": {},
   "source": [
    "### Use trained language model to *score* words\n",
    "Calculate *perplexity score* of each word in input corpus based on the trained language model."
   ]
  },
  {
   "cell_type": "code",
   "execution_count": 17,
   "metadata": {},
   "outputs": [
    {
     "data": {
      "text/plain": [
       "9.684777854248615"
      ]
     },
     "execution_count": 17,
     "metadata": {},
     "output_type": "execute_result"
    }
   ],
   "source": [
    "# Wrapper function\n",
    "\n",
    "def preprocess_and_score_word(lm,word):\n",
    "    n = lm.order\n",
    "    return lm.perplexity( ngrams(word, n, pad_left = True, pad_right = True, left_pad_symbol=LEFT_PAD_SYMBOL, right_pad_symbol=RIGHT_PAD_SYMBOL) )\n",
    "\n",
    "#unit test\n",
    "x = 'ماشية'\n",
    "preprocess_and_score_word(lm1,x)"
   ]
  },
  {
   "cell_type": "code",
   "execution_count": 18,
   "metadata": {},
   "outputs": [
    {
     "data": {
      "text/plain": [
       "(47682, 47682, 47682)"
      ]
     },
     "execution_count": 18,
     "metadata": {},
     "output_type": "execute_result"
    }
   ],
   "source": [
    "words = msa_words_train + msa_words_test + tnd_words_train + tnd_words_test\n",
    "labels = ['MSA']*len(msa_words_list) + ['TND']*len(tnd_words_list)\n",
    "in_train = [True]*len(msa_words_train) + [False]*len(msa_words_test) + [True]*len(tnd_words_train) + [False]*len(tnd_words_test)\n",
    "len(words),len(labels),len(in_train)"
   ]
  },
  {
   "cell_type": "code",
   "execution_count": 19,
   "metadata": {},
   "outputs": [
    {
     "data": {
      "text/html": [
       "<div>\n",
       "<style scoped>\n",
       "    .dataframe tbody tr th:only-of-type {\n",
       "        vertical-align: middle;\n",
       "    }\n",
       "\n",
       "    .dataframe tbody tr th {\n",
       "        vertical-align: top;\n",
       "    }\n",
       "\n",
       "    .dataframe thead th {\n",
       "        text-align: right;\n",
       "    }\n",
       "</style>\n",
       "<table border=\"1\" class=\"dataframe\">\n",
       "  <thead>\n",
       "    <tr style=\"text-align: right;\">\n",
       "      <th></th>\n",
       "      <th>lang_label</th>\n",
       "      <th>in_train</th>\n",
       "      <th>word_len</th>\n",
       "      <th>lm1_score</th>\n",
       "    </tr>\n",
       "    <tr>\n",
       "      <th>word</th>\n",
       "      <th></th>\n",
       "      <th></th>\n",
       "      <th></th>\n",
       "      <th></th>\n",
       "    </tr>\n",
       "  </thead>\n",
       "  <tbody>\n",
       "    <tr>\n",
       "      <th>الاجنبية</th>\n",
       "      <td>MSA</td>\n",
       "      <td>True</td>\n",
       "      <td>8</td>\n",
       "      <td>5.325849</td>\n",
       "    </tr>\n",
       "    <tr>\n",
       "      <th>رحل</th>\n",
       "      <td>MSA</td>\n",
       "      <td>True</td>\n",
       "      <td>3</td>\n",
       "      <td>9.097862</td>\n",
       "    </tr>\n",
       "    <tr>\n",
       "      <th>وقالت</th>\n",
       "      <td>MSA</td>\n",
       "      <td>True</td>\n",
       "      <td>5</td>\n",
       "      <td>8.671401</td>\n",
       "    </tr>\n",
       "    <tr>\n",
       "      <th>وحدهم</th>\n",
       "      <td>MSA</td>\n",
       "      <td>True</td>\n",
       "      <td>5</td>\n",
       "      <td>6.274267</td>\n",
       "    </tr>\n",
       "    <tr>\n",
       "      <th>ويعلق</th>\n",
       "      <td>MSA</td>\n",
       "      <td>True</td>\n",
       "      <td>5</td>\n",
       "      <td>10.025276</td>\n",
       "    </tr>\n",
       "  </tbody>\n",
       "</table>\n",
       "</div>"
      ],
      "text/plain": [
       "         lang_label  in_train  word_len  lm1_score\n",
       "word                                              \n",
       "الاجنبية        MSA      True         8   5.325849\n",
       "رحل             MSA      True         3   9.097862\n",
       "وقالت           MSA      True         5   8.671401\n",
       "وحدهم           MSA      True         5   6.274267\n",
       "ويعلق           MSA      True         5  10.025276"
      ]
     },
     "execution_count": 19,
     "metadata": {},
     "output_type": "execute_result"
    }
   ],
   "source": [
    "word_scoring_df = pd.DataFrame({'word':words, 'lang_label':labels, 'in_train':in_train})\n",
    "word_scoring_df['word_len'] = word_scoring_df.word.map(len)\n",
    "word_scoring_df['lm1_score'] = word_scoring_df.word.map(lambda w: preprocess_and_score_word(lm1,w))\n",
    "word_scoring_df = word_scoring_df.set_index('word')\n",
    "word_scoring_df.head()"
   ]
  },
  {
   "cell_type": "code",
   "execution_count": 20,
   "metadata": {},
   "outputs": [
    {
     "data": {
      "text/html": [
       "<div>\n",
       "<style scoped>\n",
       "    .dataframe tbody tr th:only-of-type {\n",
       "        vertical-align: middle;\n",
       "    }\n",
       "\n",
       "    .dataframe tbody tr th {\n",
       "        vertical-align: top;\n",
       "    }\n",
       "\n",
       "    .dataframe thead th {\n",
       "        text-align: right;\n",
       "    }\n",
       "</style>\n",
       "<table border=\"1\" class=\"dataframe\">\n",
       "  <thead>\n",
       "    <tr style=\"text-align: right;\">\n",
       "      <th></th>\n",
       "      <th>lang_label</th>\n",
       "      <th>in_train</th>\n",
       "      <th>word_len</th>\n",
       "      <th>lm1_score</th>\n",
       "    </tr>\n",
       "    <tr>\n",
       "      <th>word</th>\n",
       "      <th></th>\n",
       "      <th></th>\n",
       "      <th></th>\n",
       "      <th></th>\n",
       "    </tr>\n",
       "  </thead>\n",
       "  <tbody>\n",
       "    <tr>\n",
       "      <th>الات</th>\n",
       "      <td>MSA</td>\n",
       "      <td>False</td>\n",
       "      <td>4</td>\n",
       "      <td>3.179515</td>\n",
       "    </tr>\n",
       "    <tr>\n",
       "      <th>المؤسسة</th>\n",
       "      <td>MSA</td>\n",
       "      <td>False</td>\n",
       "      <td>7</td>\n",
       "      <td>3.233863</td>\n",
       "    </tr>\n",
       "    <tr>\n",
       "      <th>الية</th>\n",
       "      <td>MSA</td>\n",
       "      <td>False</td>\n",
       "      <td>4</td>\n",
       "      <td>3.337778</td>\n",
       "    </tr>\n",
       "    <tr>\n",
       "      <th>المرات</th>\n",
       "      <td>MSA</td>\n",
       "      <td>True</td>\n",
       "      <td>6</td>\n",
       "      <td>3.373424</td>\n",
       "    </tr>\n",
       "    <tr>\n",
       "      <th>ال</th>\n",
       "      <td>MSA</td>\n",
       "      <td>False</td>\n",
       "      <td>2</td>\n",
       "      <td>3.426526</td>\n",
       "    </tr>\n",
       "  </tbody>\n",
       "</table>\n",
       "</div>"
      ],
      "text/plain": [
       "        lang_label  in_train  word_len  lm1_score\n",
       "word                                             \n",
       "الات           MSA     False         4   3.179515\n",
       "المؤسسة        MSA     False         7   3.233863\n",
       "الية           MSA     False         4   3.337778\n",
       "المرات         MSA      True         6   3.373424\n",
       "ال             MSA     False         2   3.426526"
      ]
     },
     "execution_count": 20,
     "metadata": {},
     "output_type": "execute_result"
    }
   ],
   "source": [
    "# top 5 scoring words\n",
    "word_scoring_df.sort_values(by='lm1_score',ascending=True).head()"
   ]
  },
  {
   "cell_type": "code",
   "execution_count": 21,
   "metadata": {},
   "outputs": [
    {
     "data": {
      "text/html": [
       "<div>\n",
       "<style scoped>\n",
       "    .dataframe tbody tr th:only-of-type {\n",
       "        vertical-align: middle;\n",
       "    }\n",
       "\n",
       "    .dataframe tbody tr th {\n",
       "        vertical-align: top;\n",
       "    }\n",
       "\n",
       "    .dataframe thead th {\n",
       "        text-align: right;\n",
       "    }\n",
       "</style>\n",
       "<table border=\"1\" class=\"dataframe\">\n",
       "  <thead>\n",
       "    <tr style=\"text-align: right;\">\n",
       "      <th></th>\n",
       "      <th>lang_label</th>\n",
       "      <th>in_train</th>\n",
       "      <th>word_len</th>\n",
       "      <th>lm1_score</th>\n",
       "    </tr>\n",
       "    <tr>\n",
       "      <th>word</th>\n",
       "      <th></th>\n",
       "      <th></th>\n",
       "      <th></th>\n",
       "      <th></th>\n",
       "    </tr>\n",
       "  </thead>\n",
       "  <tbody>\n",
       "    <tr>\n",
       "      <th>اأ</th>\n",
       "      <td>MSA</td>\n",
       "      <td>False</td>\n",
       "      <td>2</td>\n",
       "      <td>inf</td>\n",
       "    </tr>\n",
       "    <tr>\n",
       "      <th>ضؤل</th>\n",
       "      <td>MSA</td>\n",
       "      <td>False</td>\n",
       "      <td>3</td>\n",
       "      <td>inf</td>\n",
       "    </tr>\n",
       "    <tr>\n",
       "      <th>تحذث</th>\n",
       "      <td>MSA</td>\n",
       "      <td>False</td>\n",
       "      <td>4</td>\n",
       "      <td>inf</td>\n",
       "    </tr>\n",
       "    <tr>\n",
       "      <th>كئيبة</th>\n",
       "      <td>MSA</td>\n",
       "      <td>False</td>\n",
       "      <td>5</td>\n",
       "      <td>inf</td>\n",
       "    </tr>\n",
       "    <tr>\n",
       "      <th>الكآبة</th>\n",
       "      <td>MSA</td>\n",
       "      <td>False</td>\n",
       "      <td>6</td>\n",
       "      <td>inf</td>\n",
       "    </tr>\n",
       "  </tbody>\n",
       "</table>\n",
       "</div>"
      ],
      "text/plain": [
       "       lang_label  in_train  word_len  lm1_score\n",
       "word                                            \n",
       "اأ            MSA     False         2        inf\n",
       "ضؤل           MSA     False         3        inf\n",
       "تحذث          MSA     False         4        inf\n",
       "كئيبة         MSA     False         5        inf\n",
       "الكآبة        MSA     False         6        inf"
      ]
     },
     "execution_count": 21,
     "metadata": {},
     "output_type": "execute_result"
    }
   ],
   "source": [
    "# 5 lowest scoring words\n",
    "word_scoring_df.sort_values(by='lm1_score',ascending=True).tail()"
   ]
  },
  {
   "cell_type": "markdown",
   "metadata": {},
   "source": [
    "### Exploratory analysis of distribution of word scores\n",
    "This is helpful for understanding/interpreting the performance of the language classifier in the next section."
   ]
  },
  {
   "cell_type": "markdown",
   "metadata": {},
   "source": [
    "#### Infinite scores"
   ]
  },
  {
   "cell_type": "code",
   "execution_count": 22,
   "metadata": {},
   "outputs": [
    {
     "data": {
      "text/plain": [
       "14"
      ]
     },
     "execution_count": 22,
     "metadata": {},
     "output_type": "execute_result"
    }
   ],
   "source": [
    "# number of infinite scores\n",
    "(word_scoring_df.lm1_score==np.inf).sum()"
   ]
  },
  {
   "cell_type": "code",
   "execution_count": 23,
   "metadata": {},
   "outputs": [
    {
     "data": {
      "text/html": [
       "<div>\n",
       "<style scoped>\n",
       "    .dataframe tbody tr th:only-of-type {\n",
       "        vertical-align: middle;\n",
       "    }\n",
       "\n",
       "    .dataframe tbody tr th {\n",
       "        vertical-align: top;\n",
       "    }\n",
       "\n",
       "    .dataframe thead th {\n",
       "        text-align: right;\n",
       "    }\n",
       "</style>\n",
       "<table border=\"1\" class=\"dataframe\">\n",
       "  <thead>\n",
       "    <tr style=\"text-align: right;\">\n",
       "      <th>col_0</th>\n",
       "      <th>False</th>\n",
       "      <th>True</th>\n",
       "    </tr>\n",
       "    <tr>\n",
       "      <th>lm1_score</th>\n",
       "      <th></th>\n",
       "      <th></th>\n",
       "    </tr>\n",
       "  </thead>\n",
       "  <tbody>\n",
       "    <tr>\n",
       "      <th>False</th>\n",
       "      <td>14</td>\n",
       "      <td>0</td>\n",
       "    </tr>\n",
       "    <tr>\n",
       "      <th>True</th>\n",
       "      <td>12497</td>\n",
       "      <td>35171</td>\n",
       "    </tr>\n",
       "  </tbody>\n",
       "</table>\n",
       "</div>"
      ],
      "text/plain": [
       "col_0      False  True \n",
       "lm1_score              \n",
       "False         14      0\n",
       "True       12497  35171"
      ]
     },
     "execution_count": 23,
     "metadata": {},
     "output_type": "execute_result"
    }
   ],
   "source": [
    "# association between a word's score being finite and being in the training set of the LM\n",
    "pd.crosstab(word_scoring_df.lm1_score!=np.inf,(word_scoring_df.in_train)&(word_scoring_df.lang_label==\"MSA\"))"
   ]
  },
  {
   "cell_type": "code",
   "execution_count": 24,
   "metadata": {},
   "outputs": [
    {
     "data": {
      "text/html": [
       "<div>\n",
       "<style scoped>\n",
       "    .dataframe tbody tr th:only-of-type {\n",
       "        vertical-align: middle;\n",
       "    }\n",
       "\n",
       "    .dataframe tbody tr th {\n",
       "        vertical-align: top;\n",
       "    }\n",
       "\n",
       "    .dataframe thead th {\n",
       "        text-align: right;\n",
       "    }\n",
       "</style>\n",
       "<table border=\"1\" class=\"dataframe\">\n",
       "  <thead>\n",
       "    <tr style=\"text-align: right;\">\n",
       "      <th>lang_label</th>\n",
       "      <th>MSA</th>\n",
       "      <th>TND</th>\n",
       "    </tr>\n",
       "    <tr>\n",
       "      <th>lm1_score</th>\n",
       "      <th></th>\n",
       "      <th></th>\n",
       "    </tr>\n",
       "  </thead>\n",
       "  <tbody>\n",
       "    <tr>\n",
       "      <th>False</th>\n",
       "      <td>12</td>\n",
       "      <td>2</td>\n",
       "    </tr>\n",
       "    <tr>\n",
       "      <th>True</th>\n",
       "      <td>11712</td>\n",
       "      <td>785</td>\n",
       "    </tr>\n",
       "  </tbody>\n",
       "</table>\n",
       "</div>"
      ],
      "text/plain": [
       "lang_label    MSA  TND\n",
       "lm1_score             \n",
       "False          12    2\n",
       "True        11712  785"
      ]
     },
     "execution_count": 24,
     "metadata": {},
     "output_type": "execute_result"
    }
   ],
   "source": [
    "# association between a non training word's score being finite and its language label\n",
    "idx = (word_scoring_df.in_train)&(word_scoring_df.lang_label==\"MSA\")\n",
    "pd.crosstab(word_scoring_df[~idx].lm1_score!=np.inf,word_scoring_df[~idx].lang_label)"
   ]
  },
  {
   "cell_type": "markdown",
   "metadata": {},
   "source": [
    "*Remarks and conclusions:*\n",
    "- all words in the training set of the model have finite scores (as expected, otherwise there is a bug in LM training).\n",
    "- about 50% of TND words have infnite scores, compared to only 25% of MSA words."
   ]
  },
  {
   "cell_type": "markdown",
   "metadata": {},
   "source": [
    "#### Distribution of scores of training and test words by language label"
   ]
  },
  {
   "cell_type": "code",
   "execution_count": 25,
   "metadata": {},
   "outputs": [
    {
     "data": {
      "text/plain": [
       "((47682, 4), (47668, 4))"
      ]
     },
     "execution_count": 25,
     "metadata": {},
     "output_type": "execute_result"
    }
   ],
   "source": [
    "# Select finite scores only because plotting functions cannot handle (ii.e. crash!) infinite scores\n",
    "\n",
    "word_scoring_df_finite = word_scoring_df.loc[word_scoring_df.lm1_score!=np.inf].copy()\n",
    "word_scoring_df.shape,word_scoring_df_finite.shape"
   ]
  },
  {
   "cell_type": "code",
   "execution_count": 26,
   "metadata": {},
   "outputs": [],
   "source": [
    "# utility function\n",
    "def foo1(x):\n",
    "    if x.lang_label==\"MSA\" and x.in_train:\n",
    "        return 'MSA_train'\n",
    "    elif x.lang_label==\"MSA\" and x.in_train==False:\n",
    "        return 'MSA_test'\n",
    "    elif x.lang_label==\"TND\" and x.in_train:\n",
    "        return 'TND_train'\n",
    "    else:\n",
    "        return 'TND_test'\n",
    "\n",
    "word_scoring_df_finite['train_lang_label'] = word_scoring_df_finite.apply(foo1, axis=1)"
   ]
  },
  {
   "cell_type": "markdown",
   "metadata": {},
   "source": [
    "**Plot distribution as boxplots**\n"
   ]
  },
  {
   "cell_type": "code",
   "execution_count": 27,
   "metadata": {},
   "outputs": [
    {
     "data": {
      "text/plain": [
       "<matplotlib.axes._subplots.AxesSubplot at 0x1db97c60588>"
      ]
     },
     "execution_count": 27,
     "metadata": {},
     "output_type": "execute_result"
    },
    {
     "data": {
      "image/png": "[encoded data removed]",
      "text/plain": [
       "<matplotlib.figure.Figure at 0x1db97c60278>"
      ]
     },
     "metadata": {},
     "output_type": "display_data"
    }
   ],
   "source": [
    "sns.boxplot(x='train_lang_label',y='lm1_score', data=word_scoring_df_finite)"
   ]
  },
  {
   "cell_type": "markdown",
   "metadata": {},
   "source": [
    "**Plot distribution as empirical PDFs**\n",
    "\n",
    "(i.e. normalized histograms)"
   ]
  },
  {
   "cell_type": "code",
   "execution_count": 28,
   "metadata": {},
   "outputs": [
    {
     "name": "stderr",
     "output_type": "stream",
     "text": [
      "C:\\Users\\Admin\\Anaconda3\\lib\\site-packages\\scipy\\stats\\stats.py:1713: FutureWarning: Using a non-tuple sequence for multidimensional indexing is deprecated; use `arr[tuple(seq)]` instead of `arr[seq]`. In the future this will be interpreted as an array index, `arr[np.array(seq)]`, which will result either in an error or a different result.\n",
      "  return np.add.reduce(sorted[indexer] * weights, axis=axis) / sumval\n"
     ]
    },
    {
     "data": {
      "text/plain": [
       "Text(0,0.5,'Density')"
      ]
     },
     "execution_count": 28,
     "metadata": {},
     "output_type": "execute_result"
    },
    {
     "data": {
      "image/png": "[encoded data removed]",
      "text/plain": [
       "<matplotlib.figure.Figure at 0x1db98a947b8>"
      ]
     },
     "metadata": {},
     "output_type": "display_data"
    }
   ],
   "source": [
    "# Distribution of scores for words that will be used to calibrate the decision threshold\n",
    "\n",
    "for lab in ['MSA_train', 'TND_train']:\n",
    "    sns.distplot(word_scoring_df_finite.lm1_score[word_scoring_df_finite.train_lang_label==lab], hist=False, kde=True, \n",
    "                 label = lab, bins=20, \n",
    "                 hist_kws={'edgecolor':'black'}, kde_kws = {'shade': True, 'linewidth': 2})\n",
    "\n",
    "# Plot formatting\n",
    "plt.legend(prop={'size': 10}, title = 'Label')\n",
    "plt.title('Empirical PDF for words in train set')\n",
    "plt.xlabel('Perplexity score')\n",
    "plt.ylabel('Density')\n",
    "#plt.axes([-1,50,0,0.5])"
   ]
  },
  {
   "cell_type": "code",
   "execution_count": 29,
   "metadata": {},
   "outputs": [
    {
     "name": "stderr",
     "output_type": "stream",
     "text": [
      "C:\\Users\\Admin\\Anaconda3\\lib\\site-packages\\scipy\\stats\\stats.py:1713: FutureWarning: Using a non-tuple sequence for multidimensional indexing is deprecated; use `arr[tuple(seq)]` instead of `arr[seq]`. In the future this will be interpreted as an array index, `arr[np.array(seq)]`, which will result either in an error or a different result.\n",
      "  return np.add.reduce(sorted[indexer] * weights, axis=axis) / sumval\n"
     ]
    },
    {
     "data": {
      "text/plain": [
       "Text(0,0.5,'Density')"
      ]
     },
     "execution_count": 29,
     "metadata": {},
     "output_type": "execute_result"
    },
    {
     "data": {
      "image/png": "[encoded data removed]",
      "text/plain": [
       "<matplotlib.figure.Figure at 0x1db97d42080>"
      ]
     },
     "metadata": {},
     "output_type": "display_data"
    }
   ],
   "source": [
    "# Distribution of scores of test words (after threshold calibration)\n",
    "\n",
    "for lab in word_scoring_df_finite.train_lang_label.unique():\n",
    "    sns.distplot(word_scoring_df_finite.lm1_score[word_scoring_df_finite.train_lang_label==lab], hist=False, kde=True, \n",
    "                 label = lab, bins=20, \n",
    "                 hist_kws={'edgecolor':'black'}, kde_kws = {'shade': True, 'linewidth': 2})\n",
    "\n",
    "# Plot formatting\n",
    "plt.legend(prop={'size': 10}, title = 'Label')\n",
    "plt.title('Empirical PDF for different word subsets')\n",
    "plt.xlabel('Perplexity score')\n",
    "plt.ylabel('Density')"
   ]
  },
  {
   "cell_type": "code",
   "execution_count": 61,
   "metadata": {},
   "outputs": [
    {
     "name": "stderr",
     "output_type": "stream",
     "text": [
      "C:\\Users\\Admin\\Anaconda3\\lib\\site-packages\\scipy\\stats\\stats.py:1713: FutureWarning: Using a non-tuple sequence for multidimensional indexing is deprecated; use `arr[tuple(seq)]` instead of `arr[seq]`. In the future this will be interpreted as an array index, `arr[np.array(seq)]`, which will result either in an error or a different result.\n",
      "  return np.add.reduce(sorted[indexer] * weights, axis=axis) / sumval\n"
     ]
    },
    {
     "data": {
      "text/plain": [
       "Text(0,0.5,'Density')"
      ]
     },
     "execution_count": 61,
     "metadata": {},
     "output_type": "execute_result"
    },
    {
     "data": {
      "image/png": "[encoded data removed]",
      "text/plain": [
       "<matplotlib.figure.Figure at 0x1dba5057160>"
      ]
     },
     "metadata": {},
     "output_type": "display_data"
    }
   ],
   "source": [
    "for lab in ['MSA_train', 'MSA_test']:\n",
    "    sns.distplot(word_scoring_df_finite.lm1_score[word_scoring_df_finite.train_lang_label==lab], hist=False, kde=True, \n",
    "                 label = lab, bins=20, \n",
    "                 hist_kws={'edgecolor':'black'}, kde_kws = {'shade': True, 'linewidth': 2})\n",
    "\n",
    "# Plot formatting\n",
    "plt.legend(prop={'size': 10}, title = 'Label')\n",
    "plt.title('Empirical PDF for MSA words only')\n",
    "plt.xlabel('Perplexity score')\n",
    "plt.ylabel('Density')\n"
   ]
  },
  {
   "cell_type": "code",
   "execution_count": 60,
   "metadata": {},
   "outputs": [
    {
     "name": "stderr",
     "output_type": "stream",
     "text": [
      "C:\\Users\\Admin\\Anaconda3\\lib\\site-packages\\scipy\\stats\\stats.py:1713: FutureWarning: Using a non-tuple sequence for multidimensional indexing is deprecated; use `arr[tuple(seq)]` instead of `arr[seq]`. In the future this will be interpreted as an array index, `arr[np.array(seq)]`, which will result either in an error or a different result.\n",
      "  return np.add.reduce(sorted[indexer] * weights, axis=axis) / sumval\n"
     ]
    },
    {
     "data": {
      "text/plain": [
       "Text(0,0.5,'Density')"
      ]
     },
     "execution_count": 60,
     "metadata": {},
     "output_type": "execute_result"
    },
    {
     "data": {
      "image/png": "[encoded data removed]",
      "text/plain": [
       "<matplotlib.figure.Figure at 0x1dba4fcf208>"
      ]
     },
     "metadata": {},
     "output_type": "display_data"
    }
   ],
   "source": [
    "for lab in ['TND_train', 'TND_test']:\n",
    "    sns.distplot(word_scoring_df_finite.lm1_score[word_scoring_df_finite.train_lang_label==lab], hist=False, kde=True, \n",
    "                 label = lab, bins=20, \n",
    "                 hist_kws={'edgecolor':'black'}, kde_kws = {'shade': True, 'linewidth': 2})\n",
    "\n",
    "# Plot formatting\n",
    "plt.legend(prop={'size': 10}, title = 'Label')\n",
    "plt.title('Empirical PDF for TND words only')\n",
    "plt.xlabel('Perplexity score')\n",
    "plt.ylabel('Density')\n"
   ]
  },
  {
   "cell_type": "code",
   "execution_count": 62,
   "metadata": {},
   "outputs": [
    {
     "name": "stderr",
     "output_type": "stream",
     "text": [
      "C:\\Users\\Admin\\Anaconda3\\lib\\site-packages\\scipy\\stats\\stats.py:1713: FutureWarning: Using a non-tuple sequence for multidimensional indexing is deprecated; use `arr[tuple(seq)]` instead of `arr[seq]`. In the future this will be interpreted as an array index, `arr[np.array(seq)]`, which will result either in an error or a different result.\n",
      "  return np.add.reduce(sorted[indexer] * weights, axis=axis) / sumval\n"
     ]
    },
    {
     "data": {
      "text/plain": [
       "Text(0,0.5,'Density')"
      ]
     },
     "execution_count": 62,
     "metadata": {},
     "output_type": "execute_result"
    },
    {
     "data": {
      "image/png": "[encoded data removed]",
      "text/plain": [
       "<matplotlib.figure.Figure at 0x1dba50c0550>"
      ]
     },
     "metadata": {},
     "output_type": "display_data"
    }
   ],
   "source": [
    "for lab in ['MSA_train', 'TND_train']:\n",
    "    sns.distplot(word_scoring_df_finite.lm1_score[word_scoring_df_finite.train_lang_label==lab], hist=False, kde=True, \n",
    "                 label = lab, bins=20, \n",
    "                 hist_kws={'edgecolor':'black'}, kde_kws = {'shade': True, 'linewidth': 2})\n",
    "\n",
    "# Plot formatting\n",
    "plt.legend(prop={'size': 10}, title = 'Label')\n",
    "plt.xlabel('Perplexity score')\n",
    "plt.ylabel('Density')\n"
   ]
  },
  {
   "cell_type": "code",
   "execution_count": 63,
   "metadata": {},
   "outputs": [
    {
     "name": "stderr",
     "output_type": "stream",
     "text": [
      "C:\\Users\\Admin\\Anaconda3\\lib\\site-packages\\scipy\\stats\\stats.py:1713: FutureWarning: Using a non-tuple sequence for multidimensional indexing is deprecated; use `arr[tuple(seq)]` instead of `arr[seq]`. In the future this will be interpreted as an array index, `arr[np.array(seq)]`, which will result either in an error or a different result.\n",
      "  return np.add.reduce(sorted[indexer] * weights, axis=axis) / sumval\n"
     ]
    },
    {
     "data": {
      "text/plain": [
       "Text(0,0.5,'Density')"
      ]
     },
     "execution_count": 63,
     "metadata": {},
     "output_type": "execute_result"
    },
    {
     "data": {
      "image/png": "[encoded data removed]",
      "text/plain": [
       "<matplotlib.figure.Figure at 0x1dba5152c50>"
      ]
     },
     "metadata": {},
     "output_type": "display_data"
    }
   ],
   "source": [
    "for lab in ['MSA_train', 'TND_test']:\n",
    "    sns.distplot(word_scoring_df_finite.lm1_score[word_scoring_df_finite.train_lang_label==lab], hist=False, kde=True, \n",
    "                 label = lab, bins=20, \n",
    "                 hist_kws={'edgecolor':'black'}, kde_kws = {'shade': True, 'linewidth': 2})\n",
    "\n",
    "# Plot formatting\n",
    "plt.legend(prop={'size': 10}, title = 'Label')\n",
    "plt.xlabel('Perplexity score')\n",
    "plt.ylabel('Density')\n"
   ]
  },
  {
   "cell_type": "markdown",
   "metadata": {},
   "source": [
    "*Remarks and Conclusions:*\n",
    "- The score distributions for words of the same language are highly consistent between training and test sets.\n",
    "- The score distributions for MSA and TND words are not well-separated (large overlap among them), therefore it is unlikely that we will be able to separate/classify words of these two languages based only on their perplexity scores (as we will see in the next section)."
   ]
  },
  {
   "cell_type": "markdown",
   "metadata": {},
   "source": [
    "****"
   ]
  },
  {
   "cell_type": "markdown",
   "metadata": {},
   "source": [
    "## Use MSA language model to build a MSA vs. TND word-level language classifier\n",
    "\n",
    "We aim to solve a constrained version of the general language identification problem -- with the set of possible languages being limited to **only two languages**: MSA and TND.\n",
    "\n",
    "In other words, given an arbitrary word, we want to classify it as either MSA or TND.\n",
    "\n",
    "We propose an *anomaly detection* approach to this problem. Our language classifier consists of the simple decision rule: \n",
    "\n",
    "                if perplexity_score(word) < t then return MSA else return TND\n",
    "\n",
    "where $perplexity\\_score(word)$ is calculated using our trained MSA language model, and $t$ is a fixed threshold value (i.e. a *hyperparameter* of this method). "
   ]
  },
  {
   "cell_type": "markdown",
   "metadata": {},
   "source": [
    "### Hyperparameter tuning\n",
    "- We will calibrate (tune) the value of the threshold parameter $t$ of our classifier by finding the value that **maximizes** classification performance.\n",
    "- Since the training data is so imbalanced (there are more than 20 times MSA words than TND words), we shall use the **average F1 score** as a measure of model performance during the tuning (instead of the usual classification accuracy measure)."
   ]
  },
  {
   "cell_type": "code",
   "execution_count": 30,
   "metadata": {},
   "outputs": [
    {
     "data": {
      "text/plain": [
       "((35761, 4), (47682, 4))"
      ]
     },
     "execution_count": 30,
     "metadata": {},
     "output_type": "execute_result"
    }
   ],
   "source": [
    "threshold_calibration_df = word_scoring_df.loc[word_scoring_df.in_train==True]\n",
    "threshold_calibration_df.shape,word_scoring_df.shape"
   ]
  },
  {
   "cell_type": "code",
   "execution_count": 31,
   "metadata": {},
   "outputs": [
    {
     "data": {
      "text/plain": [
       "MSA    35171\n",
       "TND      590\n",
       "Name: lang_label, dtype: int64"
      ]
     },
     "execution_count": 31,
     "metadata": {},
     "output_type": "execute_result"
    }
   ],
   "source": [
    "threshold_calibration_df.lang_label.value_counts()"
   ]
  },
  {
   "cell_type": "code",
   "execution_count": 32,
   "metadata": {},
   "outputs": [],
   "source": [
    "thresholds = np.arange(1,100,step=1)\n",
    "eval_df = pd.DataFrame(index=thresholds)\n",
    "eval_df.index.name = 'Score_Threshold'\n",
    "true_lang_label = (threshold_calibration_df.lang_label==\"TND\").map({True:1, False:0})"
   ]
  },
  {
   "cell_type": "code",
   "execution_count": null,
   "metadata": {},
   "outputs": [],
   "source": []
  },
  {
   "cell_type": "code",
   "execution_count": 33,
   "metadata": {},
   "outputs": [
    {
     "name": "stderr",
     "output_type": "stream",
     "text": [
      "C:\\Users\\Admin\\Anaconda3\\lib\\site-packages\\sklearn\\metrics\\classification.py:1143: UndefinedMetricWarning: F-score is ill-defined and being set to 0.0 due to no predicted samples.\n",
      "  'precision', 'predicted', average, warn_for)\n"
     ]
    }
   ],
   "source": [
    "for Score_Threshold in thresholds:\n",
    "    pred_lang_label = threshold_calibration_df.lm1_score.map(lambda x: x>Score_Threshold).map({True:1, False:0})\n",
    "    eval_df.loc[Score_Threshold,'f1_TND'] = metrics.f1_score(true_lang_label, pred_lang_label)\n",
    "    eval_df.loc[Score_Threshold,'f1_MSA'] = metrics.f1_score(1-true_lang_label, 1-pred_lang_label)\n",
    "\n",
    "eval_df.loc[:,'f1_avg'] = (eval_df.f1_TND+eval_df.f1_MSA)/2"
   ]
  },
  {
   "cell_type": "code",
   "execution_count": 34,
   "metadata": {},
   "outputs": [
    {
     "data": {
      "text/html": [
       "<div>\n",
       "<style scoped>\n",
       "    .dataframe tbody tr th:only-of-type {\n",
       "        vertical-align: middle;\n",
       "    }\n",
       "\n",
       "    .dataframe tbody tr th {\n",
       "        vertical-align: top;\n",
       "    }\n",
       "\n",
       "    .dataframe thead th {\n",
       "        text-align: right;\n",
       "    }\n",
       "</style>\n",
       "<table border=\"1\" class=\"dataframe\">\n",
       "  <thead>\n",
       "    <tr style=\"text-align: right;\">\n",
       "      <th></th>\n",
       "      <th>f1_TND</th>\n",
       "      <th>f1_MSA</th>\n",
       "      <th>f1_avg</th>\n",
       "    </tr>\n",
       "    <tr>\n",
       "      <th>Score_Threshold</th>\n",
       "      <th></th>\n",
       "      <th></th>\n",
       "      <th></th>\n",
       "    </tr>\n",
       "  </thead>\n",
       "  <tbody>\n",
       "    <tr>\n",
       "      <th>1</th>\n",
       "      <td>0.032461</td>\n",
       "      <td>0.000000</td>\n",
       "      <td>0.016231</td>\n",
       "    </tr>\n",
       "    <tr>\n",
       "      <th>2</th>\n",
       "      <td>0.032461</td>\n",
       "      <td>0.000000</td>\n",
       "      <td>0.016231</td>\n",
       "    </tr>\n",
       "    <tr>\n",
       "      <th>3</th>\n",
       "      <td>0.032461</td>\n",
       "      <td>0.000000</td>\n",
       "      <td>0.016231</td>\n",
       "    </tr>\n",
       "    <tr>\n",
       "      <th>4</th>\n",
       "      <td>0.032519</td>\n",
       "      <td>0.003689</td>\n",
       "      <td>0.018104</td>\n",
       "    </tr>\n",
       "    <tr>\n",
       "      <th>5</th>\n",
       "      <td>0.033725</td>\n",
       "      <td>0.089818</td>\n",
       "      <td>0.061772</td>\n",
       "    </tr>\n",
       "  </tbody>\n",
       "</table>\n",
       "</div>"
      ],
      "text/plain": [
       "                   f1_TND    f1_MSA    f1_avg\n",
       "Score_Threshold                              \n",
       "1                0.032461  0.000000  0.016231\n",
       "2                0.032461  0.000000  0.016231\n",
       "3                0.032461  0.000000  0.016231\n",
       "4                0.032519  0.003689  0.018104\n",
       "5                0.033725  0.089818  0.061772"
      ]
     },
     "execution_count": 34,
     "metadata": {},
     "output_type": "execute_result"
    }
   ],
   "source": [
    "eval_df.head()"
   ]
  },
  {
   "cell_type": "code",
   "execution_count": 47,
   "metadata": {
    "scrolled": true
   },
   "outputs": [
    {
     "data": {
      "image/png": "[encoded data removed]",
      "text/plain": [
       "<matplotlib.figure.Figure at 0x1db97e8a710>"
      ]
     },
     "metadata": {},
     "output_type": "display_data"
    }
   ],
   "source": [
    "x = np.asarray(eval_df.index)\n",
    "plt.plot(x,eval_df.f1_MSA,'b-', label=\"MSA\")\n",
    "plt.plot(x,eval_df.f1_TND,'g-',label='TND')\n",
    "plt.plot(x,eval_df.f1_avg,'r-',label='AVERAGE')\n",
    "plt.xlabel('Score Threshold')\n",
    "plt.ylabel('F1 Score')\n",
    "plt.legend()\n",
    "plt.show()"
   ]
  },
  {
   "cell_type": "code",
   "execution_count": 50,
   "metadata": {},
   "outputs": [
    {
     "name": "stdout",
     "output_type": "stream",
     "text": [
      "Threshold value that yields best average F1 score: 19\n",
      "\n",
      "Summary of performance on the training set using this threshold:\n",
      "f1_TND    0.219327\n",
      "f1_MSA    0.989816\n",
      "f1_avg    0.604571\n",
      "Name: 19, dtype: float64\n"
     ]
    }
   ],
   "source": [
    "# Best threshold value: the one that yields highest F1 score\n",
    "print(\"Threshold value that yields best average F1 score:\",eval_df.f1_avg.idxmax())\n",
    "print(\"\")\n",
    "print(\"Summary of performance on the training set using this threshold:\")\n",
    "print(eval_df.loc[eval_df.f1_avg.idxmax()])"
   ]
  },
  {
   "cell_type": "markdown",
   "metadata": {},
   "source": [
    "### Evaluate classifier performance on test set"
   ]
  },
  {
   "cell_type": "code",
   "execution_count": 37,
   "metadata": {},
   "outputs": [
    {
     "data": {
      "text/plain": [
       "19"
      ]
     },
     "execution_count": 37,
     "metadata": {},
     "output_type": "execute_result"
    }
   ],
   "source": [
    "Best_Score_Threshold = eval_df.f1_avg.idxmax()\n",
    "Best_Score_Threshold"
   ]
  },
  {
   "cell_type": "code",
   "execution_count": 38,
   "metadata": {},
   "outputs": [
    {
     "data": {
      "text/plain": [
       "MSA    11724\n",
       "TND      197\n",
       "Name: lang_label, dtype: int64"
      ]
     },
     "execution_count": 38,
     "metadata": {},
     "output_type": "execute_result"
    }
   ],
   "source": [
    "performance_testing_df = word_scoring_df.loc[word_scoring_df.in_train==False]\n",
    "performance_testing_df.lang_label.value_counts()"
   ]
  },
  {
   "cell_type": "code",
   "execution_count": 39,
   "metadata": {},
   "outputs": [],
   "source": [
    "test_true_lang_label = performance_testing_df.lang_label==\"TND\"\n",
    "test_pred_lang_label = performance_testing_df.lm1_score.map(lambda x: x>Best_Score_Threshold)"
   ]
  },
  {
   "cell_type": "code",
   "execution_count": 40,
   "metadata": {},
   "outputs": [
    {
     "data": {
      "text/plain": [
       "0.6937065189718864"
      ]
     },
     "execution_count": 40,
     "metadata": {},
     "output_type": "execute_result"
    }
   ],
   "source": [
    "# Area Under the ROC Curve (AUC)\n",
    "test_pred_score = performance_testing_df.lm1_score.map(lambda x: 1000 if x==np.inf else x)\n",
    "metrics.roc_auc_score(test_true_lang_label, test_pred_score)"
   ]
  },
  {
   "cell_type": "code",
   "execution_count": 41,
   "metadata": {},
   "outputs": [
    {
     "data": {
      "image/png": "[encoded data removed]",
      "text/plain": [
       "<matplotlib.figure.Figure at 0x1db98192780>"
      ]
     },
     "metadata": {},
     "output_type": "display_data"
    }
   ],
   "source": [
    "# ROC Curve\n",
    "\n",
    "fpr,tpr,thresholds = metrics.roc_curve(test_true_lang_label.map({True:\"TND\", False:\"MSA\"}), test_pred_score, pos_label=\"TND\")\n",
    "plt.plot(fpr,tpr)\n",
    "plt.axis([0,1,0,1])\n",
    "plt.axis('square')\n",
    "plt.xlabel('False Positives Rate')\n",
    "plt.ylabel('True Positives Rate')\n",
    "plt.title('ROC Curve')\n",
    "plt.show()"
   ]
  },
  {
   "cell_type": "code",
   "execution_count": 42,
   "metadata": {},
   "outputs": [
    {
     "name": "stdout",
     "output_type": "stream",
     "text": [
      "              precision    recall  f1-score   support\n",
      "\n",
      "         MSA       0.99      0.96      0.97     11724\n",
      "         TND       0.06      0.15      0.08       197\n",
      "\n",
      "   micro avg       0.94      0.94      0.94     11921\n",
      "   macro avg       0.52      0.55      0.53     11921\n",
      "weighted avg       0.97      0.94      0.96     11921\n",
      "\n"
     ]
    }
   ],
   "source": [
    "# Precision and Recall\n",
    "\n",
    "print(metrics.classification_report(test_true_lang_label.map({True:\"TND\", False:\"MSA\"}), test_pred_lang_label.map({True:\"TND\", False:\"MSA\"})))"
   ]
  },
  {
   "cell_type": "code",
   "execution_count": 49,
   "metadata": {},
   "outputs": [
    {
     "name": "stdout",
     "output_type": "stream",
     "text": [
      "Performance on the test set:\n",
      "MSA F1 score: 0.9712332915170653\n",
      "TND F1 score: 0.08275862068965517\n",
      "Average F1 score: 0.5269959561033603\n"
     ]
    }
   ],
   "source": [
    "# Average F1 Score\n",
    "\n",
    "test_f1_tnd = metrics.f1_score(test_true_lang_label, test_pred_lang_label)\n",
    "test_f1_msa = metrics.f1_score(~test_true_lang_label, ~test_pred_lang_label)\n",
    "test_f1_avg = (test_f1_msa+test_f1_tnd)/2\n",
    "\n",
    "print(\"Performance on the test set:\")\n",
    "print(\"MSA F1 score:\", test_f1_msa)\n",
    "print(\"TND F1 score:\", test_f1_tnd)\n",
    "print(\"Average F1 score:\", test_f1_avg)"
   ]
  },
  {
   "cell_type": "code",
   "execution_count": 44,
   "metadata": {},
   "outputs": [
    {
     "data": {
      "text/html": [
       "<div>\n",
       "<style scoped>\n",
       "    .dataframe tbody tr th:only-of-type {\n",
       "        vertical-align: middle;\n",
       "    }\n",
       "\n",
       "    .dataframe tbody tr th {\n",
       "        vertical-align: top;\n",
       "    }\n",
       "\n",
       "    .dataframe thead th {\n",
       "        text-align: right;\n",
       "    }\n",
       "</style>\n",
       "<table border=\"1\" class=\"dataframe\">\n",
       "  <thead>\n",
       "    <tr style=\"text-align: right;\">\n",
       "      <th>pred_label</th>\n",
       "      <th>MSA</th>\n",
       "      <th>TND</th>\n",
       "    </tr>\n",
       "    <tr>\n",
       "      <th>true_label</th>\n",
       "      <th></th>\n",
       "      <th></th>\n",
       "    </tr>\n",
       "  </thead>\n",
       "  <tbody>\n",
       "    <tr>\n",
       "      <th>MSA</th>\n",
       "      <td>11226</td>\n",
       "      <td>498</td>\n",
       "    </tr>\n",
       "    <tr>\n",
       "      <th>TND</th>\n",
       "      <td>167</td>\n",
       "      <td>30</td>\n",
       "    </tr>\n",
       "  </tbody>\n",
       "</table>\n",
       "</div>"
      ],
      "text/plain": [
       "pred_label    MSA  TND\n",
       "true_label            \n",
       "MSA         11226  498\n",
       "TND           167   30"
      ]
     },
     "execution_count": 44,
     "metadata": {},
     "output_type": "execute_result"
    }
   ],
   "source": [
    "# Confusion matrix\n",
    "\n",
    "test_true_lang_label.name = 'true_label'\n",
    "test_pred_lang_label.name = 'predicted_label'\n",
    "pd.crosstab(test_true_lang_label.map({True:\"TND\", False:\"MSA\"}), test_pred_lang_label.map({True:\"TND\", False:\"MSA\"}))"
   ]
  },
  {
   "cell_type": "code",
   "execution_count": null,
   "metadata": {},
   "outputs": [],
   "source": []
  }
 ],
 "metadata": {
  "kernelspec": {
   "display_name": "Python 3",
   "language": "python",
   "name": "python3"
  },
  "language_info": {
   "codemirror_mode": {
    "name": "ipython",
    "version": 3
   },
   "file_extension": ".py",
   "mimetype": "text/x-python",
   "name": "python",
   "nbconvert_exporter": "python",
   "pygments_lexer": "ipython3",
   "version": "3.6.4"
  }
 },
 "nbformat": 4,
 "nbformat_minor": 2
}
